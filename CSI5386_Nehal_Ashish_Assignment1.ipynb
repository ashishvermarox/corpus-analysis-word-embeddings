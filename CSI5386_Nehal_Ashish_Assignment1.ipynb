{
  "nbformat": 4,
  "nbformat_minor": 0,
  "metadata": {
    "colab": {
      "name": "CSI5386_Nehal_Ashish_Assignment1.ipynb",
      "provenance": [],
      "collapsed_sections": []
    },
    "kernelspec": {
      "name": "python3",
      "display_name": "Python 3"
    },
    "accelerator": "TPU"
  },
  "cells": [
    {
      "cell_type": "markdown",
      "metadata": {
        "id": "055XzIS27uZa",
        "colab_type": "text"
      },
      "source": [
        "# CSI5386 - Natural Language Processing | Assignment 1\n",
        "\n",
        "### **Nehal Aggarwal |** | nagga097@uottawa.ca\n",
        "\n",
        "### **Ashish Verma | ** | averm019@uottawa.ca \n",
        "\n",
        "## **University Of Ottawa**"
      ]
    },
    {
      "cell_type": "markdown",
      "metadata": {
        "id": "8U3Uyg9P9BNv",
        "colab_type": "text"
      },
      "source": [
        "### Mounting Google Drive\n",
        "\n"
      ]
    },
    {
      "cell_type": "code",
      "metadata": {
        "id": "0HdMvS869L7i",
        "colab_type": "code",
        "colab": {}
      },
      "source": [
        "# Load the Drive helper and mount\n",
        "from google.colab import drive"
      ],
      "execution_count": 0,
      "outputs": []
    },
    {
      "cell_type": "code",
      "metadata": {
        "id": "ofCtceVd9W-A",
        "colab_type": "code",
        "outputId": "6786785d-a350-43f4-b713-3b1f4694447f",
        "colab": {
          "base_uri": "https://localhost:8080/",
          "height": 123
        }
      },
      "source": [
        "drive.mount('/content/drive')"
      ],
      "execution_count": 0,
      "outputs": [
        {
          "output_type": "stream",
          "text": [
            "Go to this URL in a browser: https://accounts.google.com/o/oauth2/auth?client_id=947318989803-6bn6qk8qdgf4n4g3pfee6491hc0brc4i.apps.googleusercontent.com&redirect_uri=urn%3aietf%3awg%3aoauth%3a2.0%3aoob&response_type=code&scope=email%20https%3a%2f%2fwww.googleapis.com%2fauth%2fdocs.test%20https%3a%2f%2fwww.googleapis.com%2fauth%2fdrive%20https%3a%2f%2fwww.googleapis.com%2fauth%2fdrive.photos.readonly%20https%3a%2f%2fwww.googleapis.com%2fauth%2fpeopleapi.readonly\n",
            "\n",
            "Enter your authorization code:\n",
            "··········\n",
            "Mounted at /content/drive\n"
          ],
          "name": "stdout"
        }
      ]
    },
    {
      "cell_type": "code",
      "metadata": {
        "id": "EBqqLEDh9vdG",
        "colab_type": "code",
        "outputId": "c0be4f42-fa7d-4ab2-b68b-9b566a5edd2d",
        "colab": {
          "base_uri": "https://localhost:8080/",
          "height": 86
        }
      },
      "source": [
        "!pwd\n",
        "%cd /content/drive/My Drive/Term5/NLP/Dataset\n",
        "!ls"
      ],
      "execution_count": 0,
      "outputs": [
        {
          "output_type": "stream",
          "text": [
            "/content\n",
            "/content/drive/My Drive/Term5/NLP/Dataset\n",
            "microblog2011.txt   requirements.txt  StopWords.txt  WebEmbeddings\n",
            "requirements_1.txt  scripts\t      web\n"
          ],
          "name": "stdout"
        }
      ]
    },
    {
      "cell_type": "markdown",
      "metadata": {
        "id": "_dwH-pG4LCtV",
        "colab_type": "text"
      },
      "source": [
        "### Helper Methods"
      ]
    },
    {
      "cell_type": "code",
      "metadata": {
        "id": "FCmdjgwWLGVU",
        "colab_type": "code",
        "colab": {}
      },
      "source": [
        "def outputToFileWithColumn(data, outputPath, filename, columnToSave):\n",
        "  header = [columnToSave]\n",
        "  data.to_csv(outputPath+filename, index=False, mode='a', columns = header)\n",
        "  print('File:'+filename+' stored at'+' Path:'+outputPath)"
      ],
      "execution_count": 0,
      "outputs": []
    },
    {
      "cell_type": "code",
      "metadata": {
        "id": "CDqj6Bo6OS_e",
        "colab_type": "code",
        "colab": {}
      },
      "source": [
        "def outputToFile(data, outputPath, filename):\n",
        "  data.to_csv(outputPath+filename, index=False, mode='a')\n",
        "  print('File:'+filename+' stored at'+' Path:'+outputPath)"
      ],
      "execution_count": 0,
      "outputs": []
    },
    {
      "cell_type": "code",
      "metadata": {
        "id": "XbHCSld0H84b",
        "colab_type": "code",
        "colab": {}
      },
      "source": [
        "def readFile(filePath):\n",
        "  file = open(filePath)\n",
        "  raw_text = file.read().splitlines()\n",
        "  file.close()\n",
        "  return raw_text"
      ],
      "execution_count": 0,
      "outputs": []
    },
    {
      "cell_type": "code",
      "metadata": {
        "id": "mv7OKmDoRDRp",
        "colab_type": "code",
        "colab": {}
      },
      "source": [
        "def readFileBuffer(filePath):\n",
        "  file = open(filePath)\n",
        "  raw_text = file.read()\n",
        "  file.close()\n",
        "  return raw_text"
      ],
      "execution_count": 0,
      "outputs": []
    },
    {
      "cell_type": "code",
      "metadata": {
        "id": "bGccyNZCIVqG",
        "colab_type": "code",
        "colab": {}
      },
      "source": [
        "def writeToFile(data, outputPath, filename):\n",
        "  file = open(outputPath+filename, \"w\")\n",
        "  file.write(data)\n",
        "  return True"
      ],
      "execution_count": 0,
      "outputs": []
    },
    {
      "cell_type": "code",
      "metadata": {
        "id": "VIqy9gbGLErW",
        "colab_type": "code",
        "colab": {}
      },
      "source": [
        "def writeToFileList(data, outputPath, filename):\n",
        "  with open(outputPath+filename, \"w\") as f:\n",
        "    for tokens in data:\n",
        "        f.write(\"%s\\n\" % tokens)\n",
        "  return True"
      ],
      "execution_count": 0,
      "outputs": []
    },
    {
      "cell_type": "markdown",
      "metadata": {
        "id": "zXjZQLZMUwfr",
        "colab_type": "text"
      },
      "source": [
        "### Cleaning Tweets"
      ]
    },
    {
      "cell_type": "code",
      "metadata": {
        "id": "wPipN4lXUs_M",
        "colab_type": "code",
        "colab": {}
      },
      "source": [
        "import re\n",
        "def removeURL(text):\n",
        "  text = re.sub(r'\\w+:\\/{2}[\\d\\w-]+(\\.[\\d\\w-]+)*(?:(?:\\/[^\\s/]*))*', '', text)\n",
        "  return text"
      ],
      "execution_count": 0,
      "outputs": []
    },
    {
      "cell_type": "code",
      "metadata": {
        "id": "XA4OhnhPb6VV",
        "colab_type": "code",
        "colab": {}
      },
      "source": [
        "def removeDigits(text):\n",
        "  text = re.sub(r'\\d+', '', text)\n",
        "  return text"
      ],
      "execution_count": 0,
      "outputs": []
    },
    {
      "cell_type": "code",
      "metadata": {
        "id": "9qnbgM_Pc6Tn",
        "colab_type": "code",
        "colab": {}
      },
      "source": [
        "def removeHashtags(text):\n",
        "  text = \" \".join(filter(lambda x:x[0]!='#', text.split()))\n",
        "  return text"
      ],
      "execution_count": 0,
      "outputs": []
    },
    {
      "cell_type": "code",
      "metadata": {
        "id": "Z1Ih1Nj0ep3_",
        "colab_type": "code",
        "colab": {}
      },
      "source": [
        "def removeHTMLTags(text):\n",
        "  clean = re.compile('<.*?>')\n",
        "  text = re.sub(clean, '', text)\n",
        "  return text"
      ],
      "execution_count": 0,
      "outputs": []
    },
    {
      "cell_type": "code",
      "metadata": {
        "id": "pvRz1QtBf1-k",
        "colab_type": "code",
        "colab": {}
      },
      "source": [
        "def toLowerCase(text):\n",
        "  text = text.lower()\n",
        "  return text"
      ],
      "execution_count": 0,
      "outputs": []
    },
    {
      "cell_type": "code",
      "metadata": {
        "id": "o5iTFLZ4gj1a",
        "colab_type": "code",
        "colab": {}
      },
      "source": [
        "def removeReTweetWord(text):\n",
        "  text = \" \".join([word for word in text.split() if not word == 'rt'])\n",
        "  return text"
      ],
      "execution_count": 0,
      "outputs": []
    },
    {
      "cell_type": "code",
      "metadata": {
        "id": "Dmi2H17Niudu",
        "colab_type": "code",
        "outputId": "8bdfb90d-f05a-46ed-d0ef-ceb6480f8ce6",
        "colab": {
          "base_uri": "https://localhost:8080/",
          "height": 86
        }
      },
      "source": [
        "!pip install contractions\n",
        "\n",
        "import contractions\n",
        "\n",
        "def replaceContractions(text):\n",
        "  text = contractions.fix(text)\n",
        "  return text"
      ],
      "execution_count": 0,
      "outputs": [
        {
          "output_type": "stream",
          "text": [
            "Requirement already satisfied: contractions in /usr/local/lib/python3.6/dist-packages (0.0.24)\n",
            "Requirement already satisfied: textsearch in /usr/local/lib/python3.6/dist-packages (from contractions) (0.0.17)\n",
            "Requirement already satisfied: pyahocorasick in /usr/local/lib/python3.6/dist-packages (from textsearch->contractions) (1.4.0)\n",
            "Requirement already satisfied: Unidecode in /usr/local/lib/python3.6/dist-packages (from textsearch->contractions) (1.1.1)\n"
          ],
          "name": "stdout"
        }
      ]
    },
    {
      "cell_type": "code",
      "metadata": {
        "id": "taD7N7hkH-6Z",
        "colab_type": "code",
        "colab": {}
      },
      "source": [
        "from nltk.tokenize import RegexpTokenizer\n",
        "\n",
        "def removePunctuationMarks(text):\n",
        "  tokenizer = RegexpTokenizer(r'\\w+')\n",
        "  result = tokenizer.tokenize(text)\n",
        "  nopuncttext = \" \".join(result)\n",
        "  return nopuncttext\n",
        "  "
      ],
      "execution_count": 0,
      "outputs": []
    },
    {
      "cell_type": "code",
      "metadata": {
        "id": "nOlEGeFKBbYF",
        "colab_type": "code",
        "colab": {}
      },
      "source": [
        "def removeNonEnglishChars(text):\n",
        "  #words = set(nltk.corpus.words.words())\n",
        "  #text = \" \".join(w for w in nltk.wordpunct_tokenize(text) if w.lower() in words or not w.isalpha())\n",
        "  #return text\n",
        "  text = re.sub(r'[^\\x00-\\x7f]',r'', text)\n",
        "  return text"
      ],
      "execution_count": 0,
      "outputs": []
    },
    {
      "cell_type": "code",
      "metadata": {
        "id": "nfTN4bOgOrzf",
        "colab_type": "code",
        "colab": {}
      },
      "source": [
        "def removeUnderscore(text):\n",
        "  text = text.replace(\"_\", \"\");\n",
        "  return text"
      ],
      "execution_count": 0,
      "outputs": []
    },
    {
      "cell_type": "markdown",
      "metadata": {
        "id": "QJLoR7y4ALWb",
        "colab_type": "text"
      },
      "source": [
        "### Import NLTK Libraries"
      ]
    },
    {
      "cell_type": "code",
      "metadata": {
        "id": "_bt7wpYmAS0I",
        "colab_type": "code",
        "outputId": "85dfbca0-c8b0-4cc6-a80f-47824c69cd76",
        "colab": {
          "base_uri": "https://localhost:8080/",
          "height": 857
        }
      },
      "source": [
        "import nltk\n",
        "nltk.download(\"popular\")"
      ],
      "execution_count": 0,
      "outputs": [
        {
          "output_type": "stream",
          "text": [
            "[nltk_data] Downloading collection 'popular'\n",
            "[nltk_data]    | \n",
            "[nltk_data]    | Downloading package cmudict to /root/nltk_data...\n",
            "[nltk_data]    |   Package cmudict is already up-to-date!\n",
            "[nltk_data]    | Downloading package gazetteers to /root/nltk_data...\n",
            "[nltk_data]    |   Package gazetteers is already up-to-date!\n",
            "[nltk_data]    | Downloading package genesis to /root/nltk_data...\n",
            "[nltk_data]    |   Package genesis is already up-to-date!\n",
            "[nltk_data]    | Downloading package gutenberg to /root/nltk_data...\n",
            "[nltk_data]    |   Package gutenberg is already up-to-date!\n",
            "[nltk_data]    | Downloading package inaugural to /root/nltk_data...\n",
            "[nltk_data]    |   Package inaugural is already up-to-date!\n",
            "[nltk_data]    | Downloading package movie_reviews to\n",
            "[nltk_data]    |     /root/nltk_data...\n",
            "[nltk_data]    |   Package movie_reviews is already up-to-date!\n",
            "[nltk_data]    | Downloading package names to /root/nltk_data...\n",
            "[nltk_data]    |   Package names is already up-to-date!\n",
            "[nltk_data]    | Downloading package shakespeare to /root/nltk_data...\n",
            "[nltk_data]    |   Package shakespeare is already up-to-date!\n",
            "[nltk_data]    | Downloading package stopwords to /root/nltk_data...\n",
            "[nltk_data]    |   Package stopwords is already up-to-date!\n",
            "[nltk_data]    | Downloading package treebank to /root/nltk_data...\n",
            "[nltk_data]    |   Package treebank is already up-to-date!\n",
            "[nltk_data]    | Downloading package twitter_samples to\n",
            "[nltk_data]    |     /root/nltk_data...\n",
            "[nltk_data]    |   Package twitter_samples is already up-to-date!\n",
            "[nltk_data]    | Downloading package omw to /root/nltk_data...\n",
            "[nltk_data]    |   Package omw is already up-to-date!\n",
            "[nltk_data]    | Downloading package wordnet to /root/nltk_data...\n",
            "[nltk_data]    |   Package wordnet is already up-to-date!\n",
            "[nltk_data]    | Downloading package wordnet_ic to /root/nltk_data...\n",
            "[nltk_data]    |   Package wordnet_ic is already up-to-date!\n",
            "[nltk_data]    | Downloading package words to /root/nltk_data...\n",
            "[nltk_data]    |   Package words is already up-to-date!\n",
            "[nltk_data]    | Downloading package maxent_ne_chunker to\n",
            "[nltk_data]    |     /root/nltk_data...\n",
            "[nltk_data]    |   Package maxent_ne_chunker is already up-to-date!\n",
            "[nltk_data]    | Downloading package punkt to /root/nltk_data...\n",
            "[nltk_data]    |   Package punkt is already up-to-date!\n",
            "[nltk_data]    | Downloading package snowball_data to\n",
            "[nltk_data]    |     /root/nltk_data...\n",
            "[nltk_data]    |   Package snowball_data is already up-to-date!\n",
            "[nltk_data]    | Downloading package averaged_perceptron_tagger to\n",
            "[nltk_data]    |     /root/nltk_data...\n",
            "[nltk_data]    |   Package averaged_perceptron_tagger is already up-\n",
            "[nltk_data]    |       to-date!\n",
            "[nltk_data]    | \n",
            "[nltk_data]  Done downloading collection popular\n"
          ],
          "name": "stdout"
        },
        {
          "output_type": "execute_result",
          "data": {
            "text/plain": [
              "True"
            ]
          },
          "metadata": {
            "tags": []
          },
          "execution_count": 332
        }
      ]
    },
    {
      "cell_type": "code",
      "metadata": {
        "id": "y4DaX4FfDU_H",
        "colab_type": "code",
        "colab": {}
      },
      "source": [
        "import pandas as pd"
      ],
      "execution_count": 0,
      "outputs": []
    },
    {
      "cell_type": "markdown",
      "metadata": {
        "id": "FVLZihDN_BKH",
        "colab_type": "text"
      },
      "source": [
        "### Load Corpus"
      ]
    },
    {
      "cell_type": "code",
      "metadata": {
        "id": "pma8pE7C9zh3",
        "colab_type": "code",
        "colab": {}
      },
      "source": [
        "dataPath = '/content/drive/My Drive/Term5/NLP/Dataset'"
      ],
      "execution_count": 0,
      "outputs": []
    },
    {
      "cell_type": "code",
      "metadata": {
        "id": "acVnYzNILkZU",
        "colab_type": "code",
        "colab": {}
      },
      "source": [
        "outputPath = '/content/drive/My Drive/Term5/NLP/Output'"
      ],
      "execution_count": 0,
      "outputs": []
    },
    {
      "cell_type": "code",
      "metadata": {
        "id": "sN5Qwy5M-0qd",
        "colab_type": "code",
        "colab": {}
      },
      "source": [
        "corpus = dataPath + '/microblog2011.txt'"
      ],
      "execution_count": 0,
      "outputs": []
    },
    {
      "cell_type": "code",
      "metadata": {
        "id": "tcbi2obex4ex",
        "colab_type": "code",
        "colab": {}
      },
      "source": [
        "stopWordsPath = dataPath + '/StopWords.txt'"
      ],
      "execution_count": 0,
      "outputs": []
    },
    {
      "cell_type": "code",
      "metadata": {
        "id": "rrAS-cfMJa7l",
        "colab_type": "code",
        "colab": {}
      },
      "source": [
        "data = readFile(corpus)"
      ],
      "execution_count": 0,
      "outputs": []
    },
    {
      "cell_type": "markdown",
      "metadata": {
        "id": "qnYtZi2eHm1G",
        "colab_type": "text"
      },
      "source": [
        "#### Create tokens from clean data"
      ]
    },
    {
      "cell_type": "code",
      "metadata": {
        "id": "h0WqqTR2GwNg",
        "colab_type": "code",
        "colab": {}
      },
      "source": [
        "from nltk.tokenize import TweetTokenizer"
      ],
      "execution_count": 0,
      "outputs": []
    },
    {
      "cell_type": "code",
      "metadata": {
        "id": "nGQH2yHqGw-Z",
        "colab_type": "code",
        "colab": {}
      },
      "source": [
        "tweetTokenize = TweetTokenizer(strip_handles=True)"
      ],
      "execution_count": 0,
      "outputs": []
    },
    {
      "cell_type": "code",
      "metadata": {
        "id": "Cx2ia-oQJ0cn",
        "colab_type": "code",
        "colab": {}
      },
      "source": [
        "tweet_tokenized_text = []\n",
        "for eachTweet in data:\n",
        "  tokenizedTweet = tweetTokenize.tokenize(eachTweet)\n",
        "  tweet_tokenized_text.append(tokenizedTweet)"
      ],
      "execution_count": 0,
      "outputs": []
    },
    {
      "cell_type": "code",
      "metadata": {
        "id": "5lw2_KPMJ_sb",
        "colab_type": "code",
        "outputId": "50a9c6c7-610c-4069-c643-578eeea7c68b",
        "colab": {
          "base_uri": "https://localhost:8080/",
          "height": 34
        }
      },
      "source": [
        "filename = '/tweet_tokenized_text.txt'\n",
        "writeToFileList(tweet_tokenized_text, outputPath, filename)"
      ],
      "execution_count": 0,
      "outputs": [
        {
          "output_type": "execute_result",
          "data": {
            "text/plain": [
              "True"
            ]
          },
          "metadata": {
            "tags": []
          },
          "execution_count": 348
        }
      ]
    },
    {
      "cell_type": "code",
      "metadata": {
        "id": "KeHBlVlvTlzs",
        "colab_type": "code",
        "colab": {}
      },
      "source": [
        "cleaned_tweets = []\n",
        "for singleTweet in tweet_tokenized_text:\n",
        "  tmpTweet = \" \".join(singleTweet)\n",
        "  texttweet = removeURL(tmpTweet)\n",
        "  #texttweet = removeDigits(texttweet) ##check if digits should be removed or not\n",
        "  #texttweet = removeHashtags(texttweet)\n",
        "  texttweet = removeHTMLTags(texttweet)\n",
        "  texttweet = toLowerCase(texttweet)\n",
        "  texttweet = replaceContractions(texttweet)\n",
        "  #texttweet = removeNonEnglishChars(texttweet)\n",
        "  #texttweet = removePunctuationMarks(texttweet)\n",
        "  #texttweet = removeUnderscore(texttweet)\n",
        "  texttweet = removeReTweetWord(texttweet)\n",
        "  cleaned_tweets.append(texttweet)"
      ],
      "execution_count": 0,
      "outputs": []
    },
    {
      "cell_type": "code",
      "metadata": {
        "id": "sRzW8BoGYGos",
        "colab_type": "code",
        "outputId": "a8b2a9cc-00b6-4a54-e181-72ca34d225b7",
        "colab": {
          "base_uri": "https://localhost:8080/",
          "height": 34
        }
      },
      "source": [
        "filename = '/clean_tweets.txt'\n",
        "writeToFileList(cleaned_tweets, outputPath, filename)"
      ],
      "execution_count": 0,
      "outputs": [
        {
          "output_type": "execute_result",
          "data": {
            "text/plain": [
              "True"
            ]
          },
          "metadata": {
            "tags": []
          },
          "execution_count": 355
        }
      ]
    },
    {
      "cell_type": "markdown",
      "metadata": {
        "id": "esMD0AsIQRge",
        "colab_type": "text"
      },
      "source": [
        "#### Part 1: Corpus processing: tokenization, and word counting"
      ]
    },
    {
      "cell_type": "markdown",
      "metadata": {
        "id": "CJbpdBz-S_-k",
        "colab_type": "text"
      },
      "source": [
        "##### Part a "
      ]
    },
    {
      "cell_type": "code",
      "metadata": {
        "id": "EmtljUe7QXHp",
        "colab_type": "code",
        "colab": {}
      },
      "source": [
        "raw_data = readFileBuffer(outputPath+'/clean_tweets.txt')"
      ],
      "execution_count": 0,
      "outputs": []
    },
    {
      "cell_type": "code",
      "metadata": {
        "id": "UxWjpRUXRbK6",
        "colab_type": "code",
        "colab": {}
      },
      "source": [
        "clean_tokens = nltk.word_tokenize(raw_data)"
      ],
      "execution_count": 0,
      "outputs": []
    },
    {
      "cell_type": "code",
      "metadata": {
        "id": "2csB6Ur0RnTN",
        "colab_type": "code",
        "outputId": "2e982bbb-8d40-495f-c196-c3a5773cd6b2",
        "colab": {
          "base_uri": "https://localhost:8080/",
          "height": 34
        }
      },
      "source": [
        "filename = '/microblog2011_tokenized.txt'\n",
        "writeToFileList(clean_tokens, outputPath, filename)"
      ],
      "execution_count": 0,
      "outputs": [
        {
          "output_type": "execute_result",
          "data": {
            "text/plain": [
              "True"
            ]
          },
          "metadata": {
            "tags": []
          },
          "execution_count": 358
        }
      ]
    },
    {
      "cell_type": "markdown",
      "metadata": {
        "id": "aZ8izRONTJJ4",
        "colab_type": "text"
      },
      "source": [
        "#### Part b"
      ]
    },
    {
      "cell_type": "code",
      "metadata": {
        "id": "kzdb9_tnUuzK",
        "colab_type": "code",
        "outputId": "8d5d500a-4019-4593-ce3e-1b16b1a22b45",
        "colab": {
          "base_uri": "https://localhost:8080/",
          "height": 34
        }
      },
      "source": [
        "numOfTokens = len(clean_tokens)\n",
        "print(\"Number of Tokens in corpus are: \"+str(numOfTokens))"
      ],
      "execution_count": 0,
      "outputs": [
        {
          "output_type": "stream",
          "text": [
            "Number of Tokens in corpus are: 880781\n"
          ],
          "name": "stdout"
        }
      ]
    },
    {
      "cell_type": "code",
      "metadata": {
        "id": "rAbOGnr6VfsP",
        "colab_type": "code",
        "outputId": "5e0c1d17-c499-4a60-eb8b-d534e2e7b326",
        "colab": {
          "base_uri": "https://localhost:8080/",
          "height": 34
        }
      },
      "source": [
        "uniqueTokens = len(set(clean_tokens))\n",
        "print(\"Number of Unique Tokens in corpus are: \"+str(uniqueTokens))"
      ],
      "execution_count": 0,
      "outputs": [
        {
          "output_type": "stream",
          "text": [
            "Number of Unique Tokens in corpus are: 61426\n"
          ],
          "name": "stdout"
        }
      ]
    },
    {
      "cell_type": "code",
      "metadata": {
        "id": "wzdqRw1FVxLU",
        "colab_type": "code",
        "outputId": "2c0661da-d15b-47bf-b489-d4eb7a3f6675",
        "colab": {
          "base_uri": "https://localhost:8080/",
          "height": 34
        }
      },
      "source": [
        "typeTokenRatio = uniqueTokens/numOfTokens\n",
        "print(\"Type token ratio of corpus is: \"+str(typeTokenRatio))"
      ],
      "execution_count": 0,
      "outputs": [
        {
          "output_type": "stream",
          "text": [
            "Type token ratio of corpus is: 0.069740378141672\n"
          ],
          "name": "stdout"
        }
      ]
    },
    {
      "cell_type": "markdown",
      "metadata": {
        "id": "nnOsh4BHTWAh",
        "colab_type": "text"
      },
      "source": [
        "#### Part c"
      ]
    },
    {
      "cell_type": "code",
      "metadata": {
        "id": "KFMbZWqNW2Dw",
        "colab_type": "code",
        "outputId": "0067e767-0db6-4383-c43f-990a693d8b27",
        "colab": {
          "base_uri": "https://localhost:8080/",
          "height": 51
        }
      },
      "source": [
        "eachFreq = ''\n",
        "filename = '/Tokens.txt'\n",
        "freqDistb = nltk.FreqDist(clean_tokens)\n",
        "print(freqDistb)\n",
        "#freqDistb.tabulate()\n",
        "#type(freqDistb)\n",
        "for word, frequency in freqDistb.most_common():\n",
        "    eachFreq = eachFreq + '\\n'+ (u'{}:{}'.format(word, frequency))\n",
        "writeToFile(eachFreq, outputPath, filename)"
      ],
      "execution_count": 0,
      "outputs": [
        {
          "output_type": "stream",
          "text": [
            "<FreqDist with 61426 samples and 880781 outcomes>\n"
          ],
          "name": "stdout"
        },
        {
          "output_type": "execute_result",
          "data": {
            "text/plain": [
              "True"
            ]
          },
          "metadata": {
            "tags": []
          },
          "execution_count": 362
        }
      ]
    },
    {
      "cell_type": "markdown",
      "metadata": {
        "id": "V8VXiXT8Te3i",
        "colab_type": "text"
      },
      "source": [
        "#### Part d"
      ]
    },
    {
      "cell_type": "code",
      "metadata": {
        "id": "epRxtdIsnSNR",
        "colab_type": "code",
        "outputId": "9a562db3-5cf0-4ba4-aa54-6da4f06481bd",
        "colab": {
          "base_uri": "https://localhost:8080/",
          "height": 34
        }
      },
      "source": [
        "#print(freqDistb.items())\n",
        "max_occurance = 1\n",
        "only_once = [k for k,c in freqDistb.items() if c == max_occurance]\n",
        "print(len(only_once))"
      ],
      "execution_count": 0,
      "outputs": [
        {
          "output_type": "stream",
          "text": [
            "35822\n"
          ],
          "name": "stdout"
        }
      ]
    },
    {
      "cell_type": "markdown",
      "metadata": {
        "id": "c5hnXsAITg3N",
        "colab_type": "text"
      },
      "source": [
        "#### Part e"
      ]
    },
    {
      "cell_type": "code",
      "metadata": {
        "id": "BvxQa6FkrsvA",
        "colab_type": "code",
        "colab": {}
      },
      "source": [
        "fully_cleaned_tweets = []\n",
        "for singleTweet in tweet_tokenized_text:\n",
        "  tmpTweet = \" \".join(singleTweet)\n",
        "  texttweet = removeURL(tmpTweet)\n",
        "  texttweet = removeDigits(texttweet)\n",
        "  texttweet = removeHashtags(texttweet)\n",
        "  texttweet = removeHTMLTags(texttweet)\n",
        "  texttweet = toLowerCase(texttweet)\n",
        "  texttweet = replaceContractions(texttweet)\n",
        "  texttweet = removeNonEnglishChars(texttweet)\n",
        "  texttweet = removePunctuationMarks(texttweet)\n",
        "  texttweet = removeUnderscore(texttweet)\n",
        "  texttweet = removeReTweetWord(texttweet)\n",
        "  fully_cleaned_tweets.append(texttweet)"
      ],
      "execution_count": 0,
      "outputs": []
    },
    {
      "cell_type": "code",
      "metadata": {
        "id": "7zz1qP6TsABQ",
        "colab_type": "code",
        "outputId": "9a350eff-2ed1-419e-a1be-793d72912fba",
        "colab": {
          "base_uri": "https://localhost:8080/",
          "height": 34
        }
      },
      "source": [
        "filename = '/fully_clean_tweets.txt'\n",
        "writeToFileList(fully_cleaned_tweets, outputPath, filename)"
      ],
      "execution_count": 0,
      "outputs": [
        {
          "output_type": "execute_result",
          "data": {
            "text/plain": [
              "True"
            ]
          },
          "metadata": {
            "tags": []
          },
          "execution_count": 365
        }
      ]
    },
    {
      "cell_type": "code",
      "metadata": {
        "id": "12gC61Slsont",
        "colab_type": "code",
        "colab": {}
      },
      "source": [
        "only_words_raw_data = readFileBuffer(outputPath+'/fully_clean_tweets.txt')"
      ],
      "execution_count": 0,
      "outputs": []
    },
    {
      "cell_type": "code",
      "metadata": {
        "id": "mNzfeLfNsxwh",
        "colab_type": "code",
        "colab": {}
      },
      "source": [
        "word_clean_tokens = nltk.word_tokenize(only_words_raw_data)"
      ],
      "execution_count": 0,
      "outputs": []
    },
    {
      "cell_type": "code",
      "metadata": {
        "id": "tHnCU2xltBRp",
        "colab_type": "code",
        "outputId": "7f50e274-1ac7-439b-f867-814fe0747329",
        "colab": {
          "base_uri": "https://localhost:8080/",
          "height": 34
        }
      },
      "source": [
        "numOfTokensCleaned = len(word_clean_tokens)\n",
        "print(\"Number of Tokens in corpus with only words are: \"+str(numOfTokensCleaned))"
      ],
      "execution_count": 0,
      "outputs": [
        {
          "output_type": "stream",
          "text": [
            "Number of Tokens in corpus with only words are: 672044\n"
          ],
          "name": "stdout"
        }
      ]
    },
    {
      "cell_type": "code",
      "metadata": {
        "id": "L4YQIUtSt8q6",
        "colab_type": "code",
        "outputId": "4b9699f8-78bb-4d66-907a-0c99c24de84a",
        "colab": {
          "base_uri": "https://localhost:8080/",
          "height": 1000
        }
      },
      "source": [
        "eachFreq = ''\n",
        "filename = '/Tokens_cleaned.txt'\n",
        "freqDistbCleaned = nltk.FreqDist(word_clean_tokens)\n",
        "print(freqDistbCleaned)\n",
        "#freqDistb.tabulate()\n",
        "#type(freqDistb)\n",
        "for word, frequency in freqDistbCleaned.most_common(100):\n",
        "    eachFreq = eachFreq + '\\n'+ (u'{}:{}'.format(word, frequency))\n",
        "    print(u'{}:{}'.format(word, frequency))\n",
        "writeToFile(eachFreq, outputPath, filename)"
      ],
      "execution_count": 0,
      "outputs": [
        {
          "output_type": "stream",
          "text": [
            "<FreqDist with 48397 samples and 672044 outcomes>\n",
            "the:21160\n",
            "to:14389\n",
            "in:10830\n",
            "a:10633\n",
            "of:10575\n",
            "and:8386\n",
            "is:7958\n",
            "for:7111\n",
            "i:6572\n",
            "on:6298\n",
            "s:5821\n",
            "you:5797\n",
            "not:4392\n",
            "at:3957\n",
            "it:3862\n",
            "are:3163\n",
            "with:3143\n",
            "my:3122\n",
            "that:3036\n",
            "new:2977\n",
            "will:2516\n",
            "from:2470\n",
            "this:2443\n",
            "be:2273\n",
            "have:2243\n",
            "news:2234\n",
            "am:2213\n",
            "I:2130\n",
            "by:2062\n",
            "do:1976\n",
            "egyptian:1846\n",
            "me:1836\n",
            "us:1835\n",
            "your:1824\n",
            "state:1796\n",
            "just:1748\n",
            "as:1740\n",
            "we:1736\n",
            "obama:1707\n",
            "egypt:1702\n",
            "can:1672\n",
            "out:1650\n",
            "all:1594\n",
            "has:1588\n",
            "no:1532\n",
            "what:1480\n",
            "up:1466\n",
            "now:1458\n",
            "super:1415\n",
            "so:1407\n",
            "was:1404\n",
            "an:1386\n",
            "via:1327\n",
            "world:1318\n",
            "like:1317\n",
            "media:1317\n",
            "white:1310\n",
            "social:1308\n",
            "get:1290\n",
            "bowl:1289\n",
            "about:1278\n",
            "but:1276\n",
            "if:1228\n",
            "they:1209\n",
            "how:1129\n",
            "more:1122\n",
            "de:1109\n",
            "people:1053\n",
            "union:1050\n",
            "he:1027\n",
            "day:1023\n",
            "who:1020\n",
            "or:1000\n",
            "com:999\n",
            "today:995\n",
            "love:992\n",
            "security:986\n",
            "airport:981\n",
            "president:979\n",
            "release:961\n",
            "one:957\n",
            "time:951\n",
            "law:929\n",
            "his:922\n",
            "good:895\n",
            "house:885\n",
            "video:864\n",
            "over:863\n",
            "when:850\n",
            "show:848\n",
            "our:822\n",
            "protests:822\n",
            "service:810\n",
            "got:810\n",
            "go:800\n",
            "lol:775\n",
            "after:764\n",
            "going:748\n",
            "phone:747\n",
            "there:746\n"
          ],
          "name": "stdout"
        },
        {
          "output_type": "execute_result",
          "data": {
            "text/plain": [
              "True"
            ]
          },
          "metadata": {
            "tags": []
          },
          "execution_count": 369
        }
      ]
    },
    {
      "cell_type": "code",
      "metadata": {
        "id": "ZbTHDCQktSfc",
        "colab_type": "code",
        "outputId": "a21e1bbd-2ee7-445b-fa79-58fdd0da569a",
        "colab": {
          "base_uri": "https://localhost:8080/",
          "height": 34
        }
      },
      "source": [
        "uniqueTokensCleaned = len(set(word_clean_tokens))\n",
        "print(\"Number of Unique Tokens in corpus with only words are: \"+str(uniqueTokensCleaned))"
      ],
      "execution_count": 0,
      "outputs": [
        {
          "output_type": "stream",
          "text": [
            "Number of Unique Tokens in corpus with only words are: 48397\n"
          ],
          "name": "stdout"
        }
      ]
    },
    {
      "cell_type": "code",
      "metadata": {
        "id": "wbu6QFvktsJD",
        "colab_type": "code",
        "outputId": "ef86f201-0d20-47c2-e09b-a969700b0643",
        "colab": {
          "base_uri": "https://localhost:8080/",
          "height": 34
        }
      },
      "source": [
        "typeTokenRatioCleaned = uniqueTokensCleaned/numOfTokensCleaned\n",
        "print(\"Type token ratio of corpus with only words is: \"+str(typeTokenRatioCleaned))"
      ],
      "execution_count": 0,
      "outputs": [
        {
          "output_type": "stream",
          "text": [
            "Type token ratio of corpus with only words is: 0.07201462999446465\n"
          ],
          "name": "stdout"
        }
      ]
    },
    {
      "cell_type": "markdown",
      "metadata": {
        "id": "nJ1QBkCETiFl",
        "colab_type": "text"
      },
      "source": [
        "#### Part f"
      ]
    },
    {
      "cell_type": "code",
      "metadata": {
        "id": "Pc3ZzJa9w_OZ",
        "colab_type": "code",
        "colab": {}
      },
      "source": [
        "from nltk.corpus import stopwords \n",
        "stop_words = set(stopwords.words('english'))\n",
        "filtered_tokens = [w for w in word_clean_tokens if not w in stop_words]"
      ],
      "execution_count": 0,
      "outputs": []
    },
    {
      "cell_type": "code",
      "metadata": {
        "id": "JLQ81pHczagE",
        "colab_type": "code",
        "outputId": "7d433433-16fd-4eaa-df33-56a966f690df",
        "colab": {
          "base_uri": "https://localhost:8080/",
          "height": 1000
        }
      },
      "source": [
        "eachFreq = ''\n",
        "filename = '/Tokens_cleaned_stopwords.txt'\n",
        "freqDistbCleanedStopWords = nltk.FreqDist(filtered_tokens)\n",
        "print(freqDistbCleanedStopWords)\n",
        "#freqDistb.tabulate()\n",
        "#type(freqDistb)\n",
        "for word, frequency in freqDistbCleanedStopWords.most_common(100):\n",
        "    eachFreq = eachFreq + '\\n'+ (u'{}:{}'.format(word, frequency))\n",
        "    print(u'{}:{}'.format(word, frequency))\n",
        "writeToFile(eachFreq, outputPath, filename)"
      ],
      "execution_count": 0,
      "outputs": [
        {
          "output_type": "stream",
          "text": [
            "<FreqDist with 48250 samples and 450941 outcomes>\n",
            "new:2977\n",
            "news:2234\n",
            "I:2130\n",
            "egyptian:1846\n",
            "us:1835\n",
            "state:1796\n",
            "obama:1707\n",
            "egypt:1702\n",
            "super:1415\n",
            "via:1327\n",
            "world:1318\n",
            "like:1317\n",
            "media:1317\n",
            "white:1310\n",
            "social:1308\n",
            "get:1290\n",
            "bowl:1289\n",
            "de:1109\n",
            "people:1053\n",
            "union:1050\n",
            "day:1023\n",
            "com:999\n",
            "today:995\n",
            "love:992\n",
            "security:986\n",
            "airport:981\n",
            "president:979\n",
            "release:961\n",
            "one:957\n",
            "time:951\n",
            "law:929\n",
            "good:895\n",
            "house:885\n",
            "video:864\n",
            "show:848\n",
            "protests:822\n",
            "service:810\n",
            "got:810\n",
            "go:800\n",
            "lol:775\n",
            "going:748\n",
            "phone:747\n",
            "says:743\n",
            "would:741\n",
            "mubarak:730\n",
            "job:729\n",
            "police:715\n",
            "energy:710\n",
            "free:695\n",
            "dog:690\n",
            "back:685\n",
            "global:682\n",
            "w:670\n",
            "want:668\n",
            "taco:668\n",
            "bell:666\n",
            "cairo:657\n",
            "bbc:649\n",
            "protesters:642\n",
            "live:638\n",
            "return:634\n",
            "rite:629\n",
            "need:626\n",
            "special:607\n",
            "ap:605\n",
            "know:602\n",
            "last:600\n",
            "see:599\n",
            "first:598\n",
            "jobs:595\n",
            "toyota:587\n",
            "n:580\n",
            "year:580\n",
            "great:565\n",
            "think:564\n",
            "make:559\n",
            "best:550\n",
            "man:547\n",
            "tv:544\n",
            "court:544\n",
            "crash:527\n",
            "al:526\n",
            "twitter:524\n",
            "post:521\n",
            "watch:511\n",
            "home:510\n",
            "cuts:509\n",
            "budget:508\n",
            "health:502\n",
            "weather:498\n",
            "say:494\n",
            "la:491\n",
            "top:490\n",
            "could:485\n",
            "b:481\n",
            "th:480\n",
            "government:479\n",
            "online:477\n",
            "right:475\n",
            "week:473\n"
          ],
          "name": "stdout"
        },
        {
          "output_type": "execute_result",
          "data": {
            "text/plain": [
              "True"
            ]
          },
          "metadata": {
            "tags": []
          },
          "execution_count": 373
        }
      ]
    },
    {
      "cell_type": "code",
      "metadata": {
        "id": "hoNkPjlpz019",
        "colab_type": "code",
        "outputId": "3ffd7cd5-0bd6-4663-8ca2-73d14bba4ceb",
        "colab": {
          "base_uri": "https://localhost:8080/",
          "height": 34
        }
      },
      "source": [
        "numOfTokensCleanedStopWords = len(filtered_tokens)\n",
        "print(\"Number of Tokens in corpus with only words and excluding stop words are: \"+str(numOfTokensCleanedStopWords))"
      ],
      "execution_count": 0,
      "outputs": [
        {
          "output_type": "stream",
          "text": [
            "Number of Tokens in corpus with only words and excluding stop words are: 450941\n"
          ],
          "name": "stdout"
        }
      ]
    },
    {
      "cell_type": "code",
      "metadata": {
        "id": "5Eyjh5WU0HRY",
        "colab_type": "code",
        "outputId": "374e236d-2f19-4af4-e441-4ff4aa6c3d1b",
        "colab": {
          "base_uri": "https://localhost:8080/",
          "height": 34
        }
      },
      "source": [
        "uniqueTokensCleanedStopWords = len(set(filtered_tokens))\n",
        "print(\"Number of Unique Tokens in corpus with only words and excluding stop words are: \"+str(uniqueTokensCleanedStopWords))"
      ],
      "execution_count": 0,
      "outputs": [
        {
          "output_type": "stream",
          "text": [
            "Number of Unique Tokens in corpus with only words and excluding stop words are: 48250\n"
          ],
          "name": "stdout"
        }
      ]
    },
    {
      "cell_type": "code",
      "metadata": {
        "id": "qKFL10IV0XFD",
        "colab_type": "code",
        "outputId": "2d05772c-6c9c-4e82-c021-a0c9c3d58c32",
        "colab": {
          "base_uri": "https://localhost:8080/",
          "height": 34
        }
      },
      "source": [
        "typeTokenRatioCleanedStopWords = uniqueTokensCleanedStopWords/numOfTokensCleanedStopWords\n",
        "print(\"Type token ratio of corpus with only words and excluding stop words is: \"+str(typeTokenRatioCleanedStopWords))"
      ],
      "execution_count": 0,
      "outputs": [
        {
          "output_type": "stream",
          "text": [
            "Type token ratio of corpus with only words and excluding stop words is: 0.10699847651910117\n"
          ],
          "name": "stdout"
        }
      ]
    },
    {
      "cell_type": "markdown",
      "metadata": {
        "id": "2lmV9bTLTnKt",
        "colab_type": "text"
      },
      "source": [
        "#### Part g"
      ]
    },
    {
      "cell_type": "code",
      "metadata": {
        "id": "ODh_fzin2EtG",
        "colab_type": "code",
        "colab": {}
      },
      "source": [
        "bigram = nltk.bigrams(filtered_tokens)"
      ],
      "execution_count": 0,
      "outputs": []
    },
    {
      "cell_type": "code",
      "metadata": {
        "id": "lDdXGFjc27tQ",
        "colab_type": "code",
        "outputId": "58cfb64f-f35b-4894-f7ec-3bda2e3383c8",
        "colab": {
          "base_uri": "https://localhost:8080/",
          "height": 1000
        }
      },
      "source": [
        "eachFreq = ''\n",
        "filename = '/Bigrams_cleaned_stopwords.txt'\n",
        "freqDistbBigrams = nltk.FreqDist(bigram)\n",
        "print(freqDistbBigrams)\n",
        "#freqDistb.tabulate()\n",
        "#type(freqDistb)\n",
        "for word, frequency in freqDistbBigrams.most_common(100):\n",
        "    eachFreq = eachFreq + '\\n'+ (u'{}:{}'.format(word, frequency))\n",
        "    print(u'{}:{}'.format(word, frequency))\n",
        "writeToFile(eachFreq, outputPath, filename)"
      ],
      "execution_count": 0,
      "outputs": [
        {
          "output_type": "stream",
          "text": [
            "<FreqDist with 318179 samples and 450940 outcomes>\n",
            "('super', 'bowl'):1205\n",
            "('social', 'media'):984\n",
            "('state', 'union'):925\n",
            "('taco', 'bell'):580\n",
            "('white', 'house'):367\n",
            "('union', 'address'):363\n",
            "('new', 'york'):357\n",
            "('global', 'warming'):315\n",
            "('president', 'obama'):269\n",
            "('keith', 'olbermann'):268\n",
            "('al', 'jazeera'):256\n",
            "('bowl', 'xlv'):210\n",
            "('white', 'stripes'):205\n",
            "('world', 'cup'):201\n",
            "('barack', 'obama'):195\n",
            "('I', 'going'):183\n",
            "('bbc', 'news'):182\n",
            "('rahm', 'emanuel'):181\n",
            "('health', 'care'):176\n",
            "('united', 'states'):174\n",
            "('moscow', 'airport'):173\n",
            "('let', 'us'):170\n",
            "('obama', 'state'):161\n",
            "('press', 'release'):145\n",
            "('budget', 'cuts'):143\n",
            "('customer', 'service'):142\n",
            "('julian', 'assange'):141\n",
            "('president', 'barack'):134\n",
            "('hosni', 'mubarak'):129\n",
            "('new', 'post'):123\n",
            "('youtube', 'video'):122\n",
            "('supreme', 'court'):122\n",
            "('world', 'news'):118\n",
            "('egypt', 'protests'):118\n",
            "('glenn', 'beck'):118\n",
            "('ap', 'ap'):117\n",
            "('tahrir', 'square'):110\n",
            "('egyptian', 'protesters'):110\n",
            "('birth', 'certificate'):109\n",
            "('middle', 'east'):108\n",
            "('de', 'la'):106\n",
            "('last', 'night'):105\n",
            "('egyptian', 'museum'):105\n",
            "('release', 'date'):105\n",
            "('prime', 'minister'):103\n",
            "('blog', 'post'):103\n",
            "('world', 'service'):102\n",
            "('phone', 'hacking'):100\n",
            "('hillary', 'clinton'):99\n",
            "('mph', 'kt'):99\n",
            "('egyptian', 'protests'):99\n",
            "('breaking', 'news'):98\n",
            "('year', 'old'):97\n",
            "('president', 'hosni'):93\n",
            "('bbc', 'world'):92\n",
            "('end', 'date'):92\n",
            "('media', 'marketing'):92\n",
            "('egyptian', 'president'):91\n",
            "('protests', 'egypt'):88\n",
            "('msnbc', 'com'):87\n",
            "('current', 'tv'):87\n",
            "('federal', 'judge'):86\n",
            "('new', 'blog'):85\n",
            "('got', 'part'):84\n",
            "('egyptian', 'police'):83\n",
            "('n', 'ap'):83\n",
            "('I', 'would'):80\n",
            "('union', 'speech'):80\n",
            "('anti', 'government'):79\n",
            "('bid', 'end'):77\n",
            "('new', 'job'):76\n",
            "('kate', 'middleton'):76\n",
            "('obama', 'birth'):75\n",
            "('security', 'forces'):73\n",
            "('fair', 'f'):73\n",
            "('weight', 'loss'):70\n",
            "('airport', 'security'):70\n",
            "('looks', 'like'):69\n",
            "('us', 'bid'):69\n",
            "('secretary', 'state'):69\n",
            "('feel', 'like'):68\n",
            "('share', 'friends'):68\n",
            "('egyptian', 'government'):68\n",
            "('fox', 'news'):67\n",
            "('egyptian', 'people'):67\n",
            "('special', 'olympics'):67\n",
            "('w', 'others'):66\n",
            "('egyptian', 'embassy'):66\n",
            "('international', 'airport'):66\n",
            "('cowboys', 'stadium'):65\n",
            "('care', 'law'):65\n",
            "('gabrielle', 'giffords'):65\n",
            "('tear', 'gas'):64\n",
            "('fifa', 'soccer'):63\n",
            "('louis', 'vuitton'):63\n",
            "('unemployment', 'rate'):63\n",
            "('egyptian', 'army'):62\n",
            "('state', 'tv'):61\n",
            "('anthony', 'hopkins'):61\n",
            "('last', 'week'):60\n"
          ],
          "name": "stdout"
        },
        {
          "output_type": "execute_result",
          "data": {
            "text/plain": [
              "True"
            ]
          },
          "metadata": {
            "tags": []
          },
          "execution_count": 378
        }
      ]
    },
    {
      "cell_type": "markdown",
      "metadata": {
        "id": "2oBor87-3kQq",
        "colab_type": "text"
      },
      "source": [
        "#### Part 2: Evaluation word embeddings"
      ]
    },
    {
      "cell_type": "code",
      "metadata": {
        "id": "50B-GVO_32vH",
        "colab_type": "code",
        "outputId": "45d01771-ddbe-4da4-d1b0-fc9b810a7fce",
        "colab": {
          "base_uri": "https://localhost:8080/",
          "height": 480
        }
      },
      "source": [
        "!pip install -r requirements.txt"
      ],
      "execution_count": 0,
      "outputs": [
        {
          "output_type": "stream",
          "text": [
            "Requirement already satisfied: matplotlib>=1.5.0 in /usr/local/lib/python3.6/dist-packages (from -r requirements.txt (line 1)) (3.1.2)\n",
            "Requirement already satisfied: numpy>=1.10.0 in /usr/local/lib/python3.6/dist-packages (from -r requirements.txt (line 2)) (1.17.5)\n",
            "Requirement already satisfied: Cython in /usr/local/lib/python3.6/dist-packages (from -r requirements.txt (line 3)) (0.29.14)\n",
            "Requirement already satisfied: pytest>=2.8.3 in /usr/local/lib/python3.6/dist-packages (from -r requirements.txt (line 4)) (3.6.4)\n",
            "Requirement already satisfied: scipy>=0.9 in /usr/local/lib/python3.6/dist-packages (from -r requirements.txt (line 5)) (1.4.1)\n",
            "Requirement already satisfied: scikit-learn>=0.16.1 in /usr/local/lib/python3.6/dist-packages (from -r requirements.txt (line 6)) (0.22.1)\n",
            "Requirement already satisfied: seaborn>=0.6.0 in /usr/local/lib/python3.6/dist-packages (from -r requirements.txt (line 7)) (0.9.1)\n",
            "Collecting futures\n",
            "  Downloading https://files.pythonhosted.org/packages/05/80/f41cca0ea1ff69bce7e7a7d76182b47bb4e1a494380a532af3e8ee70b9ec/futures-3.1.1-py3-none-any.whl\n",
            "Requirement already satisfied: tqdm in /usr/local/lib/python3.6/dist-packages (from -r requirements.txt (line 9)) (4.28.1)\n",
            "Requirement already satisfied: docopt in /usr/local/lib/python3.6/dist-packages (from -r requirements.txt (line 10)) (0.6.2)\n",
            "Requirement already satisfied: python-dateutil>=2.1 in /usr/local/lib/python3.6/dist-packages (from matplotlib>=1.5.0->-r requirements.txt (line 1)) (2.6.1)\n",
            "Requirement already satisfied: kiwisolver>=1.0.1 in /usr/local/lib/python3.6/dist-packages (from matplotlib>=1.5.0->-r requirements.txt (line 1)) (1.1.0)\n",
            "Requirement already satisfied: pyparsing!=2.0.4,!=2.1.2,!=2.1.6,>=2.0.1 in /usr/local/lib/python3.6/dist-packages (from matplotlib>=1.5.0->-r requirements.txt (line 1)) (2.4.6)\n",
            "Requirement already satisfied: cycler>=0.10 in /usr/local/lib/python3.6/dist-packages (from matplotlib>=1.5.0->-r requirements.txt (line 1)) (0.10.0)\n",
            "Requirement already satisfied: six>=1.10.0 in /usr/local/lib/python3.6/dist-packages (from pytest>=2.8.3->-r requirements.txt (line 4)) (1.12.0)\n",
            "Requirement already satisfied: attrs>=17.4.0 in /usr/local/lib/python3.6/dist-packages (from pytest>=2.8.3->-r requirements.txt (line 4)) (19.3.0)\n",
            "Requirement already satisfied: setuptools in /usr/local/lib/python3.6/dist-packages (from pytest>=2.8.3->-r requirements.txt (line 4)) (45.1.0)\n",
            "Requirement already satisfied: atomicwrites>=1.0 in /usr/local/lib/python3.6/dist-packages (from pytest>=2.8.3->-r requirements.txt (line 4)) (1.3.0)\n",
            "Requirement already satisfied: py>=1.5.0 in /usr/local/lib/python3.6/dist-packages (from pytest>=2.8.3->-r requirements.txt (line 4)) (1.8.1)\n",
            "Requirement already satisfied: more-itertools>=4.0.0 in /usr/local/lib/python3.6/dist-packages (from pytest>=2.8.3->-r requirements.txt (line 4)) (8.2.0)\n",
            "Requirement already satisfied: pluggy<0.8,>=0.5 in /usr/local/lib/python3.6/dist-packages (from pytest>=2.8.3->-r requirements.txt (line 4)) (0.7.1)\n",
            "Requirement already satisfied: joblib>=0.11 in /usr/local/lib/python3.6/dist-packages (from scikit-learn>=0.16.1->-r requirements.txt (line 6)) (0.14.1)\n",
            "Requirement already satisfied: pandas>=0.17.1 in /usr/local/lib/python3.6/dist-packages (from seaborn>=0.6.0->-r requirements.txt (line 7)) (0.25.3)\n",
            "Requirement already satisfied: pytz>=2017.2 in /usr/local/lib/python3.6/dist-packages (from pandas>=0.17.1->seaborn>=0.6.0->-r requirements.txt (line 7)) (2018.9)\n",
            "Installing collected packages: futures\n",
            "Successfully installed futures-3.1.1\n"
          ],
          "name": "stdout"
        }
      ]
    },
    {
      "cell_type": "markdown",
      "metadata": {
        "id": "B4dpPC8AZeNv",
        "colab_type": "text"
      },
      "source": [
        "## Helper Method"
      ]
    },
    {
      "cell_type": "code",
      "metadata": {
        "id": "fuRvsdGQZhe4",
        "colab_type": "code",
        "colab": {}
      },
      "source": [
        "def calSimilarityResult(tasks, w_data):\n",
        "  # Calculate results using helper function\n",
        "  for name, data in iteritems(tasks):\n",
        "    print (\"Spearman correlation of scores on {} {}\".format(name, evaluate_similarity(w_data, data.X, data.y)))"
      ],
      "execution_count": 0,
      "outputs": []
    },
    {
      "cell_type": "markdown",
      "metadata": {
        "id": "v3IhglQaa0xU",
        "colab_type": "text"
      },
      "source": [
        "### Similarity Tasks"
      ]
    },
    {
      "cell_type": "code",
      "metadata": {
        "id": "ujA_HFRU7OSp",
        "colab_type": "code",
        "colab": {}
      },
      "source": [
        "import logging\n",
        "from six import iteritems\n",
        "from web.datasets.similarity import fetch_MEN, fetch_WS353, fetch_SimLex999, fetch_MTurk, fetch_RG65, fetch_RW, fetch_TR9856\n",
        "from web.embeddings import fetch_GloVe, fetch_static_dataset, fetch_PDC, fetch_LexVec, fetch_HDC, fetch_conceptnet_numberbatch, fetch_FastText\n",
        "from web.evaluate import evaluate_similarity"
      ],
      "execution_count": 0,
      "outputs": []
    },
    {
      "cell_type": "code",
      "metadata": {
        "id": "9HBzZdq67jwu",
        "colab_type": "code",
        "outputId": "cebdc1dc-3b1b-4389-f4fc-3de103444729",
        "colab": {
          "base_uri": "https://localhost:8080/",
          "height": 68
        }
      },
      "source": [
        "tasks = {\n",
        "    \"MTurk\": fetch_MTurk(),\n",
        "    \"MEN\": fetch_MEN(),\n",
        "    \"WS353\": fetch_WS353(),\n",
        "    \"RubensteinAndGoodenough\": fetch_RG65(),\n",
        "    \"Rare Words\": fetch_RW(),\n",
        "    \"SIMLEX999\": fetch_SimLex999(),\n",
        "    \"TR9856\": fetch_TR9856()\n",
        "}"
      ],
      "execution_count": 0,
      "outputs": [
        {
          "output_type": "stream",
          "text": [
            "\n",
            "Dataset created in /root/web_data/similarity\n",
            "\n"
          ],
          "name": "stdout"
        }
      ]
    },
    {
      "cell_type": "markdown",
      "metadata": {
        "id": "VPnBPQHkIWnK",
        "colab_type": "text"
      },
      "source": [
        "##### Fetch all word embedding models"
      ]
    },
    {
      "cell_type": "code",
      "metadata": {
        "id": "cU91g7i1I2Mr",
        "colab_type": "code",
        "colab": {}
      },
      "source": [
        "wordEmbeddingPath = '/content/drive/My Drive/Term5/NLP/Dataset/WebEmbeddings'"
      ],
      "execution_count": 0,
      "outputs": []
    },
    {
      "cell_type": "code",
      "metadata": {
        "id": "EvZjljK97Wru",
        "colab_type": "code",
        "outputId": "9e30776d-1cee-4ae6-8511-b6eed2c683ba",
        "colab": {
          "base_uri": "https://localhost:8080/",
          "height": 34
        }
      },
      "source": [
        "#WE:1 GloVe from GitHub code on wiki corpus\n",
        "#Corpus:Wiki\n",
        "#Vocabulary Size:#\n",
        "#Dimension: 300\n",
        "w_gv_1 = fetch_GloVe(corpus=\"wiki-6B\", dim=300)"
      ],
      "execution_count": 0,
      "outputs": [
        {
          "output_type": "stream",
          "text": [
            "File already downloaded, skipping\n"
          ],
          "name": "stdout"
        }
      ]
    },
    {
      "cell_type": "code",
      "metadata": {
        "id": "JkWkETrrI52A",
        "colab_type": "code",
        "outputId": "bf692a3e-bb2d-478e-dd10-1c648286eae7",
        "colab": {
          "base_uri": "https://localhost:8080/",
          "height": 34
        }
      },
      "source": [
        "#WE:2 Analysis on Gensim continuous Skipgram\n",
        "#Corpus:Gigaword 5th Edition\n",
        "#Vocabulary Size:209512\n",
        "#Dimension: 300\n",
        "path = wordEmbeddingPath + '/26/model.txt'\n",
        "w_gcs_1 = fetch_static_dataset(path, normalize=True, lower=False, clean_words=False)"
      ],
      "execution_count": 0,
      "outputs": [
        {
          "output_type": "stream",
          "text": [
            "Loading dataset.....\n"
          ],
          "name": "stdout"
        }
      ]
    },
    {
      "cell_type": "code",
      "metadata": {
        "id": "8TPHDUpbJsZ7",
        "colab_type": "code",
        "outputId": "d741f5d6-c72f-41de-e1c7-6af55e3cc390",
        "colab": {
          "base_uri": "https://localhost:8080/",
          "height": 34
        }
      },
      "source": [
        "#WE:3 Analysis on Global Vectors\n",
        "#Corpus:Gigaword 5th Edition\n",
        "#Vocabulary Size:209865\n",
        "#Dimension: 300\n",
        "path = wordEmbeddingPath + '/27/model.txt'\n",
        "w_gv_2 = fetch_static_dataset(path, normalize=True, lower=False, clean_words=False)"
      ],
      "execution_count": 0,
      "outputs": [
        {
          "output_type": "stream",
          "text": [
            "Loading dataset.....\n"
          ],
          "name": "stdout"
        }
      ]
    },
    {
      "cell_type": "code",
      "metadata": {
        "id": "kISIiJpVLQ3T",
        "colab_type": "code",
        "outputId": "995ea1f9-e667-43f1-998c-c5f0ab7b4646",
        "colab": {
          "base_uri": "https://localhost:8080/",
          "height": 34
        }
      },
      "source": [
        "#WE:4 Analysis on Global Vectors\n",
        "#Corpus:English Wikipedia Dump of February 2017\n",
        "#Vocabulary Size:302815\n",
        "#Dimension: 300\n",
        "path = wordEmbeddingPath + '/8/model.txt'\n",
        "w_gv_3 = fetch_static_dataset(path, normalize=True, lower=False, clean_words=False)"
      ],
      "execution_count": 0,
      "outputs": [
        {
          "output_type": "stream",
          "text": [
            "Loading dataset.....\n"
          ],
          "name": "stdout"
        }
      ]
    },
    {
      "cell_type": "code",
      "metadata": {
        "id": "leL1z_9dOVa_",
        "colab_type": "code",
        "outputId": "cdf77840-87cf-4ffd-87ed-f732763d790f",
        "colab": {
          "base_uri": "https://localhost:8080/",
          "height": 34
        }
      },
      "source": [
        "#WE:5 Analysis on Global Vectors\n",
        "#Corpus:English Wikipedia Dump of February 2017 | Gigaword 5th Edition\n",
        "#Vocabulary Size:291392\n",
        "#Dimension: 300\n",
        "path = wordEmbeddingPath + '/20/model.txt'\n",
        "w_gv_4 = fetch_static_dataset(path, normalize=True, lower=False, clean_words=False)"
      ],
      "execution_count": 0,
      "outputs": [
        {
          "output_type": "stream",
          "text": [
            "Loading dataset.....\n"
          ],
          "name": "stdout"
        }
      ]
    },
    {
      "cell_type": "code",
      "metadata": {
        "id": "Xwsut3ltQJCW",
        "colab_type": "code",
        "outputId": "707a0aa0-a329-47f4-aeef-89ff99501d06",
        "colab": {
          "base_uri": "https://localhost:8080/",
          "height": 34
        }
      },
      "source": [
        "#WE:6 Analysis on Gensim Continuous Bag-of-Words\n",
        "#Corpus:Wikipedia\n",
        "#Vocabulary Size:285055\n",
        "#Dimension: 400\n",
        "path = wordEmbeddingPath + '/75/model.txt'\n",
        "w_gcbow_1 = fetch_static_dataset(path, normalize=True, lower=False, clean_words=False)"
      ],
      "execution_count": 0,
      "outputs": [
        {
          "output_type": "stream",
          "text": [
            "Loading dataset.....\n"
          ],
          "name": "stdout"
        }
      ]
    },
    {
      "cell_type": "code",
      "metadata": {
        "id": "Bb-6Y3zde-VY",
        "colab_type": "code",
        "outputId": "d9592535-53e8-4c3f-d3ef-d565e4a6d798",
        "colab": {
          "base_uri": "https://localhost:8080/",
          "height": 34
        }
      },
      "source": [
        "#WE:7 Analysis on Gensim Continuous Skipgram\n",
        "#Corpus:English Wikipedia Dump of February 2017\n",
        "#Vocabulary Size:302866\n",
        "#Dimension: 300\n",
        "path = wordEmbeddingPath + '/6/model.txt'\n",
        "w_gcs_2 = fetch_static_dataset(path, normalize=True, lower=False, clean_words=False)"
      ],
      "execution_count": 0,
      "outputs": [
        {
          "output_type": "stream",
          "text": [
            "Loading dataset.....\n"
          ],
          "name": "stdout"
        }
      ]
    },
    {
      "cell_type": "code",
      "metadata": {
        "id": "yTPPgudMfeE1",
        "colab_type": "code",
        "outputId": "7c0a69a7-a773-44ff-c255-0c96e768197f",
        "colab": {
          "base_uri": "https://localhost:8080/",
          "height": 68
        }
      },
      "source": [
        "#WE:8 - Analysis on PDC embeddings trained on wiki\n",
        "#Corpus:-\n",
        "#Vocabulary Size:-\n",
        "#Dimension: 300\n",
        "w_pdc = fetch_PDC()"
      ],
      "execution_count": 0,
      "outputs": [
        {
          "output_type": "stream",
          "text": [
            "Downloading data from https://www.dropbox.com/s/jppkd6j2xxb9v48/wikicorp.201004-pdc-iter-20-alpha-0.05-window-10-dim-300-neg-10-subsample-0.0001.txt.bz2 ...\n"
          ],
          "name": "stdout"
        },
        {
          "output_type": "stream",
          "text": [
            "100%|██████████| 377M/377M [00:10<00:00, 37.5Mb/s]\n"
          ],
          "name": "stderr"
        },
        {
          "output_type": "stream",
          "text": [
            "...done. (11 seconds, 0 min)\n"
          ],
          "name": "stdout"
        }
      ]
    },
    {
      "cell_type": "code",
      "metadata": {
        "id": "v3rMbQKRJILZ",
        "colab_type": "code",
        "outputId": "e2c7737d-066e-41d2-e883-ece84c5ff2df",
        "colab": {
          "base_uri": "https://localhost:8080/",
          "height": 120
        }
      },
      "source": [
        "#WE:9 - Analysis on LexVec embeddings\n",
        "w_lexvev = fetch_LexVec(which=\"wikipedia+newscrawl-W\")"
      ],
      "execution_count": 0,
      "outputs": [
        {
          "output_type": "stream",
          "text": [
            "\n",
            "Dataset created in /root/web_data/embeddings\n",
            "\n",
            "Downloading data from https://www.dropbox.com/s/kguufyc2xcdi8yk/lexvec.enwiki%2Bnewscrawl.300d.W.pos.vectors.gz ...\n"
          ],
          "name": "stdout"
        },
        {
          "output_type": "stream",
          "text": [
            "100%|██████████| 417M/417M [00:09<00:00, 42.5Mb/s]\n"
          ],
          "name": "stderr"
        },
        {
          "output_type": "stream",
          "text": [
            "...done. (11 seconds, 0 min)\n"
          ],
          "name": "stdout"
        }
      ]
    },
    {
      "cell_type": "code",
      "metadata": {
        "id": "UswQZ9nrKBtr",
        "colab_type": "code",
        "outputId": "e1106d79-230d-4189-b630-f732ba35f1ad",
        "colab": {
          "base_uri": "https://localhost:8080/",
          "height": 68
        }
      },
      "source": [
        "#WE:10 - Analysis on ConceptNetNumberbatch embeddings\n",
        "w_concept_net = fetch_conceptnet_numberbatch()"
      ],
      "execution_count": 0,
      "outputs": [
        {
          "output_type": "stream",
          "text": [
            "Downloading data from https://conceptnet.s3.amazonaws.com/downloads/2017/numberbatch/numberbatch-en-17.06.txt.gz ...\n"
          ],
          "name": "stdout"
        },
        {
          "output_type": "stream",
          "text": [
            "100%|██████████| 270M/270M [00:04<00:00, 54.0Mb/s]\n"
          ],
          "name": "stderr"
        },
        {
          "output_type": "stream",
          "text": [
            "...done. (5 seconds, 0 min)\n"
          ],
          "name": "stdout"
        }
      ]
    },
    {
      "cell_type": "code",
      "metadata": {
        "id": "2m333QYvKm3K",
        "colab_type": "code",
        "outputId": "d4e7ae04-19aa-49bf-8e3d-2650475f8f5a",
        "colab": {
          "base_uri": "https://localhost:8080/",
          "height": 68
        }
      },
      "source": [
        "#WE:11 - Analysis on HDC embeddings\n",
        "w_hdc = fetch_HDC()"
      ],
      "execution_count": 0,
      "outputs": [
        {
          "output_type": "stream",
          "text": [
            "Downloading data from https://www.dropbox.com/s/jrfwel32yd8w0lu/wikicorp.201004-hdc-iter-20-alpha-0.025-window-10-dim-300-neg-10-subsample-0.0001.txt.bz2 ...\n"
          ],
          "name": "stdout"
        },
        {
          "output_type": "stream",
          "text": [
            "100%|██████████| 375M/375M [00:12<00:00, 29.9Mb/s]\n"
          ],
          "name": "stderr"
        },
        {
          "output_type": "stream",
          "text": [
            "...done. (13 seconds, 0 min)\n"
          ],
          "name": "stdout"
        }
      ]
    },
    {
      "cell_type": "code",
      "metadata": {
        "id": "vEnKMr-4ZTyj",
        "colab_type": "code",
        "outputId": "b79e4fd2-c659-4131-969f-0ffd36a4c37c",
        "colab": {
          "base_uri": "https://localhost:8080/",
          "height": 34
        }
      },
      "source": [
        "#WE:12 - FastText\n",
        "#1 million word vectors trained on Wikipedia 2017, UMBC webbase corpus and statmt.org news dataset (16B tokens)\n",
        "#https://dl.fbaipublicfiles.com/fasttext/vectors-english/wiki-news-300d-1M.vec.zip\n",
        "path = wordEmbeddingPath + '/Fasttext/wiki-news-300d-1M.vec'\n",
        "w_fasttext = fetch_static_dataset(path, normalize=True, lower=False, clean_words=False)"
      ],
      "execution_count": 0,
      "outputs": [
        {
          "output_type": "stream",
          "text": [
            "Loading dataset.....\n"
          ],
          "name": "stdout"
        }
      ]
    },
    {
      "cell_type": "markdown",
      "metadata": {
        "id": "ykszxqfhL9Za",
        "colab_type": "text"
      },
      "source": [
        "##### Print sample data from tasks"
      ]
    },
    {
      "cell_type": "code",
      "metadata": {
        "id": "wGS78RdM7mr_",
        "colab_type": "code",
        "outputId": "8b74556b-1db3-4b71-b5e9-e0850adb53a3",
        "colab": {
          "base_uri": "https://localhost:8080/",
          "height": 137
        }
      },
      "source": [
        "# Print sample data\n",
        "for name, data in iteritems(tasks):\n",
        "    print(\"Sample data from {}: pair \\\"{}\\\" and \\\"{}\\\" is assigned score {}\".format(name, data.X[0][0], data.X[0][1], data.y[0]))"
      ],
      "execution_count": 0,
      "outputs": [
        {
          "output_type": "stream",
          "text": [
            "Sample data from MTurk: pair \"episcopal\" and \"russia\" is assigned score 5.5\n",
            "Sample data from MEN: pair \"sun\" and \"sunlight\" is assigned score [10.]\n",
            "Sample data from WS353: pair \"love\" and \"sex\" is assigned score 6.77\n",
            "Sample data from RubensteinAndGoodenough: pair \"gem\" and \"jewel\" is assigned score 9.85\n",
            "Sample data from Rare Words: pair \"squishing\" and \"squirt\" is assigned score 5.88\n",
            "Sample data from SIMLEX999: pair \"old\" and \"new\" is assigned score 1.58\n",
            "Sample data from TR9856: pair \"video\" and \"violent video games\" is assigned score 0.7\n"
          ],
          "name": "stdout"
        }
      ]
    },
    {
      "cell_type": "markdown",
      "metadata": {
        "id": "r6Ttc1JAA40f",
        "colab_type": "text"
      },
      "source": [
        "### Evaluate Analogy"
      ]
    },
    {
      "cell_type": "code",
      "metadata": {
        "id": "9f_PGvC2A4OT",
        "colab_type": "code",
        "colab": {}
      },
      "source": [
        "from web.datasets.analogy import fetch_wordrep, fetch_semeval_2012_2, fetch_msr_analogy, fetch_google_analogy\n",
        "from web.embeddings import fetch_GloVe, fetch_static_dataset\n",
        "from web.analogy import *"
      ],
      "execution_count": 0,
      "outputs": []
    },
    {
      "cell_type": "markdown",
      "metadata": {
        "id": "srez-e3EemoS",
        "colab_type": "text"
      },
      "source": [
        "#### Helper Methods"
      ]
    },
    {
      "cell_type": "code",
      "metadata": {
        "id": "95HWLdbDeq9-",
        "colab_type": "code",
        "colab": {}
      },
      "source": [
        "#Mark flag false for semeval_2012_2, since category name is different in data structure\n",
        "def printCategoriesForData(data, flag):\n",
        "  if flag:\n",
        "    for cat in (set(data.category)):\n",
        "      print(cat)\n",
        "  else:\n",
        "    for cat in (set(data.categories_names)):\n",
        "      print(cat)"
      ],
      "execution_count": 0,
      "outputs": []
    },
    {
      "cell_type": "code",
      "metadata": {
        "id": "lu2JTamJjFlc",
        "colab_type": "code",
        "colab": {}
      },
      "source": [
        "# Pick a sample of data and calculate answers\n",
        "# Mark flag false for 2D data\n",
        "def calAnswersOnSampleData(data, flag, w):\n",
        "  subset = [50, 1000, 4000, 6000, 7000]\n",
        "  if flag:\n",
        "    for id in subset:\n",
        "      w1, w2, w3 = data.X[id][0], data.X[id][1], data.X[id][2]\n",
        "      print(\"Question: {} is to {} as {} is to ?\".format(w1, w2, w3))\n",
        "      print(\"Answer: \" + data.y[id])\n",
        "      print(\"Predicted: \" + \" \".join(w.nearest_neighbors(w[w2] - w[w1] + w[w3], exclude=[w1, w2, w3])))\n",
        "  else:\n",
        "    for id in subset:\n",
        "      w1, w2 = data.X[id][0], data.X[id][1]\n",
        "      print(\"Question: {} is to {} as is to ?\".format(w1, w2))\n",
        "      print(\"Answer: \" + data.y[id])\n",
        "      #print(\"Predicted: \" + \" \".join(w.nearest_neighbors(w[w2] - w[w1] + w[w3], exclude=[w1, w2, w3])))"
      ],
      "execution_count": 0,
      "outputs": []
    },
    {
      "cell_type": "code",
      "metadata": {
        "id": "oWyb0ZXb1HXx",
        "colab_type": "code",
        "colab": {}
      },
      "source": [
        "def calAnswersOnWordRep(data, w, max_pairs=1000):\n",
        "  categories = set(data.category)\n",
        "  accuracy = {}\n",
        "  correct = {}\n",
        "  count = {}\n",
        "  for cat in categories:\n",
        "    X_cat = data.X[data.category == cat]\n",
        "    X_cat = X_cat[0:max_pairs]\n",
        "    print(\"Processing {} with {} pairs, {} questions\".format(cat, X_cat.shape[0], X_cat.shape[0] * (X_cat.shape[0] - 1)))\n",
        "    # For each category construct question-answer pairs\n",
        "    size = X_cat.shape[0] * (X_cat.shape[0] - 1)\n",
        "    X = np.zeros(shape=(size, 3), dtype=\"object\")\n",
        "    y = np.zeros(shape=(size,), dtype=\"object\")\n",
        "    id = 0\n",
        "    for left, right in product(X_cat, X_cat):\n",
        "      if not np.array_equal(left, right):\n",
        "        X[id, 0:2] = left\n",
        "        X[id, 2] = right[0]\n",
        "        y[id] = right[1]\n",
        "        id += 1\n",
        "        solver = SimpleAnalogySolver(w=w)\n",
        "        y_pred = solver.predict(X)\n",
        "        correct[cat] = float(np.sum(y_pred == y))\n",
        "        count[cat] = size\n",
        "        accuracy[cat] = float(np.sum(y_pred == y)) / size\n",
        "        # Add summary results\n",
        "  correct['wikipedia'] = sum(correct[c] for c in categories if c in data.wikipedia_categories)\n",
        "  correct['all'] = sum(correct[c] for c in categories)\n",
        "  correct['wordnet'] = sum(correct[c] for c in categories if c in data.wordnet_categories)\n",
        "\n",
        "  count['wikipedia'] = sum(count[c] for c in categories if c in data.wikipedia_categories)\n",
        "  count['all'] = sum(count[c] for c in categories)\n",
        "  count['wordnet'] = sum(count[c] for c in categories if c in data.wordnet_categories)\n",
        "\n",
        "  accuracy['wikipedia'] = correct['wikipedia'] / count['wikipedia']\n",
        "  accuracy['all'] = correct['all'] / count['all']\n",
        "  accuracy['wordnet'] = correct['wordnet'] / count['wordnet']\n",
        "\n",
        "  return pd.concat([pd.Series(accuracy, name=\"accuracy\"),\n",
        "                    pd.Series(correct, name=\"correct\"),\n",
        "                    pd.Series(count, name=\"count\")], axis=1)\n"
      ],
      "execution_count": 0,
      "outputs": []
    },
    {
      "cell_type": "code",
      "metadata": {
        "id": "v9licnCR39Wy",
        "colab_type": "code",
        "colab": {}
      },
      "source": [
        "def calAnswersonSemEval(w):\n",
        "  data = fetch_semeval_2012_2()\n",
        "  mean_vector = np.mean(w.vectors, axis=0, keepdims=True)\n",
        "  categories = data.y.keys()\n",
        "  results = defaultdict(list)\n",
        "  for c in categories:\n",
        "     # Get mean of left and right vector\n",
        "     prototypes = data.X_prot[c]\n",
        "     prot_left = np.mean(np.vstack(w.get(word, mean_vector) for word in prototypes[:, 0]), axis=0)\n",
        "     prot_right = np.mean(np.vstack(w.get(word, mean_vector) for word in prototypes[:, 1]), axis=0)\n",
        "     questions = data.X[c]\n",
        "     question_left, question_right = np.vstack(w.get(word, mean_vector) for word in questions[:, 0]), np.vstack(w.get(word, mean_vector) for word in questions[:, 1])\n",
        "     scores = np.dot(prot_left - prot_right, (question_left - question_right).T)\n",
        "     c_name = data.categories_names[c].split(\"_\")[0]\n",
        "     # NaN happens when there are only 0s, which might happen for very rare words or\n",
        "     # very insufficient word vocabulary\n",
        "     cor = scipy.stats.spearmanr(scores, data.y[c]).correlation\n",
        "     results[c_name].append(0 if np.isnan(cor) else cor)\n",
        "  final_results = OrderedDict()\n",
        "  final_results['all'] = sum(sum(v) for v in results.values()) / len(categories)\n",
        "  for k in results:\n",
        "    final_results[k] = sum(results[k]) / len(results[k])\n",
        "  return pd.Series(final_results)"
      ],
      "execution_count": 0,
      "outputs": []
    },
    {
      "cell_type": "code",
      "metadata": {
        "id": "qSC6verhAfak",
        "colab_type": "code",
        "colab": {}
      },
      "source": [
        "def evaluate_analogy(w, X, y, method=\"add\", k=None, category=None, batch_size=100):\n",
        "  assert category is None or len(category) == y.shape[0], \"Passed incorrect category list\"\n",
        "  solver = SimpleAnalogySolver(w=w, method=method, batch_size=batch_size, k=k)\n",
        "  y_pred = solver.predict(X)\n",
        "\n",
        "  if category is not None:\n",
        "    results = OrderedDict({\"all\": np.mean(y_pred == y)})\n",
        "    count = OrderedDict({\"all\": len(y_pred)})\n",
        "    correct = OrderedDict({\"all\": np.sum(y_pred == y)})\n",
        "    for cat in set(category):\n",
        "      results[cat] = np.mean(y_pred[category == cat] == y[category == cat])\n",
        "      count[cat] = np.sum(category == cat)\n",
        "      correct[cat] = np.sum(y_pred[category == cat] == y[category == cat])\n",
        "\n",
        "    return pd.concat([pd.Series(results, name=\"accuracy\"),\n",
        "                          pd.Series(correct, name=\"correct\"),\n",
        "                          pd.Series(count, name=\"count\")],\n",
        "                         axis=1)\n",
        "  else:\n",
        "    return np.mean(y_pred == y)\n"
      ],
      "execution_count": 0,
      "outputs": []
    },
    {
      "cell_type": "code",
      "metadata": {
        "id": "b7-aCoQ2-y62",
        "colab_type": "code",
        "colab": {}
      },
      "source": [
        "def evaluateOnAll(w):\n",
        "  similarity_tasks = {\n",
        "      \"MTurk\": fetch_MTurk(),\n",
        "      \"MEN\": fetch_MEN(),\n",
        "      \"WS353\": fetch_WS353(),\n",
        "      \"RubensteinAndGoodenough\": fetch_RG65(),\n",
        "      \"Rare Words\": fetch_RW(),\n",
        "      \"SIMLEX999\": fetch_SimLex999(),\n",
        "      \"TR9856\": fetch_TR9856()\n",
        "    }\n",
        "\n",
        "  similarity_results = {}\n",
        "  \n",
        "  for name, data in iteritems(similarity_tasks):\n",
        "    similarity_results[name] = evaluate_similarity(w, data.X, data.y)\n",
        "    print(\"Spearman correlation of scores on {} {}\".format(name, similarity_results[name]))\n",
        "  \n",
        "  # Calculate results on analogy\n",
        "  print(\"Calculating analogy benchmarks\")\n",
        "  analogy_tasks = {\n",
        "        \"Google\": fetch_google_analogy(),\n",
        "        \"MSR\": fetch_msr_analogy()\n",
        "  }\n",
        "  analogy_results = {}\n",
        "  for name, data in iteritems(analogy_tasks):\n",
        "    analogy_results[name] = evaluate_analogy(w, data.X, data.y)\n",
        "    print(\"Analogy prediction accuracy on {} {}\".format(name, analogy_results[name]))\n",
        "  \n",
        "  analogy_results[\"SemEval2012_2\"] = calAnswersonSemEval(w)['all']\n",
        "  print(\"Analogy prediction accuracy on {} {}\".format(\"SemEval2012\", analogy_results[\"SemEval2012_2\"]))\n",
        "\n",
        "  analogy = pd.DataFrame([analogy_results])\n",
        "  sim = pd.DataFrame([similarity_results])\n",
        "  results = sim.join(analogy)\n",
        "\n",
        "  return results"
      ],
      "execution_count": 0,
      "outputs": []
    },
    {
      "cell_type": "markdown",
      "metadata": {
        "id": "mDsLiyHsfoxk",
        "colab_type": "text"
      },
      "source": [
        "#### Fetching benchmark datasets"
      ]
    },
    {
      "cell_type": "code",
      "metadata": {
        "id": "CGFPaSEyCfc9",
        "colab_type": "code",
        "outputId": "8d92a3ea-880c-41fa-f7d2-79592de80eaf",
        "colab": {
          "base_uri": "https://localhost:8080/",
          "height": 171
        }
      },
      "source": [
        "# Fetch analogy dataset\n",
        "data_wordrep = fetch_wordrep()\n",
        "data_google = fetch_google_analogy()\n",
        "data_msr = fetch_msr_analogy()\n",
        "data_semeval = fetch_semeval_2012_2()"
      ],
      "execution_count": 0,
      "outputs": [
        {
          "output_type": "stream",
          "text": [
            "\n",
            "Dataset created in /root/web_data/analogy\n",
            "\n",
            "\n",
            "Dataset created in /root/web_data/analogy/EN-GOOGLE\n",
            "\n",
            "\n",
            "Dataset created in /root/web_data/analogy/EN-MSR\n",
            "\n"
          ],
          "name": "stdout"
        }
      ]
    },
    {
      "cell_type": "markdown",
      "metadata": {
        "id": "ZC1HHy--MUiT",
        "colab_type": "text"
      },
      "source": [
        "##### Print categories from benchmark datasets"
      ]
    },
    {
      "cell_type": "code",
      "metadata": {
        "id": "X18wdf70DRqU",
        "colab_type": "code",
        "outputId": "ba86a870-7eb9-444c-a61a-59e058914f30",
        "colab": {
          "base_uri": "https://localhost:8080/",
          "height": 446
        }
      },
      "source": [
        "printCategoriesForData(data_wordrep, True)"
      ],
      "execution_count": 0,
      "outputs": [
        {
          "output_type": "stream",
          "text": [
            "comparative\n",
            "InstanceOf\n",
            "present-participle\n",
            "currency\n",
            "MadeOf\n",
            "superlative\n",
            "HasContext\n",
            "Entails\n",
            "past-tense\n",
            "PartOf\n",
            "plural-verbs\n",
            "MemberOf\n",
            "DerivedFrom\n",
            "Antonym\n",
            "SimilarTo\n",
            "Causes\n",
            "all-capital-cities\n",
            "man-woman\n",
            "RelatedTo\n",
            "adjective-to-adverb\n",
            "Attribute\n",
            "plural-nouns\n",
            "nationality-adjective\n",
            "city-in-state\n",
            "IsA\n"
          ],
          "name": "stdout"
        }
      ]
    },
    {
      "cell_type": "code",
      "metadata": {
        "id": "8XI9OBaIe4rZ",
        "colab_type": "code",
        "outputId": "773c724d-3833-44e7-bcd6-7ab793097dfd",
        "colab": {
          "base_uri": "https://localhost:8080/",
          "height": 257
        }
      },
      "source": [
        "printCategoriesForData(data_google, True)"
      ],
      "execution_count": 0,
      "outputs": [
        {
          "output_type": "stream",
          "text": [
            "gram1-adjective-to-adverb\n",
            "gram4-superlative\n",
            "gram7-past-tense\n",
            "gram6-nationality-adjective\n",
            "gram2-opposite\n",
            "gram9-plural-verbs\n",
            "currency\n",
            "capital-common-countries\n",
            "city-in-state\n",
            "gram5-present-participle\n",
            "gram3-comparative\n",
            "capital-world\n",
            "family\n",
            "gram8-plural\n"
          ],
          "name": "stdout"
        }
      ]
    },
    {
      "cell_type": "code",
      "metadata": {
        "id": "JmraiNOge6zQ",
        "colab_type": "code",
        "outputId": "6f222ddb-94e7-494e-b915-435884471861",
        "colab": {
          "base_uri": "https://localhost:8080/",
          "height": 291
        }
      },
      "source": [
        "printCategoriesForData(data_msr, True)"
      ],
      "execution_count": 0,
      "outputs": [
        {
          "output_type": "stream",
          "text": [
            "jjs_jjr\n",
            "nn_nns\n",
            "nns_nn\n",
            "vb_vbd\n",
            "vbd_vb\n",
            "jjr_jj\n",
            "jj_jjr\n",
            "jjs_jj\n",
            "jjr_jjs\n",
            "nn_nnpos\n",
            "vb_vbz\n",
            "nnpos_nn\n",
            "vbz_vb\n",
            "vbd_vbz\n",
            "vbz_vbd\n",
            "jj_jjs\n"
          ],
          "name": "stdout"
        }
      ]
    },
    {
      "cell_type": "code",
      "metadata": {
        "id": "3no_Dn-Ie84i",
        "colab_type": "code",
        "outputId": "97c6b06d-583e-4d4c-8d14-b7e2e50dddf4",
        "colab": {
          "base_uri": "https://localhost:8080/",
          "height": 1000
        }
      },
      "source": [
        "printCategoriesForData(data_semeval, False)"
      ],
      "execution_count": 0,
      "outputs": [
        {
          "output_type": "stream",
          "text": [
            "2_h\n",
            "4_h\n",
            "3_b\n",
            "2_j\n",
            "7_d\n",
            "8_f\n",
            "2_c\n",
            "2_b\n",
            "6_e\n",
            "5_h\n",
            "8_g\n",
            "5_f\n",
            "1_d\n",
            "5_a\n",
            "9_h\n",
            "3_c\n",
            "5_e\n",
            "8_d\n",
            "8_a\n",
            "8_c\n",
            "7_c\n",
            "7_b\n",
            "3_g\n",
            "10_e\n",
            "7_e\n",
            "10_f\n",
            "1_e\n",
            "4_f\n",
            "3_h\n",
            "9_b\n",
            "4_b\n",
            "7_f\n",
            "5_b\n",
            "8_e\n",
            "9_c\n",
            "5_d\n",
            "4_g\n",
            "4_d\n",
            "4_e\n",
            "6_b\n",
            "5_i\n",
            "3_d\n",
            "5_g\n",
            "6_h\n",
            "9_e\n",
            "2_f\n",
            "7_h\n",
            "3_a\n",
            "9_i\n",
            "1_a\n",
            "9_d\n",
            "3_f\n",
            "7_g\n",
            "2_g\n",
            "8_h\n",
            "6_g\n",
            "10_b\n",
            "10_d\n",
            "6_c\n",
            "7_a\n",
            "1_c\n",
            "2_d\n",
            "10_c\n",
            "2_a\n",
            "10_a\n",
            "6_a\n",
            "4_a\n",
            "9_g\n",
            "1_b\n",
            "5_c\n",
            "6_f\n",
            "8_b\n",
            "2_e\n",
            "9_a\n",
            "6_d\n",
            "3_e\n",
            "4_c\n",
            "9_f\n",
            "2_i\n"
          ],
          "name": "stdout"
        }
      ]
    },
    {
      "cell_type": "markdown",
      "metadata": {
        "id": "diA2GZDLB7Xq",
        "colab_type": "text"
      },
      "source": [
        "##### WE:1 Analysis on Glove dataset, Wiki corpus"
      ]
    },
    {
      "cell_type": "code",
      "metadata": {
        "id": "4iEOkXKOL5qy",
        "colab_type": "code",
        "outputId": "20e273b5-0b42-44c3-fc39-8b672536d09c",
        "colab": {
          "base_uri": "https://localhost:8080/",
          "height": 1000
        }
      },
      "source": [
        "w = w_gv_1\n",
        "results_wordrep = calAnswersOnWordRep(data_wordrep, w, max_pairs=5)\n",
        "print(results_wordrep)"
      ],
      "execution_count": 0,
      "outputs": [
        {
          "output_type": "stream",
          "text": [
            "Missing 57 words. Will replace them with mean vector\n"
          ],
          "name": "stderr"
        },
        {
          "output_type": "stream",
          "text": [
            "Processing comparative with 5 pairs, 20 questions\n"
          ],
          "name": "stdout"
        },
        {
          "output_type": "stream",
          "text": [
            "/content/drive/My Drive/Term5/NLP/Dataset/web/analogy.py:101: RuntimeWarning: invalid value encountered in double_scalars\n",
            "  if id_batch % np.floor(len(X) / (10. * self.batch_size)) == 0:\n",
            "/content/drive/My Drive/Term5/NLP/Dataset/web/analogy.py:105: FutureWarning: arrays to stack must be passed as a \"sequence\" type such as list or tuple. Support for non-sequence iterables such as generators is deprecated as of NumPy 1.16 and will raise an error in the future.\n",
            "  A, B, C = np.vstack(w.get(word, mean_vector) for word in X_b[:, 0]), \\\n",
            "/content/drive/My Drive/Term5/NLP/Dataset/web/analogy.py:106: FutureWarning: arrays to stack must be passed as a \"sequence\" type such as list or tuple. Support for non-sequence iterables such as generators is deprecated as of NumPy 1.16 and will raise an error in the future.\n",
            "  np.vstack(w.get(word, mean_vector) for word in X_b[:, 1]), \\\n",
            "/content/drive/My Drive/Term5/NLP/Dataset/web/analogy.py:107: FutureWarning: arrays to stack must be passed as a \"sequence\" type such as list or tuple. Support for non-sequence iterables such as generators is deprecated as of NumPy 1.16 and will raise an error in the future.\n",
            "  np.vstack(w.get(word, mean_vector) for word in X_b[:, 2])\n",
            "Missing 54 words. Will replace them with mean vector\n",
            "Missing 51 words. Will replace them with mean vector\n",
            "Missing 48 words. Will replace them with mean vector\n",
            "Missing 45 words. Will replace them with mean vector\n",
            "Missing 42 words. Will replace them with mean vector\n",
            "Missing 39 words. Will replace them with mean vector\n",
            "Missing 36 words. Will replace them with mean vector\n",
            "Missing 33 words. Will replace them with mean vector\n",
            "Missing 30 words. Will replace them with mean vector\n",
            "Missing 27 words. Will replace them with mean vector\n",
            "Missing 24 words. Will replace them with mean vector\n",
            "Missing 21 words. Will replace them with mean vector\n",
            "Missing 18 words. Will replace them with mean vector\n",
            "Missing 15 words. Will replace them with mean vector\n",
            "Missing 12 words. Will replace them with mean vector\n",
            "Missing 9 words. Will replace them with mean vector\n",
            "Missing 6 words. Will replace them with mean vector\n",
            "Missing 3 words. Will replace them with mean vector\n",
            "Missing 57 words. Will replace them with mean vector\n"
          ],
          "name": "stderr"
        },
        {
          "output_type": "stream",
          "text": [
            "Processing InstanceOf with 5 pairs, 20 questions\n"
          ],
          "name": "stdout"
        },
        {
          "output_type": "stream",
          "text": [
            "Missing 54 words. Will replace them with mean vector\n",
            "Missing 51 words. Will replace them with mean vector\n",
            "Missing 48 words. Will replace them with mean vector\n",
            "Missing 45 words. Will replace them with mean vector\n",
            "Missing 42 words. Will replace them with mean vector\n",
            "Missing 39 words. Will replace them with mean vector\n",
            "Missing 36 words. Will replace them with mean vector\n",
            "Missing 33 words. Will replace them with mean vector\n",
            "Missing 30 words. Will replace them with mean vector\n",
            "Missing 27 words. Will replace them with mean vector\n",
            "Missing 24 words. Will replace them with mean vector\n",
            "Missing 21 words. Will replace them with mean vector\n",
            "Missing 18 words. Will replace them with mean vector\n",
            "Missing 15 words. Will replace them with mean vector\n",
            "Missing 12 words. Will replace them with mean vector\n",
            "Missing 9 words. Will replace them with mean vector\n",
            "Missing 6 words. Will replace them with mean vector\n",
            "Missing 3 words. Will replace them with mean vector\n",
            "Missing 57 words. Will replace them with mean vector\n"
          ],
          "name": "stderr"
        },
        {
          "output_type": "stream",
          "text": [
            "Processing present-participle with 5 pairs, 20 questions\n"
          ],
          "name": "stdout"
        },
        {
          "output_type": "stream",
          "text": [
            "Missing 54 words. Will replace them with mean vector\n",
            "Missing 51 words. Will replace them with mean vector\n",
            "Missing 48 words. Will replace them with mean vector\n",
            "Missing 45 words. Will replace them with mean vector\n",
            "Missing 42 words. Will replace them with mean vector\n",
            "Missing 39 words. Will replace them with mean vector\n",
            "Missing 36 words. Will replace them with mean vector\n",
            "Missing 33 words. Will replace them with mean vector\n",
            "Missing 30 words. Will replace them with mean vector\n",
            "Missing 27 words. Will replace them with mean vector\n",
            "Missing 24 words. Will replace them with mean vector\n",
            "Missing 21 words. Will replace them with mean vector\n",
            "Missing 18 words. Will replace them with mean vector\n",
            "Missing 15 words. Will replace them with mean vector\n",
            "Missing 12 words. Will replace them with mean vector\n",
            "Missing 9 words. Will replace them with mean vector\n",
            "Missing 6 words. Will replace them with mean vector\n",
            "Missing 3 words. Will replace them with mean vector\n",
            "Missing 57 words. Will replace them with mean vector\n"
          ],
          "name": "stderr"
        },
        {
          "output_type": "stream",
          "text": [
            "Processing currency with 5 pairs, 20 questions\n"
          ],
          "name": "stdout"
        },
        {
          "output_type": "stream",
          "text": [
            "Missing 54 words. Will replace them with mean vector\n",
            "Missing 51 words. Will replace them with mean vector\n",
            "Missing 48 words. Will replace them with mean vector\n",
            "Missing 45 words. Will replace them with mean vector\n",
            "Missing 42 words. Will replace them with mean vector\n",
            "Missing 39 words. Will replace them with mean vector\n",
            "Missing 36 words. Will replace them with mean vector\n",
            "Missing 33 words. Will replace them with mean vector\n",
            "Missing 30 words. Will replace them with mean vector\n",
            "Missing 27 words. Will replace them with mean vector\n",
            "Missing 24 words. Will replace them with mean vector\n",
            "Missing 21 words. Will replace them with mean vector\n",
            "Missing 18 words. Will replace them with mean vector\n",
            "Missing 15 words. Will replace them with mean vector\n",
            "Missing 12 words. Will replace them with mean vector\n",
            "Missing 9 words. Will replace them with mean vector\n",
            "Missing 6 words. Will replace them with mean vector\n",
            "Missing 3 words. Will replace them with mean vector\n",
            "Missing 57 words. Will replace them with mean vector\n"
          ],
          "name": "stderr"
        },
        {
          "output_type": "stream",
          "text": [
            "Processing MadeOf with 5 pairs, 20 questions\n"
          ],
          "name": "stdout"
        },
        {
          "output_type": "stream",
          "text": [
            "Missing 54 words. Will replace them with mean vector\n",
            "Missing 51 words. Will replace them with mean vector\n",
            "Missing 48 words. Will replace them with mean vector\n",
            "Missing 45 words. Will replace them with mean vector\n",
            "Missing 42 words. Will replace them with mean vector\n",
            "Missing 39 words. Will replace them with mean vector\n",
            "Missing 36 words. Will replace them with mean vector\n",
            "Missing 33 words. Will replace them with mean vector\n",
            "Missing 30 words. Will replace them with mean vector\n",
            "Missing 27 words. Will replace them with mean vector\n",
            "Missing 24 words. Will replace them with mean vector\n",
            "Missing 21 words. Will replace them with mean vector\n",
            "Missing 18 words. Will replace them with mean vector\n",
            "Missing 15 words. Will replace them with mean vector\n",
            "Missing 12 words. Will replace them with mean vector\n",
            "Missing 9 words. Will replace them with mean vector\n",
            "Missing 6 words. Will replace them with mean vector\n",
            "Missing 3 words. Will replace them with mean vector\n",
            "Missing 57 words. Will replace them with mean vector\n"
          ],
          "name": "stderr"
        },
        {
          "output_type": "stream",
          "text": [
            "Processing superlative with 5 pairs, 20 questions\n"
          ],
          "name": "stdout"
        },
        {
          "output_type": "stream",
          "text": [
            "Missing 54 words. Will replace them with mean vector\n",
            "Missing 51 words. Will replace them with mean vector\n",
            "Missing 48 words. Will replace them with mean vector\n",
            "Missing 45 words. Will replace them with mean vector\n",
            "Missing 42 words. Will replace them with mean vector\n",
            "Missing 39 words. Will replace them with mean vector\n",
            "Missing 36 words. Will replace them with mean vector\n",
            "Missing 33 words. Will replace them with mean vector\n",
            "Missing 30 words. Will replace them with mean vector\n",
            "Missing 27 words. Will replace them with mean vector\n",
            "Missing 24 words. Will replace them with mean vector\n",
            "Missing 21 words. Will replace them with mean vector\n",
            "Missing 18 words. Will replace them with mean vector\n",
            "Missing 15 words. Will replace them with mean vector\n",
            "Missing 12 words. Will replace them with mean vector\n",
            "Missing 9 words. Will replace them with mean vector\n",
            "Missing 6 words. Will replace them with mean vector\n",
            "Missing 3 words. Will replace them with mean vector\n",
            "Missing 57 words. Will replace them with mean vector\n"
          ],
          "name": "stderr"
        },
        {
          "output_type": "stream",
          "text": [
            "Processing HasContext with 5 pairs, 20 questions\n"
          ],
          "name": "stdout"
        },
        {
          "output_type": "stream",
          "text": [
            "Missing 54 words. Will replace them with mean vector\n",
            "Missing 51 words. Will replace them with mean vector\n",
            "Missing 48 words. Will replace them with mean vector\n",
            "Missing 45 words. Will replace them with mean vector\n",
            "Missing 42 words. Will replace them with mean vector\n",
            "Missing 39 words. Will replace them with mean vector\n",
            "Missing 36 words. Will replace them with mean vector\n",
            "Missing 33 words. Will replace them with mean vector\n",
            "Missing 30 words. Will replace them with mean vector\n",
            "Missing 27 words. Will replace them with mean vector\n",
            "Missing 24 words. Will replace them with mean vector\n",
            "Missing 21 words. Will replace them with mean vector\n",
            "Missing 18 words. Will replace them with mean vector\n",
            "Missing 15 words. Will replace them with mean vector\n",
            "Missing 12 words. Will replace them with mean vector\n",
            "Missing 9 words. Will replace them with mean vector\n",
            "Missing 6 words. Will replace them with mean vector\n",
            "Missing 3 words. Will replace them with mean vector\n",
            "Missing 57 words. Will replace them with mean vector\n"
          ],
          "name": "stderr"
        },
        {
          "output_type": "stream",
          "text": [
            "Processing Entails with 5 pairs, 20 questions\n"
          ],
          "name": "stdout"
        },
        {
          "output_type": "stream",
          "text": [
            "Missing 54 words. Will replace them with mean vector\n",
            "Missing 51 words. Will replace them with mean vector\n",
            "Missing 48 words. Will replace them with mean vector\n",
            "Missing 45 words. Will replace them with mean vector\n",
            "Missing 42 words. Will replace them with mean vector\n",
            "Missing 39 words. Will replace them with mean vector\n",
            "Missing 36 words. Will replace them with mean vector\n",
            "Missing 33 words. Will replace them with mean vector\n",
            "Missing 30 words. Will replace them with mean vector\n",
            "Missing 27 words. Will replace them with mean vector\n",
            "Missing 24 words. Will replace them with mean vector\n",
            "Missing 21 words. Will replace them with mean vector\n",
            "Missing 18 words. Will replace them with mean vector\n",
            "Missing 15 words. Will replace them with mean vector\n",
            "Missing 12 words. Will replace them with mean vector\n",
            "Missing 9 words. Will replace them with mean vector\n",
            "Missing 6 words. Will replace them with mean vector\n",
            "Missing 3 words. Will replace them with mean vector\n",
            "Missing 57 words. Will replace them with mean vector\n"
          ],
          "name": "stderr"
        },
        {
          "output_type": "stream",
          "text": [
            "Processing past-tense with 5 pairs, 20 questions\n"
          ],
          "name": "stdout"
        },
        {
          "output_type": "stream",
          "text": [
            "Missing 54 words. Will replace them with mean vector\n",
            "Missing 51 words. Will replace them with mean vector\n",
            "Missing 48 words. Will replace them with mean vector\n",
            "Missing 45 words. Will replace them with mean vector\n",
            "Missing 42 words. Will replace them with mean vector\n",
            "Missing 39 words. Will replace them with mean vector\n",
            "Missing 36 words. Will replace them with mean vector\n",
            "Missing 33 words. Will replace them with mean vector\n",
            "Missing 30 words. Will replace them with mean vector\n",
            "Missing 27 words. Will replace them with mean vector\n",
            "Missing 24 words. Will replace them with mean vector\n",
            "Missing 21 words. Will replace them with mean vector\n",
            "Missing 18 words. Will replace them with mean vector\n",
            "Missing 15 words. Will replace them with mean vector\n",
            "Missing 12 words. Will replace them with mean vector\n",
            "Missing 9 words. Will replace them with mean vector\n",
            "Missing 6 words. Will replace them with mean vector\n",
            "Missing 3 words. Will replace them with mean vector\n",
            "Missing 57 words. Will replace them with mean vector\n"
          ],
          "name": "stderr"
        },
        {
          "output_type": "stream",
          "text": [
            "Processing PartOf with 5 pairs, 20 questions\n"
          ],
          "name": "stdout"
        },
        {
          "output_type": "stream",
          "text": [
            "Missing 54 words. Will replace them with mean vector\n",
            "Missing 51 words. Will replace them with mean vector\n",
            "Missing 48 words. Will replace them with mean vector\n",
            "Missing 45 words. Will replace them with mean vector\n",
            "Missing 42 words. Will replace them with mean vector\n",
            "Missing 39 words. Will replace them with mean vector\n",
            "Missing 36 words. Will replace them with mean vector\n",
            "Missing 33 words. Will replace them with mean vector\n",
            "Missing 30 words. Will replace them with mean vector\n",
            "Missing 27 words. Will replace them with mean vector\n",
            "Missing 24 words. Will replace them with mean vector\n",
            "Missing 21 words. Will replace them with mean vector\n",
            "Missing 18 words. Will replace them with mean vector\n",
            "Missing 15 words. Will replace them with mean vector\n",
            "Missing 12 words. Will replace them with mean vector\n",
            "Missing 9 words. Will replace them with mean vector\n",
            "Missing 6 words. Will replace them with mean vector\n",
            "Missing 3 words. Will replace them with mean vector\n",
            "Missing 57 words. Will replace them with mean vector\n"
          ],
          "name": "stderr"
        },
        {
          "output_type": "stream",
          "text": [
            "Processing plural-verbs with 5 pairs, 20 questions\n"
          ],
          "name": "stdout"
        },
        {
          "output_type": "stream",
          "text": [
            "Missing 54 words. Will replace them with mean vector\n",
            "Missing 51 words. Will replace them with mean vector\n",
            "Missing 48 words. Will replace them with mean vector\n",
            "Missing 45 words. Will replace them with mean vector\n",
            "Missing 42 words. Will replace them with mean vector\n",
            "Missing 39 words. Will replace them with mean vector\n",
            "Missing 36 words. Will replace them with mean vector\n",
            "Missing 33 words. Will replace them with mean vector\n",
            "Missing 30 words. Will replace them with mean vector\n",
            "Missing 27 words. Will replace them with mean vector\n",
            "Missing 24 words. Will replace them with mean vector\n",
            "Missing 21 words. Will replace them with mean vector\n",
            "Missing 18 words. Will replace them with mean vector\n",
            "Missing 15 words. Will replace them with mean vector\n",
            "Missing 12 words. Will replace them with mean vector\n",
            "Missing 9 words. Will replace them with mean vector\n",
            "Missing 6 words. Will replace them with mean vector\n",
            "Missing 3 words. Will replace them with mean vector\n",
            "Missing 58 words. Will replace them with mean vector\n"
          ],
          "name": "stderr"
        },
        {
          "output_type": "stream",
          "text": [
            "Processing MemberOf with 5 pairs, 20 questions\n"
          ],
          "name": "stdout"
        },
        {
          "output_type": "stream",
          "text": [
            "Missing 56 words. Will replace them with mean vector\n",
            "Missing 54 words. Will replace them with mean vector\n",
            "Missing 52 words. Will replace them with mean vector\n",
            "Missing 49 words. Will replace them with mean vector\n",
            "Missing 46 words. Will replace them with mean vector\n",
            "Missing 43 words. Will replace them with mean vector\n",
            "Missing 40 words. Will replace them with mean vector\n",
            "Missing 37 words. Will replace them with mean vector\n",
            "Missing 34 words. Will replace them with mean vector\n",
            "Missing 31 words. Will replace them with mean vector\n",
            "Missing 28 words. Will replace them with mean vector\n",
            "Missing 25 words. Will replace them with mean vector\n",
            "Missing 22 words. Will replace them with mean vector\n",
            "Missing 19 words. Will replace them with mean vector\n",
            "Missing 16 words. Will replace them with mean vector\n",
            "Missing 13 words. Will replace them with mean vector\n",
            "Missing 10 words. Will replace them with mean vector\n",
            "Missing 7 words. Will replace them with mean vector\n",
            "Missing 4 words. Will replace them with mean vector\n",
            "Missing 57 words. Will replace them with mean vector\n"
          ],
          "name": "stderr"
        },
        {
          "output_type": "stream",
          "text": [
            "Processing DerivedFrom with 5 pairs, 20 questions\n"
          ],
          "name": "stdout"
        },
        {
          "output_type": "stream",
          "text": [
            "Missing 54 words. Will replace them with mean vector\n",
            "Missing 51 words. Will replace them with mean vector\n",
            "Missing 48 words. Will replace them with mean vector\n",
            "Missing 45 words. Will replace them with mean vector\n",
            "Missing 42 words. Will replace them with mean vector\n",
            "Missing 39 words. Will replace them with mean vector\n",
            "Missing 36 words. Will replace them with mean vector\n",
            "Missing 33 words. Will replace them with mean vector\n",
            "Missing 30 words. Will replace them with mean vector\n",
            "Missing 27 words. Will replace them with mean vector\n",
            "Missing 24 words. Will replace them with mean vector\n",
            "Missing 21 words. Will replace them with mean vector\n",
            "Missing 18 words. Will replace them with mean vector\n",
            "Missing 15 words. Will replace them with mean vector\n",
            "Missing 12 words. Will replace them with mean vector\n",
            "Missing 9 words. Will replace them with mean vector\n",
            "Missing 6 words. Will replace them with mean vector\n",
            "Missing 3 words. Will replace them with mean vector\n",
            "Missing 57 words. Will replace them with mean vector\n"
          ],
          "name": "stderr"
        },
        {
          "output_type": "stream",
          "text": [
            "Processing Antonym with 5 pairs, 20 questions\n"
          ],
          "name": "stdout"
        },
        {
          "output_type": "stream",
          "text": [
            "Missing 54 words. Will replace them with mean vector\n",
            "Missing 51 words. Will replace them with mean vector\n",
            "Missing 48 words. Will replace them with mean vector\n",
            "Missing 46 words. Will replace them with mean vector\n",
            "Missing 44 words. Will replace them with mean vector\n",
            "Missing 42 words. Will replace them with mean vector\n",
            "Missing 40 words. Will replace them with mean vector\n",
            "Missing 37 words. Will replace them with mean vector\n",
            "Missing 34 words. Will replace them with mean vector\n",
            "Missing 31 words. Will replace them with mean vector\n",
            "Missing 28 words. Will replace them with mean vector\n",
            "Missing 25 words. Will replace them with mean vector\n",
            "Missing 22 words. Will replace them with mean vector\n",
            "Missing 19 words. Will replace them with mean vector\n",
            "Missing 16 words. Will replace them with mean vector\n",
            "Missing 13 words. Will replace them with mean vector\n",
            "Missing 10 words. Will replace them with mean vector\n",
            "Missing 7 words. Will replace them with mean vector\n",
            "Missing 4 words. Will replace them with mean vector\n",
            "Missing 57 words. Will replace them with mean vector\n"
          ],
          "name": "stderr"
        },
        {
          "output_type": "stream",
          "text": [
            "Processing SimilarTo with 5 pairs, 20 questions\n"
          ],
          "name": "stdout"
        },
        {
          "output_type": "stream",
          "text": [
            "Missing 54 words. Will replace them with mean vector\n",
            "Missing 51 words. Will replace them with mean vector\n",
            "Missing 48 words. Will replace them with mean vector\n",
            "Missing 45 words. Will replace them with mean vector\n",
            "Missing 42 words. Will replace them with mean vector\n",
            "Missing 39 words. Will replace them with mean vector\n",
            "Missing 36 words. Will replace them with mean vector\n",
            "Missing 33 words. Will replace them with mean vector\n",
            "Missing 30 words. Will replace them with mean vector\n",
            "Missing 27 words. Will replace them with mean vector\n",
            "Missing 24 words. Will replace them with mean vector\n",
            "Missing 21 words. Will replace them with mean vector\n",
            "Missing 18 words. Will replace them with mean vector\n",
            "Missing 15 words. Will replace them with mean vector\n",
            "Missing 12 words. Will replace them with mean vector\n",
            "Missing 9 words. Will replace them with mean vector\n",
            "Missing 6 words. Will replace them with mean vector\n",
            "Missing 3 words. Will replace them with mean vector\n",
            "Missing 57 words. Will replace them with mean vector\n"
          ],
          "name": "stderr"
        },
        {
          "output_type": "stream",
          "text": [
            "Processing Causes with 5 pairs, 20 questions\n"
          ],
          "name": "stdout"
        },
        {
          "output_type": "stream",
          "text": [
            "Missing 54 words. Will replace them with mean vector\n",
            "Missing 51 words. Will replace them with mean vector\n",
            "Missing 48 words. Will replace them with mean vector\n",
            "Missing 45 words. Will replace them with mean vector\n",
            "Missing 42 words. Will replace them with mean vector\n",
            "Missing 39 words. Will replace them with mean vector\n",
            "Missing 36 words. Will replace them with mean vector\n",
            "Missing 33 words. Will replace them with mean vector\n",
            "Missing 30 words. Will replace them with mean vector\n",
            "Missing 27 words. Will replace them with mean vector\n",
            "Missing 24 words. Will replace them with mean vector\n",
            "Missing 21 words. Will replace them with mean vector\n",
            "Missing 18 words. Will replace them with mean vector\n",
            "Missing 15 words. Will replace them with mean vector\n",
            "Missing 12 words. Will replace them with mean vector\n",
            "Missing 9 words. Will replace them with mean vector\n",
            "Missing 6 words. Will replace them with mean vector\n",
            "Missing 3 words. Will replace them with mean vector\n",
            "Missing 57 words. Will replace them with mean vector\n"
          ],
          "name": "stderr"
        },
        {
          "output_type": "stream",
          "text": [
            "Processing all-capital-cities with 5 pairs, 20 questions\n"
          ],
          "name": "stdout"
        },
        {
          "output_type": "stream",
          "text": [
            "Missing 54 words. Will replace them with mean vector\n",
            "Missing 51 words. Will replace them with mean vector\n",
            "Missing 48 words. Will replace them with mean vector\n",
            "Missing 45 words. Will replace them with mean vector\n",
            "Missing 42 words. Will replace them with mean vector\n",
            "Missing 39 words. Will replace them with mean vector\n",
            "Missing 36 words. Will replace them with mean vector\n",
            "Missing 33 words. Will replace them with mean vector\n",
            "Missing 30 words. Will replace them with mean vector\n",
            "Missing 27 words. Will replace them with mean vector\n",
            "Missing 24 words. Will replace them with mean vector\n",
            "Missing 21 words. Will replace them with mean vector\n",
            "Missing 18 words. Will replace them with mean vector\n",
            "Missing 15 words. Will replace them with mean vector\n",
            "Missing 12 words. Will replace them with mean vector\n",
            "Missing 9 words. Will replace them with mean vector\n",
            "Missing 6 words. Will replace them with mean vector\n",
            "Missing 3 words. Will replace them with mean vector\n",
            "Missing 57 words. Will replace them with mean vector\n"
          ],
          "name": "stderr"
        },
        {
          "output_type": "stream",
          "text": [
            "Processing man-woman with 5 pairs, 20 questions\n"
          ],
          "name": "stdout"
        },
        {
          "output_type": "stream",
          "text": [
            "Missing 54 words. Will replace them with mean vector\n",
            "Missing 51 words. Will replace them with mean vector\n",
            "Missing 48 words. Will replace them with mean vector\n",
            "Missing 45 words. Will replace them with mean vector\n",
            "Missing 42 words. Will replace them with mean vector\n",
            "Missing 39 words. Will replace them with mean vector\n",
            "Missing 36 words. Will replace them with mean vector\n",
            "Missing 33 words. Will replace them with mean vector\n",
            "Missing 30 words. Will replace them with mean vector\n",
            "Missing 27 words. Will replace them with mean vector\n",
            "Missing 24 words. Will replace them with mean vector\n",
            "Missing 21 words. Will replace them with mean vector\n",
            "Missing 18 words. Will replace them with mean vector\n",
            "Missing 15 words. Will replace them with mean vector\n",
            "Missing 12 words. Will replace them with mean vector\n",
            "Missing 9 words. Will replace them with mean vector\n",
            "Missing 6 words. Will replace them with mean vector\n",
            "Missing 3 words. Will replace them with mean vector\n"
          ],
          "name": "stderr"
        },
        {
          "output_type": "stream",
          "text": [
            "Processing RelatedTo with 5 pairs, 20 questions\n"
          ],
          "name": "stdout"
        },
        {
          "output_type": "stream",
          "text": [
            "Missing 57 words. Will replace them with mean vector\n",
            "Missing 54 words. Will replace them with mean vector\n",
            "Missing 51 words. Will replace them with mean vector\n",
            "Missing 48 words. Will replace them with mean vector\n",
            "Missing 45 words. Will replace them with mean vector\n",
            "Missing 42 words. Will replace them with mean vector\n",
            "Missing 39 words. Will replace them with mean vector\n",
            "Missing 36 words. Will replace them with mean vector\n",
            "Missing 33 words. Will replace them with mean vector\n",
            "Missing 30 words. Will replace them with mean vector\n",
            "Missing 27 words. Will replace them with mean vector\n",
            "Missing 24 words. Will replace them with mean vector\n",
            "Missing 21 words. Will replace them with mean vector\n",
            "Missing 18 words. Will replace them with mean vector\n",
            "Missing 15 words. Will replace them with mean vector\n",
            "Missing 12 words. Will replace them with mean vector\n",
            "Missing 9 words. Will replace them with mean vector\n",
            "Missing 6 words. Will replace them with mean vector\n",
            "Missing 3 words. Will replace them with mean vector\n",
            "Missing 57 words. Will replace them with mean vector\n"
          ],
          "name": "stderr"
        },
        {
          "output_type": "stream",
          "text": [
            "Processing adjective-to-adverb with 5 pairs, 20 questions\n"
          ],
          "name": "stdout"
        },
        {
          "output_type": "stream",
          "text": [
            "Missing 54 words. Will replace them with mean vector\n",
            "Missing 51 words. Will replace them with mean vector\n",
            "Missing 48 words. Will replace them with mean vector\n",
            "Missing 45 words. Will replace them with mean vector\n",
            "Missing 42 words. Will replace them with mean vector\n",
            "Missing 39 words. Will replace them with mean vector\n",
            "Missing 36 words. Will replace them with mean vector\n",
            "Missing 33 words. Will replace them with mean vector\n",
            "Missing 30 words. Will replace them with mean vector\n",
            "Missing 27 words. Will replace them with mean vector\n",
            "Missing 24 words. Will replace them with mean vector\n",
            "Missing 21 words. Will replace them with mean vector\n",
            "Missing 18 words. Will replace them with mean vector\n",
            "Missing 15 words. Will replace them with mean vector\n",
            "Missing 12 words. Will replace them with mean vector\n",
            "Missing 9 words. Will replace them with mean vector\n",
            "Missing 6 words. Will replace them with mean vector\n",
            "Missing 3 words. Will replace them with mean vector\n"
          ],
          "name": "stderr"
        },
        {
          "output_type": "stream",
          "text": [
            "Processing Attribute with 5 pairs, 20 questions\n"
          ],
          "name": "stdout"
        },
        {
          "output_type": "stream",
          "text": [
            "Missing 57 words. Will replace them with mean vector\n",
            "Missing 54 words. Will replace them with mean vector\n",
            "Missing 51 words. Will replace them with mean vector\n",
            "Missing 48 words. Will replace them with mean vector\n",
            "Missing 45 words. Will replace them with mean vector\n",
            "Missing 42 words. Will replace them with mean vector\n",
            "Missing 39 words. Will replace them with mean vector\n",
            "Missing 36 words. Will replace them with mean vector\n",
            "Missing 33 words. Will replace them with mean vector\n",
            "Missing 30 words. Will replace them with mean vector\n",
            "Missing 27 words. Will replace them with mean vector\n",
            "Missing 24 words. Will replace them with mean vector\n",
            "Missing 21 words. Will replace them with mean vector\n",
            "Missing 18 words. Will replace them with mean vector\n",
            "Missing 15 words. Will replace them with mean vector\n",
            "Missing 12 words. Will replace them with mean vector\n",
            "Missing 9 words. Will replace them with mean vector\n",
            "Missing 6 words. Will replace them with mean vector\n",
            "Missing 3 words. Will replace them with mean vector\n",
            "Missing 57 words. Will replace them with mean vector\n"
          ],
          "name": "stderr"
        },
        {
          "output_type": "stream",
          "text": [
            "Processing plural-nouns with 5 pairs, 20 questions\n"
          ],
          "name": "stdout"
        },
        {
          "output_type": "stream",
          "text": [
            "Missing 54 words. Will replace them with mean vector\n",
            "Missing 51 words. Will replace them with mean vector\n",
            "Missing 48 words. Will replace them with mean vector\n",
            "Missing 45 words. Will replace them with mean vector\n",
            "Missing 42 words. Will replace them with mean vector\n",
            "Missing 39 words. Will replace them with mean vector\n",
            "Missing 36 words. Will replace them with mean vector\n",
            "Missing 33 words. Will replace them with mean vector\n",
            "Missing 30 words. Will replace them with mean vector\n",
            "Missing 27 words. Will replace them with mean vector\n",
            "Missing 24 words. Will replace them with mean vector\n",
            "Missing 21 words. Will replace them with mean vector\n",
            "Missing 18 words. Will replace them with mean vector\n",
            "Missing 15 words. Will replace them with mean vector\n",
            "Missing 12 words. Will replace them with mean vector\n",
            "Missing 9 words. Will replace them with mean vector\n",
            "Missing 6 words. Will replace them with mean vector\n",
            "Missing 3 words. Will replace them with mean vector\n",
            "Missing 57 words. Will replace them with mean vector\n"
          ],
          "name": "stderr"
        },
        {
          "output_type": "stream",
          "text": [
            "Processing nationality-adjective with 5 pairs, 20 questions\n"
          ],
          "name": "stdout"
        },
        {
          "output_type": "stream",
          "text": [
            "Missing 54 words. Will replace them with mean vector\n",
            "Missing 51 words. Will replace them with mean vector\n",
            "Missing 48 words. Will replace them with mean vector\n",
            "Missing 45 words. Will replace them with mean vector\n",
            "Missing 42 words. Will replace them with mean vector\n",
            "Missing 39 words. Will replace them with mean vector\n",
            "Missing 36 words. Will replace them with mean vector\n",
            "Missing 33 words. Will replace them with mean vector\n",
            "Missing 30 words. Will replace them with mean vector\n",
            "Missing 27 words. Will replace them with mean vector\n",
            "Missing 24 words. Will replace them with mean vector\n",
            "Missing 21 words. Will replace them with mean vector\n",
            "Missing 18 words. Will replace them with mean vector\n",
            "Missing 15 words. Will replace them with mean vector\n",
            "Missing 12 words. Will replace them with mean vector\n",
            "Missing 9 words. Will replace them with mean vector\n",
            "Missing 6 words. Will replace them with mean vector\n",
            "Missing 3 words. Will replace them with mean vector\n"
          ],
          "name": "stderr"
        },
        {
          "output_type": "stream",
          "text": [
            "Processing city-in-state with 5 pairs, 20 questions\n"
          ],
          "name": "stdout"
        },
        {
          "output_type": "stream",
          "text": [
            "Missing 57 words. Will replace them with mean vector\n",
            "Missing 54 words. Will replace them with mean vector\n",
            "Missing 51 words. Will replace them with mean vector\n",
            "Missing 48 words. Will replace them with mean vector\n",
            "Missing 45 words. Will replace them with mean vector\n",
            "Missing 42 words. Will replace them with mean vector\n",
            "Missing 39 words. Will replace them with mean vector\n",
            "Missing 36 words. Will replace them with mean vector\n",
            "Missing 33 words. Will replace them with mean vector\n",
            "Missing 30 words. Will replace them with mean vector\n",
            "Missing 27 words. Will replace them with mean vector\n",
            "Missing 24 words. Will replace them with mean vector\n",
            "Missing 21 words. Will replace them with mean vector\n",
            "Missing 18 words. Will replace them with mean vector\n",
            "Missing 15 words. Will replace them with mean vector\n",
            "Missing 12 words. Will replace them with mean vector\n",
            "Missing 9 words. Will replace them with mean vector\n",
            "Missing 6 words. Will replace them with mean vector\n",
            "Missing 3 words. Will replace them with mean vector\n",
            "Missing 57 words. Will replace them with mean vector\n"
          ],
          "name": "stderr"
        },
        {
          "output_type": "stream",
          "text": [
            "Processing IsA with 5 pairs, 20 questions\n"
          ],
          "name": "stdout"
        },
        {
          "output_type": "stream",
          "text": [
            "Missing 54 words. Will replace them with mean vector\n",
            "Missing 51 words. Will replace them with mean vector\n",
            "Missing 48 words. Will replace them with mean vector\n",
            "Missing 45 words. Will replace them with mean vector\n",
            "Missing 42 words. Will replace them with mean vector\n",
            "Missing 39 words. Will replace them with mean vector\n",
            "Missing 36 words. Will replace them with mean vector\n",
            "Missing 33 words. Will replace them with mean vector\n",
            "Missing 30 words. Will replace them with mean vector\n",
            "Missing 27 words. Will replace them with mean vector\n",
            "Missing 24 words. Will replace them with mean vector\n",
            "Missing 21 words. Will replace them with mean vector\n",
            "Missing 18 words. Will replace them with mean vector\n",
            "Missing 15 words. Will replace them with mean vector\n",
            "Missing 12 words. Will replace them with mean vector\n",
            "Missing 9 words. Will replace them with mean vector\n",
            "Missing 6 words. Will replace them with mean vector\n",
            "Missing 3 words. Will replace them with mean vector\n"
          ],
          "name": "stderr"
        },
        {
          "output_type": "stream",
          "text": [
            "                       accuracy  correct  count\n",
            "comparative            0.400000      8.0     20\n",
            "InstanceOf             0.000000      0.0     20\n",
            "present-participle     0.550000     11.0     20\n",
            "currency               0.200000      4.0     20\n",
            "MadeOf                 0.000000      0.0     20\n",
            "superlative            0.750000     15.0     20\n",
            "HasContext             0.000000      0.0     20\n",
            "Entails                0.000000      0.0     20\n",
            "past-tense             0.800000     16.0     20\n",
            "PartOf                 0.150000      3.0     20\n",
            "plural-verbs           0.800000     16.0     20\n",
            "MemberOf               0.000000      0.0     20\n",
            "DerivedFrom            0.050000      1.0     20\n",
            "Antonym                0.050000      1.0     20\n",
            "SimilarTo              0.000000      0.0     20\n",
            "Causes                 0.000000      0.0     20\n",
            "all-capital-cities     0.950000     19.0     20\n",
            "man-woman              0.300000      6.0     20\n",
            "RelatedTo              0.000000      0.0     20\n",
            "adjective-to-adverb    0.350000      7.0     20\n",
            "Attribute              0.100000      2.0     20\n",
            "plural-nouns           0.800000     16.0     20\n",
            "nationality-adjective  1.000000     20.0     20\n",
            "city-in-state          0.000000      0.0     20\n",
            "IsA                    0.000000      0.0     20\n",
            "wikipedia              0.026923      7.0    260\n",
            "all                    0.290000    145.0    500\n",
            "wordnet                0.575000    138.0    240\n"
          ],
          "name": "stdout"
        }
      ]
    },
    {
      "cell_type": "code",
      "metadata": {
        "id": "J8AN_lLPAKCf",
        "colab_type": "code",
        "outputId": "12a948f1-6b5b-4eff-a896-954d8dbf0cc3",
        "colab": {
          "base_uri": "https://localhost:8080/",
          "height": 637
        }
      },
      "source": [
        "results = evaluateOnAll(w)\n",
        "print(results)"
      ],
      "execution_count": 0,
      "outputs": [
        {
          "output_type": "stream",
          "text": [
            "/content/drive/My Drive/Term5/NLP/Dataset/web/evaluate.py:336: FutureWarning: arrays to stack must be passed as a \"sequence\" type such as list or tuple. Support for non-sequence iterables such as generators is deprecated as of NumPy 1.16 and will raise an error in the future.\n",
            "  A = np.vstack(w.get(word, mean_vector) for word in X[:, 0])\n",
            "/content/drive/My Drive/Term5/NLP/Dataset/web/evaluate.py:337: FutureWarning: arrays to stack must be passed as a \"sequence\" type such as list or tuple. Support for non-sequence iterables such as generators is deprecated as of NumPy 1.16 and will raise an error in the future.\n",
            "  B = np.vstack(w.get(word, mean_vector) for word in X[:, 1])\n",
            "Missing 24 words. Will replace them with mean vector\n"
          ],
          "name": "stderr"
        },
        {
          "output_type": "stream",
          "text": [
            "Spearman correlation of scores on MTurk 0.6331819978847202\n",
            "Spearman correlation of scores on MEN 0.7374646969805517\n"
          ],
          "name": "stdout"
        },
        {
          "output_type": "stream",
          "text": [
            "Missing 260 words. Will replace them with mean vector\n"
          ],
          "name": "stderr"
        },
        {
          "output_type": "stream",
          "text": [
            "Spearman correlation of scores on WS353 0.5433255613304138\n",
            "Spearman correlation of scores on RubensteinAndGoodenough 0.7695249788612132\n"
          ],
          "name": "stdout"
        },
        {
          "output_type": "stream",
          "text": [
            "Missing 12079 words. Will replace them with mean vector\n"
          ],
          "name": "stderr"
        },
        {
          "output_type": "stream",
          "text": [
            "Spearman correlation of scores on Rare Words 0.36698186025023044\n",
            "Spearman correlation of scores on SIMLEX999 0.37050035710869067\n",
            "Spearman correlation of scores on TR9856 0.09671673395068581\n",
            "Calculating analogy benchmarks\n"
          ],
          "name": "stdout"
        },
        {
          "output_type": "stream",
          "text": [
            "/content/drive/My Drive/Term5/NLP/Dataset/web/analogy.py:105: FutureWarning: arrays to stack must be passed as a \"sequence\" type such as list or tuple. Support for non-sequence iterables such as generators is deprecated as of NumPy 1.16 and will raise an error in the future.\n",
            "  A, B, C = np.vstack(w.get(word, mean_vector) for word in X_b[:, 0]), \\\n",
            "/content/drive/My Drive/Term5/NLP/Dataset/web/analogy.py:106: FutureWarning: arrays to stack must be passed as a \"sequence\" type such as list or tuple. Support for non-sequence iterables such as generators is deprecated as of NumPy 1.16 and will raise an error in the future.\n",
            "  np.vstack(w.get(word, mean_vector) for word in X_b[:, 1]), \\\n",
            "/content/drive/My Drive/Term5/NLP/Dataset/web/analogy.py:107: FutureWarning: arrays to stack must be passed as a \"sequence\" type such as list or tuple. Support for non-sequence iterables such as generators is deprecated as of NumPy 1.16 and will raise an error in the future.\n",
            "  np.vstack(w.get(word, mean_vector) for word in X_b[:, 2])\n"
          ],
          "name": "stderr"
        },
        {
          "output_type": "stream",
          "text": [
            "Analogy prediction accuracy on Google 0.7173557101923864\n"
          ],
          "name": "stdout"
        },
        {
          "output_type": "stream",
          "text": [
            "Missing 164 words. Will replace them with mean vector\n"
          ],
          "name": "stderr"
        },
        {
          "output_type": "stream",
          "text": [
            "Analogy prediction accuracy on MSR 0.61425\n"
          ],
          "name": "stdout"
        },
        {
          "output_type": "stream",
          "text": [
            "/usr/local/lib/python3.6/dist-packages/ipykernel_launcher.py:9: FutureWarning: arrays to stack must be passed as a \"sequence\" type such as list or tuple. Support for non-sequence iterables such as generators is deprecated as of NumPy 1.16 and will raise an error in the future.\n",
            "  if __name__ == '__main__':\n",
            "/usr/local/lib/python3.6/dist-packages/ipykernel_launcher.py:10: FutureWarning: arrays to stack must be passed as a \"sequence\" type such as list or tuple. Support for non-sequence iterables such as generators is deprecated as of NumPy 1.16 and will raise an error in the future.\n",
            "  # Remove the CWD from sys.path while we load stuff.\n",
            "/usr/local/lib/python3.6/dist-packages/ipykernel_launcher.py:12: FutureWarning: arrays to stack must be passed as a \"sequence\" type such as list or tuple. Support for non-sequence iterables such as generators is deprecated as of NumPy 1.16 and will raise an error in the future.\n",
            "  if sys.path[0] == '':\n"
          ],
          "name": "stderr"
        },
        {
          "output_type": "stream",
          "text": [
            "Analogy prediction accuracy on SemEval2012 0.1639634887836932\n",
            "      MTurk       MEN     WS353  ...    Google      MSR  SemEval2012_2\n",
            "0  0.633182  0.737465  0.543326  ...  0.717356  0.61425       0.163963\n",
            "\n",
            "[1 rows x 10 columns]\n"
          ],
          "name": "stdout"
        }
      ]
    },
    {
      "cell_type": "code",
      "metadata": {
        "id": "YK0Y7X_AM9sI",
        "colab_type": "code",
        "outputId": "a3ff513d-b538-461e-88e7-a3c3b5d40f67",
        "colab": {
          "base_uri": "https://localhost:8080/",
          "height": 274
        }
      },
      "source": [
        "data = data_google\n",
        "calAnswersOnSampleData(data, True, w)"
      ],
      "execution_count": 0,
      "outputs": [
        {
          "output_type": "stream",
          "text": [
            "Question: bangkok is to thailand as havana is to ?\n",
            "Answer: cuba\n",
            "Predicted: cuba\n",
            "Question: baku is to azerbaijan as dushanbe is to ?\n",
            "Answer: tajikistan\n",
            "Predicted: tajikistan\n",
            "Question: rome is to italy as windhoek is to ?\n",
            "Answer: namibia\n",
            "Predicted: namibia\n",
            "Question: philadelphia is to pennsylvania as tampa is to ?\n",
            "Answer: florida\n",
            "Predicted: michigan\n",
            "Question: wichita is to kansas as shreveport is to ?\n",
            "Answer: louisiana\n",
            "Predicted: louisiana\n"
          ],
          "name": "stdout"
        }
      ]
    },
    {
      "cell_type": "code",
      "metadata": {
        "id": "WuCWDH7foSMq",
        "colab_type": "code",
        "outputId": "1dead36c-08d2-4cfb-830c-7a9960b758af",
        "colab": {
          "base_uri": "https://localhost:8080/",
          "height": 274
        }
      },
      "source": [
        "data = data_msr\n",
        "calAnswersOnSampleData(data, True, w)"
      ],
      "execution_count": 0,
      "outputs": [
        {
          "output_type": "stream",
          "text": [
            "Question: high is to highest as strict is to ?\n",
            "Answer: strictest\n",
            "Predicted: stringent\n",
            "Question: simplest is to simpler as slimmest is to ?\n",
            "Answer: slimmer\n",
            "Predicted: slimmer\n",
            "Question: city is to citys as bank is to ?\n",
            "Answer: banks\n",
            "Predicted: rastra\n",
            "Question: brings is to brought as believes is to ?\n",
            "Answer: believed\n",
            "Predicted: believed\n",
            "Question: recognize is to recognizes as keep is to ?\n",
            "Answer: keeps\n",
            "Predicted: keeps\n"
          ],
          "name": "stdout"
        }
      ]
    },
    {
      "cell_type": "markdown",
      "metadata": {
        "id": "mdQ9pusXIQav",
        "colab_type": "text"
      },
      "source": [
        "##### WE:2"
      ]
    },
    {
      "cell_type": "code",
      "metadata": {
        "id": "O_TwPzrKRfyT",
        "colab_type": "code",
        "outputId": "625998ef-8a94-4a7b-940b-2778c8165b86",
        "colab": {
          "base_uri": "https://localhost:8080/",
          "height": 1000
        }
      },
      "source": [
        "w = w_gcs_1\n",
        "results_wordrep = calAnswersOnWordRep(data_wordrep, w, max_pairs=5)\n",
        "print(results_wordrep)"
      ],
      "execution_count": 0,
      "outputs": [
        {
          "output_type": "stream",
          "text": [
            "Missing 57 words. Will replace them with mean vector\n"
          ],
          "name": "stderr"
        },
        {
          "output_type": "stream",
          "text": [
            "Processing comparative with 5 pairs, 20 questions\n"
          ],
          "name": "stdout"
        },
        {
          "output_type": "stream",
          "text": [
            "/content/drive/My Drive/Term5/NLP/Dataset/web/analogy.py:101: RuntimeWarning: invalid value encountered in double_scalars\n",
            "  if id_batch % np.floor(len(X) / (10. * self.batch_size)) == 0:\n",
            "/content/drive/My Drive/Term5/NLP/Dataset/web/analogy.py:105: FutureWarning: arrays to stack must be passed as a \"sequence\" type such as list or tuple. Support for non-sequence iterables such as generators is deprecated as of NumPy 1.16 and will raise an error in the future.\n",
            "  A, B, C = np.vstack(w.get(word, mean_vector) for word in X_b[:, 0]), \\\n",
            "/content/drive/My Drive/Term5/NLP/Dataset/web/analogy.py:106: FutureWarning: arrays to stack must be passed as a \"sequence\" type such as list or tuple. Support for non-sequence iterables such as generators is deprecated as of NumPy 1.16 and will raise an error in the future.\n",
            "  np.vstack(w.get(word, mean_vector) for word in X_b[:, 1]), \\\n",
            "/content/drive/My Drive/Term5/NLP/Dataset/web/analogy.py:107: FutureWarning: arrays to stack must be passed as a \"sequence\" type such as list or tuple. Support for non-sequence iterables such as generators is deprecated as of NumPy 1.16 and will raise an error in the future.\n",
            "  np.vstack(w.get(word, mean_vector) for word in X_b[:, 2])\n",
            "Missing 54 words. Will replace them with mean vector\n",
            "Missing 51 words. Will replace them with mean vector\n",
            "Missing 48 words. Will replace them with mean vector\n",
            "Missing 45 words. Will replace them with mean vector\n",
            "Missing 42 words. Will replace them with mean vector\n",
            "Missing 39 words. Will replace them with mean vector\n",
            "Missing 36 words. Will replace them with mean vector\n",
            "Missing 33 words. Will replace them with mean vector\n",
            "Missing 30 words. Will replace them with mean vector\n",
            "Missing 27 words. Will replace them with mean vector\n",
            "Missing 24 words. Will replace them with mean vector\n",
            "Missing 21 words. Will replace them with mean vector\n",
            "Missing 18 words. Will replace them with mean vector\n",
            "Missing 15 words. Will replace them with mean vector\n",
            "Missing 12 words. Will replace them with mean vector\n",
            "Missing 9 words. Will replace them with mean vector\n",
            "Missing 6 words. Will replace them with mean vector\n",
            "Missing 3 words. Will replace them with mean vector\n",
            "Missing 57 words. Will replace them with mean vector\n"
          ],
          "name": "stderr"
        },
        {
          "output_type": "stream",
          "text": [
            "Processing InstanceOf with 5 pairs, 20 questions\n"
          ],
          "name": "stdout"
        },
        {
          "output_type": "stream",
          "text": [
            "Missing 54 words. Will replace them with mean vector\n",
            "Missing 51 words. Will replace them with mean vector\n",
            "Missing 48 words. Will replace them with mean vector\n",
            "Missing 45 words. Will replace them with mean vector\n",
            "Missing 42 words. Will replace them with mean vector\n",
            "Missing 39 words. Will replace them with mean vector\n",
            "Missing 36 words. Will replace them with mean vector\n",
            "Missing 33 words. Will replace them with mean vector\n",
            "Missing 30 words. Will replace them with mean vector\n",
            "Missing 27 words. Will replace them with mean vector\n",
            "Missing 24 words. Will replace them with mean vector\n",
            "Missing 21 words. Will replace them with mean vector\n",
            "Missing 18 words. Will replace them with mean vector\n",
            "Missing 15 words. Will replace them with mean vector\n",
            "Missing 12 words. Will replace them with mean vector\n",
            "Missing 9 words. Will replace them with mean vector\n",
            "Missing 6 words. Will replace them with mean vector\n",
            "Missing 3 words. Will replace them with mean vector\n",
            "Missing 58 words. Will replace them with mean vector\n"
          ],
          "name": "stderr"
        },
        {
          "output_type": "stream",
          "text": [
            "Processing present-participle with 5 pairs, 20 questions\n"
          ],
          "name": "stdout"
        },
        {
          "output_type": "stream",
          "text": [
            "Missing 56 words. Will replace them with mean vector\n",
            "Missing 54 words. Will replace them with mean vector\n",
            "Missing 52 words. Will replace them with mean vector\n",
            "Missing 49 words. Will replace them with mean vector\n",
            "Missing 46 words. Will replace them with mean vector\n",
            "Missing 43 words. Will replace them with mean vector\n",
            "Missing 40 words. Will replace them with mean vector\n",
            "Missing 38 words. Will replace them with mean vector\n",
            "Missing 36 words. Will replace them with mean vector\n",
            "Missing 34 words. Will replace them with mean vector\n",
            "Missing 32 words. Will replace them with mean vector\n",
            "Missing 30 words. Will replace them with mean vector\n",
            "Missing 28 words. Will replace them with mean vector\n",
            "Missing 26 words. Will replace them with mean vector\n",
            "Missing 24 words. Will replace them with mean vector\n",
            "Missing 22 words. Will replace them with mean vector\n",
            "Missing 20 words. Will replace them with mean vector\n",
            "Missing 18 words. Will replace them with mean vector\n",
            "Missing 16 words. Will replace them with mean vector\n",
            "Missing 57 words. Will replace them with mean vector\n"
          ],
          "name": "stderr"
        },
        {
          "output_type": "stream",
          "text": [
            "Processing currency with 5 pairs, 20 questions\n"
          ],
          "name": "stdout"
        },
        {
          "output_type": "stream",
          "text": [
            "Missing 54 words. Will replace them with mean vector\n",
            "Missing 51 words. Will replace them with mean vector\n",
            "Missing 48 words. Will replace them with mean vector\n",
            "Missing 45 words. Will replace them with mean vector\n",
            "Missing 42 words. Will replace them with mean vector\n",
            "Missing 39 words. Will replace them with mean vector\n",
            "Missing 36 words. Will replace them with mean vector\n",
            "Missing 33 words. Will replace them with mean vector\n",
            "Missing 30 words. Will replace them with mean vector\n",
            "Missing 27 words. Will replace them with mean vector\n",
            "Missing 24 words. Will replace them with mean vector\n",
            "Missing 21 words. Will replace them with mean vector\n",
            "Missing 18 words. Will replace them with mean vector\n",
            "Missing 15 words. Will replace them with mean vector\n",
            "Missing 12 words. Will replace them with mean vector\n",
            "Missing 9 words. Will replace them with mean vector\n",
            "Missing 6 words. Will replace them with mean vector\n",
            "Missing 3 words. Will replace them with mean vector\n",
            "Missing 57 words. Will replace them with mean vector\n"
          ],
          "name": "stderr"
        },
        {
          "output_type": "stream",
          "text": [
            "Processing MadeOf with 5 pairs, 20 questions\n"
          ],
          "name": "stdout"
        },
        {
          "output_type": "stream",
          "text": [
            "Missing 54 words. Will replace them with mean vector\n",
            "Missing 51 words. Will replace them with mean vector\n",
            "Missing 48 words. Will replace them with mean vector\n",
            "Missing 45 words. Will replace them with mean vector\n",
            "Missing 42 words. Will replace them with mean vector\n",
            "Missing 39 words. Will replace them with mean vector\n",
            "Missing 36 words. Will replace them with mean vector\n",
            "Missing 34 words. Will replace them with mean vector\n",
            "Missing 32 words. Will replace them with mean vector\n",
            "Missing 30 words. Will replace them with mean vector\n",
            "Missing 28 words. Will replace them with mean vector\n",
            "Missing 25 words. Will replace them with mean vector\n",
            "Missing 22 words. Will replace them with mean vector\n",
            "Missing 19 words. Will replace them with mean vector\n",
            "Missing 16 words. Will replace them with mean vector\n",
            "Missing 13 words. Will replace them with mean vector\n",
            "Missing 10 words. Will replace them with mean vector\n",
            "Missing 7 words. Will replace them with mean vector\n",
            "Missing 4 words. Will replace them with mean vector\n",
            "Missing 57 words. Will replace them with mean vector\n"
          ],
          "name": "stderr"
        },
        {
          "output_type": "stream",
          "text": [
            "Processing superlative with 5 pairs, 20 questions\n"
          ],
          "name": "stdout"
        },
        {
          "output_type": "stream",
          "text": [
            "Missing 54 words. Will replace them with mean vector\n",
            "Missing 51 words. Will replace them with mean vector\n",
            "Missing 48 words. Will replace them with mean vector\n",
            "Missing 45 words. Will replace them with mean vector\n",
            "Missing 42 words. Will replace them with mean vector\n",
            "Missing 39 words. Will replace them with mean vector\n",
            "Missing 36 words. Will replace them with mean vector\n",
            "Missing 33 words. Will replace them with mean vector\n",
            "Missing 30 words. Will replace them with mean vector\n",
            "Missing 27 words. Will replace them with mean vector\n",
            "Missing 24 words. Will replace them with mean vector\n",
            "Missing 21 words. Will replace them with mean vector\n",
            "Missing 18 words. Will replace them with mean vector\n",
            "Missing 15 words. Will replace them with mean vector\n",
            "Missing 12 words. Will replace them with mean vector\n",
            "Missing 9 words. Will replace them with mean vector\n",
            "Missing 6 words. Will replace them with mean vector\n",
            "Missing 3 words. Will replace them with mean vector\n",
            "Missing 57 words. Will replace them with mean vector\n"
          ],
          "name": "stderr"
        },
        {
          "output_type": "stream",
          "text": [
            "Processing HasContext with 5 pairs, 20 questions\n"
          ],
          "name": "stdout"
        },
        {
          "output_type": "stream",
          "text": [
            "Missing 54 words. Will replace them with mean vector\n",
            "Missing 51 words. Will replace them with mean vector\n",
            "Missing 48 words. Will replace them with mean vector\n",
            "Missing 45 words. Will replace them with mean vector\n",
            "Missing 42 words. Will replace them with mean vector\n",
            "Missing 39 words. Will replace them with mean vector\n",
            "Missing 36 words. Will replace them with mean vector\n",
            "Missing 33 words. Will replace them with mean vector\n",
            "Missing 30 words. Will replace them with mean vector\n",
            "Missing 27 words. Will replace them with mean vector\n",
            "Missing 24 words. Will replace them with mean vector\n",
            "Missing 21 words. Will replace them with mean vector\n",
            "Missing 18 words. Will replace them with mean vector\n",
            "Missing 15 words. Will replace them with mean vector\n",
            "Missing 12 words. Will replace them with mean vector\n",
            "Missing 9 words. Will replace them with mean vector\n",
            "Missing 6 words. Will replace them with mean vector\n",
            "Missing 3 words. Will replace them with mean vector\n",
            "Missing 57 words. Will replace them with mean vector\n"
          ],
          "name": "stderr"
        },
        {
          "output_type": "stream",
          "text": [
            "Processing Entails with 5 pairs, 20 questions\n"
          ],
          "name": "stdout"
        },
        {
          "output_type": "stream",
          "text": [
            "Missing 54 words. Will replace them with mean vector\n",
            "Missing 51 words. Will replace them with mean vector\n",
            "Missing 48 words. Will replace them with mean vector\n",
            "Missing 45 words. Will replace them with mean vector\n",
            "Missing 42 words. Will replace them with mean vector\n",
            "Missing 39 words. Will replace them with mean vector\n",
            "Missing 36 words. Will replace them with mean vector\n",
            "Missing 33 words. Will replace them with mean vector\n",
            "Missing 30 words. Will replace them with mean vector\n",
            "Missing 27 words. Will replace them with mean vector\n",
            "Missing 24 words. Will replace them with mean vector\n",
            "Missing 21 words. Will replace them with mean vector\n",
            "Missing 18 words. Will replace them with mean vector\n",
            "Missing 15 words. Will replace them with mean vector\n",
            "Missing 12 words. Will replace them with mean vector\n",
            "Missing 9 words. Will replace them with mean vector\n",
            "Missing 6 words. Will replace them with mean vector\n",
            "Missing 3 words. Will replace them with mean vector\n",
            "Missing 60 words. Will replace them with mean vector\n"
          ],
          "name": "stderr"
        },
        {
          "output_type": "stream",
          "text": [
            "Processing past-tense with 5 pairs, 20 questions\n"
          ],
          "name": "stdout"
        },
        {
          "output_type": "stream",
          "text": [
            "Missing 60 words. Will replace them with mean vector\n",
            "Missing 60 words. Will replace them with mean vector\n",
            "Missing 59 words. Will replace them with mean vector\n",
            "Missing 59 words. Will replace them with mean vector\n",
            "Missing 59 words. Will replace them with mean vector\n",
            "Missing 59 words. Will replace them with mean vector\n",
            "Missing 58 words. Will replace them with mean vector\n",
            "Missing 57 words. Will replace them with mean vector\n",
            "Missing 56 words. Will replace them with mean vector\n",
            "Missing 55 words. Will replace them with mean vector\n",
            "Missing 53 words. Will replace them with mean vector\n",
            "Missing 53 words. Will replace them with mean vector\n",
            "Missing 53 words. Will replace them with mean vector\n",
            "Missing 53 words. Will replace them with mean vector\n",
            "Missing 52 words. Will replace them with mean vector\n",
            "Missing 50 words. Will replace them with mean vector\n",
            "Missing 48 words. Will replace them with mean vector\n",
            "Missing 46 words. Will replace them with mean vector\n",
            "Missing 44 words. Will replace them with mean vector\n",
            "Missing 57 words. Will replace them with mean vector\n"
          ],
          "name": "stderr"
        },
        {
          "output_type": "stream",
          "text": [
            "Processing PartOf with 5 pairs, 20 questions\n"
          ],
          "name": "stdout"
        },
        {
          "output_type": "stream",
          "text": [
            "Missing 54 words. Will replace them with mean vector\n",
            "Missing 51 words. Will replace them with mean vector\n",
            "Missing 48 words. Will replace them with mean vector\n",
            "Missing 45 words. Will replace them with mean vector\n",
            "Missing 42 words. Will replace them with mean vector\n",
            "Missing 39 words. Will replace them with mean vector\n",
            "Missing 36 words. Will replace them with mean vector\n",
            "Missing 33 words. Will replace them with mean vector\n",
            "Missing 30 words. Will replace them with mean vector\n",
            "Missing 27 words. Will replace them with mean vector\n",
            "Missing 24 words. Will replace them with mean vector\n",
            "Missing 21 words. Will replace them with mean vector\n",
            "Missing 18 words. Will replace them with mean vector\n",
            "Missing 15 words. Will replace them with mean vector\n",
            "Missing 12 words. Will replace them with mean vector\n",
            "Missing 9 words. Will replace them with mean vector\n",
            "Missing 6 words. Will replace them with mean vector\n",
            "Missing 3 words. Will replace them with mean vector\n",
            "Missing 57 words. Will replace them with mean vector\n"
          ],
          "name": "stderr"
        },
        {
          "output_type": "stream",
          "text": [
            "Processing plural-verbs with 5 pairs, 20 questions\n"
          ],
          "name": "stdout"
        },
        {
          "output_type": "stream",
          "text": [
            "Missing 54 words. Will replace them with mean vector\n",
            "Missing 51 words. Will replace them with mean vector\n",
            "Missing 48 words. Will replace them with mean vector\n",
            "Missing 46 words. Will replace them with mean vector\n",
            "Missing 44 words. Will replace them with mean vector\n",
            "Missing 42 words. Will replace them with mean vector\n",
            "Missing 40 words. Will replace them with mean vector\n",
            "Missing 38 words. Will replace them with mean vector\n",
            "Missing 36 words. Will replace them with mean vector\n",
            "Missing 34 words. Will replace them with mean vector\n",
            "Missing 32 words. Will replace them with mean vector\n",
            "Missing 30 words. Will replace them with mean vector\n",
            "Missing 28 words. Will replace them with mean vector\n",
            "Missing 26 words. Will replace them with mean vector\n",
            "Missing 24 words. Will replace them with mean vector\n",
            "Missing 21 words. Will replace them with mean vector\n",
            "Missing 18 words. Will replace them with mean vector\n",
            "Missing 15 words. Will replace them with mean vector\n",
            "Missing 12 words. Will replace them with mean vector\n",
            "Missing 58 words. Will replace them with mean vector\n"
          ],
          "name": "stderr"
        },
        {
          "output_type": "stream",
          "text": [
            "Processing MemberOf with 5 pairs, 20 questions\n"
          ],
          "name": "stdout"
        },
        {
          "output_type": "stream",
          "text": [
            "Missing 56 words. Will replace them with mean vector\n",
            "Missing 54 words. Will replace them with mean vector\n",
            "Missing 52 words. Will replace them with mean vector\n",
            "Missing 50 words. Will replace them with mean vector\n",
            "Missing 48 words. Will replace them with mean vector\n",
            "Missing 46 words. Will replace them with mean vector\n",
            "Missing 44 words. Will replace them with mean vector\n",
            "Missing 42 words. Will replace them with mean vector\n",
            "Missing 40 words. Will replace them with mean vector\n",
            "Missing 38 words. Will replace them with mean vector\n",
            "Missing 36 words. Will replace them with mean vector\n",
            "Missing 33 words. Will replace them with mean vector\n",
            "Missing 30 words. Will replace them with mean vector\n",
            "Missing 27 words. Will replace them with mean vector\n",
            "Missing 24 words. Will replace them with mean vector\n",
            "Missing 22 words. Will replace them with mean vector\n",
            "Missing 20 words. Will replace them with mean vector\n",
            "Missing 18 words. Will replace them with mean vector\n",
            "Missing 16 words. Will replace them with mean vector\n",
            "Missing 57 words. Will replace them with mean vector\n"
          ],
          "name": "stderr"
        },
        {
          "output_type": "stream",
          "text": [
            "Processing DerivedFrom with 5 pairs, 20 questions\n"
          ],
          "name": "stdout"
        },
        {
          "output_type": "stream",
          "text": [
            "Missing 54 words. Will replace them with mean vector\n",
            "Missing 51 words. Will replace them with mean vector\n",
            "Missing 48 words. Will replace them with mean vector\n",
            "Missing 45 words. Will replace them with mean vector\n",
            "Missing 42 words. Will replace them with mean vector\n",
            "Missing 39 words. Will replace them with mean vector\n",
            "Missing 36 words. Will replace them with mean vector\n",
            "Missing 33 words. Will replace them with mean vector\n",
            "Missing 30 words. Will replace them with mean vector\n",
            "Missing 27 words. Will replace them with mean vector\n",
            "Missing 24 words. Will replace them with mean vector\n",
            "Missing 21 words. Will replace them with mean vector\n",
            "Missing 18 words. Will replace them with mean vector\n",
            "Missing 15 words. Will replace them with mean vector\n",
            "Missing 12 words. Will replace them with mean vector\n",
            "Missing 9 words. Will replace them with mean vector\n",
            "Missing 6 words. Will replace them with mean vector\n",
            "Missing 3 words. Will replace them with mean vector\n",
            "Missing 57 words. Will replace them with mean vector\n"
          ],
          "name": "stderr"
        },
        {
          "output_type": "stream",
          "text": [
            "Processing Antonym with 5 pairs, 20 questions\n"
          ],
          "name": "stdout"
        },
        {
          "output_type": "stream",
          "text": [
            "Missing 54 words. Will replace them with mean vector\n",
            "Missing 51 words. Will replace them with mean vector\n",
            "Missing 48 words. Will replace them with mean vector\n",
            "Missing 46 words. Will replace them with mean vector\n",
            "Missing 44 words. Will replace them with mean vector\n",
            "Missing 42 words. Will replace them with mean vector\n",
            "Missing 40 words. Will replace them with mean vector\n",
            "Missing 38 words. Will replace them with mean vector\n",
            "Missing 36 words. Will replace them with mean vector\n",
            "Missing 34 words. Will replace them with mean vector\n",
            "Missing 32 words. Will replace them with mean vector\n",
            "Missing 29 words. Will replace them with mean vector\n",
            "Missing 26 words. Will replace them with mean vector\n",
            "Missing 23 words. Will replace them with mean vector\n",
            "Missing 20 words. Will replace them with mean vector\n",
            "Missing 17 words. Will replace them with mean vector\n",
            "Missing 14 words. Will replace them with mean vector\n",
            "Missing 11 words. Will replace them with mean vector\n",
            "Missing 8 words. Will replace them with mean vector\n",
            "Missing 57 words. Will replace them with mean vector\n"
          ],
          "name": "stderr"
        },
        {
          "output_type": "stream",
          "text": [
            "Processing SimilarTo with 5 pairs, 20 questions\n"
          ],
          "name": "stdout"
        },
        {
          "output_type": "stream",
          "text": [
            "Missing 54 words. Will replace them with mean vector\n",
            "Missing 51 words. Will replace them with mean vector\n",
            "Missing 48 words. Will replace them with mean vector\n",
            "Missing 45 words. Will replace them with mean vector\n",
            "Missing 42 words. Will replace them with mean vector\n",
            "Missing 39 words. Will replace them with mean vector\n",
            "Missing 36 words. Will replace them with mean vector\n",
            "Missing 33 words. Will replace them with mean vector\n",
            "Missing 30 words. Will replace them with mean vector\n",
            "Missing 27 words. Will replace them with mean vector\n",
            "Missing 24 words. Will replace them with mean vector\n",
            "Missing 22 words. Will replace them with mean vector\n",
            "Missing 20 words. Will replace them with mean vector\n",
            "Missing 18 words. Will replace them with mean vector\n",
            "Missing 16 words. Will replace them with mean vector\n",
            "Missing 14 words. Will replace them with mean vector\n",
            "Missing 12 words. Will replace them with mean vector\n",
            "Missing 10 words. Will replace them with mean vector\n",
            "Missing 8 words. Will replace them with mean vector\n",
            "Missing 57 words. Will replace them with mean vector\n"
          ],
          "name": "stderr"
        },
        {
          "output_type": "stream",
          "text": [
            "Processing Causes with 5 pairs, 20 questions\n"
          ],
          "name": "stdout"
        },
        {
          "output_type": "stream",
          "text": [
            "Missing 54 words. Will replace them with mean vector\n",
            "Missing 51 words. Will replace them with mean vector\n",
            "Missing 48 words. Will replace them with mean vector\n",
            "Missing 45 words. Will replace them with mean vector\n",
            "Missing 42 words. Will replace them with mean vector\n",
            "Missing 39 words. Will replace them with mean vector\n",
            "Missing 36 words. Will replace them with mean vector\n",
            "Missing 33 words. Will replace them with mean vector\n",
            "Missing 30 words. Will replace them with mean vector\n",
            "Missing 27 words. Will replace them with mean vector\n",
            "Missing 24 words. Will replace them with mean vector\n",
            "Missing 21 words. Will replace them with mean vector\n",
            "Missing 18 words. Will replace them with mean vector\n",
            "Missing 15 words. Will replace them with mean vector\n",
            "Missing 12 words. Will replace them with mean vector\n",
            "Missing 9 words. Will replace them with mean vector\n",
            "Missing 6 words. Will replace them with mean vector\n",
            "Missing 3 words. Will replace them with mean vector\n",
            "Missing 57 words. Will replace them with mean vector\n"
          ],
          "name": "stderr"
        },
        {
          "output_type": "stream",
          "text": [
            "Processing all-capital-cities with 5 pairs, 20 questions\n"
          ],
          "name": "stdout"
        },
        {
          "output_type": "stream",
          "text": [
            "Missing 54 words. Will replace them with mean vector\n",
            "Missing 51 words. Will replace them with mean vector\n",
            "Missing 48 words. Will replace them with mean vector\n",
            "Missing 45 words. Will replace them with mean vector\n",
            "Missing 42 words. Will replace them with mean vector\n",
            "Missing 39 words. Will replace them with mean vector\n",
            "Missing 36 words. Will replace them with mean vector\n",
            "Missing 33 words. Will replace them with mean vector\n",
            "Missing 30 words. Will replace them with mean vector\n",
            "Missing 27 words. Will replace them with mean vector\n",
            "Missing 24 words. Will replace them with mean vector\n",
            "Missing 21 words. Will replace them with mean vector\n",
            "Missing 18 words. Will replace them with mean vector\n",
            "Missing 15 words. Will replace them with mean vector\n",
            "Missing 12 words. Will replace them with mean vector\n",
            "Missing 9 words. Will replace them with mean vector\n",
            "Missing 6 words. Will replace them with mean vector\n",
            "Missing 3 words. Will replace them with mean vector\n",
            "Missing 57 words. Will replace them with mean vector\n"
          ],
          "name": "stderr"
        },
        {
          "output_type": "stream",
          "text": [
            "Processing man-woman with 5 pairs, 20 questions\n"
          ],
          "name": "stdout"
        },
        {
          "output_type": "stream",
          "text": [
            "Missing 54 words. Will replace them with mean vector\n",
            "Missing 51 words. Will replace them with mean vector\n",
            "Missing 48 words. Will replace them with mean vector\n",
            "Missing 46 words. Will replace them with mean vector\n",
            "Missing 44 words. Will replace them with mean vector\n",
            "Missing 42 words. Will replace them with mean vector\n",
            "Missing 40 words. Will replace them with mean vector\n",
            "Missing 37 words. Will replace them with mean vector\n",
            "Missing 34 words. Will replace them with mean vector\n",
            "Missing 31 words. Will replace them with mean vector\n",
            "Missing 28 words. Will replace them with mean vector\n",
            "Missing 25 words. Will replace them with mean vector\n",
            "Missing 22 words. Will replace them with mean vector\n",
            "Missing 19 words. Will replace them with mean vector\n",
            "Missing 16 words. Will replace them with mean vector\n",
            "Missing 13 words. Will replace them with mean vector\n",
            "Missing 10 words. Will replace them with mean vector\n",
            "Missing 7 words. Will replace them with mean vector\n",
            "Missing 4 words. Will replace them with mean vector\n",
            "Missing 57 words. Will replace them with mean vector\n"
          ],
          "name": "stderr"
        },
        {
          "output_type": "stream",
          "text": [
            "Processing RelatedTo with 5 pairs, 20 questions\n"
          ],
          "name": "stdout"
        },
        {
          "output_type": "stream",
          "text": [
            "Missing 54 words. Will replace them with mean vector\n",
            "Missing 51 words. Will replace them with mean vector\n",
            "Missing 48 words. Will replace them with mean vector\n",
            "Missing 45 words. Will replace them with mean vector\n",
            "Missing 42 words. Will replace them with mean vector\n",
            "Missing 39 words. Will replace them with mean vector\n",
            "Missing 36 words. Will replace them with mean vector\n",
            "Missing 33 words. Will replace them with mean vector\n",
            "Missing 30 words. Will replace them with mean vector\n",
            "Missing 27 words. Will replace them with mean vector\n",
            "Missing 24 words. Will replace them with mean vector\n",
            "Missing 21 words. Will replace them with mean vector\n",
            "Missing 18 words. Will replace them with mean vector\n",
            "Missing 15 words. Will replace them with mean vector\n",
            "Missing 12 words. Will replace them with mean vector\n",
            "Missing 9 words. Will replace them with mean vector\n",
            "Missing 6 words. Will replace them with mean vector\n",
            "Missing 3 words. Will replace them with mean vector\n",
            "Missing 57 words. Will replace them with mean vector\n"
          ],
          "name": "stderr"
        },
        {
          "output_type": "stream",
          "text": [
            "Processing adjective-to-adverb with 5 pairs, 20 questions\n"
          ],
          "name": "stdout"
        },
        {
          "output_type": "stream",
          "text": [
            "Missing 54 words. Will replace them with mean vector\n",
            "Missing 51 words. Will replace them with mean vector\n",
            "Missing 48 words. Will replace them with mean vector\n",
            "Missing 45 words. Will replace them with mean vector\n",
            "Missing 42 words. Will replace them with mean vector\n",
            "Missing 39 words. Will replace them with mean vector\n",
            "Missing 36 words. Will replace them with mean vector\n",
            "Missing 33 words. Will replace them with mean vector\n",
            "Missing 30 words. Will replace them with mean vector\n",
            "Missing 27 words. Will replace them with mean vector\n",
            "Missing 24 words. Will replace them with mean vector\n",
            "Missing 21 words. Will replace them with mean vector\n",
            "Missing 18 words. Will replace them with mean vector\n",
            "Missing 15 words. Will replace them with mean vector\n",
            "Missing 12 words. Will replace them with mean vector\n",
            "Missing 9 words. Will replace them with mean vector\n",
            "Missing 6 words. Will replace them with mean vector\n",
            "Missing 3 words. Will replace them with mean vector\n",
            "Missing 57 words. Will replace them with mean vector\n"
          ],
          "name": "stderr"
        },
        {
          "output_type": "stream",
          "text": [
            "Processing Attribute with 5 pairs, 20 questions\n"
          ],
          "name": "stdout"
        },
        {
          "output_type": "stream",
          "text": [
            "Missing 54 words. Will replace them with mean vector\n",
            "Missing 51 words. Will replace them with mean vector\n",
            "Missing 48 words. Will replace them with mean vector\n",
            "Missing 45 words. Will replace them with mean vector\n",
            "Missing 42 words. Will replace them with mean vector\n",
            "Missing 39 words. Will replace them with mean vector\n",
            "Missing 36 words. Will replace them with mean vector\n",
            "Missing 33 words. Will replace them with mean vector\n",
            "Missing 30 words. Will replace them with mean vector\n",
            "Missing 27 words. Will replace them with mean vector\n",
            "Missing 24 words. Will replace them with mean vector\n",
            "Missing 21 words. Will replace them with mean vector\n",
            "Missing 18 words. Will replace them with mean vector\n",
            "Missing 15 words. Will replace them with mean vector\n",
            "Missing 12 words. Will replace them with mean vector\n",
            "Missing 9 words. Will replace them with mean vector\n",
            "Missing 6 words. Will replace them with mean vector\n",
            "Missing 3 words. Will replace them with mean vector\n",
            "Missing 58 words. Will replace them with mean vector\n"
          ],
          "name": "stderr"
        },
        {
          "output_type": "stream",
          "text": [
            "Processing plural-nouns with 5 pairs, 20 questions\n"
          ],
          "name": "stdout"
        },
        {
          "output_type": "stream",
          "text": [
            "Missing 56 words. Will replace them with mean vector\n",
            "Missing 54 words. Will replace them with mean vector\n",
            "Missing 52 words. Will replace them with mean vector\n",
            "Missing 49 words. Will replace them with mean vector\n",
            "Missing 46 words. Will replace them with mean vector\n",
            "Missing 43 words. Will replace them with mean vector\n",
            "Missing 40 words. Will replace them with mean vector\n",
            "Missing 37 words. Will replace them with mean vector\n",
            "Missing 34 words. Will replace them with mean vector\n",
            "Missing 31 words. Will replace them with mean vector\n",
            "Missing 28 words. Will replace them with mean vector\n",
            "Missing 25 words. Will replace them with mean vector\n",
            "Missing 22 words. Will replace them with mean vector\n",
            "Missing 19 words. Will replace them with mean vector\n",
            "Missing 16 words. Will replace them with mean vector\n",
            "Missing 13 words. Will replace them with mean vector\n",
            "Missing 10 words. Will replace them with mean vector\n",
            "Missing 7 words. Will replace them with mean vector\n",
            "Missing 4 words. Will replace them with mean vector\n",
            "Missing 57 words. Will replace them with mean vector\n"
          ],
          "name": "stderr"
        },
        {
          "output_type": "stream",
          "text": [
            "Processing nationality-adjective with 5 pairs, 20 questions\n"
          ],
          "name": "stdout"
        },
        {
          "output_type": "stream",
          "text": [
            "Missing 54 words. Will replace them with mean vector\n",
            "Missing 51 words. Will replace them with mean vector\n",
            "Missing 48 words. Will replace them with mean vector\n",
            "Missing 45 words. Will replace them with mean vector\n",
            "Missing 42 words. Will replace them with mean vector\n",
            "Missing 39 words. Will replace them with mean vector\n",
            "Missing 36 words. Will replace them with mean vector\n",
            "Missing 33 words. Will replace them with mean vector\n",
            "Missing 30 words. Will replace them with mean vector\n",
            "Missing 27 words. Will replace them with mean vector\n",
            "Missing 24 words. Will replace them with mean vector\n",
            "Missing 21 words. Will replace them with mean vector\n",
            "Missing 18 words. Will replace them with mean vector\n",
            "Missing 15 words. Will replace them with mean vector\n",
            "Missing 12 words. Will replace them with mean vector\n",
            "Missing 9 words. Will replace them with mean vector\n",
            "Missing 6 words. Will replace them with mean vector\n",
            "Missing 3 words. Will replace them with mean vector\n",
            "Missing 57 words. Will replace them with mean vector\n"
          ],
          "name": "stderr"
        },
        {
          "output_type": "stream",
          "text": [
            "Processing city-in-state with 5 pairs, 20 questions\n"
          ],
          "name": "stdout"
        },
        {
          "output_type": "stream",
          "text": [
            "Missing 54 words. Will replace them with mean vector\n",
            "Missing 51 words. Will replace them with mean vector\n",
            "Missing 48 words. Will replace them with mean vector\n",
            "Missing 45 words. Will replace them with mean vector\n",
            "Missing 42 words. Will replace them with mean vector\n",
            "Missing 39 words. Will replace them with mean vector\n",
            "Missing 36 words. Will replace them with mean vector\n",
            "Missing 33 words. Will replace them with mean vector\n",
            "Missing 30 words. Will replace them with mean vector\n",
            "Missing 27 words. Will replace them with mean vector\n",
            "Missing 24 words. Will replace them with mean vector\n",
            "Missing 21 words. Will replace them with mean vector\n",
            "Missing 18 words. Will replace them with mean vector\n",
            "Missing 15 words. Will replace them with mean vector\n",
            "Missing 12 words. Will replace them with mean vector\n",
            "Missing 9 words. Will replace them with mean vector\n",
            "Missing 6 words. Will replace them with mean vector\n",
            "Missing 3 words. Will replace them with mean vector\n",
            "Missing 57 words. Will replace them with mean vector\n"
          ],
          "name": "stderr"
        },
        {
          "output_type": "stream",
          "text": [
            "Processing IsA with 5 pairs, 20 questions\n"
          ],
          "name": "stdout"
        },
        {
          "output_type": "stream",
          "text": [
            "Missing 54 words. Will replace them with mean vector\n",
            "Missing 51 words. Will replace them with mean vector\n",
            "Missing 48 words. Will replace them with mean vector\n",
            "Missing 45 words. Will replace them with mean vector\n",
            "Missing 42 words. Will replace them with mean vector\n",
            "Missing 39 words. Will replace them with mean vector\n",
            "Missing 36 words. Will replace them with mean vector\n",
            "Missing 33 words. Will replace them with mean vector\n",
            "Missing 30 words. Will replace them with mean vector\n",
            "Missing 27 words. Will replace them with mean vector\n",
            "Missing 24 words. Will replace them with mean vector\n",
            "Missing 21 words. Will replace them with mean vector\n",
            "Missing 18 words. Will replace them with mean vector\n",
            "Missing 15 words. Will replace them with mean vector\n",
            "Missing 12 words. Will replace them with mean vector\n",
            "Missing 9 words. Will replace them with mean vector\n",
            "Missing 6 words. Will replace them with mean vector\n",
            "Missing 3 words. Will replace them with mean vector\n"
          ],
          "name": "stderr"
        },
        {
          "output_type": "stream",
          "text": [
            "                       accuracy  correct  count\n",
            "comparative            0.400000      8.0     20\n",
            "InstanceOf             0.000000      0.0     20\n",
            "present-participle     0.000000      0.0     20\n",
            "currency               0.400000      8.0     20\n",
            "MadeOf                 0.000000      0.0     20\n",
            "superlative            0.500000     10.0     20\n",
            "HasContext             0.000000      0.0     20\n",
            "Entails                0.000000      0.0     20\n",
            "past-tense             0.000000      0.0     20\n",
            "PartOf                 0.150000      3.0     20\n",
            "plural-verbs           0.050000      1.0     20\n",
            "MemberOf               0.000000      0.0     20\n",
            "DerivedFrom            0.000000      0.0     20\n",
            "Antonym                0.000000      0.0     20\n",
            "SimilarTo              0.000000      0.0     20\n",
            "Causes                 0.050000      1.0     20\n",
            "all-capital-cities     0.550000     11.0     20\n",
            "man-woman              0.000000      0.0     20\n",
            "RelatedTo              0.000000      0.0     20\n",
            "adjective-to-adverb    0.300000      6.0     20\n",
            "Attribute              0.100000      2.0     20\n",
            "plural-nouns           0.250000      5.0     20\n",
            "nationality-adjective  0.950000     19.0     20\n",
            "city-in-state          0.000000      0.0     20\n",
            "IsA                    0.000000      0.0     20\n",
            "wikipedia              0.023077      6.0    260\n",
            "all                    0.148000     74.0    500\n",
            "wordnet                0.283333     68.0    240\n"
          ],
          "name": "stdout"
        }
      ]
    },
    {
      "cell_type": "code",
      "metadata": {
        "id": "UO2oHRy7IPyh",
        "colab_type": "code",
        "outputId": "a9c1e34d-4576-4e98-a2bb-21162f2b7a48",
        "colab": {
          "base_uri": "https://localhost:8080/",
          "height": 688
        }
      },
      "source": [
        "results = evaluateOnAll(w)\n",
        "print(results)"
      ],
      "execution_count": 0,
      "outputs": [
        {
          "output_type": "stream",
          "text": [
            "Missing 18 words. Will replace them with mean vector\n",
            "/content/drive/My Drive/Term5/NLP/Dataset/web/evaluate.py:336: FutureWarning: arrays to stack must be passed as a \"sequence\" type such as list or tuple. Support for non-sequence iterables such as generators is deprecated as of NumPy 1.16 and will raise an error in the future.\n",
            "  A = np.vstack(w.get(word, mean_vector) for word in X[:, 0])\n",
            "/content/drive/My Drive/Term5/NLP/Dataset/web/evaluate.py:337: FutureWarning: arrays to stack must be passed as a \"sequence\" type such as list or tuple. Support for non-sequence iterables such as generators is deprecated as of NumPy 1.16 and will raise an error in the future.\n",
            "  B = np.vstack(w.get(word, mean_vector) for word in X[:, 1])\n",
            "Missing 4 words. Will replace them with mean vector\n",
            "Missing 25 words. Will replace them with mean vector\n"
          ],
          "name": "stderr"
        },
        {
          "output_type": "stream",
          "text": [
            "Spearman correlation of scores on MTurk 0.6168656297094581\n",
            "Spearman correlation of scores on MEN 0.7343477593178696\n",
            "Spearman correlation of scores on WS353 0.6189286098335961\n"
          ],
          "name": "stdout"
        },
        {
          "output_type": "stream",
          "text": [
            "Missing 1133 words. Will replace them with mean vector\n",
            "Missing 12786 words. Will replace them with mean vector\n"
          ],
          "name": "stderr"
        },
        {
          "output_type": "stream",
          "text": [
            "Spearman correlation of scores on RubensteinAndGoodenough 0.7034345631816815\n",
            "Spearman correlation of scores on Rare Words 0.2775155558069012\n",
            "Spearman correlation of scores on SIMLEX999 0.4085921532291402\n",
            "Spearman correlation of scores on TR9856 0.12731776429575012\n",
            "Calculating analogy benchmarks\n"
          ],
          "name": "stdout"
        },
        {
          "output_type": "stream",
          "text": [
            "Missing 2813 words. Will replace them with mean vector\n",
            "/content/drive/My Drive/Term5/NLP/Dataset/web/analogy.py:105: FutureWarning: arrays to stack must be passed as a \"sequence\" type such as list or tuple. Support for non-sequence iterables such as generators is deprecated as of NumPy 1.16 and will raise an error in the future.\n",
            "  A, B, C = np.vstack(w.get(word, mean_vector) for word in X_b[:, 0]), \\\n",
            "/content/drive/My Drive/Term5/NLP/Dataset/web/analogy.py:106: FutureWarning: arrays to stack must be passed as a \"sequence\" type such as list or tuple. Support for non-sequence iterables such as generators is deprecated as of NumPy 1.16 and will raise an error in the future.\n",
            "  np.vstack(w.get(word, mean_vector) for word in X_b[:, 1]), \\\n",
            "/content/drive/My Drive/Term5/NLP/Dataset/web/analogy.py:107: FutureWarning: arrays to stack must be passed as a \"sequence\" type such as list or tuple. Support for non-sequence iterables such as generators is deprecated as of NumPy 1.16 and will raise an error in the future.\n",
            "  np.vstack(w.get(word, mean_vector) for word in X_b[:, 2])\n",
            "Missing 3866 words. Will replace them with mean vector\n"
          ],
          "name": "stderr"
        },
        {
          "output_type": "stream",
          "text": [
            "Analogy prediction accuracy on Google 0.5328489562013917\n",
            "Analogy prediction accuracy on MSR 0.302875\n"
          ],
          "name": "stdout"
        },
        {
          "output_type": "stream",
          "text": [
            "/usr/local/lib/python3.6/dist-packages/ipykernel_launcher.py:9: FutureWarning: arrays to stack must be passed as a \"sequence\" type such as list or tuple. Support for non-sequence iterables such as generators is deprecated as of NumPy 1.16 and will raise an error in the future.\n",
            "  if __name__ == '__main__':\n",
            "/usr/local/lib/python3.6/dist-packages/ipykernel_launcher.py:10: FutureWarning: arrays to stack must be passed as a \"sequence\" type such as list or tuple. Support for non-sequence iterables such as generators is deprecated as of NumPy 1.16 and will raise an error in the future.\n",
            "  # Remove the CWD from sys.path while we load stuff.\n",
            "/usr/local/lib/python3.6/dist-packages/ipykernel_launcher.py:12: FutureWarning: arrays to stack must be passed as a \"sequence\" type such as list or tuple. Support for non-sequence iterables such as generators is deprecated as of NumPy 1.16 and will raise an error in the future.\n",
            "  if sys.path[0] == '':\n"
          ],
          "name": "stderr"
        },
        {
          "output_type": "stream",
          "text": [
            "Analogy prediction accuracy on SemEval2012 0.15779593940702233\n",
            "      MTurk       MEN     WS353  ...    Google       MSR  SemEval2012_2\n",
            "0  0.616866  0.734348  0.618929  ...  0.532849  0.302875       0.157796\n",
            "\n",
            "[1 rows x 10 columns]\n"
          ],
          "name": "stdout"
        }
      ]
    },
    {
      "cell_type": "markdown",
      "metadata": {
        "id": "kLP0W5rqIfkU",
        "colab_type": "text"
      },
      "source": [
        "##### WE:3"
      ]
    },
    {
      "cell_type": "code",
      "metadata": {
        "id": "GCcNb1nCRp3S",
        "colab_type": "code",
        "outputId": "e807e970-2ac3-40d9-bd57-22ad3eb43668",
        "colab": {
          "base_uri": "https://localhost:8080/",
          "height": 1000
        }
      },
      "source": [
        "w = w_gv_2\n",
        "results_wordrep = calAnswersOnWordRep(data_wordrep, w, max_pairs=5)\n",
        "print(results_wordrep)"
      ],
      "execution_count": 0,
      "outputs": [
        {
          "output_type": "stream",
          "text": [
            "Missing 57 words. Will replace them with mean vector\n"
          ],
          "name": "stderr"
        },
        {
          "output_type": "stream",
          "text": [
            "Processing comparative with 5 pairs, 20 questions\n"
          ],
          "name": "stdout"
        },
        {
          "output_type": "stream",
          "text": [
            "/content/drive/My Drive/Term5/NLP/Dataset/web/analogy.py:101: RuntimeWarning: invalid value encountered in double_scalars\n",
            "  if id_batch % np.floor(len(X) / (10. * self.batch_size)) == 0:\n",
            "/content/drive/My Drive/Term5/NLP/Dataset/web/analogy.py:105: FutureWarning: arrays to stack must be passed as a \"sequence\" type such as list or tuple. Support for non-sequence iterables such as generators is deprecated as of NumPy 1.16 and will raise an error in the future.\n",
            "  A, B, C = np.vstack(w.get(word, mean_vector) for word in X_b[:, 0]), \\\n",
            "/content/drive/My Drive/Term5/NLP/Dataset/web/analogy.py:106: FutureWarning: arrays to stack must be passed as a \"sequence\" type such as list or tuple. Support for non-sequence iterables such as generators is deprecated as of NumPy 1.16 and will raise an error in the future.\n",
            "  np.vstack(w.get(word, mean_vector) for word in X_b[:, 1]), \\\n",
            "/content/drive/My Drive/Term5/NLP/Dataset/web/analogy.py:107: FutureWarning: arrays to stack must be passed as a \"sequence\" type such as list or tuple. Support for non-sequence iterables such as generators is deprecated as of NumPy 1.16 and will raise an error in the future.\n",
            "  np.vstack(w.get(word, mean_vector) for word in X_b[:, 2])\n",
            "Missing 54 words. Will replace them with mean vector\n",
            "Missing 51 words. Will replace them with mean vector\n",
            "Missing 48 words. Will replace them with mean vector\n",
            "Missing 45 words. Will replace them with mean vector\n",
            "Missing 42 words. Will replace them with mean vector\n",
            "Missing 39 words. Will replace them with mean vector\n",
            "Missing 36 words. Will replace them with mean vector\n",
            "Missing 33 words. Will replace them with mean vector\n",
            "Missing 30 words. Will replace them with mean vector\n",
            "Missing 27 words. Will replace them with mean vector\n",
            "Missing 24 words. Will replace them with mean vector\n",
            "Missing 21 words. Will replace them with mean vector\n",
            "Missing 18 words. Will replace them with mean vector\n",
            "Missing 15 words. Will replace them with mean vector\n",
            "Missing 12 words. Will replace them with mean vector\n",
            "Missing 9 words. Will replace them with mean vector\n",
            "Missing 6 words. Will replace them with mean vector\n",
            "Missing 3 words. Will replace them with mean vector\n",
            "Missing 57 words. Will replace them with mean vector\n"
          ],
          "name": "stderr"
        },
        {
          "output_type": "stream",
          "text": [
            "Processing InstanceOf with 5 pairs, 20 questions\n"
          ],
          "name": "stdout"
        },
        {
          "output_type": "stream",
          "text": [
            "Missing 54 words. Will replace them with mean vector\n",
            "Missing 51 words. Will replace them with mean vector\n",
            "Missing 48 words. Will replace them with mean vector\n",
            "Missing 45 words. Will replace them with mean vector\n",
            "Missing 42 words. Will replace them with mean vector\n",
            "Missing 39 words. Will replace them with mean vector\n",
            "Missing 36 words. Will replace them with mean vector\n",
            "Missing 33 words. Will replace them with mean vector\n",
            "Missing 30 words. Will replace them with mean vector\n",
            "Missing 27 words. Will replace them with mean vector\n",
            "Missing 24 words. Will replace them with mean vector\n",
            "Missing 21 words. Will replace them with mean vector\n",
            "Missing 18 words. Will replace them with mean vector\n",
            "Missing 15 words. Will replace them with mean vector\n",
            "Missing 12 words. Will replace them with mean vector\n",
            "Missing 9 words. Will replace them with mean vector\n",
            "Missing 6 words. Will replace them with mean vector\n",
            "Missing 3 words. Will replace them with mean vector\n",
            "Missing 58 words. Will replace them with mean vector\n"
          ],
          "name": "stderr"
        },
        {
          "output_type": "stream",
          "text": [
            "Processing present-participle with 5 pairs, 20 questions\n"
          ],
          "name": "stdout"
        },
        {
          "output_type": "stream",
          "text": [
            "Missing 56 words. Will replace them with mean vector\n",
            "Missing 54 words. Will replace them with mean vector\n",
            "Missing 52 words. Will replace them with mean vector\n",
            "Missing 49 words. Will replace them with mean vector\n",
            "Missing 46 words. Will replace them with mean vector\n",
            "Missing 43 words. Will replace them with mean vector\n",
            "Missing 40 words. Will replace them with mean vector\n",
            "Missing 38 words. Will replace them with mean vector\n",
            "Missing 36 words. Will replace them with mean vector\n",
            "Missing 34 words. Will replace them with mean vector\n",
            "Missing 32 words. Will replace them with mean vector\n",
            "Missing 30 words. Will replace them with mean vector\n",
            "Missing 28 words. Will replace them with mean vector\n",
            "Missing 26 words. Will replace them with mean vector\n",
            "Missing 24 words. Will replace them with mean vector\n",
            "Missing 22 words. Will replace them with mean vector\n",
            "Missing 20 words. Will replace them with mean vector\n",
            "Missing 18 words. Will replace them with mean vector\n",
            "Missing 16 words. Will replace them with mean vector\n",
            "Missing 57 words. Will replace them with mean vector\n"
          ],
          "name": "stderr"
        },
        {
          "output_type": "stream",
          "text": [
            "Processing currency with 5 pairs, 20 questions\n"
          ],
          "name": "stdout"
        },
        {
          "output_type": "stream",
          "text": [
            "Missing 54 words. Will replace them with mean vector\n",
            "Missing 51 words. Will replace them with mean vector\n",
            "Missing 48 words. Will replace them with mean vector\n",
            "Missing 45 words. Will replace them with mean vector\n",
            "Missing 42 words. Will replace them with mean vector\n",
            "Missing 39 words. Will replace them with mean vector\n",
            "Missing 36 words. Will replace them with mean vector\n",
            "Missing 33 words. Will replace them with mean vector\n",
            "Missing 30 words. Will replace them with mean vector\n",
            "Missing 27 words. Will replace them with mean vector\n",
            "Missing 24 words. Will replace them with mean vector\n",
            "Missing 21 words. Will replace them with mean vector\n",
            "Missing 18 words. Will replace them with mean vector\n",
            "Missing 15 words. Will replace them with mean vector\n",
            "Missing 12 words. Will replace them with mean vector\n",
            "Missing 9 words. Will replace them with mean vector\n",
            "Missing 6 words. Will replace them with mean vector\n",
            "Missing 3 words. Will replace them with mean vector\n",
            "Missing 57 words. Will replace them with mean vector\n"
          ],
          "name": "stderr"
        },
        {
          "output_type": "stream",
          "text": [
            "Processing MadeOf with 5 pairs, 20 questions\n"
          ],
          "name": "stdout"
        },
        {
          "output_type": "stream",
          "text": [
            "Missing 54 words. Will replace them with mean vector\n",
            "Missing 51 words. Will replace them with mean vector\n",
            "Missing 48 words. Will replace them with mean vector\n",
            "Missing 45 words. Will replace them with mean vector\n",
            "Missing 42 words. Will replace them with mean vector\n",
            "Missing 39 words. Will replace them with mean vector\n",
            "Missing 36 words. Will replace them with mean vector\n",
            "Missing 34 words. Will replace them with mean vector\n",
            "Missing 32 words. Will replace them with mean vector\n",
            "Missing 30 words. Will replace them with mean vector\n",
            "Missing 28 words. Will replace them with mean vector\n",
            "Missing 25 words. Will replace them with mean vector\n",
            "Missing 22 words. Will replace them with mean vector\n",
            "Missing 19 words. Will replace them with mean vector\n",
            "Missing 16 words. Will replace them with mean vector\n",
            "Missing 13 words. Will replace them with mean vector\n",
            "Missing 10 words. Will replace them with mean vector\n",
            "Missing 7 words. Will replace them with mean vector\n",
            "Missing 4 words. Will replace them with mean vector\n",
            "Missing 57 words. Will replace them with mean vector\n"
          ],
          "name": "stderr"
        },
        {
          "output_type": "stream",
          "text": [
            "Processing superlative with 5 pairs, 20 questions\n"
          ],
          "name": "stdout"
        },
        {
          "output_type": "stream",
          "text": [
            "Missing 54 words. Will replace them with mean vector\n",
            "Missing 51 words. Will replace them with mean vector\n",
            "Missing 48 words. Will replace them with mean vector\n",
            "Missing 45 words. Will replace them with mean vector\n",
            "Missing 42 words. Will replace them with mean vector\n",
            "Missing 39 words. Will replace them with mean vector\n",
            "Missing 36 words. Will replace them with mean vector\n",
            "Missing 33 words. Will replace them with mean vector\n",
            "Missing 30 words. Will replace them with mean vector\n",
            "Missing 27 words. Will replace them with mean vector\n",
            "Missing 24 words. Will replace them with mean vector\n",
            "Missing 21 words. Will replace them with mean vector\n",
            "Missing 18 words. Will replace them with mean vector\n",
            "Missing 15 words. Will replace them with mean vector\n",
            "Missing 12 words. Will replace them with mean vector\n",
            "Missing 9 words. Will replace them with mean vector\n",
            "Missing 6 words. Will replace them with mean vector\n",
            "Missing 3 words. Will replace them with mean vector\n",
            "Missing 57 words. Will replace them with mean vector\n"
          ],
          "name": "stderr"
        },
        {
          "output_type": "stream",
          "text": [
            "Processing HasContext with 5 pairs, 20 questions\n"
          ],
          "name": "stdout"
        },
        {
          "output_type": "stream",
          "text": [
            "Missing 54 words. Will replace them with mean vector\n",
            "Missing 51 words. Will replace them with mean vector\n",
            "Missing 48 words. Will replace them with mean vector\n",
            "Missing 45 words. Will replace them with mean vector\n",
            "Missing 42 words. Will replace them with mean vector\n",
            "Missing 39 words. Will replace them with mean vector\n",
            "Missing 36 words. Will replace them with mean vector\n",
            "Missing 33 words. Will replace them with mean vector\n",
            "Missing 30 words. Will replace them with mean vector\n",
            "Missing 27 words. Will replace them with mean vector\n",
            "Missing 24 words. Will replace them with mean vector\n",
            "Missing 21 words. Will replace them with mean vector\n",
            "Missing 18 words. Will replace them with mean vector\n",
            "Missing 15 words. Will replace them with mean vector\n",
            "Missing 12 words. Will replace them with mean vector\n",
            "Missing 9 words. Will replace them with mean vector\n",
            "Missing 6 words. Will replace them with mean vector\n",
            "Missing 3 words. Will replace them with mean vector\n",
            "Missing 57 words. Will replace them with mean vector\n"
          ],
          "name": "stderr"
        },
        {
          "output_type": "stream",
          "text": [
            "Processing Entails with 5 pairs, 20 questions\n"
          ],
          "name": "stdout"
        },
        {
          "output_type": "stream",
          "text": [
            "Missing 54 words. Will replace them with mean vector\n",
            "Missing 51 words. Will replace them with mean vector\n",
            "Missing 48 words. Will replace them with mean vector\n",
            "Missing 45 words. Will replace them with mean vector\n",
            "Missing 42 words. Will replace them with mean vector\n",
            "Missing 39 words. Will replace them with mean vector\n",
            "Missing 36 words. Will replace them with mean vector\n",
            "Missing 33 words. Will replace them with mean vector\n",
            "Missing 30 words. Will replace them with mean vector\n",
            "Missing 27 words. Will replace them with mean vector\n",
            "Missing 24 words. Will replace them with mean vector\n",
            "Missing 21 words. Will replace them with mean vector\n",
            "Missing 18 words. Will replace them with mean vector\n",
            "Missing 15 words. Will replace them with mean vector\n",
            "Missing 12 words. Will replace them with mean vector\n",
            "Missing 9 words. Will replace them with mean vector\n",
            "Missing 6 words. Will replace them with mean vector\n",
            "Missing 3 words. Will replace them with mean vector\n",
            "Missing 60 words. Will replace them with mean vector\n"
          ],
          "name": "stderr"
        },
        {
          "output_type": "stream",
          "text": [
            "Processing past-tense with 5 pairs, 20 questions\n"
          ],
          "name": "stdout"
        },
        {
          "output_type": "stream",
          "text": [
            "Missing 60 words. Will replace them with mean vector\n",
            "Missing 60 words. Will replace them with mean vector\n",
            "Missing 59 words. Will replace them with mean vector\n",
            "Missing 59 words. Will replace them with mean vector\n",
            "Missing 59 words. Will replace them with mean vector\n",
            "Missing 59 words. Will replace them with mean vector\n",
            "Missing 58 words. Will replace them with mean vector\n",
            "Missing 57 words. Will replace them with mean vector\n",
            "Missing 56 words. Will replace them with mean vector\n",
            "Missing 55 words. Will replace them with mean vector\n",
            "Missing 53 words. Will replace them with mean vector\n",
            "Missing 53 words. Will replace them with mean vector\n",
            "Missing 53 words. Will replace them with mean vector\n",
            "Missing 53 words. Will replace them with mean vector\n",
            "Missing 52 words. Will replace them with mean vector\n",
            "Missing 50 words. Will replace them with mean vector\n",
            "Missing 48 words. Will replace them with mean vector\n",
            "Missing 46 words. Will replace them with mean vector\n",
            "Missing 44 words. Will replace them with mean vector\n",
            "Missing 57 words. Will replace them with mean vector\n"
          ],
          "name": "stderr"
        },
        {
          "output_type": "stream",
          "text": [
            "Processing PartOf with 5 pairs, 20 questions\n"
          ],
          "name": "stdout"
        },
        {
          "output_type": "stream",
          "text": [
            "Missing 54 words. Will replace them with mean vector\n",
            "Missing 51 words. Will replace them with mean vector\n",
            "Missing 48 words. Will replace them with mean vector\n",
            "Missing 45 words. Will replace them with mean vector\n",
            "Missing 42 words. Will replace them with mean vector\n",
            "Missing 39 words. Will replace them with mean vector\n",
            "Missing 36 words. Will replace them with mean vector\n",
            "Missing 33 words. Will replace them with mean vector\n",
            "Missing 30 words. Will replace them with mean vector\n",
            "Missing 27 words. Will replace them with mean vector\n",
            "Missing 24 words. Will replace them with mean vector\n",
            "Missing 21 words. Will replace them with mean vector\n",
            "Missing 18 words. Will replace them with mean vector\n",
            "Missing 15 words. Will replace them with mean vector\n",
            "Missing 12 words. Will replace them with mean vector\n",
            "Missing 9 words. Will replace them with mean vector\n",
            "Missing 6 words. Will replace them with mean vector\n",
            "Missing 3 words. Will replace them with mean vector\n",
            "Missing 57 words. Will replace them with mean vector\n"
          ],
          "name": "stderr"
        },
        {
          "output_type": "stream",
          "text": [
            "Processing plural-verbs with 5 pairs, 20 questions\n"
          ],
          "name": "stdout"
        },
        {
          "output_type": "stream",
          "text": [
            "Missing 54 words. Will replace them with mean vector\n",
            "Missing 51 words. Will replace them with mean vector\n",
            "Missing 48 words. Will replace them with mean vector\n",
            "Missing 46 words. Will replace them with mean vector\n",
            "Missing 44 words. Will replace them with mean vector\n",
            "Missing 42 words. Will replace them with mean vector\n",
            "Missing 40 words. Will replace them with mean vector\n",
            "Missing 38 words. Will replace them with mean vector\n",
            "Missing 36 words. Will replace them with mean vector\n",
            "Missing 34 words. Will replace them with mean vector\n",
            "Missing 32 words. Will replace them with mean vector\n",
            "Missing 30 words. Will replace them with mean vector\n",
            "Missing 28 words. Will replace them with mean vector\n",
            "Missing 26 words. Will replace them with mean vector\n",
            "Missing 24 words. Will replace them with mean vector\n",
            "Missing 21 words. Will replace them with mean vector\n",
            "Missing 18 words. Will replace them with mean vector\n",
            "Missing 15 words. Will replace them with mean vector\n",
            "Missing 12 words. Will replace them with mean vector\n",
            "Missing 58 words. Will replace them with mean vector\n"
          ],
          "name": "stderr"
        },
        {
          "output_type": "stream",
          "text": [
            "Processing MemberOf with 5 pairs, 20 questions\n"
          ],
          "name": "stdout"
        },
        {
          "output_type": "stream",
          "text": [
            "Missing 56 words. Will replace them with mean vector\n",
            "Missing 54 words. Will replace them with mean vector\n",
            "Missing 52 words. Will replace them with mean vector\n",
            "Missing 50 words. Will replace them with mean vector\n",
            "Missing 48 words. Will replace them with mean vector\n",
            "Missing 46 words. Will replace them with mean vector\n",
            "Missing 44 words. Will replace them with mean vector\n",
            "Missing 42 words. Will replace them with mean vector\n",
            "Missing 40 words. Will replace them with mean vector\n",
            "Missing 38 words. Will replace them with mean vector\n",
            "Missing 36 words. Will replace them with mean vector\n",
            "Missing 33 words. Will replace them with mean vector\n",
            "Missing 30 words. Will replace them with mean vector\n",
            "Missing 27 words. Will replace them with mean vector\n",
            "Missing 24 words. Will replace them with mean vector\n",
            "Missing 22 words. Will replace them with mean vector\n",
            "Missing 20 words. Will replace them with mean vector\n",
            "Missing 18 words. Will replace them with mean vector\n",
            "Missing 16 words. Will replace them with mean vector\n",
            "Missing 57 words. Will replace them with mean vector\n"
          ],
          "name": "stderr"
        },
        {
          "output_type": "stream",
          "text": [
            "Processing DerivedFrom with 5 pairs, 20 questions\n"
          ],
          "name": "stdout"
        },
        {
          "output_type": "stream",
          "text": [
            "Missing 54 words. Will replace them with mean vector\n",
            "Missing 51 words. Will replace them with mean vector\n",
            "Missing 48 words. Will replace them with mean vector\n",
            "Missing 45 words. Will replace them with mean vector\n",
            "Missing 42 words. Will replace them with mean vector\n",
            "Missing 39 words. Will replace them with mean vector\n",
            "Missing 36 words. Will replace them with mean vector\n",
            "Missing 33 words. Will replace them with mean vector\n",
            "Missing 30 words. Will replace them with mean vector\n",
            "Missing 27 words. Will replace them with mean vector\n",
            "Missing 24 words. Will replace them with mean vector\n",
            "Missing 21 words. Will replace them with mean vector\n",
            "Missing 18 words. Will replace them with mean vector\n",
            "Missing 15 words. Will replace them with mean vector\n",
            "Missing 12 words. Will replace them with mean vector\n",
            "Missing 9 words. Will replace them with mean vector\n",
            "Missing 6 words. Will replace them with mean vector\n",
            "Missing 3 words. Will replace them with mean vector\n",
            "Missing 57 words. Will replace them with mean vector\n"
          ],
          "name": "stderr"
        },
        {
          "output_type": "stream",
          "text": [
            "Processing Antonym with 5 pairs, 20 questions\n"
          ],
          "name": "stdout"
        },
        {
          "output_type": "stream",
          "text": [
            "Missing 54 words. Will replace them with mean vector\n",
            "Missing 51 words. Will replace them with mean vector\n",
            "Missing 48 words. Will replace them with mean vector\n",
            "Missing 46 words. Will replace them with mean vector\n",
            "Missing 44 words. Will replace them with mean vector\n",
            "Missing 42 words. Will replace them with mean vector\n",
            "Missing 40 words. Will replace them with mean vector\n",
            "Missing 38 words. Will replace them with mean vector\n",
            "Missing 36 words. Will replace them with mean vector\n",
            "Missing 34 words. Will replace them with mean vector\n",
            "Missing 32 words. Will replace them with mean vector\n",
            "Missing 29 words. Will replace them with mean vector\n",
            "Missing 26 words. Will replace them with mean vector\n",
            "Missing 23 words. Will replace them with mean vector\n",
            "Missing 20 words. Will replace them with mean vector\n",
            "Missing 17 words. Will replace them with mean vector\n",
            "Missing 14 words. Will replace them with mean vector\n",
            "Missing 11 words. Will replace them with mean vector\n",
            "Missing 8 words. Will replace them with mean vector\n",
            "Missing 57 words. Will replace them with mean vector\n"
          ],
          "name": "stderr"
        },
        {
          "output_type": "stream",
          "text": [
            "Processing SimilarTo with 5 pairs, 20 questions\n"
          ],
          "name": "stdout"
        },
        {
          "output_type": "stream",
          "text": [
            "Missing 54 words. Will replace them with mean vector\n",
            "Missing 51 words. Will replace them with mean vector\n",
            "Missing 48 words. Will replace them with mean vector\n",
            "Missing 45 words. Will replace them with mean vector\n",
            "Missing 42 words. Will replace them with mean vector\n",
            "Missing 39 words. Will replace them with mean vector\n",
            "Missing 36 words. Will replace them with mean vector\n",
            "Missing 33 words. Will replace them with mean vector\n",
            "Missing 30 words. Will replace them with mean vector\n",
            "Missing 27 words. Will replace them with mean vector\n",
            "Missing 24 words. Will replace them with mean vector\n",
            "Missing 22 words. Will replace them with mean vector\n",
            "Missing 20 words. Will replace them with mean vector\n",
            "Missing 18 words. Will replace them with mean vector\n",
            "Missing 16 words. Will replace them with mean vector\n",
            "Missing 14 words. Will replace them with mean vector\n",
            "Missing 12 words. Will replace them with mean vector\n",
            "Missing 10 words. Will replace them with mean vector\n",
            "Missing 8 words. Will replace them with mean vector\n",
            "Missing 57 words. Will replace them with mean vector\n"
          ],
          "name": "stderr"
        },
        {
          "output_type": "stream",
          "text": [
            "Processing Causes with 5 pairs, 20 questions\n"
          ],
          "name": "stdout"
        },
        {
          "output_type": "stream",
          "text": [
            "Missing 54 words. Will replace them with mean vector\n",
            "Missing 51 words. Will replace them with mean vector\n",
            "Missing 48 words. Will replace them with mean vector\n",
            "Missing 45 words. Will replace them with mean vector\n",
            "Missing 42 words. Will replace them with mean vector\n",
            "Missing 39 words. Will replace them with mean vector\n",
            "Missing 36 words. Will replace them with mean vector\n",
            "Missing 33 words. Will replace them with mean vector\n",
            "Missing 30 words. Will replace them with mean vector\n",
            "Missing 27 words. Will replace them with mean vector\n",
            "Missing 24 words. Will replace them with mean vector\n",
            "Missing 21 words. Will replace them with mean vector\n",
            "Missing 18 words. Will replace them with mean vector\n",
            "Missing 15 words. Will replace them with mean vector\n",
            "Missing 12 words. Will replace them with mean vector\n",
            "Missing 9 words. Will replace them with mean vector\n",
            "Missing 6 words. Will replace them with mean vector\n",
            "Missing 3 words. Will replace them with mean vector\n",
            "Missing 57 words. Will replace them with mean vector\n"
          ],
          "name": "stderr"
        },
        {
          "output_type": "stream",
          "text": [
            "Processing all-capital-cities with 5 pairs, 20 questions\n"
          ],
          "name": "stdout"
        },
        {
          "output_type": "stream",
          "text": [
            "Missing 54 words. Will replace them with mean vector\n",
            "Missing 51 words. Will replace them with mean vector\n",
            "Missing 48 words. Will replace them with mean vector\n",
            "Missing 45 words. Will replace them with mean vector\n",
            "Missing 42 words. Will replace them with mean vector\n",
            "Missing 39 words. Will replace them with mean vector\n",
            "Missing 36 words. Will replace them with mean vector\n",
            "Missing 33 words. Will replace them with mean vector\n",
            "Missing 30 words. Will replace them with mean vector\n",
            "Missing 27 words. Will replace them with mean vector\n",
            "Missing 24 words. Will replace them with mean vector\n",
            "Missing 21 words. Will replace them with mean vector\n",
            "Missing 18 words. Will replace them with mean vector\n",
            "Missing 15 words. Will replace them with mean vector\n",
            "Missing 12 words. Will replace them with mean vector\n",
            "Missing 9 words. Will replace them with mean vector\n",
            "Missing 6 words. Will replace them with mean vector\n",
            "Missing 3 words. Will replace them with mean vector\n",
            "Missing 57 words. Will replace them with mean vector\n"
          ],
          "name": "stderr"
        },
        {
          "output_type": "stream",
          "text": [
            "Processing man-woman with 5 pairs, 20 questions\n"
          ],
          "name": "stdout"
        },
        {
          "output_type": "stream",
          "text": [
            "Missing 54 words. Will replace them with mean vector\n",
            "Missing 51 words. Will replace them with mean vector\n",
            "Missing 48 words. Will replace them with mean vector\n",
            "Missing 46 words. Will replace them with mean vector\n",
            "Missing 44 words. Will replace them with mean vector\n",
            "Missing 42 words. Will replace them with mean vector\n",
            "Missing 40 words. Will replace them with mean vector\n",
            "Missing 37 words. Will replace them with mean vector\n",
            "Missing 34 words. Will replace them with mean vector\n",
            "Missing 31 words. Will replace them with mean vector\n",
            "Missing 28 words. Will replace them with mean vector\n",
            "Missing 25 words. Will replace them with mean vector\n",
            "Missing 22 words. Will replace them with mean vector\n",
            "Missing 19 words. Will replace them with mean vector\n",
            "Missing 16 words. Will replace them with mean vector\n",
            "Missing 13 words. Will replace them with mean vector\n",
            "Missing 10 words. Will replace them with mean vector\n",
            "Missing 7 words. Will replace them with mean vector\n",
            "Missing 4 words. Will replace them with mean vector\n",
            "Missing 57 words. Will replace them with mean vector\n"
          ],
          "name": "stderr"
        },
        {
          "output_type": "stream",
          "text": [
            "Processing RelatedTo with 5 pairs, 20 questions\n"
          ],
          "name": "stdout"
        },
        {
          "output_type": "stream",
          "text": [
            "Missing 54 words. Will replace them with mean vector\n",
            "Missing 51 words. Will replace them with mean vector\n",
            "Missing 48 words. Will replace them with mean vector\n",
            "Missing 45 words. Will replace them with mean vector\n",
            "Missing 42 words. Will replace them with mean vector\n",
            "Missing 39 words. Will replace them with mean vector\n",
            "Missing 36 words. Will replace them with mean vector\n",
            "Missing 33 words. Will replace them with mean vector\n",
            "Missing 30 words. Will replace them with mean vector\n",
            "Missing 27 words. Will replace them with mean vector\n",
            "Missing 24 words. Will replace them with mean vector\n",
            "Missing 21 words. Will replace them with mean vector\n",
            "Missing 18 words. Will replace them with mean vector\n",
            "Missing 15 words. Will replace them with mean vector\n",
            "Missing 12 words. Will replace them with mean vector\n",
            "Missing 9 words. Will replace them with mean vector\n",
            "Missing 6 words. Will replace them with mean vector\n",
            "Missing 3 words. Will replace them with mean vector\n",
            "Missing 57 words. Will replace them with mean vector\n"
          ],
          "name": "stderr"
        },
        {
          "output_type": "stream",
          "text": [
            "Processing adjective-to-adverb with 5 pairs, 20 questions\n"
          ],
          "name": "stdout"
        },
        {
          "output_type": "stream",
          "text": [
            "Missing 54 words. Will replace them with mean vector\n",
            "Missing 51 words. Will replace them with mean vector\n",
            "Missing 48 words. Will replace them with mean vector\n",
            "Missing 45 words. Will replace them with mean vector\n",
            "Missing 42 words. Will replace them with mean vector\n",
            "Missing 39 words. Will replace them with mean vector\n",
            "Missing 36 words. Will replace them with mean vector\n",
            "Missing 33 words. Will replace them with mean vector\n",
            "Missing 30 words. Will replace them with mean vector\n",
            "Missing 27 words. Will replace them with mean vector\n",
            "Missing 24 words. Will replace them with mean vector\n",
            "Missing 21 words. Will replace them with mean vector\n",
            "Missing 18 words. Will replace them with mean vector\n",
            "Missing 15 words. Will replace them with mean vector\n",
            "Missing 12 words. Will replace them with mean vector\n",
            "Missing 9 words. Will replace them with mean vector\n",
            "Missing 6 words. Will replace them with mean vector\n",
            "Missing 3 words. Will replace them with mean vector\n",
            "Missing 57 words. Will replace them with mean vector\n"
          ],
          "name": "stderr"
        },
        {
          "output_type": "stream",
          "text": [
            "Processing Attribute with 5 pairs, 20 questions\n"
          ],
          "name": "stdout"
        },
        {
          "output_type": "stream",
          "text": [
            "Missing 54 words. Will replace them with mean vector\n",
            "Missing 51 words. Will replace them with mean vector\n",
            "Missing 48 words. Will replace them with mean vector\n",
            "Missing 45 words. Will replace them with mean vector\n",
            "Missing 42 words. Will replace them with mean vector\n",
            "Missing 39 words. Will replace them with mean vector\n",
            "Missing 36 words. Will replace them with mean vector\n",
            "Missing 33 words. Will replace them with mean vector\n",
            "Missing 30 words. Will replace them with mean vector\n",
            "Missing 27 words. Will replace them with mean vector\n",
            "Missing 24 words. Will replace them with mean vector\n",
            "Missing 21 words. Will replace them with mean vector\n",
            "Missing 18 words. Will replace them with mean vector\n",
            "Missing 15 words. Will replace them with mean vector\n",
            "Missing 12 words. Will replace them with mean vector\n",
            "Missing 9 words. Will replace them with mean vector\n",
            "Missing 6 words. Will replace them with mean vector\n",
            "Missing 3 words. Will replace them with mean vector\n",
            "Missing 58 words. Will replace them with mean vector\n"
          ],
          "name": "stderr"
        },
        {
          "output_type": "stream",
          "text": [
            "Processing plural-nouns with 5 pairs, 20 questions\n"
          ],
          "name": "stdout"
        },
        {
          "output_type": "stream",
          "text": [
            "Missing 56 words. Will replace them with mean vector\n",
            "Missing 54 words. Will replace them with mean vector\n",
            "Missing 52 words. Will replace them with mean vector\n",
            "Missing 49 words. Will replace them with mean vector\n",
            "Missing 46 words. Will replace them with mean vector\n",
            "Missing 43 words. Will replace them with mean vector\n",
            "Missing 40 words. Will replace them with mean vector\n",
            "Missing 37 words. Will replace them with mean vector\n",
            "Missing 34 words. Will replace them with mean vector\n",
            "Missing 31 words. Will replace them with mean vector\n",
            "Missing 28 words. Will replace them with mean vector\n",
            "Missing 25 words. Will replace them with mean vector\n",
            "Missing 22 words. Will replace them with mean vector\n",
            "Missing 19 words. Will replace them with mean vector\n",
            "Missing 16 words. Will replace them with mean vector\n",
            "Missing 13 words. Will replace them with mean vector\n",
            "Missing 10 words. Will replace them with mean vector\n",
            "Missing 7 words. Will replace them with mean vector\n",
            "Missing 4 words. Will replace them with mean vector\n",
            "Missing 57 words. Will replace them with mean vector\n"
          ],
          "name": "stderr"
        },
        {
          "output_type": "stream",
          "text": [
            "Processing nationality-adjective with 5 pairs, 20 questions\n"
          ],
          "name": "stdout"
        },
        {
          "output_type": "stream",
          "text": [
            "Missing 54 words. Will replace them with mean vector\n",
            "Missing 51 words. Will replace them with mean vector\n",
            "Missing 48 words. Will replace them with mean vector\n",
            "Missing 45 words. Will replace them with mean vector\n",
            "Missing 42 words. Will replace them with mean vector\n",
            "Missing 39 words. Will replace them with mean vector\n",
            "Missing 36 words. Will replace them with mean vector\n",
            "Missing 33 words. Will replace them with mean vector\n",
            "Missing 30 words. Will replace them with mean vector\n",
            "Missing 27 words. Will replace them with mean vector\n",
            "Missing 24 words. Will replace them with mean vector\n",
            "Missing 21 words. Will replace them with mean vector\n",
            "Missing 18 words. Will replace them with mean vector\n",
            "Missing 15 words. Will replace them with mean vector\n",
            "Missing 12 words. Will replace them with mean vector\n",
            "Missing 9 words. Will replace them with mean vector\n",
            "Missing 6 words. Will replace them with mean vector\n",
            "Missing 3 words. Will replace them with mean vector\n",
            "Missing 57 words. Will replace them with mean vector\n"
          ],
          "name": "stderr"
        },
        {
          "output_type": "stream",
          "text": [
            "Processing city-in-state with 5 pairs, 20 questions\n"
          ],
          "name": "stdout"
        },
        {
          "output_type": "stream",
          "text": [
            "Missing 54 words. Will replace them with mean vector\n",
            "Missing 51 words. Will replace them with mean vector\n",
            "Missing 48 words. Will replace them with mean vector\n",
            "Missing 45 words. Will replace them with mean vector\n",
            "Missing 42 words. Will replace them with mean vector\n",
            "Missing 39 words. Will replace them with mean vector\n",
            "Missing 36 words. Will replace them with mean vector\n",
            "Missing 33 words. Will replace them with mean vector\n",
            "Missing 30 words. Will replace them with mean vector\n",
            "Missing 27 words. Will replace them with mean vector\n",
            "Missing 24 words. Will replace them with mean vector\n",
            "Missing 21 words. Will replace them with mean vector\n",
            "Missing 18 words. Will replace them with mean vector\n",
            "Missing 15 words. Will replace them with mean vector\n",
            "Missing 12 words. Will replace them with mean vector\n",
            "Missing 9 words. Will replace them with mean vector\n",
            "Missing 6 words. Will replace them with mean vector\n",
            "Missing 3 words. Will replace them with mean vector\n",
            "Missing 57 words. Will replace them with mean vector\n"
          ],
          "name": "stderr"
        },
        {
          "output_type": "stream",
          "text": [
            "Processing IsA with 5 pairs, 20 questions\n"
          ],
          "name": "stdout"
        },
        {
          "output_type": "stream",
          "text": [
            "Missing 54 words. Will replace them with mean vector\n",
            "Missing 51 words. Will replace them with mean vector\n",
            "Missing 48 words. Will replace them with mean vector\n",
            "Missing 45 words. Will replace them with mean vector\n",
            "Missing 42 words. Will replace them with mean vector\n",
            "Missing 39 words. Will replace them with mean vector\n",
            "Missing 36 words. Will replace them with mean vector\n",
            "Missing 33 words. Will replace them with mean vector\n",
            "Missing 30 words. Will replace them with mean vector\n",
            "Missing 27 words. Will replace them with mean vector\n",
            "Missing 24 words. Will replace them with mean vector\n",
            "Missing 21 words. Will replace them with mean vector\n",
            "Missing 18 words. Will replace them with mean vector\n",
            "Missing 15 words. Will replace them with mean vector\n",
            "Missing 12 words. Will replace them with mean vector\n",
            "Missing 9 words. Will replace them with mean vector\n",
            "Missing 6 words. Will replace them with mean vector\n",
            "Missing 3 words. Will replace them with mean vector\n"
          ],
          "name": "stderr"
        },
        {
          "output_type": "stream",
          "text": [
            "                       accuracy  correct  count\n",
            "comparative            0.200000      4.0     20\n",
            "InstanceOf             0.000000      0.0     20\n",
            "present-participle     0.000000      0.0     20\n",
            "currency               0.250000      5.0     20\n",
            "MadeOf                 0.000000      0.0     20\n",
            "superlative            0.350000      7.0     20\n",
            "HasContext             0.000000      0.0     20\n",
            "Entails                0.000000      0.0     20\n",
            "past-tense             0.000000      0.0     20\n",
            "PartOf                 0.100000      2.0     20\n",
            "plural-verbs           0.000000      0.0     20\n",
            "MemberOf               0.000000      0.0     20\n",
            "DerivedFrom            0.000000      0.0     20\n",
            "Antonym                0.000000      0.0     20\n",
            "SimilarTo              0.000000      0.0     20\n",
            "Causes                 0.050000      1.0     20\n",
            "all-capital-cities     0.900000     18.0     20\n",
            "man-woman              0.000000      0.0     20\n",
            "RelatedTo              0.000000      0.0     20\n",
            "adjective-to-adverb    0.350000      7.0     20\n",
            "Attribute              0.100000      2.0     20\n",
            "plural-nouns           0.000000      0.0     20\n",
            "nationality-adjective  1.000000     20.0     20\n",
            "city-in-state          0.000000      0.0     20\n",
            "IsA                    0.000000      0.0     20\n",
            "wikipedia              0.019231      5.0    260\n",
            "all                    0.132000     66.0    500\n",
            "wordnet                0.254167     61.0    240\n"
          ],
          "name": "stdout"
        }
      ]
    },
    {
      "cell_type": "code",
      "metadata": {
        "id": "xD1xZJ_aIjlI",
        "colab_type": "code",
        "outputId": "62914d54-e705-4ae4-b181-ce821680bc98",
        "colab": {
          "base_uri": "https://localhost:8080/",
          "height": 688
        }
      },
      "source": [
        "results = evaluateOnAll(w)\n",
        "print(results)"
      ],
      "execution_count": 0,
      "outputs": [
        {
          "output_type": "stream",
          "text": [
            "Missing 18 words. Will replace them with mean vector\n",
            "/content/drive/My Drive/Term5/NLP/Dataset/web/evaluate.py:336: FutureWarning: arrays to stack must be passed as a \"sequence\" type such as list or tuple. Support for non-sequence iterables such as generators is deprecated as of NumPy 1.16 and will raise an error in the future.\n",
            "  A = np.vstack(w.get(word, mean_vector) for word in X[:, 0])\n",
            "/content/drive/My Drive/Term5/NLP/Dataset/web/evaluate.py:337: FutureWarning: arrays to stack must be passed as a \"sequence\" type such as list or tuple. Support for non-sequence iterables such as generators is deprecated as of NumPy 1.16 and will raise an error in the future.\n",
            "  B = np.vstack(w.get(word, mean_vector) for word in X[:, 1])\n",
            "Missing 4 words. Will replace them with mean vector\n",
            "Missing 25 words. Will replace them with mean vector\n"
          ],
          "name": "stderr"
        },
        {
          "output_type": "stream",
          "text": [
            "Spearman correlation of scores on MTurk 0.5256969294250565\n",
            "Spearman correlation of scores on MEN 0.7185296143386801\n",
            "Spearman correlation of scores on WS353 0.5244193087921056\n"
          ],
          "name": "stdout"
        },
        {
          "output_type": "stream",
          "text": [
            "Missing 1133 words. Will replace them with mean vector\n",
            "Missing 12786 words. Will replace them with mean vector\n"
          ],
          "name": "stderr"
        },
        {
          "output_type": "stream",
          "text": [
            "Spearman correlation of scores on RubensteinAndGoodenough 0.7356711250624055\n",
            "Spearman correlation of scores on Rare Words 0.26023661634360423\n",
            "Spearman correlation of scores on SIMLEX999 0.3843759537153252\n",
            "Spearman correlation of scores on TR9856 0.08640301417738393\n",
            "Calculating analogy benchmarks\n"
          ],
          "name": "stdout"
        },
        {
          "output_type": "stream",
          "text": [
            "Missing 2813 words. Will replace them with mean vector\n",
            "/content/drive/My Drive/Term5/NLP/Dataset/web/analogy.py:105: FutureWarning: arrays to stack must be passed as a \"sequence\" type such as list or tuple. Support for non-sequence iterables such as generators is deprecated as of NumPy 1.16 and will raise an error in the future.\n",
            "  A, B, C = np.vstack(w.get(word, mean_vector) for word in X_b[:, 0]), \\\n",
            "/content/drive/My Drive/Term5/NLP/Dataset/web/analogy.py:106: FutureWarning: arrays to stack must be passed as a \"sequence\" type such as list or tuple. Support for non-sequence iterables such as generators is deprecated as of NumPy 1.16 and will raise an error in the future.\n",
            "  np.vstack(w.get(word, mean_vector) for word in X_b[:, 1]), \\\n",
            "/content/drive/My Drive/Term5/NLP/Dataset/web/analogy.py:107: FutureWarning: arrays to stack must be passed as a \"sequence\" type such as list or tuple. Support for non-sequence iterables such as generators is deprecated as of NumPy 1.16 and will raise an error in the future.\n",
            "  np.vstack(w.get(word, mean_vector) for word in X_b[:, 2])\n",
            "Missing 3866 words. Will replace them with mean vector\n"
          ],
          "name": "stderr"
        },
        {
          "output_type": "stream",
          "text": [
            "Analogy prediction accuracy on Google 0.4975951698731068\n",
            "Analogy prediction accuracy on MSR 0.21675\n"
          ],
          "name": "stdout"
        },
        {
          "output_type": "stream",
          "text": [
            "/usr/local/lib/python3.6/dist-packages/ipykernel_launcher.py:9: FutureWarning: arrays to stack must be passed as a \"sequence\" type such as list or tuple. Support for non-sequence iterables such as generators is deprecated as of NumPy 1.16 and will raise an error in the future.\n",
            "  if __name__ == '__main__':\n",
            "/usr/local/lib/python3.6/dist-packages/ipykernel_launcher.py:10: FutureWarning: arrays to stack must be passed as a \"sequence\" type such as list or tuple. Support for non-sequence iterables such as generators is deprecated as of NumPy 1.16 and will raise an error in the future.\n",
            "  # Remove the CWD from sys.path while we load stuff.\n",
            "/usr/local/lib/python3.6/dist-packages/ipykernel_launcher.py:12: FutureWarning: arrays to stack must be passed as a \"sequence\" type such as list or tuple. Support for non-sequence iterables such as generators is deprecated as of NumPy 1.16 and will raise an error in the future.\n",
            "  if sys.path[0] == '':\n"
          ],
          "name": "stderr"
        },
        {
          "output_type": "stream",
          "text": [
            "Analogy prediction accuracy on SemEval2012 0.16785859594197539\n",
            "      MTurk      MEN     WS353  ...    Google      MSR  SemEval2012_2\n",
            "0  0.525697  0.71853  0.524419  ...  0.497595  0.21675       0.167859\n",
            "\n",
            "[1 rows x 10 columns]\n"
          ],
          "name": "stdout"
        }
      ]
    },
    {
      "cell_type": "markdown",
      "metadata": {
        "id": "7GEkkIp4IrK1",
        "colab_type": "text"
      },
      "source": [
        "##### WE:4"
      ]
    },
    {
      "cell_type": "code",
      "metadata": {
        "id": "uaxEhpLjRwZt",
        "colab_type": "code",
        "outputId": "0069908c-7775-4161-e923-faff2e13f649",
        "colab": {
          "base_uri": "https://localhost:8080/",
          "height": 1000
        }
      },
      "source": [
        "w = w_gv_3\n",
        "results_wordrep = calAnswersOnWordRep(data_wordrep, w, max_pairs=5)\n",
        "print(results_wordrep)"
      ],
      "execution_count": 0,
      "outputs": [
        {
          "output_type": "stream",
          "text": [
            "Missing 57 words. Will replace them with mean vector\n"
          ],
          "name": "stderr"
        },
        {
          "output_type": "stream",
          "text": [
            "Processing comparative with 5 pairs, 20 questions\n"
          ],
          "name": "stdout"
        },
        {
          "output_type": "stream",
          "text": [
            "/content/drive/My Drive/Term5/NLP/Dataset/web/analogy.py:101: RuntimeWarning: invalid value encountered in double_scalars\n",
            "  if id_batch % np.floor(len(X) / (10. * self.batch_size)) == 0:\n",
            "/content/drive/My Drive/Term5/NLP/Dataset/web/analogy.py:105: FutureWarning: arrays to stack must be passed as a \"sequence\" type such as list or tuple. Support for non-sequence iterables such as generators is deprecated as of NumPy 1.16 and will raise an error in the future.\n",
            "  A, B, C = np.vstack(w.get(word, mean_vector) for word in X_b[:, 0]), \\\n",
            "/content/drive/My Drive/Term5/NLP/Dataset/web/analogy.py:106: FutureWarning: arrays to stack must be passed as a \"sequence\" type such as list or tuple. Support for non-sequence iterables such as generators is deprecated as of NumPy 1.16 and will raise an error in the future.\n",
            "  np.vstack(w.get(word, mean_vector) for word in X_b[:, 1]), \\\n",
            "/content/drive/My Drive/Term5/NLP/Dataset/web/analogy.py:107: FutureWarning: arrays to stack must be passed as a \"sequence\" type such as list or tuple. Support for non-sequence iterables such as generators is deprecated as of NumPy 1.16 and will raise an error in the future.\n",
            "  np.vstack(w.get(word, mean_vector) for word in X_b[:, 2])\n",
            "Missing 54 words. Will replace them with mean vector\n",
            "Missing 51 words. Will replace them with mean vector\n",
            "Missing 48 words. Will replace them with mean vector\n",
            "Missing 45 words. Will replace them with mean vector\n",
            "Missing 42 words. Will replace them with mean vector\n",
            "Missing 39 words. Will replace them with mean vector\n",
            "Missing 36 words. Will replace them with mean vector\n",
            "Missing 33 words. Will replace them with mean vector\n",
            "Missing 30 words. Will replace them with mean vector\n",
            "Missing 27 words. Will replace them with mean vector\n",
            "Missing 24 words. Will replace them with mean vector\n",
            "Missing 21 words. Will replace them with mean vector\n",
            "Missing 18 words. Will replace them with mean vector\n",
            "Missing 15 words. Will replace them with mean vector\n",
            "Missing 12 words. Will replace them with mean vector\n",
            "Missing 9 words. Will replace them with mean vector\n",
            "Missing 6 words. Will replace them with mean vector\n",
            "Missing 3 words. Will replace them with mean vector\n",
            "Missing 59 words. Will replace them with mean vector\n"
          ],
          "name": "stderr"
        },
        {
          "output_type": "stream",
          "text": [
            "Processing InstanceOf with 5 pairs, 20 questions\n"
          ],
          "name": "stdout"
        },
        {
          "output_type": "stream",
          "text": [
            "Missing 57 words. Will replace them with mean vector\n",
            "Missing 56 words. Will replace them with mean vector\n",
            "Missing 55 words. Will replace them with mean vector\n",
            "Missing 54 words. Will replace them with mean vector\n",
            "Missing 52 words. Will replace them with mean vector\n",
            "Missing 51 words. Will replace them with mean vector\n",
            "Missing 50 words. Will replace them with mean vector\n",
            "Missing 48 words. Will replace them with mean vector\n",
            "Missing 46 words. Will replace them with mean vector\n",
            "Missing 44 words. Will replace them with mean vector\n",
            "Missing 42 words. Will replace them with mean vector\n",
            "Missing 41 words. Will replace them with mean vector\n",
            "Missing 40 words. Will replace them with mean vector\n",
            "Missing 38 words. Will replace them with mean vector\n",
            "Missing 37 words. Will replace them with mean vector\n",
            "Missing 36 words. Will replace them with mean vector\n",
            "Missing 35 words. Will replace them with mean vector\n",
            "Missing 33 words. Will replace them with mean vector\n",
            "Missing 32 words. Will replace them with mean vector\n",
            "Missing 57 words. Will replace them with mean vector\n"
          ],
          "name": "stderr"
        },
        {
          "output_type": "stream",
          "text": [
            "Processing present-participle with 5 pairs, 20 questions\n"
          ],
          "name": "stdout"
        },
        {
          "output_type": "stream",
          "text": [
            "Missing 54 words. Will replace them with mean vector\n",
            "Missing 51 words. Will replace them with mean vector\n",
            "Missing 48 words. Will replace them with mean vector\n",
            "Missing 45 words. Will replace them with mean vector\n",
            "Missing 42 words. Will replace them with mean vector\n",
            "Missing 39 words. Will replace them with mean vector\n",
            "Missing 36 words. Will replace them with mean vector\n",
            "Missing 33 words. Will replace them with mean vector\n",
            "Missing 30 words. Will replace them with mean vector\n",
            "Missing 27 words. Will replace them with mean vector\n",
            "Missing 24 words. Will replace them with mean vector\n",
            "Missing 21 words. Will replace them with mean vector\n",
            "Missing 18 words. Will replace them with mean vector\n",
            "Missing 15 words. Will replace them with mean vector\n",
            "Missing 12 words. Will replace them with mean vector\n",
            "Missing 9 words. Will replace them with mean vector\n",
            "Missing 6 words. Will replace them with mean vector\n",
            "Missing 3 words. Will replace them with mean vector\n",
            "Missing 58 words. Will replace them with mean vector\n"
          ],
          "name": "stderr"
        },
        {
          "output_type": "stream",
          "text": [
            "Processing currency with 5 pairs, 20 questions\n"
          ],
          "name": "stdout"
        },
        {
          "output_type": "stream",
          "text": [
            "Missing 57 words. Will replace them with mean vector\n",
            "Missing 56 words. Will replace them with mean vector\n",
            "Missing 55 words. Will replace them with mean vector\n",
            "Missing 53 words. Will replace them with mean vector\n",
            "Missing 51 words. Will replace them with mean vector\n",
            "Missing 49 words. Will replace them with mean vector\n",
            "Missing 47 words. Will replace them with mean vector\n",
            "Missing 46 words. Will replace them with mean vector\n",
            "Missing 44 words. Will replace them with mean vector\n",
            "Missing 43 words. Will replace them with mean vector\n",
            "Missing 42 words. Will replace them with mean vector\n",
            "Missing 42 words. Will replace them with mean vector\n",
            "Missing 41 words. Will replace them with mean vector\n",
            "Missing 41 words. Will replace them with mean vector\n",
            "Missing 41 words. Will replace them with mean vector\n",
            "Missing 40 words. Will replace them with mean vector\n",
            "Missing 38 words. Will replace them with mean vector\n",
            "Missing 37 words. Will replace them with mean vector\n",
            "Missing 36 words. Will replace them with mean vector\n",
            "Missing 57 words. Will replace them with mean vector\n"
          ],
          "name": "stderr"
        },
        {
          "output_type": "stream",
          "text": [
            "Processing MadeOf with 5 pairs, 20 questions\n"
          ],
          "name": "stdout"
        },
        {
          "output_type": "stream",
          "text": [
            "Missing 54 words. Will replace them with mean vector\n",
            "Missing 51 words. Will replace them with mean vector\n",
            "Missing 48 words. Will replace them with mean vector\n",
            "Missing 45 words. Will replace them with mean vector\n",
            "Missing 42 words. Will replace them with mean vector\n",
            "Missing 39 words. Will replace them with mean vector\n",
            "Missing 36 words. Will replace them with mean vector\n",
            "Missing 33 words. Will replace them with mean vector\n",
            "Missing 30 words. Will replace them with mean vector\n",
            "Missing 27 words. Will replace them with mean vector\n",
            "Missing 24 words. Will replace them with mean vector\n",
            "Missing 21 words. Will replace them with mean vector\n",
            "Missing 18 words. Will replace them with mean vector\n",
            "Missing 15 words. Will replace them with mean vector\n",
            "Missing 12 words. Will replace them with mean vector\n",
            "Missing 9 words. Will replace them with mean vector\n",
            "Missing 6 words. Will replace them with mean vector\n",
            "Missing 3 words. Will replace them with mean vector\n",
            "Missing 57 words. Will replace them with mean vector\n"
          ],
          "name": "stderr"
        },
        {
          "output_type": "stream",
          "text": [
            "Processing superlative with 5 pairs, 20 questions\n"
          ],
          "name": "stdout"
        },
        {
          "output_type": "stream",
          "text": [
            "Missing 54 words. Will replace them with mean vector\n",
            "Missing 51 words. Will replace them with mean vector\n",
            "Missing 48 words. Will replace them with mean vector\n",
            "Missing 45 words. Will replace them with mean vector\n",
            "Missing 42 words. Will replace them with mean vector\n",
            "Missing 39 words. Will replace them with mean vector\n",
            "Missing 36 words. Will replace them with mean vector\n",
            "Missing 33 words. Will replace them with mean vector\n",
            "Missing 30 words. Will replace them with mean vector\n",
            "Missing 27 words. Will replace them with mean vector\n",
            "Missing 24 words. Will replace them with mean vector\n",
            "Missing 21 words. Will replace them with mean vector\n",
            "Missing 18 words. Will replace them with mean vector\n",
            "Missing 15 words. Will replace them with mean vector\n",
            "Missing 12 words. Will replace them with mean vector\n",
            "Missing 9 words. Will replace them with mean vector\n",
            "Missing 6 words. Will replace them with mean vector\n",
            "Missing 3 words. Will replace them with mean vector\n",
            "Missing 57 words. Will replace them with mean vector\n"
          ],
          "name": "stderr"
        },
        {
          "output_type": "stream",
          "text": [
            "Processing HasContext with 5 pairs, 20 questions\n"
          ],
          "name": "stdout"
        },
        {
          "output_type": "stream",
          "text": [
            "Missing 54 words. Will replace them with mean vector\n",
            "Missing 51 words. Will replace them with mean vector\n",
            "Missing 48 words. Will replace them with mean vector\n",
            "Missing 45 words. Will replace them with mean vector\n",
            "Missing 42 words. Will replace them with mean vector\n",
            "Missing 39 words. Will replace them with mean vector\n",
            "Missing 36 words. Will replace them with mean vector\n",
            "Missing 33 words. Will replace them with mean vector\n",
            "Missing 30 words. Will replace them with mean vector\n",
            "Missing 27 words. Will replace them with mean vector\n",
            "Missing 24 words. Will replace them with mean vector\n",
            "Missing 21 words. Will replace them with mean vector\n",
            "Missing 18 words. Will replace them with mean vector\n",
            "Missing 15 words. Will replace them with mean vector\n",
            "Missing 12 words. Will replace them with mean vector\n",
            "Missing 9 words. Will replace them with mean vector\n",
            "Missing 6 words. Will replace them with mean vector\n",
            "Missing 3 words. Will replace them with mean vector\n",
            "Missing 57 words. Will replace them with mean vector\n"
          ],
          "name": "stderr"
        },
        {
          "output_type": "stream",
          "text": [
            "Processing Entails with 5 pairs, 20 questions\n"
          ],
          "name": "stdout"
        },
        {
          "output_type": "stream",
          "text": [
            "Missing 54 words. Will replace them with mean vector\n",
            "Missing 51 words. Will replace them with mean vector\n",
            "Missing 48 words. Will replace them with mean vector\n",
            "Missing 45 words. Will replace them with mean vector\n",
            "Missing 42 words. Will replace them with mean vector\n",
            "Missing 39 words. Will replace them with mean vector\n",
            "Missing 36 words. Will replace them with mean vector\n",
            "Missing 33 words. Will replace them with mean vector\n",
            "Missing 30 words. Will replace them with mean vector\n",
            "Missing 27 words. Will replace them with mean vector\n",
            "Missing 24 words. Will replace them with mean vector\n",
            "Missing 21 words. Will replace them with mean vector\n",
            "Missing 18 words. Will replace them with mean vector\n",
            "Missing 15 words. Will replace them with mean vector\n",
            "Missing 12 words. Will replace them with mean vector\n",
            "Missing 9 words. Will replace them with mean vector\n",
            "Missing 6 words. Will replace them with mean vector\n",
            "Missing 3 words. Will replace them with mean vector\n",
            "Missing 57 words. Will replace them with mean vector\n"
          ],
          "name": "stderr"
        },
        {
          "output_type": "stream",
          "text": [
            "Processing past-tense with 5 pairs, 20 questions\n"
          ],
          "name": "stdout"
        },
        {
          "output_type": "stream",
          "text": [
            "Missing 54 words. Will replace them with mean vector\n",
            "Missing 51 words. Will replace them with mean vector\n",
            "Missing 48 words. Will replace them with mean vector\n",
            "Missing 45 words. Will replace them with mean vector\n",
            "Missing 42 words. Will replace them with mean vector\n",
            "Missing 39 words. Will replace them with mean vector\n",
            "Missing 36 words. Will replace them with mean vector\n",
            "Missing 33 words. Will replace them with mean vector\n",
            "Missing 30 words. Will replace them with mean vector\n",
            "Missing 27 words. Will replace them with mean vector\n",
            "Missing 24 words. Will replace them with mean vector\n",
            "Missing 21 words. Will replace them with mean vector\n",
            "Missing 18 words. Will replace them with mean vector\n",
            "Missing 15 words. Will replace them with mean vector\n",
            "Missing 12 words. Will replace them with mean vector\n",
            "Missing 9 words. Will replace them with mean vector\n",
            "Missing 6 words. Will replace them with mean vector\n",
            "Missing 3 words. Will replace them with mean vector\n",
            "Missing 60 words. Will replace them with mean vector\n"
          ],
          "name": "stderr"
        },
        {
          "output_type": "stream",
          "text": [
            "Processing PartOf with 5 pairs, 20 questions\n"
          ],
          "name": "stdout"
        },
        {
          "output_type": "stream",
          "text": [
            "Missing 59 words. Will replace them with mean vector\n",
            "Missing 58 words. Will replace them with mean vector\n",
            "Missing 57 words. Will replace them with mean vector\n",
            "Missing 57 words. Will replace them with mean vector\n",
            "Missing 56 words. Will replace them with mean vector\n",
            "Missing 55 words. Will replace them with mean vector\n",
            "Missing 54 words. Will replace them with mean vector\n",
            "Missing 52 words. Will replace them with mean vector\n",
            "Missing 50 words. Will replace them with mean vector\n",
            "Missing 47 words. Will replace them with mean vector\n",
            "Missing 44 words. Will replace them with mean vector\n",
            "Missing 42 words. Will replace them with mean vector\n",
            "Missing 40 words. Will replace them with mean vector\n",
            "Missing 37 words. Will replace them with mean vector\n",
            "Missing 34 words. Will replace them with mean vector\n",
            "Missing 32 words. Will replace them with mean vector\n",
            "Missing 30 words. Will replace them with mean vector\n",
            "Missing 27 words. Will replace them with mean vector\n",
            "Missing 24 words. Will replace them with mean vector\n",
            "Missing 57 words. Will replace them with mean vector\n"
          ],
          "name": "stderr"
        },
        {
          "output_type": "stream",
          "text": [
            "Processing plural-verbs with 5 pairs, 20 questions\n"
          ],
          "name": "stdout"
        },
        {
          "output_type": "stream",
          "text": [
            "Missing 54 words. Will replace them with mean vector\n",
            "Missing 51 words. Will replace them with mean vector\n",
            "Missing 48 words. Will replace them with mean vector\n",
            "Missing 45 words. Will replace them with mean vector\n",
            "Missing 42 words. Will replace them with mean vector\n",
            "Missing 39 words. Will replace them with mean vector\n",
            "Missing 36 words. Will replace them with mean vector\n",
            "Missing 33 words. Will replace them with mean vector\n",
            "Missing 30 words. Will replace them with mean vector\n",
            "Missing 27 words. Will replace them with mean vector\n",
            "Missing 24 words. Will replace them with mean vector\n",
            "Missing 21 words. Will replace them with mean vector\n",
            "Missing 18 words. Will replace them with mean vector\n",
            "Missing 15 words. Will replace them with mean vector\n",
            "Missing 12 words. Will replace them with mean vector\n",
            "Missing 9 words. Will replace them with mean vector\n",
            "Missing 6 words. Will replace them with mean vector\n",
            "Missing 3 words. Will replace them with mean vector\n",
            "Missing 58 words. Will replace them with mean vector\n"
          ],
          "name": "stderr"
        },
        {
          "output_type": "stream",
          "text": [
            "Processing MemberOf with 5 pairs, 20 questions\n"
          ],
          "name": "stdout"
        },
        {
          "output_type": "stream",
          "text": [
            "Missing 57 words. Will replace them with mean vector\n",
            "Missing 55 words. Will replace them with mean vector\n",
            "Missing 53 words. Will replace them with mean vector\n",
            "Missing 51 words. Will replace them with mean vector\n",
            "Missing 50 words. Will replace them with mean vector\n",
            "Missing 48 words. Will replace them with mean vector\n",
            "Missing 46 words. Will replace them with mean vector\n",
            "Missing 45 words. Will replace them with mean vector\n",
            "Missing 44 words. Will replace them with mean vector\n",
            "Missing 43 words. Will replace them with mean vector\n",
            "Missing 42 words. Will replace them with mean vector\n",
            "Missing 39 words. Will replace them with mean vector\n",
            "Missing 36 words. Will replace them with mean vector\n",
            "Missing 34 words. Will replace them with mean vector\n",
            "Missing 31 words. Will replace them with mean vector\n",
            "Missing 29 words. Will replace them with mean vector\n",
            "Missing 27 words. Will replace them with mean vector\n",
            "Missing 26 words. Will replace them with mean vector\n",
            "Missing 24 words. Will replace them with mean vector\n",
            "Missing 57 words. Will replace them with mean vector\n"
          ],
          "name": "stderr"
        },
        {
          "output_type": "stream",
          "text": [
            "Processing DerivedFrom with 5 pairs, 20 questions\n"
          ],
          "name": "stdout"
        },
        {
          "output_type": "stream",
          "text": [
            "Missing 54 words. Will replace them with mean vector\n",
            "Missing 51 words. Will replace them with mean vector\n",
            "Missing 48 words. Will replace them with mean vector\n",
            "Missing 46 words. Will replace them with mean vector\n",
            "Missing 44 words. Will replace them with mean vector\n",
            "Missing 42 words. Will replace them with mean vector\n",
            "Missing 40 words. Will replace them with mean vector\n",
            "Missing 37 words. Will replace them with mean vector\n",
            "Missing 34 words. Will replace them with mean vector\n",
            "Missing 31 words. Will replace them with mean vector\n",
            "Missing 28 words. Will replace them with mean vector\n",
            "Missing 25 words. Will replace them with mean vector\n",
            "Missing 22 words. Will replace them with mean vector\n",
            "Missing 19 words. Will replace them with mean vector\n",
            "Missing 16 words. Will replace them with mean vector\n",
            "Missing 13 words. Will replace them with mean vector\n",
            "Missing 10 words. Will replace them with mean vector\n",
            "Missing 7 words. Will replace them with mean vector\n",
            "Missing 4 words. Will replace them with mean vector\n",
            "Missing 57 words. Will replace them with mean vector\n"
          ],
          "name": "stderr"
        },
        {
          "output_type": "stream",
          "text": [
            "Processing Antonym with 5 pairs, 20 questions\n"
          ],
          "name": "stdout"
        },
        {
          "output_type": "stream",
          "text": [
            "Missing 54 words. Will replace them with mean vector\n",
            "Missing 51 words. Will replace them with mean vector\n",
            "Missing 48 words. Will replace them with mean vector\n",
            "Missing 46 words. Will replace them with mean vector\n",
            "Missing 44 words. Will replace them with mean vector\n",
            "Missing 42 words. Will replace them with mean vector\n",
            "Missing 40 words. Will replace them with mean vector\n",
            "Missing 37 words. Will replace them with mean vector\n",
            "Missing 34 words. Will replace them with mean vector\n",
            "Missing 31 words. Will replace them with mean vector\n",
            "Missing 28 words. Will replace them with mean vector\n",
            "Missing 25 words. Will replace them with mean vector\n",
            "Missing 22 words. Will replace them with mean vector\n",
            "Missing 19 words. Will replace them with mean vector\n",
            "Missing 16 words. Will replace them with mean vector\n",
            "Missing 13 words. Will replace them with mean vector\n",
            "Missing 10 words. Will replace them with mean vector\n",
            "Missing 7 words. Will replace them with mean vector\n",
            "Missing 4 words. Will replace them with mean vector\n",
            "Missing 57 words. Will replace them with mean vector\n"
          ],
          "name": "stderr"
        },
        {
          "output_type": "stream",
          "text": [
            "Processing SimilarTo with 5 pairs, 20 questions\n"
          ],
          "name": "stdout"
        },
        {
          "output_type": "stream",
          "text": [
            "Missing 54 words. Will replace them with mean vector\n",
            "Missing 51 words. Will replace them with mean vector\n",
            "Missing 48 words. Will replace them with mean vector\n",
            "Missing 45 words. Will replace them with mean vector\n",
            "Missing 42 words. Will replace them with mean vector\n",
            "Missing 39 words. Will replace them with mean vector\n",
            "Missing 36 words. Will replace them with mean vector\n",
            "Missing 33 words. Will replace them with mean vector\n",
            "Missing 30 words. Will replace them with mean vector\n",
            "Missing 27 words. Will replace them with mean vector\n",
            "Missing 24 words. Will replace them with mean vector\n",
            "Missing 21 words. Will replace them with mean vector\n",
            "Missing 18 words. Will replace them with mean vector\n",
            "Missing 15 words. Will replace them with mean vector\n",
            "Missing 12 words. Will replace them with mean vector\n",
            "Missing 10 words. Will replace them with mean vector\n",
            "Missing 8 words. Will replace them with mean vector\n",
            "Missing 6 words. Will replace them with mean vector\n",
            "Missing 4 words. Will replace them with mean vector\n",
            "Missing 57 words. Will replace them with mean vector\n"
          ],
          "name": "stderr"
        },
        {
          "output_type": "stream",
          "text": [
            "Processing Causes with 5 pairs, 20 questions\n"
          ],
          "name": "stdout"
        },
        {
          "output_type": "stream",
          "text": [
            "Missing 54 words. Will replace them with mean vector\n",
            "Missing 51 words. Will replace them with mean vector\n",
            "Missing 48 words. Will replace them with mean vector\n",
            "Missing 45 words. Will replace them with mean vector\n",
            "Missing 42 words. Will replace them with mean vector\n",
            "Missing 39 words. Will replace them with mean vector\n",
            "Missing 36 words. Will replace them with mean vector\n",
            "Missing 33 words. Will replace them with mean vector\n",
            "Missing 30 words. Will replace them with mean vector\n",
            "Missing 27 words. Will replace them with mean vector\n",
            "Missing 24 words. Will replace them with mean vector\n",
            "Missing 21 words. Will replace them with mean vector\n",
            "Missing 18 words. Will replace them with mean vector\n",
            "Missing 15 words. Will replace them with mean vector\n",
            "Missing 12 words. Will replace them with mean vector\n",
            "Missing 9 words. Will replace them with mean vector\n",
            "Missing 6 words. Will replace them with mean vector\n",
            "Missing 3 words. Will replace them with mean vector\n",
            "Missing 60 words. Will replace them with mean vector\n"
          ],
          "name": "stderr"
        },
        {
          "output_type": "stream",
          "text": [
            "Processing all-capital-cities with 5 pairs, 20 questions\n"
          ],
          "name": "stdout"
        },
        {
          "output_type": "stream",
          "text": [
            "Missing 60 words. Will replace them with mean vector\n",
            "Missing 60 words. Will replace them with mean vector\n",
            "Missing 60 words. Will replace them with mean vector\n",
            "Missing 60 words. Will replace them with mean vector\n",
            "Missing 60 words. Will replace them with mean vector\n",
            "Missing 60 words. Will replace them with mean vector\n",
            "Missing 60 words. Will replace them with mean vector\n",
            "Missing 60 words. Will replace them with mean vector\n",
            "Missing 60 words. Will replace them with mean vector\n",
            "Missing 60 words. Will replace them with mean vector\n",
            "Missing 60 words. Will replace them with mean vector\n",
            "Missing 60 words. Will replace them with mean vector\n",
            "Missing 60 words. Will replace them with mean vector\n",
            "Missing 60 words. Will replace them with mean vector\n",
            "Missing 60 words. Will replace them with mean vector\n",
            "Missing 60 words. Will replace them with mean vector\n",
            "Missing 60 words. Will replace them with mean vector\n",
            "Missing 60 words. Will replace them with mean vector\n",
            "Missing 60 words. Will replace them with mean vector\n",
            "Missing 57 words. Will replace them with mean vector\n"
          ],
          "name": "stderr"
        },
        {
          "output_type": "stream",
          "text": [
            "Processing man-woman with 5 pairs, 20 questions\n"
          ],
          "name": "stdout"
        },
        {
          "output_type": "stream",
          "text": [
            "Missing 54 words. Will replace them with mean vector\n",
            "Missing 51 words. Will replace them with mean vector\n",
            "Missing 49 words. Will replace them with mean vector\n",
            "Missing 46 words. Will replace them with mean vector\n",
            "Missing 43 words. Will replace them with mean vector\n",
            "Missing 40 words. Will replace them with mean vector\n",
            "Missing 38 words. Will replace them with mean vector\n",
            "Missing 35 words. Will replace them with mean vector\n",
            "Missing 32 words. Will replace them with mean vector\n",
            "Missing 29 words. Will replace them with mean vector\n",
            "Missing 27 words. Will replace them with mean vector\n",
            "Missing 24 words. Will replace them with mean vector\n",
            "Missing 21 words. Will replace them with mean vector\n",
            "Missing 18 words. Will replace them with mean vector\n",
            "Missing 16 words. Will replace them with mean vector\n",
            "Missing 15 words. Will replace them with mean vector\n",
            "Missing 14 words. Will replace them with mean vector\n",
            "Missing 13 words. Will replace them with mean vector\n",
            "Missing 12 words. Will replace them with mean vector\n",
            "Missing 57 words. Will replace them with mean vector\n"
          ],
          "name": "stderr"
        },
        {
          "output_type": "stream",
          "text": [
            "Processing RelatedTo with 5 pairs, 20 questions\n"
          ],
          "name": "stdout"
        },
        {
          "output_type": "stream",
          "text": [
            "Missing 54 words. Will replace them with mean vector\n",
            "Missing 51 words. Will replace them with mean vector\n",
            "Missing 48 words. Will replace them with mean vector\n",
            "Missing 45 words. Will replace them with mean vector\n",
            "Missing 42 words. Will replace them with mean vector\n",
            "Missing 39 words. Will replace them with mean vector\n",
            "Missing 36 words. Will replace them with mean vector\n",
            "Missing 33 words. Will replace them with mean vector\n",
            "Missing 30 words. Will replace them with mean vector\n",
            "Missing 27 words. Will replace them with mean vector\n",
            "Missing 24 words. Will replace them with mean vector\n",
            "Missing 21 words. Will replace them with mean vector\n",
            "Missing 18 words. Will replace them with mean vector\n",
            "Missing 15 words. Will replace them with mean vector\n",
            "Missing 12 words. Will replace them with mean vector\n",
            "Missing 9 words. Will replace them with mean vector\n",
            "Missing 6 words. Will replace them with mean vector\n",
            "Missing 3 words. Will replace them with mean vector\n",
            "Missing 57 words. Will replace them with mean vector\n"
          ],
          "name": "stderr"
        },
        {
          "output_type": "stream",
          "text": [
            "Processing adjective-to-adverb with 5 pairs, 20 questions\n"
          ],
          "name": "stdout"
        },
        {
          "output_type": "stream",
          "text": [
            "Missing 54 words. Will replace them with mean vector\n",
            "Missing 51 words. Will replace them with mean vector\n",
            "Missing 48 words. Will replace them with mean vector\n",
            "Missing 45 words. Will replace them with mean vector\n",
            "Missing 42 words. Will replace them with mean vector\n",
            "Missing 39 words. Will replace them with mean vector\n",
            "Missing 36 words. Will replace them with mean vector\n",
            "Missing 33 words. Will replace them with mean vector\n",
            "Missing 30 words. Will replace them with mean vector\n",
            "Missing 27 words. Will replace them with mean vector\n",
            "Missing 24 words. Will replace them with mean vector\n",
            "Missing 21 words. Will replace them with mean vector\n",
            "Missing 18 words. Will replace them with mean vector\n",
            "Missing 15 words. Will replace them with mean vector\n",
            "Missing 12 words. Will replace them with mean vector\n",
            "Missing 9 words. Will replace them with mean vector\n",
            "Missing 6 words. Will replace them with mean vector\n",
            "Missing 3 words. Will replace them with mean vector\n",
            "Missing 57 words. Will replace them with mean vector\n"
          ],
          "name": "stderr"
        },
        {
          "output_type": "stream",
          "text": [
            "Processing Attribute with 5 pairs, 20 questions\n"
          ],
          "name": "stdout"
        },
        {
          "output_type": "stream",
          "text": [
            "Missing 54 words. Will replace them with mean vector\n",
            "Missing 51 words. Will replace them with mean vector\n",
            "Missing 48 words. Will replace them with mean vector\n",
            "Missing 45 words. Will replace them with mean vector\n",
            "Missing 42 words. Will replace them with mean vector\n",
            "Missing 39 words. Will replace them with mean vector\n",
            "Missing 36 words. Will replace them with mean vector\n",
            "Missing 33 words. Will replace them with mean vector\n",
            "Missing 30 words. Will replace them with mean vector\n",
            "Missing 27 words. Will replace them with mean vector\n",
            "Missing 24 words. Will replace them with mean vector\n",
            "Missing 21 words. Will replace them with mean vector\n",
            "Missing 18 words. Will replace them with mean vector\n",
            "Missing 15 words. Will replace them with mean vector\n",
            "Missing 12 words. Will replace them with mean vector\n",
            "Missing 9 words. Will replace them with mean vector\n",
            "Missing 6 words. Will replace them with mean vector\n",
            "Missing 3 words. Will replace them with mean vector\n",
            "Missing 57 words. Will replace them with mean vector\n"
          ],
          "name": "stderr"
        },
        {
          "output_type": "stream",
          "text": [
            "Processing plural-nouns with 5 pairs, 20 questions\n"
          ],
          "name": "stdout"
        },
        {
          "output_type": "stream",
          "text": [
            "Missing 54 words. Will replace them with mean vector\n",
            "Missing 51 words. Will replace them with mean vector\n",
            "Missing 48 words. Will replace them with mean vector\n",
            "Missing 45 words. Will replace them with mean vector\n",
            "Missing 42 words. Will replace them with mean vector\n",
            "Missing 39 words. Will replace them with mean vector\n",
            "Missing 36 words. Will replace them with mean vector\n",
            "Missing 33 words. Will replace them with mean vector\n",
            "Missing 30 words. Will replace them with mean vector\n",
            "Missing 27 words. Will replace them with mean vector\n",
            "Missing 24 words. Will replace them with mean vector\n",
            "Missing 21 words. Will replace them with mean vector\n",
            "Missing 18 words. Will replace them with mean vector\n",
            "Missing 15 words. Will replace them with mean vector\n",
            "Missing 12 words. Will replace them with mean vector\n",
            "Missing 9 words. Will replace them with mean vector\n",
            "Missing 6 words. Will replace them with mean vector\n",
            "Missing 3 words. Will replace them with mean vector\n",
            "Missing 59 words. Will replace them with mean vector\n"
          ],
          "name": "stderr"
        },
        {
          "output_type": "stream",
          "text": [
            "Processing nationality-adjective with 5 pairs, 20 questions\n"
          ],
          "name": "stdout"
        },
        {
          "output_type": "stream",
          "text": [
            "Missing 59 words. Will replace them with mean vector\n",
            "Missing 59 words. Will replace them with mean vector\n",
            "Missing 59 words. Will replace them with mean vector\n",
            "Missing 58 words. Will replace them with mean vector\n",
            "Missing 57 words. Will replace them with mean vector\n",
            "Missing 56 words. Will replace them with mean vector\n",
            "Missing 55 words. Will replace them with mean vector\n",
            "Missing 55 words. Will replace them with mean vector\n",
            "Missing 54 words. Will replace them with mean vector\n",
            "Missing 54 words. Will replace them with mean vector\n",
            "Missing 54 words. Will replace them with mean vector\n",
            "Missing 54 words. Will replace them with mean vector\n",
            "Missing 53 words. Will replace them with mean vector\n",
            "Missing 53 words. Will replace them with mean vector\n",
            "Missing 53 words. Will replace them with mean vector\n",
            "Missing 53 words. Will replace them with mean vector\n",
            "Missing 52 words. Will replace them with mean vector\n",
            "Missing 52 words. Will replace them with mean vector\n",
            "Missing 52 words. Will replace them with mean vector\n",
            "Missing 60 words. Will replace them with mean vector\n"
          ],
          "name": "stderr"
        },
        {
          "output_type": "stream",
          "text": [
            "Processing city-in-state with 5 pairs, 20 questions\n"
          ],
          "name": "stdout"
        },
        {
          "output_type": "stream",
          "text": [
            "Missing 60 words. Will replace them with mean vector\n",
            "Missing 60 words. Will replace them with mean vector\n",
            "Missing 60 words. Will replace them with mean vector\n",
            "Missing 60 words. Will replace them with mean vector\n",
            "Missing 60 words. Will replace them with mean vector\n",
            "Missing 60 words. Will replace them with mean vector\n",
            "Missing 60 words. Will replace them with mean vector\n",
            "Missing 60 words. Will replace them with mean vector\n",
            "Missing 60 words. Will replace them with mean vector\n",
            "Missing 60 words. Will replace them with mean vector\n",
            "Missing 60 words. Will replace them with mean vector\n",
            "Missing 60 words. Will replace them with mean vector\n",
            "Missing 60 words. Will replace them with mean vector\n",
            "Missing 60 words. Will replace them with mean vector\n",
            "Missing 60 words. Will replace them with mean vector\n",
            "Missing 60 words. Will replace them with mean vector\n",
            "Missing 60 words. Will replace them with mean vector\n",
            "Missing 60 words. Will replace them with mean vector\n",
            "Missing 60 words. Will replace them with mean vector\n",
            "Missing 57 words. Will replace them with mean vector\n"
          ],
          "name": "stderr"
        },
        {
          "output_type": "stream",
          "text": [
            "Processing IsA with 5 pairs, 20 questions\n"
          ],
          "name": "stdout"
        },
        {
          "output_type": "stream",
          "text": [
            "Missing 54 words. Will replace them with mean vector\n",
            "Missing 51 words. Will replace them with mean vector\n",
            "Missing 48 words. Will replace them with mean vector\n",
            "Missing 45 words. Will replace them with mean vector\n",
            "Missing 42 words. Will replace them with mean vector\n",
            "Missing 39 words. Will replace them with mean vector\n",
            "Missing 36 words. Will replace them with mean vector\n",
            "Missing 33 words. Will replace them with mean vector\n",
            "Missing 30 words. Will replace them with mean vector\n",
            "Missing 27 words. Will replace them with mean vector\n",
            "Missing 24 words. Will replace them with mean vector\n",
            "Missing 21 words. Will replace them with mean vector\n",
            "Missing 18 words. Will replace them with mean vector\n",
            "Missing 15 words. Will replace them with mean vector\n",
            "Missing 12 words. Will replace them with mean vector\n",
            "Missing 9 words. Will replace them with mean vector\n",
            "Missing 6 words. Will replace them with mean vector\n",
            "Missing 3 words. Will replace them with mean vector\n"
          ],
          "name": "stderr"
        },
        {
          "output_type": "stream",
          "text": [
            "                       accuracy  correct  count\n",
            "comparative            0.200000      4.0     20\n",
            "InstanceOf             0.000000      0.0     20\n",
            "present-participle     0.200000      4.0     20\n",
            "currency               0.000000      0.0     20\n",
            "MadeOf                 0.000000      0.0     20\n",
            "superlative            0.200000      4.0     20\n",
            "HasContext             0.050000      1.0     20\n",
            "Entails                0.000000      0.0     20\n",
            "past-tense             0.600000     12.0     20\n",
            "PartOf                 0.000000      0.0     20\n",
            "plural-verbs           0.500000     10.0     20\n",
            "MemberOf               0.000000      0.0     20\n",
            "DerivedFrom            0.000000      0.0     20\n",
            "Antonym                0.000000      0.0     20\n",
            "SimilarTo              0.000000      0.0     20\n",
            "Causes                 0.000000      0.0     20\n",
            "all-capital-cities     0.000000      0.0     20\n",
            "man-woman              0.050000      1.0     20\n",
            "RelatedTo              0.000000      0.0     20\n",
            "adjective-to-adverb    0.100000      2.0     20\n",
            "Attribute              0.000000      0.0     20\n",
            "plural-nouns           0.800000     16.0     20\n",
            "nationality-adjective  0.000000      0.0     20\n",
            "city-in-state          0.000000      0.0     20\n",
            "IsA                    0.000000      0.0     20\n",
            "wikipedia              0.003846      1.0    260\n",
            "all                    0.108000     54.0    500\n",
            "wordnet                0.220833     53.0    240\n"
          ],
          "name": "stdout"
        }
      ]
    },
    {
      "cell_type": "code",
      "metadata": {
        "id": "ExtrLdZFItM2",
        "colab_type": "code",
        "outputId": "1b095554-a3dd-4e77-c85c-02e3795c5578",
        "colab": {
          "base_uri": "https://localhost:8080/",
          "height": 688
        }
      },
      "source": [
        "results = evaluateOnAll(w)\n",
        "print(results)"
      ],
      "execution_count": 0,
      "outputs": [
        {
          "output_type": "stream",
          "text": [
            "Missing 77 words. Will replace them with mean vector\n",
            "/content/drive/My Drive/Term5/NLP/Dataset/web/evaluate.py:336: FutureWarning: arrays to stack must be passed as a \"sequence\" type such as list or tuple. Support for non-sequence iterables such as generators is deprecated as of NumPy 1.16 and will raise an error in the future.\n",
            "  A = np.vstack(w.get(word, mean_vector) for word in X[:, 0])\n",
            "/content/drive/My Drive/Term5/NLP/Dataset/web/evaluate.py:337: FutureWarning: arrays to stack must be passed as a \"sequence\" type such as list or tuple. Support for non-sequence iterables such as generators is deprecated as of NumPy 1.16 and will raise an error in the future.\n",
            "  B = np.vstack(w.get(word, mean_vector) for word in X[:, 1])\n",
            "Missing 10 words. Will replace them with mean vector\n"
          ],
          "name": "stderr"
        },
        {
          "output_type": "stream",
          "text": [
            "Spearman correlation of scores on MTurk 0.5673870612768838\n",
            "Spearman correlation of scores on MEN 0.7386932851425341\n",
            "Spearman correlation of scores on WS353 0.6384827074126854\n"
          ],
          "name": "stdout"
        },
        {
          "output_type": "stream",
          "text": [
            "Missing 660 words. Will replace them with mean vector\n",
            "Missing 4 words. Will replace them with mean vector\n",
            "Missing 12844 words. Will replace them with mean vector\n"
          ],
          "name": "stderr"
        },
        {
          "output_type": "stream",
          "text": [
            "Spearman correlation of scores on RubensteinAndGoodenough 0.8096075920742624\n",
            "Spearman correlation of scores on Rare Words 0.2881588134304212\n",
            "Spearman correlation of scores on SIMLEX999 0.3632244143074406\n",
            "Spearman correlation of scores on TR9856 0.08422268228401204\n",
            "Calculating analogy benchmarks\n"
          ],
          "name": "stdout"
        },
        {
          "output_type": "stream",
          "text": [
            "Missing 26746 words. Will replace them with mean vector\n",
            "/content/drive/My Drive/Term5/NLP/Dataset/web/analogy.py:105: FutureWarning: arrays to stack must be passed as a \"sequence\" type such as list or tuple. Support for non-sequence iterables such as generators is deprecated as of NumPy 1.16 and will raise an error in the future.\n",
            "  A, B, C = np.vstack(w.get(word, mean_vector) for word in X_b[:, 0]), \\\n",
            "/content/drive/My Drive/Term5/NLP/Dataset/web/analogy.py:106: FutureWarning: arrays to stack must be passed as a \"sequence\" type such as list or tuple. Support for non-sequence iterables such as generators is deprecated as of NumPy 1.16 and will raise an error in the future.\n",
            "  np.vstack(w.get(word, mean_vector) for word in X_b[:, 1]), \\\n",
            "/content/drive/My Drive/Term5/NLP/Dataset/web/analogy.py:107: FutureWarning: arrays to stack must be passed as a \"sequence\" type such as list or tuple. Support for non-sequence iterables such as generators is deprecated as of NumPy 1.16 and will raise an error in the future.\n",
            "  np.vstack(w.get(word, mean_vector) for word in X_b[:, 2])\n",
            "Missing 1121 words. Will replace them with mean vector\n"
          ],
          "name": "stderr"
        },
        {
          "output_type": "stream",
          "text": [
            "Analogy prediction accuracy on Google 0.3026504297994269\n",
            "Analogy prediction accuracy on MSR 0.51075\n"
          ],
          "name": "stdout"
        },
        {
          "output_type": "stream",
          "text": [
            "/usr/local/lib/python3.6/dist-packages/ipykernel_launcher.py:9: FutureWarning: arrays to stack must be passed as a \"sequence\" type such as list or tuple. Support for non-sequence iterables such as generators is deprecated as of NumPy 1.16 and will raise an error in the future.\n",
            "  if __name__ == '__main__':\n",
            "/usr/local/lib/python3.6/dist-packages/ipykernel_launcher.py:10: FutureWarning: arrays to stack must be passed as a \"sequence\" type such as list or tuple. Support for non-sequence iterables such as generators is deprecated as of NumPy 1.16 and will raise an error in the future.\n",
            "  # Remove the CWD from sys.path while we load stuff.\n",
            "/usr/local/lib/python3.6/dist-packages/ipykernel_launcher.py:12: FutureWarning: arrays to stack must be passed as a \"sequence\" type such as list or tuple. Support for non-sequence iterables such as generators is deprecated as of NumPy 1.16 and will raise an error in the future.\n",
            "  if sys.path[0] == '':\n"
          ],
          "name": "stderr"
        },
        {
          "output_type": "stream",
          "text": [
            "Analogy prediction accuracy on SemEval2012 0.17950010472886488\n",
            "      MTurk       MEN     WS353  ...   Google      MSR  SemEval2012_2\n",
            "0  0.567387  0.738693  0.638483  ...  0.30265  0.51075         0.1795\n",
            "\n",
            "[1 rows x 10 columns]\n"
          ],
          "name": "stdout"
        }
      ]
    },
    {
      "cell_type": "markdown",
      "metadata": {
        "id": "SM6DHWQfIvn-",
        "colab_type": "text"
      },
      "source": [
        "##### WE:5"
      ]
    },
    {
      "cell_type": "code",
      "metadata": {
        "id": "cBVqXEqHR3FF",
        "colab_type": "code",
        "outputId": "140f8613-5ddd-4433-d5ff-e003a5b13589",
        "colab": {
          "base_uri": "https://localhost:8080/",
          "height": 1000
        }
      },
      "source": [
        "w = w_gv_4\n",
        "results_wordrep = calAnswersOnWordRep(data_wordrep, w, max_pairs=5)\n",
        "print(results_wordrep)"
      ],
      "execution_count": 0,
      "outputs": [
        {
          "output_type": "stream",
          "text": [
            "Processing comparative with 5 pairs, 20 questions\n"
          ],
          "name": "stdout"
        },
        {
          "output_type": "stream",
          "text": [
            "Missing 57 words. Will replace them with mean vector\n",
            "/content/drive/My Drive/Term5/NLP/Dataset/web/analogy.py:101: RuntimeWarning: invalid value encountered in double_scalars\n",
            "  if id_batch % np.floor(len(X) / (10. * self.batch_size)) == 0:\n",
            "/content/drive/My Drive/Term5/NLP/Dataset/web/analogy.py:105: FutureWarning: arrays to stack must be passed as a \"sequence\" type such as list or tuple. Support for non-sequence iterables such as generators is deprecated as of NumPy 1.16 and will raise an error in the future.\n",
            "  A, B, C = np.vstack(w.get(word, mean_vector) for word in X_b[:, 0]), \\\n",
            "/content/drive/My Drive/Term5/NLP/Dataset/web/analogy.py:106: FutureWarning: arrays to stack must be passed as a \"sequence\" type such as list or tuple. Support for non-sequence iterables such as generators is deprecated as of NumPy 1.16 and will raise an error in the future.\n",
            "  np.vstack(w.get(word, mean_vector) for word in X_b[:, 1]), \\\n",
            "/content/drive/My Drive/Term5/NLP/Dataset/web/analogy.py:107: FutureWarning: arrays to stack must be passed as a \"sequence\" type such as list or tuple. Support for non-sequence iterables such as generators is deprecated as of NumPy 1.16 and will raise an error in the future.\n",
            "  np.vstack(w.get(word, mean_vector) for word in X_b[:, 2])\n",
            "Missing 54 words. Will replace them with mean vector\n",
            "Missing 51 words. Will replace them with mean vector\n",
            "Missing 48 words. Will replace them with mean vector\n",
            "Missing 45 words. Will replace them with mean vector\n",
            "Missing 42 words. Will replace them with mean vector\n",
            "Missing 39 words. Will replace them with mean vector\n",
            "Missing 36 words. Will replace them with mean vector\n",
            "Missing 33 words. Will replace them with mean vector\n",
            "Missing 30 words. Will replace them with mean vector\n",
            "Missing 27 words. Will replace them with mean vector\n",
            "Missing 24 words. Will replace them with mean vector\n",
            "Missing 21 words. Will replace them with mean vector\n",
            "Missing 18 words. Will replace them with mean vector\n",
            "Missing 15 words. Will replace them with mean vector\n",
            "Missing 12 words. Will replace them with mean vector\n",
            "Missing 9 words. Will replace them with mean vector\n",
            "Missing 6 words. Will replace them with mean vector\n",
            "Missing 3 words. Will replace them with mean vector\n",
            "Missing 59 words. Will replace them with mean vector\n"
          ],
          "name": "stderr"
        },
        {
          "output_type": "stream",
          "text": [
            "Processing InstanceOf with 5 pairs, 20 questions\n"
          ],
          "name": "stdout"
        },
        {
          "output_type": "stream",
          "text": [
            "Missing 57 words. Will replace them with mean vector\n",
            "Missing 56 words. Will replace them with mean vector\n",
            "Missing 55 words. Will replace them with mean vector\n",
            "Missing 54 words. Will replace them with mean vector\n",
            "Missing 52 words. Will replace them with mean vector\n",
            "Missing 51 words. Will replace them with mean vector\n",
            "Missing 50 words. Will replace them with mean vector\n",
            "Missing 48 words. Will replace them with mean vector\n",
            "Missing 46 words. Will replace them with mean vector\n",
            "Missing 44 words. Will replace them with mean vector\n",
            "Missing 42 words. Will replace them with mean vector\n",
            "Missing 41 words. Will replace them with mean vector\n",
            "Missing 40 words. Will replace them with mean vector\n",
            "Missing 38 words. Will replace them with mean vector\n",
            "Missing 37 words. Will replace them with mean vector\n",
            "Missing 36 words. Will replace them with mean vector\n",
            "Missing 35 words. Will replace them with mean vector\n",
            "Missing 33 words. Will replace them with mean vector\n",
            "Missing 32 words. Will replace them with mean vector\n",
            "Missing 57 words. Will replace them with mean vector\n"
          ],
          "name": "stderr"
        },
        {
          "output_type": "stream",
          "text": [
            "Processing present-participle with 5 pairs, 20 questions\n"
          ],
          "name": "stdout"
        },
        {
          "output_type": "stream",
          "text": [
            "Missing 54 words. Will replace them with mean vector\n",
            "Missing 51 words. Will replace them with mean vector\n",
            "Missing 48 words. Will replace them with mean vector\n",
            "Missing 45 words. Will replace them with mean vector\n",
            "Missing 42 words. Will replace them with mean vector\n",
            "Missing 39 words. Will replace them with mean vector\n",
            "Missing 36 words. Will replace them with mean vector\n",
            "Missing 33 words. Will replace them with mean vector\n",
            "Missing 30 words. Will replace them with mean vector\n",
            "Missing 27 words. Will replace them with mean vector\n",
            "Missing 24 words. Will replace them with mean vector\n",
            "Missing 21 words. Will replace them with mean vector\n",
            "Missing 18 words. Will replace them with mean vector\n",
            "Missing 15 words. Will replace them with mean vector\n",
            "Missing 12 words. Will replace them with mean vector\n",
            "Missing 9 words. Will replace them with mean vector\n",
            "Missing 6 words. Will replace them with mean vector\n",
            "Missing 3 words. Will replace them with mean vector\n",
            "Missing 59 words. Will replace them with mean vector\n"
          ],
          "name": "stderr"
        },
        {
          "output_type": "stream",
          "text": [
            "Processing currency with 5 pairs, 20 questions\n"
          ],
          "name": "stdout"
        },
        {
          "output_type": "stream",
          "text": [
            "Missing 58 words. Will replace them with mean vector\n",
            "Missing 57 words. Will replace them with mean vector\n",
            "Missing 56 words. Will replace them with mean vector\n",
            "Missing 55 words. Will replace them with mean vector\n",
            "Missing 54 words. Will replace them with mean vector\n",
            "Missing 53 words. Will replace them with mean vector\n",
            "Missing 52 words. Will replace them with mean vector\n",
            "Missing 51 words. Will replace them with mean vector\n",
            "Missing 50 words. Will replace them with mean vector\n",
            "Missing 49 words. Will replace them with mean vector\n",
            "Missing 48 words. Will replace them with mean vector\n",
            "Missing 48 words. Will replace them with mean vector\n",
            "Missing 48 words. Will replace them with mean vector\n",
            "Missing 48 words. Will replace them with mean vector\n",
            "Missing 48 words. Will replace them with mean vector\n",
            "Missing 47 words. Will replace them with mean vector\n",
            "Missing 46 words. Will replace them with mean vector\n",
            "Missing 45 words. Will replace them with mean vector\n",
            "Missing 44 words. Will replace them with mean vector\n",
            "Missing 57 words. Will replace them with mean vector\n"
          ],
          "name": "stderr"
        },
        {
          "output_type": "stream",
          "text": [
            "Processing MadeOf with 5 pairs, 20 questions\n"
          ],
          "name": "stdout"
        },
        {
          "output_type": "stream",
          "text": [
            "Missing 54 words. Will replace them with mean vector\n",
            "Missing 51 words. Will replace them with mean vector\n",
            "Missing 48 words. Will replace them with mean vector\n",
            "Missing 45 words. Will replace them with mean vector\n",
            "Missing 42 words. Will replace them with mean vector\n",
            "Missing 39 words. Will replace them with mean vector\n",
            "Missing 36 words. Will replace them with mean vector\n",
            "Missing 33 words. Will replace them with mean vector\n",
            "Missing 30 words. Will replace them with mean vector\n",
            "Missing 27 words. Will replace them with mean vector\n",
            "Missing 24 words. Will replace them with mean vector\n",
            "Missing 21 words. Will replace them with mean vector\n",
            "Missing 18 words. Will replace them with mean vector\n",
            "Missing 15 words. Will replace them with mean vector\n",
            "Missing 12 words. Will replace them with mean vector\n",
            "Missing 9 words. Will replace them with mean vector\n",
            "Missing 6 words. Will replace them with mean vector\n",
            "Missing 3 words. Will replace them with mean vector\n",
            "Missing 57 words. Will replace them with mean vector\n"
          ],
          "name": "stderr"
        },
        {
          "output_type": "stream",
          "text": [
            "Processing superlative with 5 pairs, 20 questions\n"
          ],
          "name": "stdout"
        },
        {
          "output_type": "stream",
          "text": [
            "Missing 54 words. Will replace them with mean vector\n",
            "Missing 51 words. Will replace them with mean vector\n",
            "Missing 48 words. Will replace them with mean vector\n",
            "Missing 45 words. Will replace them with mean vector\n",
            "Missing 42 words. Will replace them with mean vector\n",
            "Missing 39 words. Will replace them with mean vector\n",
            "Missing 36 words. Will replace them with mean vector\n",
            "Missing 33 words. Will replace them with mean vector\n",
            "Missing 30 words. Will replace them with mean vector\n",
            "Missing 27 words. Will replace them with mean vector\n",
            "Missing 24 words. Will replace them with mean vector\n",
            "Missing 21 words. Will replace them with mean vector\n",
            "Missing 18 words. Will replace them with mean vector\n",
            "Missing 15 words. Will replace them with mean vector\n",
            "Missing 12 words. Will replace them with mean vector\n",
            "Missing 9 words. Will replace them with mean vector\n",
            "Missing 6 words. Will replace them with mean vector\n",
            "Missing 3 words. Will replace them with mean vector\n",
            "Missing 57 words. Will replace them with mean vector\n"
          ],
          "name": "stderr"
        },
        {
          "output_type": "stream",
          "text": [
            "Processing HasContext with 5 pairs, 20 questions\n"
          ],
          "name": "stdout"
        },
        {
          "output_type": "stream",
          "text": [
            "Missing 54 words. Will replace them with mean vector\n",
            "Missing 51 words. Will replace them with mean vector\n",
            "Missing 48 words. Will replace them with mean vector\n",
            "Missing 45 words. Will replace them with mean vector\n",
            "Missing 42 words. Will replace them with mean vector\n",
            "Missing 39 words. Will replace them with mean vector\n",
            "Missing 36 words. Will replace them with mean vector\n",
            "Missing 33 words. Will replace them with mean vector\n",
            "Missing 30 words. Will replace them with mean vector\n",
            "Missing 27 words. Will replace them with mean vector\n",
            "Missing 24 words. Will replace them with mean vector\n",
            "Missing 21 words. Will replace them with mean vector\n",
            "Missing 18 words. Will replace them with mean vector\n",
            "Missing 15 words. Will replace them with mean vector\n",
            "Missing 12 words. Will replace them with mean vector\n",
            "Missing 9 words. Will replace them with mean vector\n",
            "Missing 6 words. Will replace them with mean vector\n",
            "Missing 3 words. Will replace them with mean vector\n",
            "Missing 57 words. Will replace them with mean vector\n"
          ],
          "name": "stderr"
        },
        {
          "output_type": "stream",
          "text": [
            "Processing Entails with 5 pairs, 20 questions\n"
          ],
          "name": "stdout"
        },
        {
          "output_type": "stream",
          "text": [
            "Missing 54 words. Will replace them with mean vector\n",
            "Missing 51 words. Will replace them with mean vector\n",
            "Missing 48 words. Will replace them with mean vector\n",
            "Missing 45 words. Will replace them with mean vector\n",
            "Missing 42 words. Will replace them with mean vector\n",
            "Missing 39 words. Will replace them with mean vector\n",
            "Missing 36 words. Will replace them with mean vector\n",
            "Missing 33 words. Will replace them with mean vector\n",
            "Missing 30 words. Will replace them with mean vector\n",
            "Missing 27 words. Will replace them with mean vector\n",
            "Missing 24 words. Will replace them with mean vector\n",
            "Missing 21 words. Will replace them with mean vector\n",
            "Missing 18 words. Will replace them with mean vector\n",
            "Missing 15 words. Will replace them with mean vector\n",
            "Missing 12 words. Will replace them with mean vector\n",
            "Missing 9 words. Will replace them with mean vector\n",
            "Missing 6 words. Will replace them with mean vector\n",
            "Missing 3 words. Will replace them with mean vector\n",
            "Missing 57 words. Will replace them with mean vector\n"
          ],
          "name": "stderr"
        },
        {
          "output_type": "stream",
          "text": [
            "Processing past-tense with 5 pairs, 20 questions\n"
          ],
          "name": "stdout"
        },
        {
          "output_type": "stream",
          "text": [
            "Missing 54 words. Will replace them with mean vector\n",
            "Missing 51 words. Will replace them with mean vector\n",
            "Missing 48 words. Will replace them with mean vector\n",
            "Missing 45 words. Will replace them with mean vector\n",
            "Missing 42 words. Will replace them with mean vector\n",
            "Missing 39 words. Will replace them with mean vector\n",
            "Missing 36 words. Will replace them with mean vector\n",
            "Missing 33 words. Will replace them with mean vector\n",
            "Missing 30 words. Will replace them with mean vector\n",
            "Missing 27 words. Will replace them with mean vector\n",
            "Missing 24 words. Will replace them with mean vector\n",
            "Missing 21 words. Will replace them with mean vector\n",
            "Missing 18 words. Will replace them with mean vector\n",
            "Missing 15 words. Will replace them with mean vector\n",
            "Missing 12 words. Will replace them with mean vector\n",
            "Missing 9 words. Will replace them with mean vector\n",
            "Missing 6 words. Will replace them with mean vector\n",
            "Missing 3 words. Will replace them with mean vector\n",
            "Missing 60 words. Will replace them with mean vector\n"
          ],
          "name": "stderr"
        },
        {
          "output_type": "stream",
          "text": [
            "Processing PartOf with 5 pairs, 20 questions\n"
          ],
          "name": "stdout"
        },
        {
          "output_type": "stream",
          "text": [
            "Missing 59 words. Will replace them with mean vector\n",
            "Missing 58 words. Will replace them with mean vector\n",
            "Missing 57 words. Will replace them with mean vector\n",
            "Missing 56 words. Will replace them with mean vector\n",
            "Missing 54 words. Will replace them with mean vector\n",
            "Missing 52 words. Will replace them with mean vector\n",
            "Missing 50 words. Will replace them with mean vector\n",
            "Missing 48 words. Will replace them with mean vector\n",
            "Missing 46 words. Will replace them with mean vector\n",
            "Missing 43 words. Will replace them with mean vector\n",
            "Missing 40 words. Will replace them with mean vector\n",
            "Missing 38 words. Will replace them with mean vector\n",
            "Missing 36 words. Will replace them with mean vector\n",
            "Missing 33 words. Will replace them with mean vector\n",
            "Missing 30 words. Will replace them with mean vector\n",
            "Missing 28 words. Will replace them with mean vector\n",
            "Missing 26 words. Will replace them with mean vector\n",
            "Missing 23 words. Will replace them with mean vector\n",
            "Missing 20 words. Will replace them with mean vector\n",
            "Missing 57 words. Will replace them with mean vector\n"
          ],
          "name": "stderr"
        },
        {
          "output_type": "stream",
          "text": [
            "Processing plural-verbs with 5 pairs, 20 questions\n"
          ],
          "name": "stdout"
        },
        {
          "output_type": "stream",
          "text": [
            "Missing 54 words. Will replace them with mean vector\n",
            "Missing 51 words. Will replace them with mean vector\n",
            "Missing 48 words. Will replace them with mean vector\n",
            "Missing 45 words. Will replace them with mean vector\n",
            "Missing 42 words. Will replace them with mean vector\n",
            "Missing 39 words. Will replace them with mean vector\n",
            "Missing 36 words. Will replace them with mean vector\n",
            "Missing 33 words. Will replace them with mean vector\n",
            "Missing 30 words. Will replace them with mean vector\n",
            "Missing 27 words. Will replace them with mean vector\n",
            "Missing 24 words. Will replace them with mean vector\n",
            "Missing 21 words. Will replace them with mean vector\n",
            "Missing 18 words. Will replace them with mean vector\n",
            "Missing 15 words. Will replace them with mean vector\n",
            "Missing 12 words. Will replace them with mean vector\n",
            "Missing 9 words. Will replace them with mean vector\n",
            "Missing 6 words. Will replace them with mean vector\n",
            "Missing 3 words. Will replace them with mean vector\n",
            "Missing 58 words. Will replace them with mean vector\n"
          ],
          "name": "stderr"
        },
        {
          "output_type": "stream",
          "text": [
            "Processing MemberOf with 5 pairs, 20 questions\n"
          ],
          "name": "stdout"
        },
        {
          "output_type": "stream",
          "text": [
            "Missing 57 words. Will replace them with mean vector\n",
            "Missing 55 words. Will replace them with mean vector\n",
            "Missing 53 words. Will replace them with mean vector\n",
            "Missing 51 words. Will replace them with mean vector\n",
            "Missing 50 words. Will replace them with mean vector\n",
            "Missing 48 words. Will replace them with mean vector\n",
            "Missing 46 words. Will replace them with mean vector\n",
            "Missing 45 words. Will replace them with mean vector\n",
            "Missing 44 words. Will replace them with mean vector\n",
            "Missing 43 words. Will replace them with mean vector\n",
            "Missing 42 words. Will replace them with mean vector\n",
            "Missing 39 words. Will replace them with mean vector\n",
            "Missing 36 words. Will replace them with mean vector\n",
            "Missing 34 words. Will replace them with mean vector\n",
            "Missing 31 words. Will replace them with mean vector\n",
            "Missing 29 words. Will replace them with mean vector\n",
            "Missing 27 words. Will replace them with mean vector\n",
            "Missing 26 words. Will replace them with mean vector\n",
            "Missing 24 words. Will replace them with mean vector\n",
            "Missing 57 words. Will replace them with mean vector\n"
          ],
          "name": "stderr"
        },
        {
          "output_type": "stream",
          "text": [
            "Processing DerivedFrom with 5 pairs, 20 questions\n"
          ],
          "name": "stdout"
        },
        {
          "output_type": "stream",
          "text": [
            "Missing 54 words. Will replace them with mean vector\n",
            "Missing 51 words. Will replace them with mean vector\n",
            "Missing 48 words. Will replace them with mean vector\n",
            "Missing 45 words. Will replace them with mean vector\n",
            "Missing 42 words. Will replace them with mean vector\n",
            "Missing 39 words. Will replace them with mean vector\n",
            "Missing 36 words. Will replace them with mean vector\n",
            "Missing 33 words. Will replace them with mean vector\n",
            "Missing 30 words. Will replace them with mean vector\n",
            "Missing 27 words. Will replace them with mean vector\n",
            "Missing 24 words. Will replace them with mean vector\n",
            "Missing 21 words. Will replace them with mean vector\n",
            "Missing 18 words. Will replace them with mean vector\n",
            "Missing 15 words. Will replace them with mean vector\n",
            "Missing 12 words. Will replace them with mean vector\n",
            "Missing 9 words. Will replace them with mean vector\n",
            "Missing 6 words. Will replace them with mean vector\n",
            "Missing 3 words. Will replace them with mean vector\n",
            "Missing 57 words. Will replace them with mean vector\n"
          ],
          "name": "stderr"
        },
        {
          "output_type": "stream",
          "text": [
            "Processing Antonym with 5 pairs, 20 questions\n"
          ],
          "name": "stdout"
        },
        {
          "output_type": "stream",
          "text": [
            "Missing 54 words. Will replace them with mean vector\n",
            "Missing 51 words. Will replace them with mean vector\n",
            "Missing 48 words. Will replace them with mean vector\n",
            "Missing 46 words. Will replace them with mean vector\n",
            "Missing 44 words. Will replace them with mean vector\n",
            "Missing 42 words. Will replace them with mean vector\n",
            "Missing 40 words. Will replace them with mean vector\n",
            "Missing 37 words. Will replace them with mean vector\n",
            "Missing 34 words. Will replace them with mean vector\n",
            "Missing 31 words. Will replace them with mean vector\n",
            "Missing 28 words. Will replace them with mean vector\n",
            "Missing 25 words. Will replace them with mean vector\n",
            "Missing 22 words. Will replace them with mean vector\n",
            "Missing 19 words. Will replace them with mean vector\n",
            "Missing 16 words. Will replace them with mean vector\n",
            "Missing 13 words. Will replace them with mean vector\n",
            "Missing 10 words. Will replace them with mean vector\n",
            "Missing 7 words. Will replace them with mean vector\n",
            "Missing 4 words. Will replace them with mean vector\n",
            "Missing 57 words. Will replace them with mean vector\n"
          ],
          "name": "stderr"
        },
        {
          "output_type": "stream",
          "text": [
            "Processing SimilarTo with 5 pairs, 20 questions\n"
          ],
          "name": "stdout"
        },
        {
          "output_type": "stream",
          "text": [
            "Missing 54 words. Will replace them with mean vector\n",
            "Missing 51 words. Will replace them with mean vector\n",
            "Missing 48 words. Will replace them with mean vector\n",
            "Missing 45 words. Will replace them with mean vector\n",
            "Missing 42 words. Will replace them with mean vector\n",
            "Missing 39 words. Will replace them with mean vector\n",
            "Missing 36 words. Will replace them with mean vector\n",
            "Missing 33 words. Will replace them with mean vector\n",
            "Missing 30 words. Will replace them with mean vector\n",
            "Missing 27 words. Will replace them with mean vector\n",
            "Missing 24 words. Will replace them with mean vector\n",
            "Missing 22 words. Will replace them with mean vector\n",
            "Missing 20 words. Will replace them with mean vector\n",
            "Missing 18 words. Will replace them with mean vector\n",
            "Missing 16 words. Will replace them with mean vector\n",
            "Missing 14 words. Will replace them with mean vector\n",
            "Missing 12 words. Will replace them with mean vector\n",
            "Missing 10 words. Will replace them with mean vector\n",
            "Missing 8 words. Will replace them with mean vector\n",
            "Missing 57 words. Will replace them with mean vector\n"
          ],
          "name": "stderr"
        },
        {
          "output_type": "stream",
          "text": [
            "Processing Causes with 5 pairs, 20 questions\n"
          ],
          "name": "stdout"
        },
        {
          "output_type": "stream",
          "text": [
            "Missing 54 words. Will replace them with mean vector\n",
            "Missing 51 words. Will replace them with mean vector\n",
            "Missing 48 words. Will replace them with mean vector\n",
            "Missing 45 words. Will replace them with mean vector\n",
            "Missing 42 words. Will replace them with mean vector\n",
            "Missing 39 words. Will replace them with mean vector\n",
            "Missing 36 words. Will replace them with mean vector\n",
            "Missing 33 words. Will replace them with mean vector\n",
            "Missing 30 words. Will replace them with mean vector\n",
            "Missing 27 words. Will replace them with mean vector\n",
            "Missing 24 words. Will replace them with mean vector\n",
            "Missing 21 words. Will replace them with mean vector\n",
            "Missing 18 words. Will replace them with mean vector\n",
            "Missing 15 words. Will replace them with mean vector\n",
            "Missing 12 words. Will replace them with mean vector\n",
            "Missing 9 words. Will replace them with mean vector\n",
            "Missing 6 words. Will replace them with mean vector\n",
            "Missing 3 words. Will replace them with mean vector\n",
            "Missing 60 words. Will replace them with mean vector\n"
          ],
          "name": "stderr"
        },
        {
          "output_type": "stream",
          "text": [
            "Processing all-capital-cities with 5 pairs, 20 questions\n"
          ],
          "name": "stdout"
        },
        {
          "output_type": "stream",
          "text": [
            "Missing 60 words. Will replace them with mean vector\n",
            "Missing 60 words. Will replace them with mean vector\n",
            "Missing 60 words. Will replace them with mean vector\n",
            "Missing 60 words. Will replace them with mean vector\n",
            "Missing 60 words. Will replace them with mean vector\n",
            "Missing 60 words. Will replace them with mean vector\n",
            "Missing 60 words. Will replace them with mean vector\n",
            "Missing 60 words. Will replace them with mean vector\n",
            "Missing 60 words. Will replace them with mean vector\n",
            "Missing 60 words. Will replace them with mean vector\n",
            "Missing 60 words. Will replace them with mean vector\n",
            "Missing 60 words. Will replace them with mean vector\n",
            "Missing 60 words. Will replace them with mean vector\n",
            "Missing 60 words. Will replace them with mean vector\n",
            "Missing 60 words. Will replace them with mean vector\n",
            "Missing 60 words. Will replace them with mean vector\n",
            "Missing 60 words. Will replace them with mean vector\n",
            "Missing 60 words. Will replace them with mean vector\n",
            "Missing 60 words. Will replace them with mean vector\n",
            "Missing 57 words. Will replace them with mean vector\n"
          ],
          "name": "stderr"
        },
        {
          "output_type": "stream",
          "text": [
            "Processing man-woman with 5 pairs, 20 questions\n"
          ],
          "name": "stdout"
        },
        {
          "output_type": "stream",
          "text": [
            "Missing 54 words. Will replace them with mean vector\n",
            "Missing 51 words. Will replace them with mean vector\n",
            "Missing 49 words. Will replace them with mean vector\n",
            "Missing 46 words. Will replace them with mean vector\n",
            "Missing 43 words. Will replace them with mean vector\n",
            "Missing 40 words. Will replace them with mean vector\n",
            "Missing 38 words. Will replace them with mean vector\n",
            "Missing 35 words. Will replace them with mean vector\n",
            "Missing 32 words. Will replace them with mean vector\n",
            "Missing 29 words. Will replace them with mean vector\n",
            "Missing 27 words. Will replace them with mean vector\n",
            "Missing 24 words. Will replace them with mean vector\n",
            "Missing 21 words. Will replace them with mean vector\n",
            "Missing 18 words. Will replace them with mean vector\n",
            "Missing 16 words. Will replace them with mean vector\n",
            "Missing 15 words. Will replace them with mean vector\n",
            "Missing 14 words. Will replace them with mean vector\n",
            "Missing 13 words. Will replace them with mean vector\n",
            "Missing 12 words. Will replace them with mean vector\n",
            "Missing 57 words. Will replace them with mean vector\n"
          ],
          "name": "stderr"
        },
        {
          "output_type": "stream",
          "text": [
            "Processing RelatedTo with 5 pairs, 20 questions\n"
          ],
          "name": "stdout"
        },
        {
          "output_type": "stream",
          "text": [
            "Missing 54 words. Will replace them with mean vector\n",
            "Missing 51 words. Will replace them with mean vector\n",
            "Missing 48 words. Will replace them with mean vector\n",
            "Missing 45 words. Will replace them with mean vector\n",
            "Missing 42 words. Will replace them with mean vector\n",
            "Missing 39 words. Will replace them with mean vector\n",
            "Missing 36 words. Will replace them with mean vector\n",
            "Missing 33 words. Will replace them with mean vector\n",
            "Missing 30 words. Will replace them with mean vector\n",
            "Missing 27 words. Will replace them with mean vector\n",
            "Missing 24 words. Will replace them with mean vector\n",
            "Missing 21 words. Will replace them with mean vector\n",
            "Missing 18 words. Will replace them with mean vector\n",
            "Missing 15 words. Will replace them with mean vector\n",
            "Missing 12 words. Will replace them with mean vector\n",
            "Missing 9 words. Will replace them with mean vector\n",
            "Missing 6 words. Will replace them with mean vector\n",
            "Missing 3 words. Will replace them with mean vector\n",
            "Missing 57 words. Will replace them with mean vector\n"
          ],
          "name": "stderr"
        },
        {
          "output_type": "stream",
          "text": [
            "Processing adjective-to-adverb with 5 pairs, 20 questions\n"
          ],
          "name": "stdout"
        },
        {
          "output_type": "stream",
          "text": [
            "Missing 54 words. Will replace them with mean vector\n",
            "Missing 51 words. Will replace them with mean vector\n",
            "Missing 48 words. Will replace them with mean vector\n",
            "Missing 45 words. Will replace them with mean vector\n",
            "Missing 42 words. Will replace them with mean vector\n",
            "Missing 39 words. Will replace them with mean vector\n",
            "Missing 36 words. Will replace them with mean vector\n",
            "Missing 33 words. Will replace them with mean vector\n",
            "Missing 30 words. Will replace them with mean vector\n",
            "Missing 27 words. Will replace them with mean vector\n",
            "Missing 24 words. Will replace them with mean vector\n",
            "Missing 21 words. Will replace them with mean vector\n",
            "Missing 18 words. Will replace them with mean vector\n",
            "Missing 15 words. Will replace them with mean vector\n",
            "Missing 12 words. Will replace them with mean vector\n",
            "Missing 9 words. Will replace them with mean vector\n",
            "Missing 6 words. Will replace them with mean vector\n",
            "Missing 3 words. Will replace them with mean vector\n",
            "Missing 57 words. Will replace them with mean vector\n"
          ],
          "name": "stderr"
        },
        {
          "output_type": "stream",
          "text": [
            "Processing Attribute with 5 pairs, 20 questions\n"
          ],
          "name": "stdout"
        },
        {
          "output_type": "stream",
          "text": [
            "Missing 54 words. Will replace them with mean vector\n",
            "Missing 51 words. Will replace them with mean vector\n",
            "Missing 48 words. Will replace them with mean vector\n",
            "Missing 45 words. Will replace them with mean vector\n",
            "Missing 42 words. Will replace them with mean vector\n",
            "Missing 39 words. Will replace them with mean vector\n",
            "Missing 36 words. Will replace them with mean vector\n",
            "Missing 33 words. Will replace them with mean vector\n",
            "Missing 30 words. Will replace them with mean vector\n",
            "Missing 27 words. Will replace them with mean vector\n",
            "Missing 24 words. Will replace them with mean vector\n",
            "Missing 21 words. Will replace them with mean vector\n",
            "Missing 18 words. Will replace them with mean vector\n",
            "Missing 15 words. Will replace them with mean vector\n",
            "Missing 12 words. Will replace them with mean vector\n",
            "Missing 9 words. Will replace them with mean vector\n",
            "Missing 6 words. Will replace them with mean vector\n",
            "Missing 3 words. Will replace them with mean vector\n",
            "Missing 57 words. Will replace them with mean vector\n"
          ],
          "name": "stderr"
        },
        {
          "output_type": "stream",
          "text": [
            "Processing plural-nouns with 5 pairs, 20 questions\n"
          ],
          "name": "stdout"
        },
        {
          "output_type": "stream",
          "text": [
            "Missing 54 words. Will replace them with mean vector\n",
            "Missing 51 words. Will replace them with mean vector\n",
            "Missing 48 words. Will replace them with mean vector\n",
            "Missing 45 words. Will replace them with mean vector\n",
            "Missing 42 words. Will replace them with mean vector\n",
            "Missing 39 words. Will replace them with mean vector\n",
            "Missing 36 words. Will replace them with mean vector\n",
            "Missing 33 words. Will replace them with mean vector\n",
            "Missing 30 words. Will replace them with mean vector\n",
            "Missing 27 words. Will replace them with mean vector\n",
            "Missing 24 words. Will replace them with mean vector\n",
            "Missing 21 words. Will replace them with mean vector\n",
            "Missing 18 words. Will replace them with mean vector\n",
            "Missing 15 words. Will replace them with mean vector\n",
            "Missing 12 words. Will replace them with mean vector\n",
            "Missing 9 words. Will replace them with mean vector\n",
            "Missing 6 words. Will replace them with mean vector\n",
            "Missing 3 words. Will replace them with mean vector\n",
            "Missing 59 words. Will replace them with mean vector\n"
          ],
          "name": "stderr"
        },
        {
          "output_type": "stream",
          "text": [
            "Processing nationality-adjective with 5 pairs, 20 questions\n"
          ],
          "name": "stdout"
        },
        {
          "output_type": "stream",
          "text": [
            "Missing 59 words. Will replace them with mean vector\n",
            "Missing 59 words. Will replace them with mean vector\n",
            "Missing 59 words. Will replace them with mean vector\n",
            "Missing 58 words. Will replace them with mean vector\n",
            "Missing 57 words. Will replace them with mean vector\n",
            "Missing 56 words. Will replace them with mean vector\n",
            "Missing 55 words. Will replace them with mean vector\n",
            "Missing 55 words. Will replace them with mean vector\n",
            "Missing 54 words. Will replace them with mean vector\n",
            "Missing 54 words. Will replace them with mean vector\n",
            "Missing 54 words. Will replace them with mean vector\n",
            "Missing 54 words. Will replace them with mean vector\n",
            "Missing 53 words. Will replace them with mean vector\n",
            "Missing 53 words. Will replace them with mean vector\n",
            "Missing 53 words. Will replace them with mean vector\n",
            "Missing 53 words. Will replace them with mean vector\n",
            "Missing 52 words. Will replace them with mean vector\n",
            "Missing 52 words. Will replace them with mean vector\n",
            "Missing 52 words. Will replace them with mean vector\n",
            "Missing 60 words. Will replace them with mean vector\n"
          ],
          "name": "stderr"
        },
        {
          "output_type": "stream",
          "text": [
            "Processing city-in-state with 5 pairs, 20 questions\n"
          ],
          "name": "stdout"
        },
        {
          "output_type": "stream",
          "text": [
            "Missing 60 words. Will replace them with mean vector\n",
            "Missing 60 words. Will replace them with mean vector\n",
            "Missing 60 words. Will replace them with mean vector\n",
            "Missing 60 words. Will replace them with mean vector\n",
            "Missing 60 words. Will replace them with mean vector\n",
            "Missing 60 words. Will replace them with mean vector\n",
            "Missing 60 words. Will replace them with mean vector\n",
            "Missing 60 words. Will replace them with mean vector\n",
            "Missing 60 words. Will replace them with mean vector\n",
            "Missing 60 words. Will replace them with mean vector\n",
            "Missing 60 words. Will replace them with mean vector\n",
            "Missing 60 words. Will replace them with mean vector\n",
            "Missing 60 words. Will replace them with mean vector\n",
            "Missing 60 words. Will replace them with mean vector\n",
            "Missing 60 words. Will replace them with mean vector\n",
            "Missing 60 words. Will replace them with mean vector\n",
            "Missing 60 words. Will replace them with mean vector\n",
            "Missing 60 words. Will replace them with mean vector\n",
            "Missing 60 words. Will replace them with mean vector\n",
            "Missing 57 words. Will replace them with mean vector\n"
          ],
          "name": "stderr"
        },
        {
          "output_type": "stream",
          "text": [
            "Processing IsA with 5 pairs, 20 questions\n"
          ],
          "name": "stdout"
        },
        {
          "output_type": "stream",
          "text": [
            "Missing 54 words. Will replace them with mean vector\n",
            "Missing 51 words. Will replace them with mean vector\n",
            "Missing 48 words. Will replace them with mean vector\n",
            "Missing 45 words. Will replace them with mean vector\n",
            "Missing 42 words. Will replace them with mean vector\n",
            "Missing 39 words. Will replace them with mean vector\n",
            "Missing 36 words. Will replace them with mean vector\n",
            "Missing 33 words. Will replace them with mean vector\n",
            "Missing 30 words. Will replace them with mean vector\n",
            "Missing 27 words. Will replace them with mean vector\n",
            "Missing 24 words. Will replace them with mean vector\n",
            "Missing 21 words. Will replace them with mean vector\n",
            "Missing 18 words. Will replace them with mean vector\n",
            "Missing 15 words. Will replace them with mean vector\n",
            "Missing 12 words. Will replace them with mean vector\n",
            "Missing 9 words. Will replace them with mean vector\n",
            "Missing 6 words. Will replace them with mean vector\n",
            "Missing 3 words. Will replace them with mean vector\n"
          ],
          "name": "stderr"
        },
        {
          "output_type": "stream",
          "text": [
            "                       accuracy  correct  count\n",
            "comparative            0.250000      5.0     20\n",
            "InstanceOf             0.000000      0.0     20\n",
            "present-participle     0.650000     13.0     20\n",
            "currency               0.000000      0.0     20\n",
            "MadeOf                 0.000000      0.0     20\n",
            "superlative            0.400000      8.0     20\n",
            "HasContext             0.050000      1.0     20\n",
            "Entails                0.000000      0.0     20\n",
            "past-tense             0.850000     17.0     20\n",
            "PartOf                 0.100000      2.0     20\n",
            "plural-verbs           0.650000     13.0     20\n",
            "MemberOf               0.000000      0.0     20\n",
            "DerivedFrom            0.050000      1.0     20\n",
            "Antonym                0.000000      0.0     20\n",
            "SimilarTo              0.000000      0.0     20\n",
            "Causes                 0.000000      0.0     20\n",
            "all-capital-cities     0.000000      0.0     20\n",
            "man-woman              0.100000      2.0     20\n",
            "RelatedTo              0.000000      0.0     20\n",
            "adjective-to-adverb    0.400000      8.0     20\n",
            "Attribute              0.100000      2.0     20\n",
            "plural-nouns           0.800000     16.0     20\n",
            "nationality-adjective  0.000000      0.0     20\n",
            "city-in-state          0.000000      0.0     20\n",
            "IsA                    0.000000      0.0     20\n",
            "wikipedia              0.023077      6.0    260\n",
            "all                    0.176000     88.0    500\n",
            "wordnet                0.341667     82.0    240\n"
          ],
          "name": "stdout"
        }
      ]
    },
    {
      "cell_type": "code",
      "metadata": {
        "id": "E3dunab5IyP2",
        "colab_type": "code",
        "outputId": "7b1cdd42-7b67-408e-fc6e-342061db81ee",
        "colab": {
          "base_uri": "https://localhost:8080/",
          "height": 688
        }
      },
      "source": [
        "results = evaluateOnAll(w)\n",
        "print(results)"
      ],
      "execution_count": 0,
      "outputs": [
        {
          "output_type": "stream",
          "text": [
            "Missing 66 words. Will replace them with mean vector\n",
            "/content/drive/My Drive/Term5/NLP/Dataset/web/evaluate.py:336: FutureWarning: arrays to stack must be passed as a \"sequence\" type such as list or tuple. Support for non-sequence iterables such as generators is deprecated as of NumPy 1.16 and will raise an error in the future.\n",
            "  A = np.vstack(w.get(word, mean_vector) for word in X[:, 0])\n",
            "/content/drive/My Drive/Term5/NLP/Dataset/web/evaluate.py:337: FutureWarning: arrays to stack must be passed as a \"sequence\" type such as list or tuple. Support for non-sequence iterables such as generators is deprecated as of NumPy 1.16 and will raise an error in the future.\n",
            "  B = np.vstack(w.get(word, mean_vector) for word in X[:, 1])\n",
            "Missing 13 words. Will replace them with mean vector\n"
          ],
          "name": "stderr"
        },
        {
          "output_type": "stream",
          "text": [
            "Spearman correlation of scores on MTurk 0.5444531039246662\n",
            "Spearman correlation of scores on MEN 0.7563877198531039\n",
            "Spearman correlation of scores on WS353 0.6290101656490105\n"
          ],
          "name": "stdout"
        },
        {
          "output_type": "stream",
          "text": [
            "Missing 611 words. Will replace them with mean vector\n",
            "Missing 3 words. Will replace them with mean vector\n",
            "Missing 12789 words. Will replace them with mean vector\n"
          ],
          "name": "stderr"
        },
        {
          "output_type": "stream",
          "text": [
            "Spearman correlation of scores on RubensteinAndGoodenough 0.7804089163639931\n",
            "Spearman correlation of scores on Rare Words 0.32632828455206075\n",
            "Spearman correlation of scores on SIMLEX999 0.3689886232657056\n",
            "Spearman correlation of scores on TR9856 0.08093182061062353\n",
            "Calculating analogy benchmarks\n"
          ],
          "name": "stdout"
        },
        {
          "output_type": "stream",
          "text": [
            "Missing 22385 words. Will replace them with mean vector\n",
            "/content/drive/My Drive/Term5/NLP/Dataset/web/analogy.py:105: FutureWarning: arrays to stack must be passed as a \"sequence\" type such as list or tuple. Support for non-sequence iterables such as generators is deprecated as of NumPy 1.16 and will raise an error in the future.\n",
            "  A, B, C = np.vstack(w.get(word, mean_vector) for word in X_b[:, 0]), \\\n",
            "/content/drive/My Drive/Term5/NLP/Dataset/web/analogy.py:106: FutureWarning: arrays to stack must be passed as a \"sequence\" type such as list or tuple. Support for non-sequence iterables such as generators is deprecated as of NumPy 1.16 and will raise an error in the future.\n",
            "  np.vstack(w.get(word, mean_vector) for word in X_b[:, 1]), \\\n",
            "/content/drive/My Drive/Term5/NLP/Dataset/web/analogy.py:107: FutureWarning: arrays to stack must be passed as a \"sequence\" type such as list or tuple. Support for non-sequence iterables such as generators is deprecated as of NumPy 1.16 and will raise an error in the future.\n",
            "  np.vstack(w.get(word, mean_vector) for word in X_b[:, 2])\n",
            "Missing 524 words. Will replace them with mean vector\n"
          ],
          "name": "stderr"
        },
        {
          "output_type": "stream",
          "text": [
            "Analogy prediction accuracy on Google 0.31943307408923455\n",
            "Analogy prediction accuracy on MSR 0.5855\n",
            "Analogy prediction accuracy on SemEval2012 0.16367799650020665\n",
            "      MTurk       MEN    WS353  ...    Google     MSR  SemEval2012_2\n",
            "0  0.544453  0.756388  0.62901  ...  0.319433  0.5855       0.163678\n",
            "\n",
            "[1 rows x 10 columns]\n"
          ],
          "name": "stdout"
        },
        {
          "output_type": "stream",
          "text": [
            "/usr/local/lib/python3.6/dist-packages/ipykernel_launcher.py:9: FutureWarning: arrays to stack must be passed as a \"sequence\" type such as list or tuple. Support for non-sequence iterables such as generators is deprecated as of NumPy 1.16 and will raise an error in the future.\n",
            "  if __name__ == '__main__':\n",
            "/usr/local/lib/python3.6/dist-packages/ipykernel_launcher.py:10: FutureWarning: arrays to stack must be passed as a \"sequence\" type such as list or tuple. Support for non-sequence iterables such as generators is deprecated as of NumPy 1.16 and will raise an error in the future.\n",
            "  # Remove the CWD from sys.path while we load stuff.\n",
            "/usr/local/lib/python3.6/dist-packages/ipykernel_launcher.py:12: FutureWarning: arrays to stack must be passed as a \"sequence\" type such as list or tuple. Support for non-sequence iterables such as generators is deprecated as of NumPy 1.16 and will raise an error in the future.\n",
            "  if sys.path[0] == '':\n"
          ],
          "name": "stderr"
        }
      ]
    },
    {
      "cell_type": "markdown",
      "metadata": {
        "id": "HpcR5BM9I1q4",
        "colab_type": "text"
      },
      "source": [
        "##### WE:6"
      ]
    },
    {
      "cell_type": "code",
      "metadata": {
        "id": "E9YLQIJIR9cT",
        "colab_type": "code",
        "outputId": "b7691758-0778-469c-d9d9-8e4a0af7cef8",
        "colab": {
          "base_uri": "https://localhost:8080/",
          "height": 1000
        }
      },
      "source": [
        "w = w_gcbow_1\n",
        "results_wordrep = calAnswersOnWordRep(data_wordrep, w, max_pairs=5)\n",
        "print(results_wordrep)"
      ],
      "execution_count": 0,
      "outputs": [
        {
          "output_type": "stream",
          "text": [
            "Missing 58 words. Will replace them with mean vector\n"
          ],
          "name": "stderr"
        },
        {
          "output_type": "stream",
          "text": [
            "Processing comparative with 5 pairs, 20 questions\n"
          ],
          "name": "stdout"
        },
        {
          "output_type": "stream",
          "text": [
            "/content/drive/My Drive/Term5/NLP/Dataset/web/analogy.py:101: RuntimeWarning: invalid value encountered in double_scalars\n",
            "  if id_batch % np.floor(len(X) / (10. * self.batch_size)) == 0:\n",
            "/content/drive/My Drive/Term5/NLP/Dataset/web/analogy.py:105: FutureWarning: arrays to stack must be passed as a \"sequence\" type such as list or tuple. Support for non-sequence iterables such as generators is deprecated as of NumPy 1.16 and will raise an error in the future.\n",
            "  A, B, C = np.vstack(w.get(word, mean_vector) for word in X_b[:, 0]), \\\n",
            "/content/drive/My Drive/Term5/NLP/Dataset/web/analogy.py:106: FutureWarning: arrays to stack must be passed as a \"sequence\" type such as list or tuple. Support for non-sequence iterables such as generators is deprecated as of NumPy 1.16 and will raise an error in the future.\n",
            "  np.vstack(w.get(word, mean_vector) for word in X_b[:, 1]), \\\n",
            "/content/drive/My Drive/Term5/NLP/Dataset/web/analogy.py:107: FutureWarning: arrays to stack must be passed as a \"sequence\" type such as list or tuple. Support for non-sequence iterables such as generators is deprecated as of NumPy 1.16 and will raise an error in the future.\n",
            "  np.vstack(w.get(word, mean_vector) for word in X_b[:, 2])\n",
            "Missing 56 words. Will replace them with mean vector\n",
            "Missing 55 words. Will replace them with mean vector\n",
            "Missing 53 words. Will replace them with mean vector\n",
            "Missing 50 words. Will replace them with mean vector\n",
            "Missing 47 words. Will replace them with mean vector\n",
            "Missing 45 words. Will replace them with mean vector\n",
            "Missing 42 words. Will replace them with mean vector\n",
            "Missing 40 words. Will replace them with mean vector\n",
            "Missing 38 words. Will replace them with mean vector\n",
            "Missing 37 words. Will replace them with mean vector\n",
            "Missing 35 words. Will replace them with mean vector\n",
            "Missing 34 words. Will replace them with mean vector\n",
            "Missing 33 words. Will replace them with mean vector\n",
            "Missing 32 words. Will replace them with mean vector\n",
            "Missing 31 words. Will replace them with mean vector\n",
            "Missing 28 words. Will replace them with mean vector\n",
            "Missing 25 words. Will replace them with mean vector\n",
            "Missing 22 words. Will replace them with mean vector\n",
            "Missing 20 words. Will replace them with mean vector\n",
            "Missing 58 words. Will replace them with mean vector\n"
          ],
          "name": "stderr"
        },
        {
          "output_type": "stream",
          "text": [
            "Processing InstanceOf with 5 pairs, 20 questions\n"
          ],
          "name": "stdout"
        },
        {
          "output_type": "stream",
          "text": [
            "Missing 56 words. Will replace them with mean vector\n",
            "Missing 54 words. Will replace them with mean vector\n",
            "Missing 52 words. Will replace them with mean vector\n",
            "Missing 50 words. Will replace them with mean vector\n",
            "Missing 47 words. Will replace them with mean vector\n",
            "Missing 44 words. Will replace them with mean vector\n",
            "Missing 41 words. Will replace them with mean vector\n",
            "Missing 39 words. Will replace them with mean vector\n",
            "Missing 36 words. Will replace them with mean vector\n",
            "Missing 33 words. Will replace them with mean vector\n",
            "Missing 30 words. Will replace them with mean vector\n",
            "Missing 29 words. Will replace them with mean vector\n",
            "Missing 27 words. Will replace them with mean vector\n",
            "Missing 25 words. Will replace them with mean vector\n",
            "Missing 23 words. Will replace them with mean vector\n",
            "Missing 22 words. Will replace them with mean vector\n",
            "Missing 20 words. Will replace them with mean vector\n",
            "Missing 18 words. Will replace them with mean vector\n",
            "Missing 16 words. Will replace them with mean vector\n",
            "Missing 57 words. Will replace them with mean vector\n"
          ],
          "name": "stderr"
        },
        {
          "output_type": "stream",
          "text": [
            "Processing present-participle with 5 pairs, 20 questions\n"
          ],
          "name": "stdout"
        },
        {
          "output_type": "stream",
          "text": [
            "Missing 54 words. Will replace them with mean vector\n",
            "Missing 51 words. Will replace them with mean vector\n",
            "Missing 48 words. Will replace them with mean vector\n",
            "Missing 46 words. Will replace them with mean vector\n",
            "Missing 44 words. Will replace them with mean vector\n",
            "Missing 42 words. Will replace them with mean vector\n",
            "Missing 40 words. Will replace them with mean vector\n",
            "Missing 37 words. Will replace them with mean vector\n",
            "Missing 34 words. Will replace them with mean vector\n",
            "Missing 31 words. Will replace them with mean vector\n",
            "Missing 28 words. Will replace them with mean vector\n",
            "Missing 26 words. Will replace them with mean vector\n",
            "Missing 24 words. Will replace them with mean vector\n",
            "Missing 22 words. Will replace them with mean vector\n",
            "Missing 20 words. Will replace them with mean vector\n",
            "Missing 18 words. Will replace them with mean vector\n",
            "Missing 16 words. Will replace them with mean vector\n",
            "Missing 14 words. Will replace them with mean vector\n",
            "Missing 12 words. Will replace them with mean vector\n",
            "Missing 58 words. Will replace them with mean vector\n"
          ],
          "name": "stderr"
        },
        {
          "output_type": "stream",
          "text": [
            "Processing currency with 5 pairs, 20 questions\n"
          ],
          "name": "stdout"
        },
        {
          "output_type": "stream",
          "text": [
            "Missing 56 words. Will replace them with mean vector\n",
            "Missing 54 words. Will replace them with mean vector\n",
            "Missing 52 words. Will replace them with mean vector\n",
            "Missing 49 words. Will replace them with mean vector\n",
            "Missing 46 words. Will replace them with mean vector\n",
            "Missing 43 words. Will replace them with mean vector\n",
            "Missing 40 words. Will replace them with mean vector\n",
            "Missing 38 words. Will replace them with mean vector\n",
            "Missing 36 words. Will replace them with mean vector\n",
            "Missing 34 words. Will replace them with mean vector\n",
            "Missing 32 words. Will replace them with mean vector\n",
            "Missing 30 words. Will replace them with mean vector\n",
            "Missing 28 words. Will replace them with mean vector\n",
            "Missing 26 words. Will replace them with mean vector\n",
            "Missing 24 words. Will replace them with mean vector\n",
            "Missing 22 words. Will replace them with mean vector\n",
            "Missing 20 words. Will replace them with mean vector\n",
            "Missing 18 words. Will replace them with mean vector\n",
            "Missing 16 words. Will replace them with mean vector\n",
            "Missing 58 words. Will replace them with mean vector\n"
          ],
          "name": "stderr"
        },
        {
          "output_type": "stream",
          "text": [
            "Processing MadeOf with 5 pairs, 20 questions\n"
          ],
          "name": "stdout"
        },
        {
          "output_type": "stream",
          "text": [
            "Missing 56 words. Will replace them with mean vector\n",
            "Missing 54 words. Will replace them with mean vector\n",
            "Missing 52 words. Will replace them with mean vector\n",
            "Missing 49 words. Will replace them with mean vector\n",
            "Missing 46 words. Will replace them with mean vector\n",
            "Missing 43 words. Will replace them with mean vector\n",
            "Missing 40 words. Will replace them with mean vector\n",
            "Missing 37 words. Will replace them with mean vector\n",
            "Missing 34 words. Will replace them with mean vector\n",
            "Missing 31 words. Will replace them with mean vector\n",
            "Missing 28 words. Will replace them with mean vector\n",
            "Missing 25 words. Will replace them with mean vector\n",
            "Missing 22 words. Will replace them with mean vector\n",
            "Missing 19 words. Will replace them with mean vector\n",
            "Missing 16 words. Will replace them with mean vector\n",
            "Missing 13 words. Will replace them with mean vector\n",
            "Missing 10 words. Will replace them with mean vector\n",
            "Missing 7 words. Will replace them with mean vector\n",
            "Missing 4 words. Will replace them with mean vector\n",
            "Missing 57 words. Will replace them with mean vector\n"
          ],
          "name": "stderr"
        },
        {
          "output_type": "stream",
          "text": [
            "Processing superlative with 5 pairs, 20 questions\n"
          ],
          "name": "stdout"
        },
        {
          "output_type": "stream",
          "text": [
            "Missing 55 words. Will replace them with mean vector\n",
            "Missing 53 words. Will replace them with mean vector\n",
            "Missing 50 words. Will replace them with mean vector\n",
            "Missing 48 words. Will replace them with mean vector\n",
            "Missing 47 words. Will replace them with mean vector\n",
            "Missing 46 words. Will replace them with mean vector\n",
            "Missing 44 words. Will replace them with mean vector\n",
            "Missing 43 words. Will replace them with mean vector\n",
            "Missing 42 words. Will replace them with mean vector\n",
            "Missing 42 words. Will replace them with mean vector\n",
            "Missing 41 words. Will replace them with mean vector\n",
            "Missing 40 words. Will replace them with mean vector\n",
            "Missing 39 words. Will replace them with mean vector\n",
            "Missing 39 words. Will replace them with mean vector\n",
            "Missing 38 words. Will replace them with mean vector\n",
            "Missing 35 words. Will replace them with mean vector\n",
            "Missing 32 words. Will replace them with mean vector\n",
            "Missing 30 words. Will replace them with mean vector\n",
            "Missing 28 words. Will replace them with mean vector\n",
            "Missing 57 words. Will replace them with mean vector\n"
          ],
          "name": "stderr"
        },
        {
          "output_type": "stream",
          "text": [
            "Processing HasContext with 5 pairs, 20 questions\n"
          ],
          "name": "stdout"
        },
        {
          "output_type": "stream",
          "text": [
            "Missing 54 words. Will replace them with mean vector\n",
            "Missing 51 words. Will replace them with mean vector\n",
            "Missing 49 words. Will replace them with mean vector\n",
            "Missing 46 words. Will replace them with mean vector\n",
            "Missing 43 words. Will replace them with mean vector\n",
            "Missing 40 words. Will replace them with mean vector\n",
            "Missing 38 words. Will replace them with mean vector\n",
            "Missing 35 words. Will replace them with mean vector\n",
            "Missing 32 words. Will replace them with mean vector\n",
            "Missing 29 words. Will replace them with mean vector\n",
            "Missing 27 words. Will replace them with mean vector\n",
            "Missing 25 words. Will replace them with mean vector\n",
            "Missing 23 words. Will replace them with mean vector\n",
            "Missing 21 words. Will replace them with mean vector\n",
            "Missing 20 words. Will replace them with mean vector\n",
            "Missing 18 words. Will replace them with mean vector\n",
            "Missing 16 words. Will replace them with mean vector\n",
            "Missing 14 words. Will replace them with mean vector\n",
            "Missing 12 words. Will replace them with mean vector\n",
            "Missing 57 words. Will replace them with mean vector\n"
          ],
          "name": "stderr"
        },
        {
          "output_type": "stream",
          "text": [
            "Processing Entails with 5 pairs, 20 questions\n"
          ],
          "name": "stdout"
        },
        {
          "output_type": "stream",
          "text": [
            "Missing 54 words. Will replace them with mean vector\n",
            "Missing 51 words. Will replace them with mean vector\n",
            "Missing 48 words. Will replace them with mean vector\n",
            "Missing 45 words. Will replace them with mean vector\n",
            "Missing 42 words. Will replace them with mean vector\n",
            "Missing 39 words. Will replace them with mean vector\n",
            "Missing 36 words. Will replace them with mean vector\n",
            "Missing 34 words. Will replace them with mean vector\n",
            "Missing 32 words. Will replace them with mean vector\n",
            "Missing 30 words. Will replace them with mean vector\n",
            "Missing 28 words. Will replace them with mean vector\n",
            "Missing 25 words. Will replace them with mean vector\n",
            "Missing 22 words. Will replace them with mean vector\n",
            "Missing 19 words. Will replace them with mean vector\n",
            "Missing 16 words. Will replace them with mean vector\n",
            "Missing 13 words. Will replace them with mean vector\n",
            "Missing 10 words. Will replace them with mean vector\n",
            "Missing 7 words. Will replace them with mean vector\n",
            "Missing 4 words. Will replace them with mean vector\n",
            "Missing 60 words. Will replace them with mean vector\n"
          ],
          "name": "stderr"
        },
        {
          "output_type": "stream",
          "text": [
            "Processing past-tense with 5 pairs, 20 questions\n"
          ],
          "name": "stdout"
        },
        {
          "output_type": "stream",
          "text": [
            "Missing 60 words. Will replace them with mean vector\n",
            "Missing 60 words. Will replace them with mean vector\n",
            "Missing 59 words. Will replace them with mean vector\n",
            "Missing 59 words. Will replace them with mean vector\n",
            "Missing 59 words. Will replace them with mean vector\n",
            "Missing 59 words. Will replace them with mean vector\n",
            "Missing 58 words. Will replace them with mean vector\n",
            "Missing 57 words. Will replace them with mean vector\n",
            "Missing 56 words. Will replace them with mean vector\n",
            "Missing 55 words. Will replace them with mean vector\n",
            "Missing 53 words. Will replace them with mean vector\n",
            "Missing 53 words. Will replace them with mean vector\n",
            "Missing 53 words. Will replace them with mean vector\n",
            "Missing 53 words. Will replace them with mean vector\n",
            "Missing 52 words. Will replace them with mean vector\n",
            "Missing 50 words. Will replace them with mean vector\n",
            "Missing 48 words. Will replace them with mean vector\n",
            "Missing 46 words. Will replace them with mean vector\n",
            "Missing 44 words. Will replace them with mean vector\n",
            "Missing 57 words. Will replace them with mean vector\n"
          ],
          "name": "stderr"
        },
        {
          "output_type": "stream",
          "text": [
            "Processing PartOf with 5 pairs, 20 questions\n"
          ],
          "name": "stdout"
        },
        {
          "output_type": "stream",
          "text": [
            "Missing 54 words. Will replace them with mean vector\n",
            "Missing 52 words. Will replace them with mean vector\n",
            "Missing 49 words. Will replace them with mean vector\n",
            "Missing 46 words. Will replace them with mean vector\n",
            "Missing 43 words. Will replace them with mean vector\n",
            "Missing 41 words. Will replace them with mean vector\n",
            "Missing 38 words. Will replace them with mean vector\n",
            "Missing 36 words. Will replace them with mean vector\n",
            "Missing 34 words. Will replace them with mean vector\n",
            "Missing 33 words. Will replace them with mean vector\n",
            "Missing 31 words. Will replace them with mean vector\n",
            "Missing 30 words. Will replace them with mean vector\n",
            "Missing 29 words. Will replace them with mean vector\n",
            "Missing 28 words. Will replace them with mean vector\n",
            "Missing 27 words. Will replace them with mean vector\n",
            "Missing 24 words. Will replace them with mean vector\n",
            "Missing 21 words. Will replace them with mean vector\n",
            "Missing 18 words. Will replace them with mean vector\n",
            "Missing 16 words. Will replace them with mean vector\n",
            "Missing 58 words. Will replace them with mean vector\n"
          ],
          "name": "stderr"
        },
        {
          "output_type": "stream",
          "text": [
            "Processing plural-verbs with 5 pairs, 20 questions\n"
          ],
          "name": "stdout"
        },
        {
          "output_type": "stream",
          "text": [
            "Missing 56 words. Will replace them with mean vector\n",
            "Missing 54 words. Will replace them with mean vector\n",
            "Missing 52 words. Will replace them with mean vector\n",
            "Missing 50 words. Will replace them with mean vector\n",
            "Missing 48 words. Will replace them with mean vector\n",
            "Missing 46 words. Will replace them with mean vector\n",
            "Missing 44 words. Will replace them with mean vector\n",
            "Missing 42 words. Will replace them with mean vector\n",
            "Missing 40 words. Will replace them with mean vector\n",
            "Missing 38 words. Will replace them with mean vector\n",
            "Missing 36 words. Will replace them with mean vector\n",
            "Missing 34 words. Will replace them with mean vector\n",
            "Missing 32 words. Will replace them with mean vector\n",
            "Missing 30 words. Will replace them with mean vector\n",
            "Missing 28 words. Will replace them with mean vector\n",
            "Missing 26 words. Will replace them with mean vector\n",
            "Missing 24 words. Will replace them with mean vector\n",
            "Missing 22 words. Will replace them with mean vector\n",
            "Missing 20 words. Will replace them with mean vector\n",
            "Missing 57 words. Will replace them with mean vector\n"
          ],
          "name": "stderr"
        },
        {
          "output_type": "stream",
          "text": [
            "Processing MemberOf with 5 pairs, 20 questions\n"
          ],
          "name": "stdout"
        },
        {
          "output_type": "stream",
          "text": [
            "Missing 54 words. Will replace them with mean vector\n",
            "Missing 51 words. Will replace them with mean vector\n",
            "Missing 48 words. Will replace them with mean vector\n",
            "Missing 45 words. Will replace them with mean vector\n",
            "Missing 42 words. Will replace them with mean vector\n",
            "Missing 39 words. Will replace them with mean vector\n",
            "Missing 36 words. Will replace them with mean vector\n",
            "Missing 34 words. Will replace them with mean vector\n",
            "Missing 32 words. Will replace them with mean vector\n",
            "Missing 30 words. Will replace them with mean vector\n",
            "Missing 28 words. Will replace them with mean vector\n",
            "Missing 25 words. Will replace them with mean vector\n",
            "Missing 22 words. Will replace them with mean vector\n",
            "Missing 19 words. Will replace them with mean vector\n",
            "Missing 16 words. Will replace them with mean vector\n",
            "Missing 13 words. Will replace them with mean vector\n",
            "Missing 10 words. Will replace them with mean vector\n",
            "Missing 7 words. Will replace them with mean vector\n",
            "Missing 4 words. Will replace them with mean vector\n",
            "Missing 57 words. Will replace them with mean vector\n"
          ],
          "name": "stderr"
        },
        {
          "output_type": "stream",
          "text": [
            "Processing DerivedFrom with 5 pairs, 20 questions\n"
          ],
          "name": "stdout"
        },
        {
          "output_type": "stream",
          "text": [
            "Missing 54 words. Will replace them with mean vector\n",
            "Missing 51 words. Will replace them with mean vector\n",
            "Missing 48 words. Will replace them with mean vector\n",
            "Missing 46 words. Will replace them with mean vector\n",
            "Missing 44 words. Will replace them with mean vector\n",
            "Missing 42 words. Will replace them with mean vector\n",
            "Missing 40 words. Will replace them with mean vector\n",
            "Missing 37 words. Will replace them with mean vector\n",
            "Missing 34 words. Will replace them with mean vector\n",
            "Missing 31 words. Will replace them with mean vector\n",
            "Missing 28 words. Will replace them with mean vector\n",
            "Missing 25 words. Will replace them with mean vector\n",
            "Missing 22 words. Will replace them with mean vector\n",
            "Missing 19 words. Will replace them with mean vector\n",
            "Missing 16 words. Will replace them with mean vector\n",
            "Missing 13 words. Will replace them with mean vector\n",
            "Missing 10 words. Will replace them with mean vector\n",
            "Missing 7 words. Will replace them with mean vector\n",
            "Missing 4 words. Will replace them with mean vector\n",
            "Missing 57 words. Will replace them with mean vector\n"
          ],
          "name": "stderr"
        },
        {
          "output_type": "stream",
          "text": [
            "Processing Antonym with 5 pairs, 20 questions\n"
          ],
          "name": "stdout"
        },
        {
          "output_type": "stream",
          "text": [
            "Missing 54 words. Will replace them with mean vector\n",
            "Missing 51 words. Will replace them with mean vector\n",
            "Missing 49 words. Will replace them with mean vector\n",
            "Missing 47 words. Will replace them with mean vector\n",
            "Missing 45 words. Will replace them with mean vector\n",
            "Missing 43 words. Will replace them with mean vector\n",
            "Missing 42 words. Will replace them with mean vector\n",
            "Missing 40 words. Will replace them with mean vector\n",
            "Missing 38 words. Will replace them with mean vector\n",
            "Missing 36 words. Will replace them with mean vector\n",
            "Missing 35 words. Will replace them with mean vector\n",
            "Missing 33 words. Will replace them with mean vector\n",
            "Missing 31 words. Will replace them with mean vector\n",
            "Missing 29 words. Will replace them with mean vector\n",
            "Missing 28 words. Will replace them with mean vector\n",
            "Missing 26 words. Will replace them with mean vector\n",
            "Missing 24 words. Will replace them with mean vector\n",
            "Missing 22 words. Will replace them with mean vector\n",
            "Missing 20 words. Will replace them with mean vector\n",
            "Missing 57 words. Will replace them with mean vector\n"
          ],
          "name": "stderr"
        },
        {
          "output_type": "stream",
          "text": [
            "Processing SimilarTo with 5 pairs, 20 questions\n"
          ],
          "name": "stdout"
        },
        {
          "output_type": "stream",
          "text": [
            "Missing 54 words. Will replace them with mean vector\n",
            "Missing 51 words. Will replace them with mean vector\n",
            "Missing 48 words. Will replace them with mean vector\n",
            "Missing 45 words. Will replace them with mean vector\n",
            "Missing 42 words. Will replace them with mean vector\n",
            "Missing 39 words. Will replace them with mean vector\n",
            "Missing 36 words. Will replace them with mean vector\n",
            "Missing 33 words. Will replace them with mean vector\n",
            "Missing 30 words. Will replace them with mean vector\n",
            "Missing 27 words. Will replace them with mean vector\n",
            "Missing 24 words. Will replace them with mean vector\n",
            "Missing 21 words. Will replace them with mean vector\n",
            "Missing 18 words. Will replace them with mean vector\n",
            "Missing 15 words. Will replace them with mean vector\n",
            "Missing 12 words. Will replace them with mean vector\n",
            "Missing 9 words. Will replace them with mean vector\n",
            "Missing 6 words. Will replace them with mean vector\n",
            "Missing 3 words. Will replace them with mean vector\n",
            "Missing 58 words. Will replace them with mean vector\n"
          ],
          "name": "stderr"
        },
        {
          "output_type": "stream",
          "text": [
            "Processing Causes with 5 pairs, 20 questions\n"
          ],
          "name": "stdout"
        },
        {
          "output_type": "stream",
          "text": [
            "Missing 55 words. Will replace them with mean vector\n",
            "Missing 52 words. Will replace them with mean vector\n",
            "Missing 49 words. Will replace them with mean vector\n",
            "Missing 47 words. Will replace them with mean vector\n",
            "Missing 45 words. Will replace them with mean vector\n",
            "Missing 43 words. Will replace them with mean vector\n",
            "Missing 41 words. Will replace them with mean vector\n",
            "Missing 38 words. Will replace them with mean vector\n",
            "Missing 36 words. Will replace them with mean vector\n",
            "Missing 33 words. Will replace them with mean vector\n",
            "Missing 30 words. Will replace them with mean vector\n",
            "Missing 27 words. Will replace them with mean vector\n",
            "Missing 25 words. Will replace them with mean vector\n",
            "Missing 22 words. Will replace them with mean vector\n",
            "Missing 19 words. Will replace them with mean vector\n",
            "Missing 16 words. Will replace them with mean vector\n",
            "Missing 14 words. Will replace them with mean vector\n",
            "Missing 11 words. Will replace them with mean vector\n",
            "Missing 8 words. Will replace them with mean vector\n",
            "Missing 57 words. Will replace them with mean vector\n"
          ],
          "name": "stderr"
        },
        {
          "output_type": "stream",
          "text": [
            "Processing all-capital-cities with 5 pairs, 20 questions\n"
          ],
          "name": "stdout"
        },
        {
          "output_type": "stream",
          "text": [
            "Missing 55 words. Will replace them with mean vector\n",
            "Missing 52 words. Will replace them with mean vector\n",
            "Missing 49 words. Will replace them with mean vector\n",
            "Missing 46 words. Will replace them with mean vector\n",
            "Missing 44 words. Will replace them with mean vector\n",
            "Missing 41 words. Will replace them with mean vector\n",
            "Missing 38 words. Will replace them with mean vector\n",
            "Missing 36 words. Will replace them with mean vector\n",
            "Missing 34 words. Will replace them with mean vector\n",
            "Missing 32 words. Will replace them with mean vector\n",
            "Missing 30 words. Will replace them with mean vector\n",
            "Missing 27 words. Will replace them with mean vector\n",
            "Missing 24 words. Will replace them with mean vector\n",
            "Missing 22 words. Will replace them with mean vector\n",
            "Missing 19 words. Will replace them with mean vector\n",
            "Missing 16 words. Will replace them with mean vector\n",
            "Missing 13 words. Will replace them with mean vector\n",
            "Missing 11 words. Will replace them with mean vector\n",
            "Missing 8 words. Will replace them with mean vector\n",
            "Missing 59 words. Will replace them with mean vector\n"
          ],
          "name": "stderr"
        },
        {
          "output_type": "stream",
          "text": [
            "Processing man-woman with 5 pairs, 20 questions\n"
          ],
          "name": "stdout"
        },
        {
          "output_type": "stream",
          "text": [
            "Missing 57 words. Will replace them with mean vector\n",
            "Missing 55 words. Will replace them with mean vector\n",
            "Missing 53 words. Will replace them with mean vector\n",
            "Missing 52 words. Will replace them with mean vector\n",
            "Missing 51 words. Will replace them with mean vector\n",
            "Missing 50 words. Will replace them with mean vector\n",
            "Missing 49 words. Will replace them with mean vector\n",
            "Missing 47 words. Will replace them with mean vector\n",
            "Missing 46 words. Will replace them with mean vector\n",
            "Missing 44 words. Will replace them with mean vector\n",
            "Missing 42 words. Will replace them with mean vector\n",
            "Missing 40 words. Will replace them with mean vector\n",
            "Missing 39 words. Will replace them with mean vector\n",
            "Missing 37 words. Will replace them with mean vector\n",
            "Missing 35 words. Will replace them with mean vector\n",
            "Missing 32 words. Will replace them with mean vector\n",
            "Missing 30 words. Will replace them with mean vector\n",
            "Missing 27 words. Will replace them with mean vector\n",
            "Missing 24 words. Will replace them with mean vector\n",
            "Missing 58 words. Will replace them with mean vector\n"
          ],
          "name": "stderr"
        },
        {
          "output_type": "stream",
          "text": [
            "Processing RelatedTo with 5 pairs, 20 questions\n"
          ],
          "name": "stdout"
        },
        {
          "output_type": "stream",
          "text": [
            "Missing 55 words. Will replace them with mean vector\n",
            "Missing 52 words. Will replace them with mean vector\n",
            "Missing 49 words. Will replace them with mean vector\n",
            "Missing 47 words. Will replace them with mean vector\n",
            "Missing 45 words. Will replace them with mean vector\n",
            "Missing 43 words. Will replace them with mean vector\n",
            "Missing 41 words. Will replace them with mean vector\n",
            "Missing 38 words. Will replace them with mean vector\n",
            "Missing 36 words. Will replace them with mean vector\n",
            "Missing 33 words. Will replace them with mean vector\n",
            "Missing 30 words. Will replace them with mean vector\n",
            "Missing 27 words. Will replace them with mean vector\n",
            "Missing 25 words. Will replace them with mean vector\n",
            "Missing 22 words. Will replace them with mean vector\n",
            "Missing 19 words. Will replace them with mean vector\n",
            "Missing 16 words. Will replace them with mean vector\n",
            "Missing 14 words. Will replace them with mean vector\n",
            "Missing 11 words. Will replace them with mean vector\n",
            "Missing 8 words. Will replace them with mean vector\n",
            "Missing 57 words. Will replace them with mean vector\n"
          ],
          "name": "stderr"
        },
        {
          "output_type": "stream",
          "text": [
            "Processing adjective-to-adverb with 5 pairs, 20 questions\n"
          ],
          "name": "stdout"
        },
        {
          "output_type": "stream",
          "text": [
            "Missing 54 words. Will replace them with mean vector\n",
            "Missing 52 words. Will replace them with mean vector\n",
            "Missing 49 words. Will replace them with mean vector\n",
            "Missing 46 words. Will replace them with mean vector\n",
            "Missing 43 words. Will replace them with mean vector\n",
            "Missing 41 words. Will replace them with mean vector\n",
            "Missing 38 words. Will replace them with mean vector\n",
            "Missing 35 words. Will replace them with mean vector\n",
            "Missing 32 words. Will replace them with mean vector\n",
            "Missing 30 words. Will replace them with mean vector\n",
            "Missing 27 words. Will replace them with mean vector\n",
            "Missing 26 words. Will replace them with mean vector\n",
            "Missing 25 words. Will replace them with mean vector\n",
            "Missing 24 words. Will replace them with mean vector\n",
            "Missing 23 words. Will replace them with mean vector\n",
            "Missing 20 words. Will replace them with mean vector\n",
            "Missing 17 words. Will replace them with mean vector\n",
            "Missing 14 words. Will replace them with mean vector\n",
            "Missing 12 words. Will replace them with mean vector\n",
            "Missing 59 words. Will replace them with mean vector\n"
          ],
          "name": "stderr"
        },
        {
          "output_type": "stream",
          "text": [
            "Processing Attribute with 5 pairs, 20 questions\n"
          ],
          "name": "stdout"
        },
        {
          "output_type": "stream",
          "text": [
            "Missing 57 words. Will replace them with mean vector\n",
            "Missing 56 words. Will replace them with mean vector\n",
            "Missing 54 words. Will replace them with mean vector\n",
            "Missing 54 words. Will replace them with mean vector\n",
            "Missing 53 words. Will replace them with mean vector\n",
            "Missing 53 words. Will replace them with mean vector\n",
            "Missing 52 words. Will replace them with mean vector\n",
            "Missing 50 words. Will replace them with mean vector\n",
            "Missing 48 words. Will replace them with mean vector\n",
            "Missing 46 words. Will replace them with mean vector\n",
            "Missing 43 words. Will replace them with mean vector\n",
            "Missing 42 words. Will replace them with mean vector\n",
            "Missing 41 words. Will replace them with mean vector\n",
            "Missing 39 words. Will replace them with mean vector\n",
            "Missing 37 words. Will replace them with mean vector\n",
            "Missing 36 words. Will replace them with mean vector\n",
            "Missing 35 words. Will replace them with mean vector\n",
            "Missing 33 words. Will replace them with mean vector\n",
            "Missing 32 words. Will replace them with mean vector\n",
            "Missing 58 words. Will replace them with mean vector\n"
          ],
          "name": "stderr"
        },
        {
          "output_type": "stream",
          "text": [
            "Processing plural-nouns with 5 pairs, 20 questions\n"
          ],
          "name": "stdout"
        },
        {
          "output_type": "stream",
          "text": [
            "Missing 57 words. Will replace them with mean vector\n",
            "Missing 55 words. Will replace them with mean vector\n",
            "Missing 53 words. Will replace them with mean vector\n",
            "Missing 51 words. Will replace them with mean vector\n",
            "Missing 50 words. Will replace them with mean vector\n",
            "Missing 48 words. Will replace them with mean vector\n",
            "Missing 46 words. Will replace them with mean vector\n",
            "Missing 45 words. Will replace them with mean vector\n",
            "Missing 44 words. Will replace them with mean vector\n",
            "Missing 43 words. Will replace them with mean vector\n",
            "Missing 42 words. Will replace them with mean vector\n",
            "Missing 40 words. Will replace them with mean vector\n",
            "Missing 38 words. Will replace them with mean vector\n",
            "Missing 37 words. Will replace them with mean vector\n",
            "Missing 35 words. Will replace them with mean vector\n",
            "Missing 33 words. Will replace them with mean vector\n",
            "Missing 31 words. Will replace them with mean vector\n",
            "Missing 30 words. Will replace them with mean vector\n",
            "Missing 28 words. Will replace them with mean vector\n",
            "Missing 57 words. Will replace them with mean vector\n"
          ],
          "name": "stderr"
        },
        {
          "output_type": "stream",
          "text": [
            "Processing nationality-adjective with 5 pairs, 20 questions\n"
          ],
          "name": "stdout"
        },
        {
          "output_type": "stream",
          "text": [
            "Missing 54 words. Will replace them with mean vector\n",
            "Missing 51 words. Will replace them with mean vector\n",
            "Missing 48 words. Will replace them with mean vector\n",
            "Missing 45 words. Will replace them with mean vector\n",
            "Missing 42 words. Will replace them with mean vector\n",
            "Missing 39 words. Will replace them with mean vector\n",
            "Missing 36 words. Will replace them with mean vector\n",
            "Missing 33 words. Will replace them with mean vector\n",
            "Missing 30 words. Will replace them with mean vector\n",
            "Missing 27 words. Will replace them with mean vector\n",
            "Missing 24 words. Will replace them with mean vector\n",
            "Missing 21 words. Will replace them with mean vector\n",
            "Missing 18 words. Will replace them with mean vector\n",
            "Missing 15 words. Will replace them with mean vector\n",
            "Missing 12 words. Will replace them with mean vector\n",
            "Missing 9 words. Will replace them with mean vector\n",
            "Missing 6 words. Will replace them with mean vector\n",
            "Missing 3 words. Will replace them with mean vector\n",
            "Missing 57 words. Will replace them with mean vector\n"
          ],
          "name": "stderr"
        },
        {
          "output_type": "stream",
          "text": [
            "Processing city-in-state with 5 pairs, 20 questions\n"
          ],
          "name": "stdout"
        },
        {
          "output_type": "stream",
          "text": [
            "Missing 54 words. Will replace them with mean vector\n",
            "Missing 52 words. Will replace them with mean vector\n",
            "Missing 50 words. Will replace them with mean vector\n",
            "Missing 47 words. Will replace them with mean vector\n",
            "Missing 44 words. Will replace them with mean vector\n",
            "Missing 42 words. Will replace them with mean vector\n",
            "Missing 40 words. Will replace them with mean vector\n",
            "Missing 37 words. Will replace them with mean vector\n",
            "Missing 34 words. Will replace them with mean vector\n",
            "Missing 32 words. Will replace them with mean vector\n",
            "Missing 30 words. Will replace them with mean vector\n",
            "Missing 28 words. Will replace them with mean vector\n",
            "Missing 26 words. Will replace them with mean vector\n",
            "Missing 24 words. Will replace them with mean vector\n",
            "Missing 23 words. Will replace them with mean vector\n",
            "Missing 21 words. Will replace them with mean vector\n",
            "Missing 19 words. Will replace them with mean vector\n",
            "Missing 17 words. Will replace them with mean vector\n",
            "Missing 16 words. Will replace them with mean vector\n",
            "Missing 57 words. Will replace them with mean vector\n"
          ],
          "name": "stderr"
        },
        {
          "output_type": "stream",
          "text": [
            "Processing IsA with 5 pairs, 20 questions\n"
          ],
          "name": "stdout"
        },
        {
          "output_type": "stream",
          "text": [
            "Missing 54 words. Will replace them with mean vector\n",
            "Missing 51 words. Will replace them with mean vector\n",
            "Missing 48 words. Will replace them with mean vector\n",
            "Missing 45 words. Will replace them with mean vector\n",
            "Missing 42 words. Will replace them with mean vector\n",
            "Missing 39 words. Will replace them with mean vector\n",
            "Missing 36 words. Will replace them with mean vector\n",
            "Missing 33 words. Will replace them with mean vector\n",
            "Missing 30 words. Will replace them with mean vector\n",
            "Missing 27 words. Will replace them with mean vector\n",
            "Missing 24 words. Will replace them with mean vector\n",
            "Missing 21 words. Will replace them with mean vector\n",
            "Missing 18 words. Will replace them with mean vector\n",
            "Missing 15 words. Will replace them with mean vector\n",
            "Missing 12 words. Will replace them with mean vector\n",
            "Missing 9 words. Will replace them with mean vector\n",
            "Missing 6 words. Will replace them with mean vector\n",
            "Missing 3 words. Will replace them with mean vector\n"
          ],
          "name": "stderr"
        },
        {
          "output_type": "stream",
          "text": [
            "                       accuracy  correct  count\n",
            "comparative            0.200000      4.0     20\n",
            "InstanceOf             0.000000      0.0     20\n",
            "present-participle     0.000000      0.0     20\n",
            "currency               0.000000      0.0     20\n",
            "MadeOf                 0.000000      0.0     20\n",
            "superlative            0.000000      0.0     20\n",
            "HasContext             0.000000      0.0     20\n",
            "Entails                0.000000      0.0     20\n",
            "past-tense             0.000000      0.0     20\n",
            "PartOf                 0.000000      0.0     20\n",
            "plural-verbs           0.000000      0.0     20\n",
            "MemberOf               0.000000      0.0     20\n",
            "DerivedFrom            0.000000      0.0     20\n",
            "Antonym                0.000000      0.0     20\n",
            "SimilarTo              0.000000      0.0     20\n",
            "Causes                 0.150000      3.0     20\n",
            "all-capital-cities     0.050000      1.0     20\n",
            "man-woman              0.000000      0.0     20\n",
            "RelatedTo              0.000000      0.0     20\n",
            "adjective-to-adverb    0.000000      0.0     20\n",
            "Attribute              0.000000      0.0     20\n",
            "plural-nouns           0.000000      0.0     20\n",
            "nationality-adjective  0.050000      1.0     20\n",
            "city-in-state          0.000000      0.0     20\n",
            "IsA                    0.000000      0.0     20\n",
            "wikipedia              0.011538      3.0    260\n",
            "all                    0.018000      9.0    500\n",
            "wordnet                0.025000      6.0    240\n"
          ],
          "name": "stdout"
        }
      ]
    },
    {
      "cell_type": "code",
      "metadata": {
        "id": "w9DUw5X1I34x",
        "colab_type": "code",
        "outputId": "4547614f-b8ff-4ba5-aee5-eaced913252e",
        "colab": {
          "base_uri": "https://localhost:8080/",
          "height": 894
        }
      },
      "source": [
        "results = evaluateOnAll(w)\n",
        "print(results)"
      ],
      "execution_count": 0,
      "outputs": [
        {
          "output_type": "stream",
          "text": [
            "Missing 136 words. Will replace them with mean vector\n",
            "/content/drive/My Drive/Term5/NLP/Dataset/web/evaluate.py:336: FutureWarning: arrays to stack must be passed as a \"sequence\" type such as list or tuple. Support for non-sequence iterables such as generators is deprecated as of NumPy 1.16 and will raise an error in the future.\n",
            "  A = np.vstack(w.get(word, mean_vector) for word in X[:, 0])\n",
            "/content/drive/My Drive/Term5/NLP/Dataset/web/evaluate.py:337: FutureWarning: arrays to stack must be passed as a \"sequence\" type such as list or tuple. Support for non-sequence iterables such as generators is deprecated as of NumPy 1.16 and will raise an error in the future.\n",
            "  B = np.vstack(w.get(word, mean_vector) for word in X[:, 1])\n",
            "Missing 441 words. Will replace them with mean vector\n",
            "Missing 72 words. Will replace them with mean vector\n"
          ],
          "name": "stderr"
        },
        {
          "output_type": "stream",
          "text": [
            "Spearman correlation of scores on MTurk 0.26339879425669316\n",
            "Spearman correlation of scores on MEN 0.3607021934403428\n"
          ],
          "name": "stdout"
        },
        {
          "output_type": "stream",
          "text": [
            "Missing 17 words. Will replace them with mean vector\n",
            "Missing 1816 words. Will replace them with mean vector\n",
            "Missing 224 words. Will replace them with mean vector\n"
          ],
          "name": "stderr"
        },
        {
          "output_type": "stream",
          "text": [
            "Spearman correlation of scores on WS353 0.333565454737563\n",
            "Spearman correlation of scores on RubensteinAndGoodenough 0.32699894159958737\n",
            "Spearman correlation of scores on Rare Words 0.1825990907413242\n"
          ],
          "name": "stdout"
        },
        {
          "output_type": "stream",
          "text": [
            "Missing 15141 words. Will replace them with mean vector\n"
          ],
          "name": "stderr"
        },
        {
          "output_type": "stream",
          "text": [
            "Spearman correlation of scores on SIMLEX999 0.16971415799285527\n",
            "Spearman correlation of scores on TR9856 0.13748552969350342\n",
            "Calculating analogy benchmarks\n"
          ],
          "name": "stdout"
        },
        {
          "output_type": "stream",
          "text": [
            "Missing 11375 words. Will replace them with mean vector\n",
            "/content/drive/My Drive/Term5/NLP/Dataset/web/analogy.py:105: FutureWarning: arrays to stack must be passed as a \"sequence\" type such as list or tuple. Support for non-sequence iterables such as generators is deprecated as of NumPy 1.16 and will raise an error in the future.\n",
            "  A, B, C = np.vstack(w.get(word, mean_vector) for word in X_b[:, 0]), \\\n",
            "/content/drive/My Drive/Term5/NLP/Dataset/web/analogy.py:106: FutureWarning: arrays to stack must be passed as a \"sequence\" type such as list or tuple. Support for non-sequence iterables such as generators is deprecated as of NumPy 1.16 and will raise an error in the future.\n",
            "  np.vstack(w.get(word, mean_vector) for word in X_b[:, 1]), \\\n",
            "/content/drive/My Drive/Term5/NLP/Dataset/web/analogy.py:107: FutureWarning: arrays to stack must be passed as a \"sequence\" type such as list or tuple. Support for non-sequence iterables such as generators is deprecated as of NumPy 1.16 and will raise an error in the future.\n",
            "  np.vstack(w.get(word, mean_vector) for word in X_b[:, 2])\n",
            "Missing 11295 words. Will replace them with mean vector\n"
          ],
          "name": "stderr"
        },
        {
          "output_type": "stream",
          "text": [
            "Analogy prediction accuracy on Google 0.1273024969300041\n",
            "Analogy prediction accuracy on MSR 0.0775\n"
          ],
          "name": "stdout"
        },
        {
          "output_type": "stream",
          "text": [
            "/usr/local/lib/python3.6/dist-packages/ipykernel_launcher.py:9: FutureWarning: arrays to stack must be passed as a \"sequence\" type such as list or tuple. Support for non-sequence iterables such as generators is deprecated as of NumPy 1.16 and will raise an error in the future.\n",
            "  if __name__ == '__main__':\n",
            "/usr/local/lib/python3.6/dist-packages/ipykernel_launcher.py:10: FutureWarning: arrays to stack must be passed as a \"sequence\" type such as list or tuple. Support for non-sequence iterables such as generators is deprecated as of NumPy 1.16 and will raise an error in the future.\n",
            "  # Remove the CWD from sys.path while we load stuff.\n",
            "/usr/local/lib/python3.6/dist-packages/ipykernel_launcher.py:12: FutureWarning: arrays to stack must be passed as a \"sequence\" type such as list or tuple. Support for non-sequence iterables such as generators is deprecated as of NumPy 1.16 and will raise an error in the future.\n",
            "  if sys.path[0] == '':\n",
            "/usr/local/lib/python3.6/dist-packages/numpy/lib/function_base.py:2534: RuntimeWarning: invalid value encountered in true_divide\n",
            "  c /= stddev[:, None]\n",
            "/usr/local/lib/python3.6/dist-packages/numpy/lib/function_base.py:2535: RuntimeWarning: invalid value encountered in true_divide\n",
            "  c /= stddev[None, :]\n",
            "/usr/local/lib/python3.6/dist-packages/scipy/stats/_distn_infrastructure.py:903: RuntimeWarning: invalid value encountered in greater\n",
            "  return (a < x) & (x < b)\n",
            "/usr/local/lib/python3.6/dist-packages/scipy/stats/_distn_infrastructure.py:903: RuntimeWarning: invalid value encountered in less\n",
            "  return (a < x) & (x < b)\n",
            "/usr/local/lib/python3.6/dist-packages/scipy/stats/_distn_infrastructure.py:1912: RuntimeWarning: invalid value encountered in less_equal\n",
            "  cond2 = cond0 & (x <= _a)\n"
          ],
          "name": "stderr"
        },
        {
          "output_type": "stream",
          "text": [
            "Analogy prediction accuracy on SemEval2012 0.07430306121618283\n",
            "      MTurk       MEN     WS353  ...    Google     MSR  SemEval2012_2\n",
            "0  0.263399  0.360702  0.333565  ...  0.127302  0.0775       0.074303\n",
            "\n",
            "[1 rows x 10 columns]\n"
          ],
          "name": "stdout"
        }
      ]
    },
    {
      "cell_type": "markdown",
      "metadata": {
        "id": "-gmNdLycI9Qi",
        "colab_type": "text"
      },
      "source": [
        "##### WE:7"
      ]
    },
    {
      "cell_type": "code",
      "metadata": {
        "id": "ddbvtI7-SExG",
        "colab_type": "code",
        "outputId": "0d639527-af0d-4808-d20c-d0f49675fbe5",
        "colab": {
          "base_uri": "https://localhost:8080/",
          "height": 1000
        }
      },
      "source": [
        "w = w_gcs_2\n",
        "results_wordrep = calAnswersOnWordRep(data_wordrep, w, max_pairs=5)\n",
        "print(results_wordrep)"
      ],
      "execution_count": 0,
      "outputs": [
        {
          "output_type": "stream",
          "text": [
            "Processing comparative with 5 pairs, 20 questions\n"
          ],
          "name": "stdout"
        },
        {
          "output_type": "stream",
          "text": [
            "Missing 57 words. Will replace them with mean vector\n",
            "/content/drive/My Drive/Term5/NLP/Dataset/web/analogy.py:101: RuntimeWarning: invalid value encountered in double_scalars\n",
            "  if id_batch % np.floor(len(X) / (10. * self.batch_size)) == 0:\n",
            "/content/drive/My Drive/Term5/NLP/Dataset/web/analogy.py:105: FutureWarning: arrays to stack must be passed as a \"sequence\" type such as list or tuple. Support for non-sequence iterables such as generators is deprecated as of NumPy 1.16 and will raise an error in the future.\n",
            "  A, B, C = np.vstack(w.get(word, mean_vector) for word in X_b[:, 0]), \\\n",
            "/content/drive/My Drive/Term5/NLP/Dataset/web/analogy.py:106: FutureWarning: arrays to stack must be passed as a \"sequence\" type such as list or tuple. Support for non-sequence iterables such as generators is deprecated as of NumPy 1.16 and will raise an error in the future.\n",
            "  np.vstack(w.get(word, mean_vector) for word in X_b[:, 1]), \\\n",
            "/content/drive/My Drive/Term5/NLP/Dataset/web/analogy.py:107: FutureWarning: arrays to stack must be passed as a \"sequence\" type such as list or tuple. Support for non-sequence iterables such as generators is deprecated as of NumPy 1.16 and will raise an error in the future.\n",
            "  np.vstack(w.get(word, mean_vector) for word in X_b[:, 2])\n",
            "Missing 54 words. Will replace them with mean vector\n",
            "Missing 51 words. Will replace them with mean vector\n",
            "Missing 48 words. Will replace them with mean vector\n",
            "Missing 45 words. Will replace them with mean vector\n",
            "Missing 42 words. Will replace them with mean vector\n",
            "Missing 39 words. Will replace them with mean vector\n",
            "Missing 36 words. Will replace them with mean vector\n",
            "Missing 33 words. Will replace them with mean vector\n",
            "Missing 30 words. Will replace them with mean vector\n",
            "Missing 27 words. Will replace them with mean vector\n",
            "Missing 24 words. Will replace them with mean vector\n",
            "Missing 21 words. Will replace them with mean vector\n",
            "Missing 18 words. Will replace them with mean vector\n",
            "Missing 15 words. Will replace them with mean vector\n",
            "Missing 12 words. Will replace them with mean vector\n",
            "Missing 9 words. Will replace them with mean vector\n",
            "Missing 6 words. Will replace them with mean vector\n",
            "Missing 3 words. Will replace them with mean vector\n",
            "Missing 59 words. Will replace them with mean vector\n"
          ],
          "name": "stderr"
        },
        {
          "output_type": "stream",
          "text": [
            "Processing InstanceOf with 5 pairs, 20 questions\n"
          ],
          "name": "stdout"
        },
        {
          "output_type": "stream",
          "text": [
            "Missing 57 words. Will replace them with mean vector\n",
            "Missing 56 words. Will replace them with mean vector\n",
            "Missing 55 words. Will replace them with mean vector\n",
            "Missing 54 words. Will replace them with mean vector\n",
            "Missing 52 words. Will replace them with mean vector\n",
            "Missing 51 words. Will replace them with mean vector\n",
            "Missing 50 words. Will replace them with mean vector\n",
            "Missing 48 words. Will replace them with mean vector\n",
            "Missing 46 words. Will replace them with mean vector\n",
            "Missing 44 words. Will replace them with mean vector\n",
            "Missing 42 words. Will replace them with mean vector\n",
            "Missing 41 words. Will replace them with mean vector\n",
            "Missing 40 words. Will replace them with mean vector\n",
            "Missing 38 words. Will replace them with mean vector\n",
            "Missing 37 words. Will replace them with mean vector\n",
            "Missing 36 words. Will replace them with mean vector\n",
            "Missing 35 words. Will replace them with mean vector\n",
            "Missing 33 words. Will replace them with mean vector\n",
            "Missing 32 words. Will replace them with mean vector\n",
            "Missing 57 words. Will replace them with mean vector\n"
          ],
          "name": "stderr"
        },
        {
          "output_type": "stream",
          "text": [
            "Processing present-participle with 5 pairs, 20 questions\n"
          ],
          "name": "stdout"
        },
        {
          "output_type": "stream",
          "text": [
            "Missing 54 words. Will replace them with mean vector\n",
            "Missing 51 words. Will replace them with mean vector\n",
            "Missing 48 words. Will replace them with mean vector\n",
            "Missing 45 words. Will replace them with mean vector\n",
            "Missing 42 words. Will replace them with mean vector\n",
            "Missing 39 words. Will replace them with mean vector\n",
            "Missing 36 words. Will replace them with mean vector\n",
            "Missing 33 words. Will replace them with mean vector\n",
            "Missing 30 words. Will replace them with mean vector\n",
            "Missing 27 words. Will replace them with mean vector\n",
            "Missing 24 words. Will replace them with mean vector\n",
            "Missing 21 words. Will replace them with mean vector\n",
            "Missing 18 words. Will replace them with mean vector\n",
            "Missing 15 words. Will replace them with mean vector\n",
            "Missing 12 words. Will replace them with mean vector\n",
            "Missing 9 words. Will replace them with mean vector\n",
            "Missing 6 words. Will replace them with mean vector\n",
            "Missing 3 words. Will replace them with mean vector\n",
            "Missing 58 words. Will replace them with mean vector\n"
          ],
          "name": "stderr"
        },
        {
          "output_type": "stream",
          "text": [
            "Processing currency with 5 pairs, 20 questions\n"
          ],
          "name": "stdout"
        },
        {
          "output_type": "stream",
          "text": [
            "Missing 57 words. Will replace them with mean vector\n",
            "Missing 56 words. Will replace them with mean vector\n",
            "Missing 55 words. Will replace them with mean vector\n",
            "Missing 53 words. Will replace them with mean vector\n",
            "Missing 51 words. Will replace them with mean vector\n",
            "Missing 49 words. Will replace them with mean vector\n",
            "Missing 47 words. Will replace them with mean vector\n",
            "Missing 46 words. Will replace them with mean vector\n",
            "Missing 44 words. Will replace them with mean vector\n",
            "Missing 43 words. Will replace them with mean vector\n",
            "Missing 42 words. Will replace them with mean vector\n",
            "Missing 42 words. Will replace them with mean vector\n",
            "Missing 41 words. Will replace them with mean vector\n",
            "Missing 41 words. Will replace them with mean vector\n",
            "Missing 41 words. Will replace them with mean vector\n",
            "Missing 40 words. Will replace them with mean vector\n",
            "Missing 38 words. Will replace them with mean vector\n",
            "Missing 37 words. Will replace them with mean vector\n",
            "Missing 36 words. Will replace them with mean vector\n",
            "Missing 57 words. Will replace them with mean vector\n"
          ],
          "name": "stderr"
        },
        {
          "output_type": "stream",
          "text": [
            "Processing MadeOf with 5 pairs, 20 questions\n"
          ],
          "name": "stdout"
        },
        {
          "output_type": "stream",
          "text": [
            "Missing 54 words. Will replace them with mean vector\n",
            "Missing 51 words. Will replace them with mean vector\n",
            "Missing 48 words. Will replace them with mean vector\n",
            "Missing 45 words. Will replace them with mean vector\n",
            "Missing 42 words. Will replace them with mean vector\n",
            "Missing 39 words. Will replace them with mean vector\n",
            "Missing 36 words. Will replace them with mean vector\n",
            "Missing 33 words. Will replace them with mean vector\n",
            "Missing 30 words. Will replace them with mean vector\n",
            "Missing 27 words. Will replace them with mean vector\n",
            "Missing 24 words. Will replace them with mean vector\n",
            "Missing 21 words. Will replace them with mean vector\n",
            "Missing 18 words. Will replace them with mean vector\n",
            "Missing 15 words. Will replace them with mean vector\n",
            "Missing 12 words. Will replace them with mean vector\n",
            "Missing 9 words. Will replace them with mean vector\n",
            "Missing 6 words. Will replace them with mean vector\n",
            "Missing 3 words. Will replace them with mean vector\n",
            "Missing 57 words. Will replace them with mean vector\n"
          ],
          "name": "stderr"
        },
        {
          "output_type": "stream",
          "text": [
            "Processing superlative with 5 pairs, 20 questions\n"
          ],
          "name": "stdout"
        },
        {
          "output_type": "stream",
          "text": [
            "Missing 54 words. Will replace them with mean vector\n",
            "Missing 51 words. Will replace them with mean vector\n",
            "Missing 48 words. Will replace them with mean vector\n",
            "Missing 45 words. Will replace them with mean vector\n",
            "Missing 42 words. Will replace them with mean vector\n",
            "Missing 39 words. Will replace them with mean vector\n",
            "Missing 36 words. Will replace them with mean vector\n",
            "Missing 33 words. Will replace them with mean vector\n",
            "Missing 30 words. Will replace them with mean vector\n",
            "Missing 27 words. Will replace them with mean vector\n",
            "Missing 24 words. Will replace them with mean vector\n",
            "Missing 21 words. Will replace them with mean vector\n",
            "Missing 18 words. Will replace them with mean vector\n",
            "Missing 15 words. Will replace them with mean vector\n",
            "Missing 12 words. Will replace them with mean vector\n",
            "Missing 9 words. Will replace them with mean vector\n",
            "Missing 6 words. Will replace them with mean vector\n",
            "Missing 3 words. Will replace them with mean vector\n",
            "Missing 57 words. Will replace them with mean vector\n"
          ],
          "name": "stderr"
        },
        {
          "output_type": "stream",
          "text": [
            "Processing HasContext with 5 pairs, 20 questions\n"
          ],
          "name": "stdout"
        },
        {
          "output_type": "stream",
          "text": [
            "Missing 54 words. Will replace them with mean vector\n",
            "Missing 51 words. Will replace them with mean vector\n",
            "Missing 48 words. Will replace them with mean vector\n",
            "Missing 45 words. Will replace them with mean vector\n",
            "Missing 42 words. Will replace them with mean vector\n",
            "Missing 39 words. Will replace them with mean vector\n",
            "Missing 36 words. Will replace them with mean vector\n",
            "Missing 33 words. Will replace them with mean vector\n",
            "Missing 30 words. Will replace them with mean vector\n",
            "Missing 27 words. Will replace them with mean vector\n",
            "Missing 24 words. Will replace them with mean vector\n",
            "Missing 21 words. Will replace them with mean vector\n",
            "Missing 18 words. Will replace them with mean vector\n",
            "Missing 15 words. Will replace them with mean vector\n",
            "Missing 12 words. Will replace them with mean vector\n",
            "Missing 9 words. Will replace them with mean vector\n",
            "Missing 6 words. Will replace them with mean vector\n",
            "Missing 3 words. Will replace them with mean vector\n",
            "Missing 57 words. Will replace them with mean vector\n"
          ],
          "name": "stderr"
        },
        {
          "output_type": "stream",
          "text": [
            "Processing Entails with 5 pairs, 20 questions\n"
          ],
          "name": "stdout"
        },
        {
          "output_type": "stream",
          "text": [
            "Missing 54 words. Will replace them with mean vector\n",
            "Missing 51 words. Will replace them with mean vector\n",
            "Missing 48 words. Will replace them with mean vector\n",
            "Missing 45 words. Will replace them with mean vector\n",
            "Missing 42 words. Will replace them with mean vector\n",
            "Missing 39 words. Will replace them with mean vector\n",
            "Missing 36 words. Will replace them with mean vector\n",
            "Missing 33 words. Will replace them with mean vector\n",
            "Missing 30 words. Will replace them with mean vector\n",
            "Missing 27 words. Will replace them with mean vector\n",
            "Missing 24 words. Will replace them with mean vector\n",
            "Missing 21 words. Will replace them with mean vector\n",
            "Missing 18 words. Will replace them with mean vector\n",
            "Missing 15 words. Will replace them with mean vector\n",
            "Missing 12 words. Will replace them with mean vector\n",
            "Missing 9 words. Will replace them with mean vector\n",
            "Missing 6 words. Will replace them with mean vector\n",
            "Missing 3 words. Will replace them with mean vector\n",
            "Missing 57 words. Will replace them with mean vector\n"
          ],
          "name": "stderr"
        },
        {
          "output_type": "stream",
          "text": [
            "Processing past-tense with 5 pairs, 20 questions\n"
          ],
          "name": "stdout"
        },
        {
          "output_type": "stream",
          "text": [
            "Missing 54 words. Will replace them with mean vector\n",
            "Missing 51 words. Will replace them with mean vector\n",
            "Missing 48 words. Will replace them with mean vector\n",
            "Missing 45 words. Will replace them with mean vector\n",
            "Missing 42 words. Will replace them with mean vector\n",
            "Missing 39 words. Will replace them with mean vector\n",
            "Missing 36 words. Will replace them with mean vector\n",
            "Missing 33 words. Will replace them with mean vector\n",
            "Missing 30 words. Will replace them with mean vector\n",
            "Missing 27 words. Will replace them with mean vector\n",
            "Missing 24 words. Will replace them with mean vector\n",
            "Missing 21 words. Will replace them with mean vector\n",
            "Missing 18 words. Will replace them with mean vector\n",
            "Missing 15 words. Will replace them with mean vector\n",
            "Missing 12 words. Will replace them with mean vector\n",
            "Missing 9 words. Will replace them with mean vector\n",
            "Missing 6 words. Will replace them with mean vector\n",
            "Missing 3 words. Will replace them with mean vector\n",
            "Missing 60 words. Will replace them with mean vector\n"
          ],
          "name": "stderr"
        },
        {
          "output_type": "stream",
          "text": [
            "Processing PartOf with 5 pairs, 20 questions\n"
          ],
          "name": "stdout"
        },
        {
          "output_type": "stream",
          "text": [
            "Missing 59 words. Will replace them with mean vector\n",
            "Missing 58 words. Will replace them with mean vector\n",
            "Missing 57 words. Will replace them with mean vector\n",
            "Missing 57 words. Will replace them with mean vector\n",
            "Missing 56 words. Will replace them with mean vector\n",
            "Missing 55 words. Will replace them with mean vector\n",
            "Missing 54 words. Will replace them with mean vector\n",
            "Missing 52 words. Will replace them with mean vector\n",
            "Missing 50 words. Will replace them with mean vector\n",
            "Missing 47 words. Will replace them with mean vector\n",
            "Missing 44 words. Will replace them with mean vector\n",
            "Missing 42 words. Will replace them with mean vector\n",
            "Missing 40 words. Will replace them with mean vector\n",
            "Missing 37 words. Will replace them with mean vector\n",
            "Missing 34 words. Will replace them with mean vector\n",
            "Missing 32 words. Will replace them with mean vector\n",
            "Missing 30 words. Will replace them with mean vector\n",
            "Missing 27 words. Will replace them with mean vector\n",
            "Missing 24 words. Will replace them with mean vector\n",
            "Missing 57 words. Will replace them with mean vector\n"
          ],
          "name": "stderr"
        },
        {
          "output_type": "stream",
          "text": [
            "Processing plural-verbs with 5 pairs, 20 questions\n"
          ],
          "name": "stdout"
        },
        {
          "output_type": "stream",
          "text": [
            "Missing 54 words. Will replace them with mean vector\n",
            "Missing 51 words. Will replace them with mean vector\n",
            "Missing 48 words. Will replace them with mean vector\n",
            "Missing 45 words. Will replace them with mean vector\n",
            "Missing 42 words. Will replace them with mean vector\n",
            "Missing 39 words. Will replace them with mean vector\n",
            "Missing 36 words. Will replace them with mean vector\n",
            "Missing 33 words. Will replace them with mean vector\n",
            "Missing 30 words. Will replace them with mean vector\n",
            "Missing 27 words. Will replace them with mean vector\n",
            "Missing 24 words. Will replace them with mean vector\n",
            "Missing 21 words. Will replace them with mean vector\n",
            "Missing 18 words. Will replace them with mean vector\n",
            "Missing 15 words. Will replace them with mean vector\n",
            "Missing 12 words. Will replace them with mean vector\n",
            "Missing 9 words. Will replace them with mean vector\n",
            "Missing 6 words. Will replace them with mean vector\n",
            "Missing 3 words. Will replace them with mean vector\n",
            "Missing 58 words. Will replace them with mean vector\n"
          ],
          "name": "stderr"
        },
        {
          "output_type": "stream",
          "text": [
            "Processing MemberOf with 5 pairs, 20 questions\n"
          ],
          "name": "stdout"
        },
        {
          "output_type": "stream",
          "text": [
            "Missing 57 words. Will replace them with mean vector\n",
            "Missing 55 words. Will replace them with mean vector\n",
            "Missing 53 words. Will replace them with mean vector\n",
            "Missing 51 words. Will replace them with mean vector\n",
            "Missing 50 words. Will replace them with mean vector\n",
            "Missing 48 words. Will replace them with mean vector\n",
            "Missing 46 words. Will replace them with mean vector\n",
            "Missing 45 words. Will replace them with mean vector\n",
            "Missing 44 words. Will replace them with mean vector\n",
            "Missing 43 words. Will replace them with mean vector\n",
            "Missing 42 words. Will replace them with mean vector\n",
            "Missing 39 words. Will replace them with mean vector\n",
            "Missing 36 words. Will replace them with mean vector\n",
            "Missing 34 words. Will replace them with mean vector\n",
            "Missing 31 words. Will replace them with mean vector\n",
            "Missing 29 words. Will replace them with mean vector\n",
            "Missing 27 words. Will replace them with mean vector\n",
            "Missing 26 words. Will replace them with mean vector\n",
            "Missing 24 words. Will replace them with mean vector\n",
            "Missing 57 words. Will replace them with mean vector\n"
          ],
          "name": "stderr"
        },
        {
          "output_type": "stream",
          "text": [
            "Processing DerivedFrom with 5 pairs, 20 questions\n"
          ],
          "name": "stdout"
        },
        {
          "output_type": "stream",
          "text": [
            "Missing 54 words. Will replace them with mean vector\n",
            "Missing 51 words. Will replace them with mean vector\n",
            "Missing 48 words. Will replace them with mean vector\n",
            "Missing 46 words. Will replace them with mean vector\n",
            "Missing 44 words. Will replace them with mean vector\n",
            "Missing 42 words. Will replace them with mean vector\n",
            "Missing 40 words. Will replace them with mean vector\n",
            "Missing 37 words. Will replace them with mean vector\n",
            "Missing 34 words. Will replace them with mean vector\n",
            "Missing 31 words. Will replace them with mean vector\n",
            "Missing 28 words. Will replace them with mean vector\n",
            "Missing 25 words. Will replace them with mean vector\n",
            "Missing 22 words. Will replace them with mean vector\n",
            "Missing 19 words. Will replace them with mean vector\n",
            "Missing 16 words. Will replace them with mean vector\n",
            "Missing 13 words. Will replace them with mean vector\n",
            "Missing 10 words. Will replace them with mean vector\n",
            "Missing 7 words. Will replace them with mean vector\n",
            "Missing 4 words. Will replace them with mean vector\n",
            "Missing 57 words. Will replace them with mean vector\n"
          ],
          "name": "stderr"
        },
        {
          "output_type": "stream",
          "text": [
            "Processing Antonym with 5 pairs, 20 questions\n"
          ],
          "name": "stdout"
        },
        {
          "output_type": "stream",
          "text": [
            "Missing 54 words. Will replace them with mean vector\n",
            "Missing 51 words. Will replace them with mean vector\n",
            "Missing 48 words. Will replace them with mean vector\n",
            "Missing 46 words. Will replace them with mean vector\n",
            "Missing 44 words. Will replace them with mean vector\n",
            "Missing 42 words. Will replace them with mean vector\n",
            "Missing 40 words. Will replace them with mean vector\n",
            "Missing 37 words. Will replace them with mean vector\n",
            "Missing 34 words. Will replace them with mean vector\n",
            "Missing 31 words. Will replace them with mean vector\n",
            "Missing 28 words. Will replace them with mean vector\n",
            "Missing 25 words. Will replace them with mean vector\n",
            "Missing 22 words. Will replace them with mean vector\n",
            "Missing 19 words. Will replace them with mean vector\n",
            "Missing 16 words. Will replace them with mean vector\n",
            "Missing 13 words. Will replace them with mean vector\n",
            "Missing 10 words. Will replace them with mean vector\n",
            "Missing 7 words. Will replace them with mean vector\n",
            "Missing 4 words. Will replace them with mean vector\n",
            "Missing 57 words. Will replace them with mean vector\n"
          ],
          "name": "stderr"
        },
        {
          "output_type": "stream",
          "text": [
            "Processing SimilarTo with 5 pairs, 20 questions\n"
          ],
          "name": "stdout"
        },
        {
          "output_type": "stream",
          "text": [
            "Missing 54 words. Will replace them with mean vector\n",
            "Missing 51 words. Will replace them with mean vector\n",
            "Missing 48 words. Will replace them with mean vector\n",
            "Missing 45 words. Will replace them with mean vector\n",
            "Missing 42 words. Will replace them with mean vector\n",
            "Missing 39 words. Will replace them with mean vector\n",
            "Missing 36 words. Will replace them with mean vector\n",
            "Missing 33 words. Will replace them with mean vector\n",
            "Missing 30 words. Will replace them with mean vector\n",
            "Missing 27 words. Will replace them with mean vector\n",
            "Missing 24 words. Will replace them with mean vector\n",
            "Missing 21 words. Will replace them with mean vector\n",
            "Missing 18 words. Will replace them with mean vector\n",
            "Missing 15 words. Will replace them with mean vector\n",
            "Missing 12 words. Will replace them with mean vector\n",
            "Missing 10 words. Will replace them with mean vector\n",
            "Missing 8 words. Will replace them with mean vector\n",
            "Missing 6 words. Will replace them with mean vector\n",
            "Missing 4 words. Will replace them with mean vector\n",
            "Missing 57 words. Will replace them with mean vector\n"
          ],
          "name": "stderr"
        },
        {
          "output_type": "stream",
          "text": [
            "Processing Causes with 5 pairs, 20 questions\n"
          ],
          "name": "stdout"
        },
        {
          "output_type": "stream",
          "text": [
            "Missing 54 words. Will replace them with mean vector\n",
            "Missing 51 words. Will replace them with mean vector\n",
            "Missing 48 words. Will replace them with mean vector\n",
            "Missing 45 words. Will replace them with mean vector\n",
            "Missing 42 words. Will replace them with mean vector\n",
            "Missing 39 words. Will replace them with mean vector\n",
            "Missing 36 words. Will replace them with mean vector\n",
            "Missing 33 words. Will replace them with mean vector\n",
            "Missing 30 words. Will replace them with mean vector\n",
            "Missing 27 words. Will replace them with mean vector\n",
            "Missing 24 words. Will replace them with mean vector\n",
            "Missing 21 words. Will replace them with mean vector\n",
            "Missing 18 words. Will replace them with mean vector\n",
            "Missing 15 words. Will replace them with mean vector\n",
            "Missing 12 words. Will replace them with mean vector\n",
            "Missing 9 words. Will replace them with mean vector\n",
            "Missing 6 words. Will replace them with mean vector\n",
            "Missing 3 words. Will replace them with mean vector\n",
            "Missing 60 words. Will replace them with mean vector\n"
          ],
          "name": "stderr"
        },
        {
          "output_type": "stream",
          "text": [
            "Processing all-capital-cities with 5 pairs, 20 questions\n"
          ],
          "name": "stdout"
        },
        {
          "output_type": "stream",
          "text": [
            "Missing 60 words. Will replace them with mean vector\n",
            "Missing 60 words. Will replace them with mean vector\n",
            "Missing 60 words. Will replace them with mean vector\n",
            "Missing 60 words. Will replace them with mean vector\n",
            "Missing 60 words. Will replace them with mean vector\n",
            "Missing 60 words. Will replace them with mean vector\n",
            "Missing 60 words. Will replace them with mean vector\n",
            "Missing 60 words. Will replace them with mean vector\n",
            "Missing 60 words. Will replace them with mean vector\n",
            "Missing 60 words. Will replace them with mean vector\n",
            "Missing 60 words. Will replace them with mean vector\n",
            "Missing 60 words. Will replace them with mean vector\n",
            "Missing 60 words. Will replace them with mean vector\n",
            "Missing 60 words. Will replace them with mean vector\n",
            "Missing 60 words. Will replace them with mean vector\n",
            "Missing 60 words. Will replace them with mean vector\n",
            "Missing 60 words. Will replace them with mean vector\n",
            "Missing 60 words. Will replace them with mean vector\n",
            "Missing 60 words. Will replace them with mean vector\n",
            "Missing 57 words. Will replace them with mean vector\n"
          ],
          "name": "stderr"
        },
        {
          "output_type": "stream",
          "text": [
            "Processing man-woman with 5 pairs, 20 questions\n"
          ],
          "name": "stdout"
        },
        {
          "output_type": "stream",
          "text": [
            "Missing 54 words. Will replace them with mean vector\n",
            "Missing 51 words. Will replace them with mean vector\n",
            "Missing 49 words. Will replace them with mean vector\n",
            "Missing 46 words. Will replace them with mean vector\n",
            "Missing 43 words. Will replace them with mean vector\n",
            "Missing 40 words. Will replace them with mean vector\n",
            "Missing 38 words. Will replace them with mean vector\n",
            "Missing 35 words. Will replace them with mean vector\n",
            "Missing 32 words. Will replace them with mean vector\n",
            "Missing 29 words. Will replace them with mean vector\n",
            "Missing 27 words. Will replace them with mean vector\n",
            "Missing 24 words. Will replace them with mean vector\n",
            "Missing 21 words. Will replace them with mean vector\n",
            "Missing 18 words. Will replace them with mean vector\n",
            "Missing 16 words. Will replace them with mean vector\n",
            "Missing 15 words. Will replace them with mean vector\n",
            "Missing 14 words. Will replace them with mean vector\n",
            "Missing 13 words. Will replace them with mean vector\n",
            "Missing 12 words. Will replace them with mean vector\n",
            "Missing 57 words. Will replace them with mean vector\n"
          ],
          "name": "stderr"
        },
        {
          "output_type": "stream",
          "text": [
            "Processing RelatedTo with 5 pairs, 20 questions\n"
          ],
          "name": "stdout"
        },
        {
          "output_type": "stream",
          "text": [
            "Missing 54 words. Will replace them with mean vector\n",
            "Missing 51 words. Will replace them with mean vector\n",
            "Missing 48 words. Will replace them with mean vector\n",
            "Missing 45 words. Will replace them with mean vector\n",
            "Missing 42 words. Will replace them with mean vector\n",
            "Missing 39 words. Will replace them with mean vector\n",
            "Missing 36 words. Will replace them with mean vector\n",
            "Missing 33 words. Will replace them with mean vector\n",
            "Missing 30 words. Will replace them with mean vector\n",
            "Missing 27 words. Will replace them with mean vector\n",
            "Missing 24 words. Will replace them with mean vector\n",
            "Missing 21 words. Will replace them with mean vector\n",
            "Missing 18 words. Will replace them with mean vector\n",
            "Missing 15 words. Will replace them with mean vector\n",
            "Missing 12 words. Will replace them with mean vector\n",
            "Missing 9 words. Will replace them with mean vector\n",
            "Missing 6 words. Will replace them with mean vector\n",
            "Missing 3 words. Will replace them with mean vector\n",
            "Missing 57 words. Will replace them with mean vector\n"
          ],
          "name": "stderr"
        },
        {
          "output_type": "stream",
          "text": [
            "Processing adjective-to-adverb with 5 pairs, 20 questions\n"
          ],
          "name": "stdout"
        },
        {
          "output_type": "stream",
          "text": [
            "Missing 54 words. Will replace them with mean vector\n",
            "Missing 51 words. Will replace them with mean vector\n",
            "Missing 48 words. Will replace them with mean vector\n",
            "Missing 45 words. Will replace them with mean vector\n",
            "Missing 42 words. Will replace them with mean vector\n",
            "Missing 39 words. Will replace them with mean vector\n",
            "Missing 36 words. Will replace them with mean vector\n",
            "Missing 33 words. Will replace them with mean vector\n",
            "Missing 30 words. Will replace them with mean vector\n",
            "Missing 27 words. Will replace them with mean vector\n",
            "Missing 24 words. Will replace them with mean vector\n",
            "Missing 21 words. Will replace them with mean vector\n",
            "Missing 18 words. Will replace them with mean vector\n",
            "Missing 15 words. Will replace them with mean vector\n",
            "Missing 12 words. Will replace them with mean vector\n",
            "Missing 9 words. Will replace them with mean vector\n",
            "Missing 6 words. Will replace them with mean vector\n",
            "Missing 3 words. Will replace them with mean vector\n",
            "Missing 57 words. Will replace them with mean vector\n"
          ],
          "name": "stderr"
        },
        {
          "output_type": "stream",
          "text": [
            "Processing Attribute with 5 pairs, 20 questions\n"
          ],
          "name": "stdout"
        },
        {
          "output_type": "stream",
          "text": [
            "Missing 54 words. Will replace them with mean vector\n",
            "Missing 51 words. Will replace them with mean vector\n",
            "Missing 48 words. Will replace them with mean vector\n",
            "Missing 45 words. Will replace them with mean vector\n",
            "Missing 42 words. Will replace them with mean vector\n",
            "Missing 39 words. Will replace them with mean vector\n",
            "Missing 36 words. Will replace them with mean vector\n",
            "Missing 33 words. Will replace them with mean vector\n",
            "Missing 30 words. Will replace them with mean vector\n",
            "Missing 27 words. Will replace them with mean vector\n",
            "Missing 24 words. Will replace them with mean vector\n",
            "Missing 21 words. Will replace them with mean vector\n",
            "Missing 18 words. Will replace them with mean vector\n",
            "Missing 15 words. Will replace them with mean vector\n",
            "Missing 12 words. Will replace them with mean vector\n",
            "Missing 9 words. Will replace them with mean vector\n",
            "Missing 6 words. Will replace them with mean vector\n",
            "Missing 3 words. Will replace them with mean vector\n",
            "Missing 57 words. Will replace them with mean vector\n"
          ],
          "name": "stderr"
        },
        {
          "output_type": "stream",
          "text": [
            "Processing plural-nouns with 5 pairs, 20 questions\n"
          ],
          "name": "stdout"
        },
        {
          "output_type": "stream",
          "text": [
            "Missing 54 words. Will replace them with mean vector\n",
            "Missing 51 words. Will replace them with mean vector\n",
            "Missing 48 words. Will replace them with mean vector\n",
            "Missing 45 words. Will replace them with mean vector\n",
            "Missing 42 words. Will replace them with mean vector\n",
            "Missing 39 words. Will replace them with mean vector\n",
            "Missing 36 words. Will replace them with mean vector\n",
            "Missing 33 words. Will replace them with mean vector\n",
            "Missing 30 words. Will replace them with mean vector\n",
            "Missing 27 words. Will replace them with mean vector\n",
            "Missing 24 words. Will replace them with mean vector\n",
            "Missing 21 words. Will replace them with mean vector\n",
            "Missing 18 words. Will replace them with mean vector\n",
            "Missing 15 words. Will replace them with mean vector\n",
            "Missing 12 words. Will replace them with mean vector\n",
            "Missing 9 words. Will replace them with mean vector\n",
            "Missing 6 words. Will replace them with mean vector\n",
            "Missing 3 words. Will replace them with mean vector\n",
            "Missing 59 words. Will replace them with mean vector\n"
          ],
          "name": "stderr"
        },
        {
          "output_type": "stream",
          "text": [
            "Processing nationality-adjective with 5 pairs, 20 questions\n"
          ],
          "name": "stdout"
        },
        {
          "output_type": "stream",
          "text": [
            "Missing 59 words. Will replace them with mean vector\n",
            "Missing 59 words. Will replace them with mean vector\n",
            "Missing 59 words. Will replace them with mean vector\n",
            "Missing 58 words. Will replace them with mean vector\n",
            "Missing 57 words. Will replace them with mean vector\n",
            "Missing 56 words. Will replace them with mean vector\n",
            "Missing 55 words. Will replace them with mean vector\n",
            "Missing 55 words. Will replace them with mean vector\n",
            "Missing 54 words. Will replace them with mean vector\n",
            "Missing 54 words. Will replace them with mean vector\n",
            "Missing 54 words. Will replace them with mean vector\n",
            "Missing 54 words. Will replace them with mean vector\n",
            "Missing 53 words. Will replace them with mean vector\n",
            "Missing 53 words. Will replace them with mean vector\n",
            "Missing 53 words. Will replace them with mean vector\n",
            "Missing 53 words. Will replace them with mean vector\n",
            "Missing 52 words. Will replace them with mean vector\n",
            "Missing 52 words. Will replace them with mean vector\n",
            "Missing 52 words. Will replace them with mean vector\n",
            "Missing 60 words. Will replace them with mean vector\n"
          ],
          "name": "stderr"
        },
        {
          "output_type": "stream",
          "text": [
            "Processing city-in-state with 5 pairs, 20 questions\n"
          ],
          "name": "stdout"
        },
        {
          "output_type": "stream",
          "text": [
            "Missing 60 words. Will replace them with mean vector\n",
            "Missing 60 words. Will replace them with mean vector\n",
            "Missing 60 words. Will replace them with mean vector\n",
            "Missing 60 words. Will replace them with mean vector\n",
            "Missing 60 words. Will replace them with mean vector\n",
            "Missing 60 words. Will replace them with mean vector\n",
            "Missing 60 words. Will replace them with mean vector\n",
            "Missing 60 words. Will replace them with mean vector\n",
            "Missing 60 words. Will replace them with mean vector\n",
            "Missing 60 words. Will replace them with mean vector\n",
            "Missing 60 words. Will replace them with mean vector\n",
            "Missing 60 words. Will replace them with mean vector\n",
            "Missing 60 words. Will replace them with mean vector\n",
            "Missing 60 words. Will replace them with mean vector\n",
            "Missing 60 words. Will replace them with mean vector\n",
            "Missing 60 words. Will replace them with mean vector\n",
            "Missing 60 words. Will replace them with mean vector\n",
            "Missing 60 words. Will replace them with mean vector\n",
            "Missing 60 words. Will replace them with mean vector\n",
            "Missing 57 words. Will replace them with mean vector\n"
          ],
          "name": "stderr"
        },
        {
          "output_type": "stream",
          "text": [
            "Processing IsA with 5 pairs, 20 questions\n"
          ],
          "name": "stdout"
        },
        {
          "output_type": "stream",
          "text": [
            "Missing 54 words. Will replace them with mean vector\n",
            "Missing 51 words. Will replace them with mean vector\n",
            "Missing 48 words. Will replace them with mean vector\n",
            "Missing 45 words. Will replace them with mean vector\n",
            "Missing 42 words. Will replace them with mean vector\n",
            "Missing 39 words. Will replace them with mean vector\n",
            "Missing 36 words. Will replace them with mean vector\n",
            "Missing 33 words. Will replace them with mean vector\n",
            "Missing 30 words. Will replace them with mean vector\n",
            "Missing 27 words. Will replace them with mean vector\n",
            "Missing 24 words. Will replace them with mean vector\n",
            "Missing 21 words. Will replace them with mean vector\n",
            "Missing 18 words. Will replace them with mean vector\n",
            "Missing 15 words. Will replace them with mean vector\n",
            "Missing 12 words. Will replace them with mean vector\n",
            "Missing 9 words. Will replace them with mean vector\n",
            "Missing 6 words. Will replace them with mean vector\n",
            "Missing 3 words. Will replace them with mean vector\n"
          ],
          "name": "stderr"
        },
        {
          "output_type": "stream",
          "text": [
            "                       accuracy  correct  count\n",
            "comparative            0.450000      9.0     20\n",
            "InstanceOf             0.000000      0.0     20\n",
            "present-participle     0.450000      9.0     20\n",
            "currency               0.000000      0.0     20\n",
            "MadeOf                 0.000000      0.0     20\n",
            "superlative            0.150000      3.0     20\n",
            "HasContext             0.000000      0.0     20\n",
            "Entails                0.000000      0.0     20\n",
            "past-tense             0.850000     17.0     20\n",
            "PartOf                 0.000000      0.0     20\n",
            "plural-verbs           0.700000     14.0     20\n",
            "MemberOf               0.000000      0.0     20\n",
            "DerivedFrom            0.000000      0.0     20\n",
            "Antonym                0.050000      1.0     20\n",
            "SimilarTo              0.000000      0.0     20\n",
            "Causes                 0.000000      0.0     20\n",
            "all-capital-cities     0.000000      0.0     20\n",
            "man-woman              0.100000      2.0     20\n",
            "RelatedTo              0.000000      0.0     20\n",
            "adjective-to-adverb    0.200000      4.0     20\n",
            "Attribute              0.050000      1.0     20\n",
            "plural-nouns           0.800000     16.0     20\n",
            "nationality-adjective  0.000000      0.0     20\n",
            "city-in-state          0.000000      0.0     20\n",
            "IsA                    0.000000      0.0     20\n",
            "wikipedia              0.007692      2.0    260\n",
            "all                    0.152000     76.0    500\n",
            "wordnet                0.308333     74.0    240\n"
          ],
          "name": "stdout"
        }
      ]
    },
    {
      "cell_type": "code",
      "metadata": {
        "id": "ioCWcZlYI_3d",
        "colab_type": "code",
        "outputId": "f56d8448-44db-491d-d89c-95b6af6922c1",
        "colab": {
          "base_uri": "https://localhost:8080/",
          "height": 688
        }
      },
      "source": [
        "results = evaluateOnAll(w)\n",
        "print(results)"
      ],
      "execution_count": 0,
      "outputs": [
        {
          "output_type": "stream",
          "text": [
            "Missing 77 words. Will replace them with mean vector\n",
            "/content/drive/My Drive/Term5/NLP/Dataset/web/evaluate.py:336: FutureWarning: arrays to stack must be passed as a \"sequence\" type such as list or tuple. Support for non-sequence iterables such as generators is deprecated as of NumPy 1.16 and will raise an error in the future.\n",
            "  A = np.vstack(w.get(word, mean_vector) for word in X[:, 0])\n",
            "/content/drive/My Drive/Term5/NLP/Dataset/web/evaluate.py:337: FutureWarning: arrays to stack must be passed as a \"sequence\" type such as list or tuple. Support for non-sequence iterables such as generators is deprecated as of NumPy 1.16 and will raise an error in the future.\n",
            "  B = np.vstack(w.get(word, mean_vector) for word in X[:, 1])\n",
            "Missing 10 words. Will replace them with mean vector\n"
          ],
          "name": "stderr"
        },
        {
          "output_type": "stream",
          "text": [
            "Spearman correlation of scores on MTurk 0.542700930326818\n",
            "Spearman correlation of scores on MEN 0.7399210178650032\n",
            "Spearman correlation of scores on WS353 0.7177342016139633\n"
          ],
          "name": "stdout"
        },
        {
          "output_type": "stream",
          "text": [
            "Missing 660 words. Will replace them with mean vector\n",
            "Missing 4 words. Will replace them with mean vector\n",
            "Missing 12844 words. Will replace them with mean vector\n"
          ],
          "name": "stderr"
        },
        {
          "output_type": "stream",
          "text": [
            "Spearman correlation of scores on RubensteinAndGoodenough 0.8068101141619013\n",
            "Spearman correlation of scores on Rare Words 0.40721898923022243\n",
            "Spearman correlation of scores on SIMLEX999 0.3963985515730832\n",
            "Spearman correlation of scores on TR9856 0.13998108429534306\n",
            "Calculating analogy benchmarks\n"
          ],
          "name": "stdout"
        },
        {
          "output_type": "stream",
          "text": [
            "Missing 26746 words. Will replace them with mean vector\n",
            "/content/drive/My Drive/Term5/NLP/Dataset/web/analogy.py:105: FutureWarning: arrays to stack must be passed as a \"sequence\" type such as list or tuple. Support for non-sequence iterables such as generators is deprecated as of NumPy 1.16 and will raise an error in the future.\n",
            "  A, B, C = np.vstack(w.get(word, mean_vector) for word in X_b[:, 0]), \\\n",
            "/content/drive/My Drive/Term5/NLP/Dataset/web/analogy.py:106: FutureWarning: arrays to stack must be passed as a \"sequence\" type such as list or tuple. Support for non-sequence iterables such as generators is deprecated as of NumPy 1.16 and will raise an error in the future.\n",
            "  np.vstack(w.get(word, mean_vector) for word in X_b[:, 1]), \\\n",
            "/content/drive/My Drive/Term5/NLP/Dataset/web/analogy.py:107: FutureWarning: arrays to stack must be passed as a \"sequence\" type such as list or tuple. Support for non-sequence iterables such as generators is deprecated as of NumPy 1.16 and will raise an error in the future.\n",
            "  np.vstack(w.get(word, mean_vector) for word in X_b[:, 2])\n",
            "Missing 1095 words. Will replace them with mean vector\n"
          ],
          "name": "stderr"
        },
        {
          "output_type": "stream",
          "text": [
            "Analogy prediction accuracy on Google 0.32142857142857145\n",
            "Analogy prediction accuracy on MSR 0.5565\n",
            "Analogy prediction accuracy on SemEval2012 0.19394744046911053\n",
            "      MTurk       MEN     WS353  ...    Google     MSR  SemEval2012_2\n",
            "0  0.542701  0.739921  0.717734  ...  0.321429  0.5565       0.193947\n",
            "\n",
            "[1 rows x 10 columns]\n"
          ],
          "name": "stdout"
        },
        {
          "output_type": "stream",
          "text": [
            "/usr/local/lib/python3.6/dist-packages/ipykernel_launcher.py:9: FutureWarning: arrays to stack must be passed as a \"sequence\" type such as list or tuple. Support for non-sequence iterables such as generators is deprecated as of NumPy 1.16 and will raise an error in the future.\n",
            "  if __name__ == '__main__':\n",
            "/usr/local/lib/python3.6/dist-packages/ipykernel_launcher.py:10: FutureWarning: arrays to stack must be passed as a \"sequence\" type such as list or tuple. Support for non-sequence iterables such as generators is deprecated as of NumPy 1.16 and will raise an error in the future.\n",
            "  # Remove the CWD from sys.path while we load stuff.\n",
            "/usr/local/lib/python3.6/dist-packages/ipykernel_launcher.py:12: FutureWarning: arrays to stack must be passed as a \"sequence\" type such as list or tuple. Support for non-sequence iterables such as generators is deprecated as of NumPy 1.16 and will raise an error in the future.\n",
            "  if sys.path[0] == '':\n"
          ],
          "name": "stderr"
        }
      ]
    },
    {
      "cell_type": "markdown",
      "metadata": {
        "id": "ROKX4ikifzWd",
        "colab_type": "text"
      },
      "source": [
        "##### WE:8"
      ]
    },
    {
      "cell_type": "code",
      "metadata": {
        "id": "0Br8ZPeMf1av",
        "colab_type": "code",
        "outputId": "a92ab5bb-0054-43f7-d446-d039ee244bda",
        "colab": {
          "base_uri": "https://localhost:8080/",
          "height": 1000
        }
      },
      "source": [
        "w = w_pdc\n",
        "results_wordrep = calAnswersOnWordRep(data_wordrep, w, max_pairs=5)\n",
        "print(results_wordrep)"
      ],
      "execution_count": 0,
      "outputs": [
        {
          "output_type": "stream",
          "text": [
            "Processing comparative with 5 pairs, 20 questions\n"
          ],
          "name": "stdout"
        },
        {
          "output_type": "stream",
          "text": [
            "Missing 57 words. Will replace them with mean vector\n",
            "/content/drive/My Drive/Term5/NLP/Dataset/web/analogy.py:101: RuntimeWarning: invalid value encountered in double_scalars\n",
            "  if id_batch % np.floor(len(X) / (10. * self.batch_size)) == 0:\n",
            "/content/drive/My Drive/Term5/NLP/Dataset/web/analogy.py:105: FutureWarning: arrays to stack must be passed as a \"sequence\" type such as list or tuple. Support for non-sequence iterables such as generators is deprecated as of NumPy 1.16 and will raise an error in the future.\n",
            "  A, B, C = np.vstack(w.get(word, mean_vector) for word in X_b[:, 0]), \\\n",
            "/content/drive/My Drive/Term5/NLP/Dataset/web/analogy.py:106: FutureWarning: arrays to stack must be passed as a \"sequence\" type such as list or tuple. Support for non-sequence iterables such as generators is deprecated as of NumPy 1.16 and will raise an error in the future.\n",
            "  np.vstack(w.get(word, mean_vector) for word in X_b[:, 1]), \\\n",
            "/content/drive/My Drive/Term5/NLP/Dataset/web/analogy.py:107: FutureWarning: arrays to stack must be passed as a \"sequence\" type such as list or tuple. Support for non-sequence iterables such as generators is deprecated as of NumPy 1.16 and will raise an error in the future.\n",
            "  np.vstack(w.get(word, mean_vector) for word in X_b[:, 2])\n",
            "Missing 54 words. Will replace them with mean vector\n",
            "Missing 51 words. Will replace them with mean vector\n",
            "Missing 48 words. Will replace them with mean vector\n",
            "Missing 45 words. Will replace them with mean vector\n",
            "Missing 42 words. Will replace them with mean vector\n",
            "Missing 39 words. Will replace them with mean vector\n",
            "Missing 36 words. Will replace them with mean vector\n",
            "Missing 33 words. Will replace them with mean vector\n",
            "Missing 30 words. Will replace them with mean vector\n",
            "Missing 27 words. Will replace them with mean vector\n",
            "Missing 24 words. Will replace them with mean vector\n",
            "Missing 21 words. Will replace them with mean vector\n",
            "Missing 18 words. Will replace them with mean vector\n",
            "Missing 15 words. Will replace them with mean vector\n",
            "Missing 12 words. Will replace them with mean vector\n",
            "Missing 9 words. Will replace them with mean vector\n",
            "Missing 6 words. Will replace them with mean vector\n",
            "Missing 3 words. Will replace them with mean vector\n"
          ],
          "name": "stderr"
        },
        {
          "output_type": "stream",
          "text": [
            "Processing InstanceOf with 5 pairs, 20 questions\n"
          ],
          "name": "stdout"
        },
        {
          "output_type": "stream",
          "text": [
            "Missing 57 words. Will replace them with mean vector\n",
            "Missing 54 words. Will replace them with mean vector\n",
            "Missing 51 words. Will replace them with mean vector\n",
            "Missing 48 words. Will replace them with mean vector\n",
            "Missing 45 words. Will replace them with mean vector\n",
            "Missing 42 words. Will replace them with mean vector\n",
            "Missing 39 words. Will replace them with mean vector\n",
            "Missing 36 words. Will replace them with mean vector\n",
            "Missing 33 words. Will replace them with mean vector\n",
            "Missing 30 words. Will replace them with mean vector\n",
            "Missing 27 words. Will replace them with mean vector\n",
            "Missing 24 words. Will replace them with mean vector\n",
            "Missing 21 words. Will replace them with mean vector\n",
            "Missing 18 words. Will replace them with mean vector\n",
            "Missing 15 words. Will replace them with mean vector\n",
            "Missing 12 words. Will replace them with mean vector\n",
            "Missing 9 words. Will replace them with mean vector\n",
            "Missing 6 words. Will replace them with mean vector\n",
            "Missing 3 words. Will replace them with mean vector\n"
          ],
          "name": "stderr"
        },
        {
          "output_type": "stream",
          "text": [
            "Processing present-participle with 5 pairs, 20 questions\n"
          ],
          "name": "stdout"
        },
        {
          "output_type": "stream",
          "text": [
            "Missing 57 words. Will replace them with mean vector\n",
            "Missing 54 words. Will replace them with mean vector\n",
            "Missing 51 words. Will replace them with mean vector\n",
            "Missing 48 words. Will replace them with mean vector\n",
            "Missing 45 words. Will replace them with mean vector\n",
            "Missing 42 words. Will replace them with mean vector\n",
            "Missing 39 words. Will replace them with mean vector\n",
            "Missing 36 words. Will replace them with mean vector\n",
            "Missing 33 words. Will replace them with mean vector\n",
            "Missing 30 words. Will replace them with mean vector\n",
            "Missing 27 words. Will replace them with mean vector\n",
            "Missing 24 words. Will replace them with mean vector\n",
            "Missing 21 words. Will replace them with mean vector\n",
            "Missing 18 words. Will replace them with mean vector\n",
            "Missing 15 words. Will replace them with mean vector\n",
            "Missing 12 words. Will replace them with mean vector\n",
            "Missing 9 words. Will replace them with mean vector\n",
            "Missing 6 words. Will replace them with mean vector\n",
            "Missing 3 words. Will replace them with mean vector\n"
          ],
          "name": "stderr"
        },
        {
          "output_type": "stream",
          "text": [
            "Processing currency with 5 pairs, 20 questions\n"
          ],
          "name": "stdout"
        },
        {
          "output_type": "stream",
          "text": [
            "Missing 57 words. Will replace them with mean vector\n",
            "Missing 54 words. Will replace them with mean vector\n",
            "Missing 51 words. Will replace them with mean vector\n",
            "Missing 48 words. Will replace them with mean vector\n",
            "Missing 45 words. Will replace them with mean vector\n",
            "Missing 42 words. Will replace them with mean vector\n",
            "Missing 39 words. Will replace them with mean vector\n",
            "Missing 36 words. Will replace them with mean vector\n",
            "Missing 33 words. Will replace them with mean vector\n",
            "Missing 30 words. Will replace them with mean vector\n",
            "Missing 27 words. Will replace them with mean vector\n",
            "Missing 24 words. Will replace them with mean vector\n",
            "Missing 21 words. Will replace them with mean vector\n",
            "Missing 18 words. Will replace them with mean vector\n",
            "Missing 15 words. Will replace them with mean vector\n",
            "Missing 12 words. Will replace them with mean vector\n",
            "Missing 9 words. Will replace them with mean vector\n",
            "Missing 6 words. Will replace them with mean vector\n",
            "Missing 3 words. Will replace them with mean vector\n"
          ],
          "name": "stderr"
        },
        {
          "output_type": "stream",
          "text": [
            "Processing MadeOf with 5 pairs, 20 questions\n"
          ],
          "name": "stdout"
        },
        {
          "output_type": "stream",
          "text": [
            "Missing 57 words. Will replace them with mean vector\n",
            "Missing 54 words. Will replace them with mean vector\n",
            "Missing 51 words. Will replace them with mean vector\n",
            "Missing 48 words. Will replace them with mean vector\n",
            "Missing 45 words. Will replace them with mean vector\n",
            "Missing 42 words. Will replace them with mean vector\n",
            "Missing 39 words. Will replace them with mean vector\n",
            "Missing 36 words. Will replace them with mean vector\n",
            "Missing 33 words. Will replace them with mean vector\n",
            "Missing 30 words. Will replace them with mean vector\n",
            "Missing 27 words. Will replace them with mean vector\n",
            "Missing 24 words. Will replace them with mean vector\n",
            "Missing 21 words. Will replace them with mean vector\n",
            "Missing 18 words. Will replace them with mean vector\n",
            "Missing 15 words. Will replace them with mean vector\n",
            "Missing 12 words. Will replace them with mean vector\n",
            "Missing 9 words. Will replace them with mean vector\n",
            "Missing 6 words. Will replace them with mean vector\n",
            "Missing 3 words. Will replace them with mean vector\n"
          ],
          "name": "stderr"
        },
        {
          "output_type": "stream",
          "text": [
            "Processing superlative with 5 pairs, 20 questions\n"
          ],
          "name": "stdout"
        },
        {
          "output_type": "stream",
          "text": [
            "Missing 57 words. Will replace them with mean vector\n",
            "Missing 54 words. Will replace them with mean vector\n",
            "Missing 51 words. Will replace them with mean vector\n",
            "Missing 48 words. Will replace them with mean vector\n",
            "Missing 45 words. Will replace them with mean vector\n",
            "Missing 42 words. Will replace them with mean vector\n",
            "Missing 39 words. Will replace them with mean vector\n",
            "Missing 36 words. Will replace them with mean vector\n",
            "Missing 33 words. Will replace them with mean vector\n",
            "Missing 30 words. Will replace them with mean vector\n",
            "Missing 27 words. Will replace them with mean vector\n",
            "Missing 24 words. Will replace them with mean vector\n",
            "Missing 21 words. Will replace them with mean vector\n",
            "Missing 18 words. Will replace them with mean vector\n",
            "Missing 15 words. Will replace them with mean vector\n",
            "Missing 12 words. Will replace them with mean vector\n",
            "Missing 9 words. Will replace them with mean vector\n",
            "Missing 6 words. Will replace them with mean vector\n",
            "Missing 3 words. Will replace them with mean vector\n",
            "Missing 57 words. Will replace them with mean vector\n"
          ],
          "name": "stderr"
        },
        {
          "output_type": "stream",
          "text": [
            "Processing HasContext with 5 pairs, 20 questions\n"
          ],
          "name": "stdout"
        },
        {
          "output_type": "stream",
          "text": [
            "Missing 54 words. Will replace them with mean vector\n",
            "Missing 51 words. Will replace them with mean vector\n",
            "Missing 48 words. Will replace them with mean vector\n",
            "Missing 45 words. Will replace them with mean vector\n",
            "Missing 42 words. Will replace them with mean vector\n",
            "Missing 39 words. Will replace them with mean vector\n",
            "Missing 36 words. Will replace them with mean vector\n",
            "Missing 33 words. Will replace them with mean vector\n",
            "Missing 30 words. Will replace them with mean vector\n",
            "Missing 27 words. Will replace them with mean vector\n",
            "Missing 24 words. Will replace them with mean vector\n",
            "Missing 21 words. Will replace them with mean vector\n",
            "Missing 18 words. Will replace them with mean vector\n",
            "Missing 15 words. Will replace them with mean vector\n",
            "Missing 12 words. Will replace them with mean vector\n",
            "Missing 9 words. Will replace them with mean vector\n",
            "Missing 6 words. Will replace them with mean vector\n",
            "Missing 3 words. Will replace them with mean vector\n",
            "Missing 57 words. Will replace them with mean vector\n"
          ],
          "name": "stderr"
        },
        {
          "output_type": "stream",
          "text": [
            "Processing Entails with 5 pairs, 20 questions\n"
          ],
          "name": "stdout"
        },
        {
          "output_type": "stream",
          "text": [
            "Missing 54 words. Will replace them with mean vector\n",
            "Missing 51 words. Will replace them with mean vector\n",
            "Missing 48 words. Will replace them with mean vector\n",
            "Missing 45 words. Will replace them with mean vector\n",
            "Missing 42 words. Will replace them with mean vector\n",
            "Missing 39 words. Will replace them with mean vector\n",
            "Missing 36 words. Will replace them with mean vector\n",
            "Missing 33 words. Will replace them with mean vector\n",
            "Missing 30 words. Will replace them with mean vector\n",
            "Missing 27 words. Will replace them with mean vector\n",
            "Missing 24 words. Will replace them with mean vector\n",
            "Missing 21 words. Will replace them with mean vector\n",
            "Missing 18 words. Will replace them with mean vector\n",
            "Missing 15 words. Will replace them with mean vector\n",
            "Missing 12 words. Will replace them with mean vector\n",
            "Missing 9 words. Will replace them with mean vector\n",
            "Missing 6 words. Will replace them with mean vector\n",
            "Missing 3 words. Will replace them with mean vector\n",
            "Missing 57 words. Will replace them with mean vector\n"
          ],
          "name": "stderr"
        },
        {
          "output_type": "stream",
          "text": [
            "Processing past-tense with 5 pairs, 20 questions\n"
          ],
          "name": "stdout"
        },
        {
          "output_type": "stream",
          "text": [
            "Missing 54 words. Will replace them with mean vector\n",
            "Missing 51 words. Will replace them with mean vector\n",
            "Missing 48 words. Will replace them with mean vector\n",
            "Missing 45 words. Will replace them with mean vector\n",
            "Missing 42 words. Will replace them with mean vector\n",
            "Missing 39 words. Will replace them with mean vector\n",
            "Missing 36 words. Will replace them with mean vector\n",
            "Missing 33 words. Will replace them with mean vector\n",
            "Missing 30 words. Will replace them with mean vector\n",
            "Missing 27 words. Will replace them with mean vector\n",
            "Missing 24 words. Will replace them with mean vector\n",
            "Missing 21 words. Will replace them with mean vector\n",
            "Missing 18 words. Will replace them with mean vector\n",
            "Missing 15 words. Will replace them with mean vector\n",
            "Missing 12 words. Will replace them with mean vector\n",
            "Missing 9 words. Will replace them with mean vector\n",
            "Missing 6 words. Will replace them with mean vector\n",
            "Missing 3 words. Will replace them with mean vector\n"
          ],
          "name": "stderr"
        },
        {
          "output_type": "stream",
          "text": [
            "Processing PartOf with 5 pairs, 20 questions\n"
          ],
          "name": "stdout"
        },
        {
          "output_type": "stream",
          "text": [
            "Missing 57 words. Will replace them with mean vector\n",
            "Missing 54 words. Will replace them with mean vector\n",
            "Missing 51 words. Will replace them with mean vector\n",
            "Missing 48 words. Will replace them with mean vector\n",
            "Missing 45 words. Will replace them with mean vector\n",
            "Missing 42 words. Will replace them with mean vector\n",
            "Missing 39 words. Will replace them with mean vector\n",
            "Missing 36 words. Will replace them with mean vector\n",
            "Missing 33 words. Will replace them with mean vector\n",
            "Missing 30 words. Will replace them with mean vector\n",
            "Missing 27 words. Will replace them with mean vector\n",
            "Missing 24 words. Will replace them with mean vector\n",
            "Missing 21 words. Will replace them with mean vector\n",
            "Missing 18 words. Will replace them with mean vector\n",
            "Missing 15 words. Will replace them with mean vector\n",
            "Missing 12 words. Will replace them with mean vector\n",
            "Missing 9 words. Will replace them with mean vector\n",
            "Missing 6 words. Will replace them with mean vector\n",
            "Missing 3 words. Will replace them with mean vector\n"
          ],
          "name": "stderr"
        },
        {
          "output_type": "stream",
          "text": [
            "Processing plural-verbs with 5 pairs, 20 questions\n"
          ],
          "name": "stdout"
        },
        {
          "output_type": "stream",
          "text": [
            "Missing 57 words. Will replace them with mean vector\n",
            "Missing 54 words. Will replace them with mean vector\n",
            "Missing 51 words. Will replace them with mean vector\n",
            "Missing 48 words. Will replace them with mean vector\n",
            "Missing 45 words. Will replace them with mean vector\n",
            "Missing 42 words. Will replace them with mean vector\n",
            "Missing 39 words. Will replace them with mean vector\n",
            "Missing 36 words. Will replace them with mean vector\n",
            "Missing 33 words. Will replace them with mean vector\n",
            "Missing 30 words. Will replace them with mean vector\n",
            "Missing 27 words. Will replace them with mean vector\n",
            "Missing 24 words. Will replace them with mean vector\n",
            "Missing 21 words. Will replace them with mean vector\n",
            "Missing 18 words. Will replace them with mean vector\n",
            "Missing 15 words. Will replace them with mean vector\n",
            "Missing 12 words. Will replace them with mean vector\n",
            "Missing 9 words. Will replace them with mean vector\n",
            "Missing 6 words. Will replace them with mean vector\n",
            "Missing 3 words. Will replace them with mean vector\n"
          ],
          "name": "stderr"
        },
        {
          "output_type": "stream",
          "text": [
            "Processing MemberOf with 5 pairs, 20 questions\n"
          ],
          "name": "stdout"
        },
        {
          "output_type": "stream",
          "text": [
            "Missing 57 words. Will replace them with mean vector\n",
            "Missing 54 words. Will replace them with mean vector\n",
            "Missing 51 words. Will replace them with mean vector\n",
            "Missing 48 words. Will replace them with mean vector\n",
            "Missing 45 words. Will replace them with mean vector\n",
            "Missing 42 words. Will replace them with mean vector\n",
            "Missing 39 words. Will replace them with mean vector\n",
            "Missing 36 words. Will replace them with mean vector\n",
            "Missing 33 words. Will replace them with mean vector\n",
            "Missing 30 words. Will replace them with mean vector\n",
            "Missing 27 words. Will replace them with mean vector\n",
            "Missing 24 words. Will replace them with mean vector\n",
            "Missing 21 words. Will replace them with mean vector\n",
            "Missing 18 words. Will replace them with mean vector\n",
            "Missing 15 words. Will replace them with mean vector\n",
            "Missing 12 words. Will replace them with mean vector\n",
            "Missing 9 words. Will replace them with mean vector\n",
            "Missing 6 words. Will replace them with mean vector\n",
            "Missing 3 words. Will replace them with mean vector\n"
          ],
          "name": "stderr"
        },
        {
          "output_type": "stream",
          "text": [
            "Processing DerivedFrom with 5 pairs, 20 questions\n"
          ],
          "name": "stdout"
        },
        {
          "output_type": "stream",
          "text": [
            "Missing 57 words. Will replace them with mean vector\n",
            "Missing 54 words. Will replace them with mean vector\n",
            "Missing 51 words. Will replace them with mean vector\n",
            "Missing 48 words. Will replace them with mean vector\n",
            "Missing 45 words. Will replace them with mean vector\n",
            "Missing 42 words. Will replace them with mean vector\n",
            "Missing 39 words. Will replace them with mean vector\n",
            "Missing 36 words. Will replace them with mean vector\n",
            "Missing 33 words. Will replace them with mean vector\n",
            "Missing 30 words. Will replace them with mean vector\n",
            "Missing 27 words. Will replace them with mean vector\n",
            "Missing 24 words. Will replace them with mean vector\n",
            "Missing 21 words. Will replace them with mean vector\n",
            "Missing 18 words. Will replace them with mean vector\n",
            "Missing 15 words. Will replace them with mean vector\n",
            "Missing 12 words. Will replace them with mean vector\n",
            "Missing 9 words. Will replace them with mean vector\n",
            "Missing 6 words. Will replace them with mean vector\n",
            "Missing 3 words. Will replace them with mean vector\n"
          ],
          "name": "stderr"
        },
        {
          "output_type": "stream",
          "text": [
            "Processing Antonym with 5 pairs, 20 questions\n"
          ],
          "name": "stdout"
        },
        {
          "output_type": "stream",
          "text": [
            "Missing 57 words. Will replace them with mean vector\n",
            "Missing 54 words. Will replace them with mean vector\n",
            "Missing 51 words. Will replace them with mean vector\n",
            "Missing 48 words. Will replace them with mean vector\n",
            "Missing 46 words. Will replace them with mean vector\n",
            "Missing 44 words. Will replace them with mean vector\n",
            "Missing 42 words. Will replace them with mean vector\n",
            "Missing 40 words. Will replace them with mean vector\n",
            "Missing 37 words. Will replace them with mean vector\n",
            "Missing 34 words. Will replace them with mean vector\n",
            "Missing 31 words. Will replace them with mean vector\n",
            "Missing 28 words. Will replace them with mean vector\n",
            "Missing 25 words. Will replace them with mean vector\n",
            "Missing 22 words. Will replace them with mean vector\n",
            "Missing 19 words. Will replace them with mean vector\n",
            "Missing 16 words. Will replace them with mean vector\n",
            "Missing 13 words. Will replace them with mean vector\n",
            "Missing 10 words. Will replace them with mean vector\n",
            "Missing 7 words. Will replace them with mean vector\n",
            "Missing 4 words. Will replace them with mean vector\n",
            "Missing 57 words. Will replace them with mean vector\n"
          ],
          "name": "stderr"
        },
        {
          "output_type": "stream",
          "text": [
            "Processing SimilarTo with 5 pairs, 20 questions\n"
          ],
          "name": "stdout"
        },
        {
          "output_type": "stream",
          "text": [
            "Missing 54 words. Will replace them with mean vector\n",
            "Missing 51 words. Will replace them with mean vector\n",
            "Missing 48 words. Will replace them with mean vector\n",
            "Missing 45 words. Will replace them with mean vector\n",
            "Missing 42 words. Will replace them with mean vector\n",
            "Missing 39 words. Will replace them with mean vector\n",
            "Missing 36 words. Will replace them with mean vector\n",
            "Missing 33 words. Will replace them with mean vector\n",
            "Missing 30 words. Will replace them with mean vector\n",
            "Missing 27 words. Will replace them with mean vector\n",
            "Missing 24 words. Will replace them with mean vector\n",
            "Missing 21 words. Will replace them with mean vector\n",
            "Missing 18 words. Will replace them with mean vector\n",
            "Missing 15 words. Will replace them with mean vector\n",
            "Missing 12 words. Will replace them with mean vector\n",
            "Missing 9 words. Will replace them with mean vector\n",
            "Missing 6 words. Will replace them with mean vector\n",
            "Missing 3 words. Will replace them with mean vector\n"
          ],
          "name": "stderr"
        },
        {
          "output_type": "stream",
          "text": [
            "Processing Causes with 5 pairs, 20 questions\n"
          ],
          "name": "stdout"
        },
        {
          "output_type": "stream",
          "text": [
            "Missing 57 words. Will replace them with mean vector\n",
            "Missing 54 words. Will replace them with mean vector\n",
            "Missing 51 words. Will replace them with mean vector\n",
            "Missing 48 words. Will replace them with mean vector\n",
            "Missing 45 words. Will replace them with mean vector\n",
            "Missing 42 words. Will replace them with mean vector\n",
            "Missing 39 words. Will replace them with mean vector\n",
            "Missing 36 words. Will replace them with mean vector\n",
            "Missing 33 words. Will replace them with mean vector\n",
            "Missing 30 words. Will replace them with mean vector\n",
            "Missing 27 words. Will replace them with mean vector\n",
            "Missing 24 words. Will replace them with mean vector\n",
            "Missing 21 words. Will replace them with mean vector\n",
            "Missing 18 words. Will replace them with mean vector\n",
            "Missing 15 words. Will replace them with mean vector\n",
            "Missing 12 words. Will replace them with mean vector\n",
            "Missing 9 words. Will replace them with mean vector\n",
            "Missing 6 words. Will replace them with mean vector\n",
            "Missing 3 words. Will replace them with mean vector\n"
          ],
          "name": "stderr"
        },
        {
          "output_type": "stream",
          "text": [
            "Processing all-capital-cities with 5 pairs, 20 questions\n"
          ],
          "name": "stdout"
        },
        {
          "output_type": "stream",
          "text": [
            "Missing 57 words. Will replace them with mean vector\n",
            "Missing 54 words. Will replace them with mean vector\n",
            "Missing 51 words. Will replace them with mean vector\n",
            "Missing 48 words. Will replace them with mean vector\n",
            "Missing 45 words. Will replace them with mean vector\n",
            "Missing 42 words. Will replace them with mean vector\n",
            "Missing 39 words. Will replace them with mean vector\n",
            "Missing 36 words. Will replace them with mean vector\n",
            "Missing 33 words. Will replace them with mean vector\n",
            "Missing 30 words. Will replace them with mean vector\n",
            "Missing 27 words. Will replace them with mean vector\n",
            "Missing 24 words. Will replace them with mean vector\n",
            "Missing 21 words. Will replace them with mean vector\n",
            "Missing 18 words. Will replace them with mean vector\n",
            "Missing 15 words. Will replace them with mean vector\n",
            "Missing 12 words. Will replace them with mean vector\n",
            "Missing 9 words. Will replace them with mean vector\n",
            "Missing 6 words. Will replace them with mean vector\n",
            "Missing 3 words. Will replace them with mean vector\n"
          ],
          "name": "stderr"
        },
        {
          "output_type": "stream",
          "text": [
            "Processing man-woman with 5 pairs, 20 questions\n"
          ],
          "name": "stdout"
        },
        {
          "output_type": "stream",
          "text": [
            "Missing 57 words. Will replace them with mean vector\n",
            "Missing 54 words. Will replace them with mean vector\n",
            "Missing 51 words. Will replace them with mean vector\n",
            "Missing 48 words. Will replace them with mean vector\n",
            "Missing 45 words. Will replace them with mean vector\n",
            "Missing 42 words. Will replace them with mean vector\n",
            "Missing 39 words. Will replace them with mean vector\n",
            "Missing 36 words. Will replace them with mean vector\n",
            "Missing 33 words. Will replace them with mean vector\n",
            "Missing 30 words. Will replace them with mean vector\n",
            "Missing 27 words. Will replace them with mean vector\n",
            "Missing 24 words. Will replace them with mean vector\n",
            "Missing 21 words. Will replace them with mean vector\n",
            "Missing 18 words. Will replace them with mean vector\n",
            "Missing 15 words. Will replace them with mean vector\n",
            "Missing 12 words. Will replace them with mean vector\n",
            "Missing 9 words. Will replace them with mean vector\n",
            "Missing 6 words. Will replace them with mean vector\n",
            "Missing 3 words. Will replace them with mean vector\n",
            "Missing 57 words. Will replace them with mean vector\n"
          ],
          "name": "stderr"
        },
        {
          "output_type": "stream",
          "text": [
            "Processing RelatedTo with 5 pairs, 20 questions\n"
          ],
          "name": "stdout"
        },
        {
          "output_type": "stream",
          "text": [
            "Missing 54 words. Will replace them with mean vector\n",
            "Missing 51 words. Will replace them with mean vector\n",
            "Missing 48 words. Will replace them with mean vector\n",
            "Missing 45 words. Will replace them with mean vector\n",
            "Missing 42 words. Will replace them with mean vector\n",
            "Missing 39 words. Will replace them with mean vector\n",
            "Missing 36 words. Will replace them with mean vector\n",
            "Missing 33 words. Will replace them with mean vector\n",
            "Missing 30 words. Will replace them with mean vector\n",
            "Missing 27 words. Will replace them with mean vector\n",
            "Missing 24 words. Will replace them with mean vector\n",
            "Missing 21 words. Will replace them with mean vector\n",
            "Missing 18 words. Will replace them with mean vector\n",
            "Missing 15 words. Will replace them with mean vector\n",
            "Missing 12 words. Will replace them with mean vector\n",
            "Missing 9 words. Will replace them with mean vector\n",
            "Missing 6 words. Will replace them with mean vector\n",
            "Missing 3 words. Will replace them with mean vector\n"
          ],
          "name": "stderr"
        },
        {
          "output_type": "stream",
          "text": [
            "Processing adjective-to-adverb with 5 pairs, 20 questions\n"
          ],
          "name": "stdout"
        },
        {
          "output_type": "stream",
          "text": [
            "Missing 57 words. Will replace them with mean vector\n",
            "Missing 54 words. Will replace them with mean vector\n",
            "Missing 51 words. Will replace them with mean vector\n",
            "Missing 48 words. Will replace them with mean vector\n",
            "Missing 45 words. Will replace them with mean vector\n",
            "Missing 42 words. Will replace them with mean vector\n",
            "Missing 39 words. Will replace them with mean vector\n",
            "Missing 36 words. Will replace them with mean vector\n",
            "Missing 33 words. Will replace them with mean vector\n",
            "Missing 30 words. Will replace them with mean vector\n",
            "Missing 27 words. Will replace them with mean vector\n",
            "Missing 24 words. Will replace them with mean vector\n",
            "Missing 21 words. Will replace them with mean vector\n",
            "Missing 18 words. Will replace them with mean vector\n",
            "Missing 15 words. Will replace them with mean vector\n",
            "Missing 12 words. Will replace them with mean vector\n",
            "Missing 9 words. Will replace them with mean vector\n",
            "Missing 6 words. Will replace them with mean vector\n",
            "Missing 3 words. Will replace them with mean vector\n"
          ],
          "name": "stderr"
        },
        {
          "output_type": "stream",
          "text": [
            "Processing Attribute with 5 pairs, 20 questions\n"
          ],
          "name": "stdout"
        },
        {
          "output_type": "stream",
          "text": [
            "Missing 57 words. Will replace them with mean vector\n",
            "Missing 54 words. Will replace them with mean vector\n",
            "Missing 51 words. Will replace them with mean vector\n",
            "Missing 48 words. Will replace them with mean vector\n",
            "Missing 45 words. Will replace them with mean vector\n",
            "Missing 42 words. Will replace them with mean vector\n",
            "Missing 39 words. Will replace them with mean vector\n",
            "Missing 36 words. Will replace them with mean vector\n",
            "Missing 33 words. Will replace them with mean vector\n",
            "Missing 30 words. Will replace them with mean vector\n",
            "Missing 27 words. Will replace them with mean vector\n",
            "Missing 24 words. Will replace them with mean vector\n",
            "Missing 21 words. Will replace them with mean vector\n",
            "Missing 18 words. Will replace them with mean vector\n",
            "Missing 15 words. Will replace them with mean vector\n",
            "Missing 12 words. Will replace them with mean vector\n",
            "Missing 9 words. Will replace them with mean vector\n",
            "Missing 6 words. Will replace them with mean vector\n",
            "Missing 3 words. Will replace them with mean vector\n"
          ],
          "name": "stderr"
        },
        {
          "output_type": "stream",
          "text": [
            "Processing plural-nouns with 5 pairs, 20 questions\n"
          ],
          "name": "stdout"
        },
        {
          "output_type": "stream",
          "text": [
            "Missing 57 words. Will replace them with mean vector\n",
            "Missing 54 words. Will replace them with mean vector\n",
            "Missing 51 words. Will replace them with mean vector\n",
            "Missing 48 words. Will replace them with mean vector\n",
            "Missing 45 words. Will replace them with mean vector\n",
            "Missing 42 words. Will replace them with mean vector\n",
            "Missing 39 words. Will replace them with mean vector\n",
            "Missing 36 words. Will replace them with mean vector\n",
            "Missing 33 words. Will replace them with mean vector\n",
            "Missing 30 words. Will replace them with mean vector\n",
            "Missing 27 words. Will replace them with mean vector\n",
            "Missing 24 words. Will replace them with mean vector\n",
            "Missing 21 words. Will replace them with mean vector\n",
            "Missing 18 words. Will replace them with mean vector\n",
            "Missing 15 words. Will replace them with mean vector\n",
            "Missing 12 words. Will replace them with mean vector\n",
            "Missing 9 words. Will replace them with mean vector\n",
            "Missing 6 words. Will replace them with mean vector\n",
            "Missing 3 words. Will replace them with mean vector\n"
          ],
          "name": "stderr"
        },
        {
          "output_type": "stream",
          "text": [
            "Processing nationality-adjective with 5 pairs, 20 questions\n"
          ],
          "name": "stdout"
        },
        {
          "output_type": "stream",
          "text": [
            "Missing 57 words. Will replace them with mean vector\n",
            "Missing 54 words. Will replace them with mean vector\n",
            "Missing 51 words. Will replace them with mean vector\n",
            "Missing 48 words. Will replace them with mean vector\n",
            "Missing 45 words. Will replace them with mean vector\n",
            "Missing 42 words. Will replace them with mean vector\n",
            "Missing 39 words. Will replace them with mean vector\n",
            "Missing 36 words. Will replace them with mean vector\n",
            "Missing 33 words. Will replace them with mean vector\n",
            "Missing 30 words. Will replace them with mean vector\n",
            "Missing 27 words. Will replace them with mean vector\n",
            "Missing 24 words. Will replace them with mean vector\n",
            "Missing 21 words. Will replace them with mean vector\n",
            "Missing 18 words. Will replace them with mean vector\n",
            "Missing 15 words. Will replace them with mean vector\n",
            "Missing 12 words. Will replace them with mean vector\n",
            "Missing 9 words. Will replace them with mean vector\n",
            "Missing 6 words. Will replace them with mean vector\n",
            "Missing 3 words. Will replace them with mean vector\n"
          ],
          "name": "stderr"
        },
        {
          "output_type": "stream",
          "text": [
            "Processing city-in-state with 5 pairs, 20 questions\n"
          ],
          "name": "stdout"
        },
        {
          "output_type": "stream",
          "text": [
            "Missing 57 words. Will replace them with mean vector\n",
            "Missing 54 words. Will replace them with mean vector\n",
            "Missing 51 words. Will replace them with mean vector\n",
            "Missing 48 words. Will replace them with mean vector\n",
            "Missing 45 words. Will replace them with mean vector\n",
            "Missing 42 words. Will replace them with mean vector\n",
            "Missing 39 words. Will replace them with mean vector\n",
            "Missing 36 words. Will replace them with mean vector\n",
            "Missing 33 words. Will replace them with mean vector\n",
            "Missing 30 words. Will replace them with mean vector\n",
            "Missing 27 words. Will replace them with mean vector\n",
            "Missing 24 words. Will replace them with mean vector\n",
            "Missing 21 words. Will replace them with mean vector\n",
            "Missing 18 words. Will replace them with mean vector\n",
            "Missing 15 words. Will replace them with mean vector\n",
            "Missing 12 words. Will replace them with mean vector\n",
            "Missing 9 words. Will replace them with mean vector\n",
            "Missing 6 words. Will replace them with mean vector\n",
            "Missing 3 words. Will replace them with mean vector\n"
          ],
          "name": "stderr"
        },
        {
          "output_type": "stream",
          "text": [
            "Processing IsA with 5 pairs, 20 questions\n"
          ],
          "name": "stdout"
        },
        {
          "output_type": "stream",
          "text": [
            "Missing 57 words. Will replace them with mean vector\n",
            "Missing 54 words. Will replace them with mean vector\n",
            "Missing 51 words. Will replace them with mean vector\n",
            "Missing 48 words. Will replace them with mean vector\n",
            "Missing 45 words. Will replace them with mean vector\n",
            "Missing 42 words. Will replace them with mean vector\n",
            "Missing 39 words. Will replace them with mean vector\n",
            "Missing 36 words. Will replace them with mean vector\n",
            "Missing 33 words. Will replace them with mean vector\n",
            "Missing 30 words. Will replace them with mean vector\n",
            "Missing 27 words. Will replace them with mean vector\n",
            "Missing 24 words. Will replace them with mean vector\n",
            "Missing 21 words. Will replace them with mean vector\n",
            "Missing 18 words. Will replace them with mean vector\n",
            "Missing 15 words. Will replace them with mean vector\n",
            "Missing 12 words. Will replace them with mean vector\n",
            "Missing 9 words. Will replace them with mean vector\n",
            "Missing 6 words. Will replace them with mean vector\n",
            "Missing 3 words. Will replace them with mean vector\n"
          ],
          "name": "stderr"
        },
        {
          "output_type": "stream",
          "text": [
            "                       accuracy  correct  count\n",
            "comparative            0.400000      8.0     20\n",
            "InstanceOf             0.000000      0.0     20\n",
            "present-participle     0.150000      3.0     20\n",
            "currency               0.200000      4.0     20\n",
            "MadeOf                 0.000000      0.0     20\n",
            "superlative            0.300000      6.0     20\n",
            "HasContext             0.000000      0.0     20\n",
            "Entails                0.000000      0.0     20\n",
            "past-tense             0.700000     14.0     20\n",
            "PartOf                 0.050000      1.0     20\n",
            "plural-verbs           0.700000     14.0     20\n",
            "MemberOf               0.150000      3.0     20\n",
            "DerivedFrom            0.000000      0.0     20\n",
            "Antonym                0.050000      1.0     20\n",
            "SimilarTo              0.000000      0.0     20\n",
            "Causes                 0.000000      0.0     20\n",
            "all-capital-cities     0.900000     18.0     20\n",
            "man-woman              0.450000      9.0     20\n",
            "RelatedTo              0.000000      0.0     20\n",
            "adjective-to-adverb    0.200000      4.0     20\n",
            "Attribute              0.000000      0.0     20\n",
            "plural-nouns           1.000000     20.0     20\n",
            "nationality-adjective  1.000000     20.0     20\n",
            "city-in-state          0.000000      0.0     20\n",
            "IsA                    0.000000      0.0     20\n",
            "wikipedia              0.019231      5.0    260\n",
            "all                    0.250000    125.0    500\n",
            "wordnet                0.500000    120.0    240\n"
          ],
          "name": "stdout"
        }
      ]
    },
    {
      "cell_type": "code",
      "metadata": {
        "id": "7Y5alJ8af4yk",
        "colab_type": "code",
        "outputId": "70d10377-8fbc-43ec-8c03-40800b0d9aaa",
        "colab": {
          "base_uri": "https://localhost:8080/",
          "height": 654
        }
      },
      "source": [
        "results = evaluateOnAll(w)\n",
        "print(results)"
      ],
      "execution_count": 0,
      "outputs": [
        {
          "output_type": "stream",
          "text": [
            "Missing 1 words. Will replace them with mean vector\n",
            "/content/drive/My Drive/Term5/NLP/Dataset/web/evaluate.py:336: FutureWarning: arrays to stack must be passed as a \"sequence\" type such as list or tuple. Support for non-sequence iterables such as generators is deprecated as of NumPy 1.16 and will raise an error in the future.\n",
            "  A = np.vstack(w.get(word, mean_vector) for word in X[:, 0])\n",
            "/content/drive/My Drive/Term5/NLP/Dataset/web/evaluate.py:337: FutureWarning: arrays to stack must be passed as a \"sequence\" type such as list or tuple. Support for non-sequence iterables such as generators is deprecated as of NumPy 1.16 and will raise an error in the future.\n",
            "  B = np.vstack(w.get(word, mean_vector) for word in X[:, 1])\n",
            "Missing 24 words. Will replace them with mean vector\n"
          ],
          "name": "stderr"
        },
        {
          "output_type": "stream",
          "text": [
            "Spearman correlation of scores on MTurk 0.672333057452692\n",
            "Spearman correlation of scores on MEN 0.7726483374196268\n"
          ],
          "name": "stdout"
        },
        {
          "output_type": "stream",
          "text": [
            "Missing 180 words. Will replace them with mean vector\n"
          ],
          "name": "stderr"
        },
        {
          "output_type": "stream",
          "text": [
            "Spearman correlation of scores on WS353 0.7335298197006004\n",
            "Spearman correlation of scores on RubensteinAndGoodenough 0.7900689572801152\n",
            "Spearman correlation of scores on Rare Words 0.47239269756591235\n"
          ],
          "name": "stdout"
        },
        {
          "output_type": "stream",
          "text": [
            "Missing 12091 words. Will replace them with mean vector\n"
          ],
          "name": "stderr"
        },
        {
          "output_type": "stream",
          "text": [
            "Spearman correlation of scores on SIMLEX999 0.42688240369049174\n",
            "Spearman correlation of scores on TR9856 0.20727491726529151\n",
            "Calculating analogy benchmarks\n"
          ],
          "name": "stdout"
        },
        {
          "output_type": "stream",
          "text": [
            "/content/drive/My Drive/Term5/NLP/Dataset/web/analogy.py:105: FutureWarning: arrays to stack must be passed as a \"sequence\" type such as list or tuple. Support for non-sequence iterables such as generators is deprecated as of NumPy 1.16 and will raise an error in the future.\n",
            "  A, B, C = np.vstack(w.get(word, mean_vector) for word in X_b[:, 0]), \\\n",
            "/content/drive/My Drive/Term5/NLP/Dataset/web/analogy.py:106: FutureWarning: arrays to stack must be passed as a \"sequence\" type such as list or tuple. Support for non-sequence iterables such as generators is deprecated as of NumPy 1.16 and will raise an error in the future.\n",
            "  np.vstack(w.get(word, mean_vector) for word in X_b[:, 1]), \\\n",
            "/content/drive/My Drive/Term5/NLP/Dataset/web/analogy.py:107: FutureWarning: arrays to stack must be passed as a \"sequence\" type such as list or tuple. Support for non-sequence iterables such as generators is deprecated as of NumPy 1.16 and will raise an error in the future.\n",
            "  np.vstack(w.get(word, mean_vector) for word in X_b[:, 2])\n"
          ],
          "name": "stderr"
        },
        {
          "output_type": "stream",
          "text": [
            "Analogy prediction accuracy on Google 0.7475951698731068\n"
          ],
          "name": "stdout"
        },
        {
          "output_type": "stream",
          "text": [
            "Missing 241 words. Will replace them with mean vector\n"
          ],
          "name": "stderr"
        },
        {
          "output_type": "stream",
          "text": [
            "Analogy prediction accuracy on MSR 0.596375\n",
            "Analogy prediction accuracy on SemEval2012 0.17407363050756555\n",
            "      MTurk       MEN    WS353  ...    Google       MSR  SemEval2012_2\n",
            "0  0.672333  0.772648  0.73353  ...  0.747595  0.596375       0.174074\n",
            "\n",
            "[1 rows x 10 columns]\n"
          ],
          "name": "stdout"
        },
        {
          "output_type": "stream",
          "text": [
            "/usr/local/lib/python3.6/dist-packages/ipykernel_launcher.py:9: FutureWarning: arrays to stack must be passed as a \"sequence\" type such as list or tuple. Support for non-sequence iterables such as generators is deprecated as of NumPy 1.16 and will raise an error in the future.\n",
            "  if __name__ == '__main__':\n",
            "/usr/local/lib/python3.6/dist-packages/ipykernel_launcher.py:10: FutureWarning: arrays to stack must be passed as a \"sequence\" type such as list or tuple. Support for non-sequence iterables such as generators is deprecated as of NumPy 1.16 and will raise an error in the future.\n",
            "  # Remove the CWD from sys.path while we load stuff.\n",
            "/usr/local/lib/python3.6/dist-packages/ipykernel_launcher.py:12: FutureWarning: arrays to stack must be passed as a \"sequence\" type such as list or tuple. Support for non-sequence iterables such as generators is deprecated as of NumPy 1.16 and will raise an error in the future.\n",
            "  if sys.path[0] == '':\n"
          ],
          "name": "stderr"
        }
      ]
    },
    {
      "cell_type": "markdown",
      "metadata": {
        "id": "9OwjYrEYOykj",
        "colab_type": "text"
      },
      "source": [
        "##### WE:9"
      ]
    },
    {
      "cell_type": "code",
      "metadata": {
        "id": "0aJj-sMMO2NQ",
        "colab_type": "code",
        "outputId": "f503db9a-e906-4373-be4d-aae07e6d2134",
        "colab": {
          "base_uri": "https://localhost:8080/",
          "height": 1000
        }
      },
      "source": [
        "w = w_lexvev\n",
        "results_wordrep = calAnswersOnWordRep(data_wordrep, w, max_pairs=5)\n",
        "print(results_wordrep)"
      ],
      "execution_count": 0,
      "outputs": [
        {
          "output_type": "stream",
          "text": [
            "Processing Attribute with 5 pairs, 20 questions\n"
          ],
          "name": "stdout"
        },
        {
          "output_type": "stream",
          "text": [
            "Missing 57 words. Will replace them with mean vector\n",
            "/content/drive/My Drive/Term5/NLP/Dataset/web/analogy.py:101: RuntimeWarning: invalid value encountered in double_scalars\n",
            "  if id_batch % np.floor(len(X) / (10. * self.batch_size)) == 0:\n",
            "/content/drive/My Drive/Term5/NLP/Dataset/web/analogy.py:105: FutureWarning: arrays to stack must be passed as a \"sequence\" type such as list or tuple. Support for non-sequence iterables such as generators is deprecated as of NumPy 1.16 and will raise an error in the future.\n",
            "  A, B, C = np.vstack(w.get(word, mean_vector) for word in X_b[:, 0]), \\\n",
            "/content/drive/My Drive/Term5/NLP/Dataset/web/analogy.py:106: FutureWarning: arrays to stack must be passed as a \"sequence\" type such as list or tuple. Support for non-sequence iterables such as generators is deprecated as of NumPy 1.16 and will raise an error in the future.\n",
            "  np.vstack(w.get(word, mean_vector) for word in X_b[:, 1]), \\\n",
            "/content/drive/My Drive/Term5/NLP/Dataset/web/analogy.py:107: FutureWarning: arrays to stack must be passed as a \"sequence\" type such as list or tuple. Support for non-sequence iterables such as generators is deprecated as of NumPy 1.16 and will raise an error in the future.\n",
            "  np.vstack(w.get(word, mean_vector) for word in X_b[:, 2])\n",
            "Missing 54 words. Will replace them with mean vector\n",
            "Missing 51 words. Will replace them with mean vector\n",
            "Missing 48 words. Will replace them with mean vector\n",
            "Missing 45 words. Will replace them with mean vector\n",
            "Missing 42 words. Will replace them with mean vector\n",
            "Missing 39 words. Will replace them with mean vector\n",
            "Missing 36 words. Will replace them with mean vector\n",
            "Missing 33 words. Will replace them with mean vector\n",
            "Missing 30 words. Will replace them with mean vector\n",
            "Missing 27 words. Will replace them with mean vector\n",
            "Missing 24 words. Will replace them with mean vector\n",
            "Missing 21 words. Will replace them with mean vector\n",
            "Missing 18 words. Will replace them with mean vector\n",
            "Missing 15 words. Will replace them with mean vector\n",
            "Missing 12 words. Will replace them with mean vector\n",
            "Missing 9 words. Will replace them with mean vector\n",
            "Missing 6 words. Will replace them with mean vector\n",
            "Missing 3 words. Will replace them with mean vector\n"
          ],
          "name": "stderr"
        },
        {
          "output_type": "stream",
          "text": [
            "Processing present-participle with 5 pairs, 20 questions\n"
          ],
          "name": "stdout"
        },
        {
          "output_type": "stream",
          "text": [
            "Missing 57 words. Will replace them with mean vector\n",
            "Missing 54 words. Will replace them with mean vector\n",
            "Missing 51 words. Will replace them with mean vector\n",
            "Missing 48 words. Will replace them with mean vector\n",
            "Missing 45 words. Will replace them with mean vector\n",
            "Missing 42 words. Will replace them with mean vector\n",
            "Missing 39 words. Will replace them with mean vector\n",
            "Missing 36 words. Will replace them with mean vector\n",
            "Missing 33 words. Will replace them with mean vector\n",
            "Missing 30 words. Will replace them with mean vector\n",
            "Missing 27 words. Will replace them with mean vector\n",
            "Missing 24 words. Will replace them with mean vector\n",
            "Missing 21 words. Will replace them with mean vector\n",
            "Missing 18 words. Will replace them with mean vector\n",
            "Missing 15 words. Will replace them with mean vector\n",
            "Missing 12 words. Will replace them with mean vector\n",
            "Missing 9 words. Will replace them with mean vector\n",
            "Missing 6 words. Will replace them with mean vector\n",
            "Missing 3 words. Will replace them with mean vector\n"
          ],
          "name": "stderr"
        },
        {
          "output_type": "stream",
          "text": [
            "Processing plural-verbs with 5 pairs, 20 questions\n"
          ],
          "name": "stdout"
        },
        {
          "output_type": "stream",
          "text": [
            "Missing 57 words. Will replace them with mean vector\n",
            "Missing 54 words. Will replace them with mean vector\n",
            "Missing 51 words. Will replace them with mean vector\n",
            "Missing 48 words. Will replace them with mean vector\n",
            "Missing 45 words. Will replace them with mean vector\n",
            "Missing 42 words. Will replace them with mean vector\n",
            "Missing 39 words. Will replace them with mean vector\n",
            "Missing 36 words. Will replace them with mean vector\n",
            "Missing 33 words. Will replace them with mean vector\n",
            "Missing 30 words. Will replace them with mean vector\n",
            "Missing 27 words. Will replace them with mean vector\n",
            "Missing 24 words. Will replace them with mean vector\n",
            "Missing 21 words. Will replace them with mean vector\n",
            "Missing 18 words. Will replace them with mean vector\n",
            "Missing 15 words. Will replace them with mean vector\n",
            "Missing 12 words. Will replace them with mean vector\n",
            "Missing 9 words. Will replace them with mean vector\n",
            "Missing 6 words. Will replace them with mean vector\n",
            "Missing 3 words. Will replace them with mean vector\n"
          ],
          "name": "stderr"
        },
        {
          "output_type": "stream",
          "text": [
            "Processing Causes with 5 pairs, 20 questions\n"
          ],
          "name": "stdout"
        },
        {
          "output_type": "stream",
          "text": [
            "Missing 57 words. Will replace them with mean vector\n",
            "Missing 54 words. Will replace them with mean vector\n",
            "Missing 51 words. Will replace them with mean vector\n",
            "Missing 48 words. Will replace them with mean vector\n",
            "Missing 45 words. Will replace them with mean vector\n",
            "Missing 42 words. Will replace them with mean vector\n",
            "Missing 39 words. Will replace them with mean vector\n",
            "Missing 36 words. Will replace them with mean vector\n",
            "Missing 33 words. Will replace them with mean vector\n",
            "Missing 30 words. Will replace them with mean vector\n",
            "Missing 27 words. Will replace them with mean vector\n",
            "Missing 24 words. Will replace them with mean vector\n",
            "Missing 21 words. Will replace them with mean vector\n",
            "Missing 18 words. Will replace them with mean vector\n",
            "Missing 15 words. Will replace them with mean vector\n",
            "Missing 12 words. Will replace them with mean vector\n",
            "Missing 9 words. Will replace them with mean vector\n",
            "Missing 6 words. Will replace them with mean vector\n",
            "Missing 3 words. Will replace them with mean vector\n",
            "Missing 57 words. Will replace them with mean vector\n"
          ],
          "name": "stderr"
        },
        {
          "output_type": "stream",
          "text": [
            "Processing InstanceOf with 5 pairs, 20 questions\n"
          ],
          "name": "stdout"
        },
        {
          "output_type": "stream",
          "text": [
            "Missing 54 words. Will replace them with mean vector\n",
            "Missing 51 words. Will replace them with mean vector\n",
            "Missing 48 words. Will replace them with mean vector\n",
            "Missing 45 words. Will replace them with mean vector\n",
            "Missing 42 words. Will replace them with mean vector\n",
            "Missing 39 words. Will replace them with mean vector\n",
            "Missing 36 words. Will replace them with mean vector\n",
            "Missing 33 words. Will replace them with mean vector\n",
            "Missing 30 words. Will replace them with mean vector\n",
            "Missing 27 words. Will replace them with mean vector\n",
            "Missing 24 words. Will replace them with mean vector\n",
            "Missing 21 words. Will replace them with mean vector\n",
            "Missing 18 words. Will replace them with mean vector\n",
            "Missing 15 words. Will replace them with mean vector\n",
            "Missing 12 words. Will replace them with mean vector\n",
            "Missing 9 words. Will replace them with mean vector\n",
            "Missing 6 words. Will replace them with mean vector\n",
            "Missing 3 words. Will replace them with mean vector\n"
          ],
          "name": "stderr"
        },
        {
          "output_type": "stream",
          "text": [
            "Processing man-woman with 5 pairs, 20 questions\n"
          ],
          "name": "stdout"
        },
        {
          "output_type": "stream",
          "text": [
            "Missing 57 words. Will replace them with mean vector\n",
            "Missing 54 words. Will replace them with mean vector\n",
            "Missing 51 words. Will replace them with mean vector\n",
            "Missing 48 words. Will replace them with mean vector\n",
            "Missing 45 words. Will replace them with mean vector\n",
            "Missing 42 words. Will replace them with mean vector\n",
            "Missing 39 words. Will replace them with mean vector\n",
            "Missing 36 words. Will replace them with mean vector\n",
            "Missing 33 words. Will replace them with mean vector\n",
            "Missing 30 words. Will replace them with mean vector\n",
            "Missing 27 words. Will replace them with mean vector\n",
            "Missing 24 words. Will replace them with mean vector\n",
            "Missing 21 words. Will replace them with mean vector\n",
            "Missing 18 words. Will replace them with mean vector\n",
            "Missing 15 words. Will replace them with mean vector\n",
            "Missing 12 words. Will replace them with mean vector\n",
            "Missing 9 words. Will replace them with mean vector\n",
            "Missing 6 words. Will replace them with mean vector\n",
            "Missing 3 words. Will replace them with mean vector\n"
          ],
          "name": "stderr"
        },
        {
          "output_type": "stream",
          "text": [
            "Processing PartOf with 5 pairs, 20 questions\n"
          ],
          "name": "stdout"
        },
        {
          "output_type": "stream",
          "text": [
            "Missing 57 words. Will replace them with mean vector\n",
            "Missing 54 words. Will replace them with mean vector\n",
            "Missing 51 words. Will replace them with mean vector\n",
            "Missing 48 words. Will replace them with mean vector\n",
            "Missing 45 words. Will replace them with mean vector\n",
            "Missing 42 words. Will replace them with mean vector\n",
            "Missing 39 words. Will replace them with mean vector\n",
            "Missing 36 words. Will replace them with mean vector\n",
            "Missing 33 words. Will replace them with mean vector\n",
            "Missing 30 words. Will replace them with mean vector\n",
            "Missing 27 words. Will replace them with mean vector\n",
            "Missing 24 words. Will replace them with mean vector\n",
            "Missing 21 words. Will replace them with mean vector\n",
            "Missing 18 words. Will replace them with mean vector\n",
            "Missing 15 words. Will replace them with mean vector\n",
            "Missing 12 words. Will replace them with mean vector\n",
            "Missing 9 words. Will replace them with mean vector\n",
            "Missing 6 words. Will replace them with mean vector\n",
            "Missing 3 words. Will replace them with mean vector\n",
            "Missing 57 words. Will replace them with mean vector\n"
          ],
          "name": "stderr"
        },
        {
          "output_type": "stream",
          "text": [
            "Processing nationality-adjective with 5 pairs, 20 questions\n"
          ],
          "name": "stdout"
        },
        {
          "output_type": "stream",
          "text": [
            "Missing 54 words. Will replace them with mean vector\n",
            "Missing 51 words. Will replace them with mean vector\n",
            "Missing 48 words. Will replace them with mean vector\n",
            "Missing 45 words. Will replace them with mean vector\n",
            "Missing 42 words. Will replace them with mean vector\n",
            "Missing 39 words. Will replace them with mean vector\n",
            "Missing 36 words. Will replace them with mean vector\n",
            "Missing 33 words. Will replace them with mean vector\n",
            "Missing 30 words. Will replace them with mean vector\n",
            "Missing 27 words. Will replace them with mean vector\n",
            "Missing 24 words. Will replace them with mean vector\n",
            "Missing 21 words. Will replace them with mean vector\n",
            "Missing 18 words. Will replace them with mean vector\n",
            "Missing 15 words. Will replace them with mean vector\n",
            "Missing 12 words. Will replace them with mean vector\n",
            "Missing 9 words. Will replace them with mean vector\n",
            "Missing 6 words. Will replace them with mean vector\n",
            "Missing 3 words. Will replace them with mean vector\n"
          ],
          "name": "stderr"
        },
        {
          "output_type": "stream",
          "text": [
            "Processing superlative with 5 pairs, 20 questions\n"
          ],
          "name": "stdout"
        },
        {
          "output_type": "stream",
          "text": [
            "Missing 57 words. Will replace them with mean vector\n",
            "Missing 54 words. Will replace them with mean vector\n",
            "Missing 51 words. Will replace them with mean vector\n",
            "Missing 48 words. Will replace them with mean vector\n",
            "Missing 45 words. Will replace them with mean vector\n",
            "Missing 42 words. Will replace them with mean vector\n",
            "Missing 39 words. Will replace them with mean vector\n",
            "Missing 36 words. Will replace them with mean vector\n",
            "Missing 33 words. Will replace them with mean vector\n",
            "Missing 30 words. Will replace them with mean vector\n",
            "Missing 27 words. Will replace them with mean vector\n",
            "Missing 24 words. Will replace them with mean vector\n",
            "Missing 21 words. Will replace them with mean vector\n",
            "Missing 18 words. Will replace them with mean vector\n",
            "Missing 15 words. Will replace them with mean vector\n",
            "Missing 12 words. Will replace them with mean vector\n",
            "Missing 9 words. Will replace them with mean vector\n",
            "Missing 6 words. Will replace them with mean vector\n",
            "Missing 3 words. Will replace them with mean vector\n"
          ],
          "name": "stderr"
        },
        {
          "output_type": "stream",
          "text": [
            "Processing MadeOf with 5 pairs, 20 questions\n"
          ],
          "name": "stdout"
        },
        {
          "output_type": "stream",
          "text": [
            "Missing 57 words. Will replace them with mean vector\n",
            "Missing 54 words. Will replace them with mean vector\n",
            "Missing 51 words. Will replace them with mean vector\n",
            "Missing 48 words. Will replace them with mean vector\n",
            "Missing 45 words. Will replace them with mean vector\n",
            "Missing 42 words. Will replace them with mean vector\n",
            "Missing 39 words. Will replace them with mean vector\n",
            "Missing 36 words. Will replace them with mean vector\n",
            "Missing 33 words. Will replace them with mean vector\n",
            "Missing 30 words. Will replace them with mean vector\n",
            "Missing 27 words. Will replace them with mean vector\n",
            "Missing 24 words. Will replace them with mean vector\n",
            "Missing 21 words. Will replace them with mean vector\n",
            "Missing 18 words. Will replace them with mean vector\n",
            "Missing 15 words. Will replace them with mean vector\n",
            "Missing 12 words. Will replace them with mean vector\n",
            "Missing 9 words. Will replace them with mean vector\n",
            "Missing 6 words. Will replace them with mean vector\n",
            "Missing 3 words. Will replace them with mean vector\n"
          ],
          "name": "stderr"
        },
        {
          "output_type": "stream",
          "text": [
            "Processing RelatedTo with 5 pairs, 20 questions\n"
          ],
          "name": "stdout"
        },
        {
          "output_type": "stream",
          "text": [
            "Missing 57 words. Will replace them with mean vector\n",
            "Missing 54 words. Will replace them with mean vector\n",
            "Missing 51 words. Will replace them with mean vector\n",
            "Missing 48 words. Will replace them with mean vector\n",
            "Missing 45 words. Will replace them with mean vector\n",
            "Missing 42 words. Will replace them with mean vector\n",
            "Missing 39 words. Will replace them with mean vector\n",
            "Missing 36 words. Will replace them with mean vector\n",
            "Missing 33 words. Will replace them with mean vector\n",
            "Missing 30 words. Will replace them with mean vector\n",
            "Missing 27 words. Will replace them with mean vector\n",
            "Missing 24 words. Will replace them with mean vector\n",
            "Missing 21 words. Will replace them with mean vector\n",
            "Missing 18 words. Will replace them with mean vector\n",
            "Missing 15 words. Will replace them with mean vector\n",
            "Missing 12 words. Will replace them with mean vector\n",
            "Missing 9 words. Will replace them with mean vector\n",
            "Missing 6 words. Will replace them with mean vector\n",
            "Missing 3 words. Will replace them with mean vector\n"
          ],
          "name": "stderr"
        },
        {
          "output_type": "stream",
          "text": [
            "Processing MemberOf with 5 pairs, 20 questions\n"
          ],
          "name": "stdout"
        },
        {
          "output_type": "stream",
          "text": [
            "Missing 57 words. Will replace them with mean vector\n",
            "Missing 54 words. Will replace them with mean vector\n",
            "Missing 51 words. Will replace them with mean vector\n",
            "Missing 48 words. Will replace them with mean vector\n",
            "Missing 45 words. Will replace them with mean vector\n",
            "Missing 42 words. Will replace them with mean vector\n",
            "Missing 39 words. Will replace them with mean vector\n",
            "Missing 36 words. Will replace them with mean vector\n",
            "Missing 33 words. Will replace them with mean vector\n",
            "Missing 30 words. Will replace them with mean vector\n",
            "Missing 27 words. Will replace them with mean vector\n",
            "Missing 24 words. Will replace them with mean vector\n",
            "Missing 21 words. Will replace them with mean vector\n",
            "Missing 18 words. Will replace them with mean vector\n",
            "Missing 15 words. Will replace them with mean vector\n",
            "Missing 12 words. Will replace them with mean vector\n",
            "Missing 9 words. Will replace them with mean vector\n",
            "Missing 6 words. Will replace them with mean vector\n",
            "Missing 3 words. Will replace them with mean vector\n"
          ],
          "name": "stderr"
        },
        {
          "output_type": "stream",
          "text": [
            "Processing plural-nouns with 5 pairs, 20 questions\n"
          ],
          "name": "stdout"
        },
        {
          "output_type": "stream",
          "text": [
            "Missing 57 words. Will replace them with mean vector\n",
            "Missing 54 words. Will replace them with mean vector\n",
            "Missing 51 words. Will replace them with mean vector\n",
            "Missing 48 words. Will replace them with mean vector\n",
            "Missing 45 words. Will replace them with mean vector\n",
            "Missing 42 words. Will replace them with mean vector\n",
            "Missing 39 words. Will replace them with mean vector\n",
            "Missing 36 words. Will replace them with mean vector\n",
            "Missing 33 words. Will replace them with mean vector\n",
            "Missing 30 words. Will replace them with mean vector\n",
            "Missing 27 words. Will replace them with mean vector\n",
            "Missing 24 words. Will replace them with mean vector\n",
            "Missing 21 words. Will replace them with mean vector\n",
            "Missing 18 words. Will replace them with mean vector\n",
            "Missing 15 words. Will replace them with mean vector\n",
            "Missing 12 words. Will replace them with mean vector\n",
            "Missing 9 words. Will replace them with mean vector\n",
            "Missing 6 words. Will replace them with mean vector\n",
            "Missing 3 words. Will replace them with mean vector\n"
          ],
          "name": "stderr"
        },
        {
          "output_type": "stream",
          "text": [
            "Processing IsA with 5 pairs, 20 questions\n"
          ],
          "name": "stdout"
        },
        {
          "output_type": "stream",
          "text": [
            "Missing 57 words. Will replace them with mean vector\n",
            "Missing 54 words. Will replace them with mean vector\n",
            "Missing 51 words. Will replace them with mean vector\n",
            "Missing 48 words. Will replace them with mean vector\n",
            "Missing 45 words. Will replace them with mean vector\n",
            "Missing 42 words. Will replace them with mean vector\n",
            "Missing 39 words. Will replace them with mean vector\n",
            "Missing 36 words. Will replace them with mean vector\n",
            "Missing 33 words. Will replace them with mean vector\n",
            "Missing 30 words. Will replace them with mean vector\n",
            "Missing 27 words. Will replace them with mean vector\n",
            "Missing 24 words. Will replace them with mean vector\n",
            "Missing 21 words. Will replace them with mean vector\n",
            "Missing 18 words. Will replace them with mean vector\n",
            "Missing 15 words. Will replace them with mean vector\n",
            "Missing 12 words. Will replace them with mean vector\n",
            "Missing 9 words. Will replace them with mean vector\n",
            "Missing 6 words. Will replace them with mean vector\n",
            "Missing 3 words. Will replace them with mean vector\n"
          ],
          "name": "stderr"
        },
        {
          "output_type": "stream",
          "text": [
            "Processing HasContext with 5 pairs, 20 questions\n"
          ],
          "name": "stdout"
        },
        {
          "output_type": "stream",
          "text": [
            "Missing 57 words. Will replace them with mean vector\n",
            "Missing 54 words. Will replace them with mean vector\n",
            "Missing 51 words. Will replace them with mean vector\n",
            "Missing 48 words. Will replace them with mean vector\n",
            "Missing 45 words. Will replace them with mean vector\n",
            "Missing 42 words. Will replace them with mean vector\n",
            "Missing 39 words. Will replace them with mean vector\n",
            "Missing 36 words. Will replace them with mean vector\n",
            "Missing 33 words. Will replace them with mean vector\n",
            "Missing 30 words. Will replace them with mean vector\n",
            "Missing 27 words. Will replace them with mean vector\n",
            "Missing 24 words. Will replace them with mean vector\n",
            "Missing 21 words. Will replace them with mean vector\n",
            "Missing 18 words. Will replace them with mean vector\n",
            "Missing 15 words. Will replace them with mean vector\n",
            "Missing 12 words. Will replace them with mean vector\n",
            "Missing 9 words. Will replace them with mean vector\n",
            "Missing 6 words. Will replace them with mean vector\n",
            "Missing 3 words. Will replace them with mean vector\n",
            "Missing 57 words. Will replace them with mean vector\n"
          ],
          "name": "stderr"
        },
        {
          "output_type": "stream",
          "text": [
            "Processing currency with 5 pairs, 20 questions\n"
          ],
          "name": "stdout"
        },
        {
          "output_type": "stream",
          "text": [
            "Missing 54 words. Will replace them with mean vector\n",
            "Missing 51 words. Will replace them with mean vector\n",
            "Missing 48 words. Will replace them with mean vector\n",
            "Missing 45 words. Will replace them with mean vector\n",
            "Missing 42 words. Will replace them with mean vector\n",
            "Missing 39 words. Will replace them with mean vector\n",
            "Missing 36 words. Will replace them with mean vector\n",
            "Missing 33 words. Will replace them with mean vector\n",
            "Missing 30 words. Will replace them with mean vector\n",
            "Missing 27 words. Will replace them with mean vector\n",
            "Missing 24 words. Will replace them with mean vector\n",
            "Missing 21 words. Will replace them with mean vector\n",
            "Missing 18 words. Will replace them with mean vector\n",
            "Missing 15 words. Will replace them with mean vector\n",
            "Missing 12 words. Will replace them with mean vector\n",
            "Missing 9 words. Will replace them with mean vector\n",
            "Missing 6 words. Will replace them with mean vector\n",
            "Missing 3 words. Will replace them with mean vector\n"
          ],
          "name": "stderr"
        },
        {
          "output_type": "stream",
          "text": [
            "Processing city-in-state with 5 pairs, 20 questions\n"
          ],
          "name": "stdout"
        },
        {
          "output_type": "stream",
          "text": [
            "Missing 57 words. Will replace them with mean vector\n",
            "Missing 54 words. Will replace them with mean vector\n",
            "Missing 51 words. Will replace them with mean vector\n",
            "Missing 48 words. Will replace them with mean vector\n",
            "Missing 45 words. Will replace them with mean vector\n",
            "Missing 42 words. Will replace them with mean vector\n",
            "Missing 39 words. Will replace them with mean vector\n",
            "Missing 36 words. Will replace them with mean vector\n",
            "Missing 33 words. Will replace them with mean vector\n",
            "Missing 30 words. Will replace them with mean vector\n",
            "Missing 27 words. Will replace them with mean vector\n",
            "Missing 24 words. Will replace them with mean vector\n",
            "Missing 21 words. Will replace them with mean vector\n",
            "Missing 18 words. Will replace them with mean vector\n",
            "Missing 15 words. Will replace them with mean vector\n",
            "Missing 12 words. Will replace them with mean vector\n",
            "Missing 9 words. Will replace them with mean vector\n",
            "Missing 6 words. Will replace them with mean vector\n",
            "Missing 3 words. Will replace them with mean vector\n"
          ],
          "name": "stderr"
        },
        {
          "output_type": "stream",
          "text": [
            "Processing Entails with 5 pairs, 20 questions\n"
          ],
          "name": "stdout"
        },
        {
          "output_type": "stream",
          "text": [
            "Missing 57 words. Will replace them with mean vector\n",
            "Missing 54 words. Will replace them with mean vector\n",
            "Missing 51 words. Will replace them with mean vector\n",
            "Missing 48 words. Will replace them with mean vector\n",
            "Missing 45 words. Will replace them with mean vector\n",
            "Missing 42 words. Will replace them with mean vector\n",
            "Missing 39 words. Will replace them with mean vector\n",
            "Missing 36 words. Will replace them with mean vector\n",
            "Missing 33 words. Will replace them with mean vector\n",
            "Missing 30 words. Will replace them with mean vector\n",
            "Missing 27 words. Will replace them with mean vector\n",
            "Missing 24 words. Will replace them with mean vector\n",
            "Missing 21 words. Will replace them with mean vector\n",
            "Missing 18 words. Will replace them with mean vector\n",
            "Missing 15 words. Will replace them with mean vector\n",
            "Missing 12 words. Will replace them with mean vector\n",
            "Missing 9 words. Will replace them with mean vector\n",
            "Missing 6 words. Will replace them with mean vector\n",
            "Missing 3 words. Will replace them with mean vector\n"
          ],
          "name": "stderr"
        },
        {
          "output_type": "stream",
          "text": [
            "Processing Antonym with 5 pairs, 20 questions\n"
          ],
          "name": "stdout"
        },
        {
          "output_type": "stream",
          "text": [
            "Missing 57 words. Will replace them with mean vector\n",
            "Missing 54 words. Will replace them with mean vector\n",
            "Missing 51 words. Will replace them with mean vector\n",
            "Missing 48 words. Will replace them with mean vector\n",
            "Missing 46 words. Will replace them with mean vector\n",
            "Missing 44 words. Will replace them with mean vector\n",
            "Missing 42 words. Will replace them with mean vector\n",
            "Missing 40 words. Will replace them with mean vector\n",
            "Missing 37 words. Will replace them with mean vector\n",
            "Missing 34 words. Will replace them with mean vector\n",
            "Missing 31 words. Will replace them with mean vector\n",
            "Missing 28 words. Will replace them with mean vector\n",
            "Missing 25 words. Will replace them with mean vector\n",
            "Missing 22 words. Will replace them with mean vector\n",
            "Missing 19 words. Will replace them with mean vector\n",
            "Missing 16 words. Will replace them with mean vector\n",
            "Missing 13 words. Will replace them with mean vector\n",
            "Missing 10 words. Will replace them with mean vector\n",
            "Missing 7 words. Will replace them with mean vector\n",
            "Missing 4 words. Will replace them with mean vector\n"
          ],
          "name": "stderr"
        },
        {
          "output_type": "stream",
          "text": [
            "Processing past-tense with 5 pairs, 20 questions\n"
          ],
          "name": "stdout"
        },
        {
          "output_type": "stream",
          "text": [
            "Missing 57 words. Will replace them with mean vector\n",
            "Missing 54 words. Will replace them with mean vector\n",
            "Missing 51 words. Will replace them with mean vector\n",
            "Missing 48 words. Will replace them with mean vector\n",
            "Missing 45 words. Will replace them with mean vector\n",
            "Missing 42 words. Will replace them with mean vector\n",
            "Missing 39 words. Will replace them with mean vector\n",
            "Missing 36 words. Will replace them with mean vector\n",
            "Missing 33 words. Will replace them with mean vector\n",
            "Missing 30 words. Will replace them with mean vector\n",
            "Missing 27 words. Will replace them with mean vector\n",
            "Missing 24 words. Will replace them with mean vector\n",
            "Missing 21 words. Will replace them with mean vector\n",
            "Missing 18 words. Will replace them with mean vector\n",
            "Missing 15 words. Will replace them with mean vector\n",
            "Missing 12 words. Will replace them with mean vector\n",
            "Missing 9 words. Will replace them with mean vector\n",
            "Missing 6 words. Will replace them with mean vector\n",
            "Missing 3 words. Will replace them with mean vector\n"
          ],
          "name": "stderr"
        },
        {
          "output_type": "stream",
          "text": [
            "Processing comparative with 5 pairs, 20 questions\n"
          ],
          "name": "stdout"
        },
        {
          "output_type": "stream",
          "text": [
            "Missing 57 words. Will replace them with mean vector\n",
            "Missing 54 words. Will replace them with mean vector\n",
            "Missing 51 words. Will replace them with mean vector\n",
            "Missing 48 words. Will replace them with mean vector\n",
            "Missing 45 words. Will replace them with mean vector\n",
            "Missing 42 words. Will replace them with mean vector\n",
            "Missing 39 words. Will replace them with mean vector\n",
            "Missing 36 words. Will replace them with mean vector\n",
            "Missing 33 words. Will replace them with mean vector\n",
            "Missing 30 words. Will replace them with mean vector\n",
            "Missing 27 words. Will replace them with mean vector\n",
            "Missing 24 words. Will replace them with mean vector\n",
            "Missing 21 words. Will replace them with mean vector\n",
            "Missing 18 words. Will replace them with mean vector\n",
            "Missing 15 words. Will replace them with mean vector\n",
            "Missing 12 words. Will replace them with mean vector\n",
            "Missing 9 words. Will replace them with mean vector\n",
            "Missing 6 words. Will replace them with mean vector\n",
            "Missing 3 words. Will replace them with mean vector\n",
            "Missing 57 words. Will replace them with mean vector\n"
          ],
          "name": "stderr"
        },
        {
          "output_type": "stream",
          "text": [
            "Processing adjective-to-adverb with 5 pairs, 20 questions\n"
          ],
          "name": "stdout"
        },
        {
          "output_type": "stream",
          "text": [
            "Missing 54 words. Will replace them with mean vector\n",
            "Missing 51 words. Will replace them with mean vector\n",
            "Missing 48 words. Will replace them with mean vector\n",
            "Missing 45 words. Will replace them with mean vector\n",
            "Missing 42 words. Will replace them with mean vector\n",
            "Missing 39 words. Will replace them with mean vector\n",
            "Missing 36 words. Will replace them with mean vector\n",
            "Missing 33 words. Will replace them with mean vector\n",
            "Missing 30 words. Will replace them with mean vector\n",
            "Missing 27 words. Will replace them with mean vector\n",
            "Missing 24 words. Will replace them with mean vector\n",
            "Missing 21 words. Will replace them with mean vector\n",
            "Missing 18 words. Will replace them with mean vector\n",
            "Missing 15 words. Will replace them with mean vector\n",
            "Missing 12 words. Will replace them with mean vector\n",
            "Missing 9 words. Will replace them with mean vector\n",
            "Missing 6 words. Will replace them with mean vector\n",
            "Missing 3 words. Will replace them with mean vector\n",
            "Missing 57 words. Will replace them with mean vector\n"
          ],
          "name": "stderr"
        },
        {
          "output_type": "stream",
          "text": [
            "Processing all-capital-cities with 5 pairs, 20 questions\n"
          ],
          "name": "stdout"
        },
        {
          "output_type": "stream",
          "text": [
            "Missing 54 words. Will replace them with mean vector\n",
            "Missing 51 words. Will replace them with mean vector\n",
            "Missing 48 words. Will replace them with mean vector\n",
            "Missing 45 words. Will replace them with mean vector\n",
            "Missing 42 words. Will replace them with mean vector\n",
            "Missing 39 words. Will replace them with mean vector\n",
            "Missing 36 words. Will replace them with mean vector\n",
            "Missing 33 words. Will replace them with mean vector\n",
            "Missing 30 words. Will replace them with mean vector\n",
            "Missing 27 words. Will replace them with mean vector\n",
            "Missing 24 words. Will replace them with mean vector\n",
            "Missing 21 words. Will replace them with mean vector\n",
            "Missing 18 words. Will replace them with mean vector\n",
            "Missing 15 words. Will replace them with mean vector\n",
            "Missing 12 words. Will replace them with mean vector\n",
            "Missing 9 words. Will replace them with mean vector\n",
            "Missing 6 words. Will replace them with mean vector\n",
            "Missing 3 words. Will replace them with mean vector\n"
          ],
          "name": "stderr"
        },
        {
          "output_type": "stream",
          "text": [
            "Processing SimilarTo with 5 pairs, 20 questions\n"
          ],
          "name": "stdout"
        },
        {
          "output_type": "stream",
          "text": [
            "Missing 57 words. Will replace them with mean vector\n",
            "Missing 54 words. Will replace them with mean vector\n",
            "Missing 51 words. Will replace them with mean vector\n",
            "Missing 48 words. Will replace them with mean vector\n",
            "Missing 45 words. Will replace them with mean vector\n",
            "Missing 42 words. Will replace them with mean vector\n",
            "Missing 39 words. Will replace them with mean vector\n",
            "Missing 36 words. Will replace them with mean vector\n",
            "Missing 33 words. Will replace them with mean vector\n",
            "Missing 30 words. Will replace them with mean vector\n",
            "Missing 27 words. Will replace them with mean vector\n",
            "Missing 24 words. Will replace them with mean vector\n",
            "Missing 21 words. Will replace them with mean vector\n",
            "Missing 18 words. Will replace them with mean vector\n",
            "Missing 15 words. Will replace them with mean vector\n",
            "Missing 12 words. Will replace them with mean vector\n",
            "Missing 9 words. Will replace them with mean vector\n",
            "Missing 6 words. Will replace them with mean vector\n",
            "Missing 3 words. Will replace them with mean vector\n"
          ],
          "name": "stderr"
        },
        {
          "output_type": "stream",
          "text": [
            "Processing DerivedFrom with 5 pairs, 20 questions\n"
          ],
          "name": "stdout"
        },
        {
          "output_type": "stream",
          "text": [
            "Missing 57 words. Will replace them with mean vector\n",
            "Missing 54 words. Will replace them with mean vector\n",
            "Missing 51 words. Will replace them with mean vector\n",
            "Missing 48 words. Will replace them with mean vector\n",
            "Missing 45 words. Will replace them with mean vector\n",
            "Missing 42 words. Will replace them with mean vector\n",
            "Missing 39 words. Will replace them with mean vector\n",
            "Missing 36 words. Will replace them with mean vector\n",
            "Missing 33 words. Will replace them with mean vector\n",
            "Missing 30 words. Will replace them with mean vector\n",
            "Missing 27 words. Will replace them with mean vector\n",
            "Missing 24 words. Will replace them with mean vector\n",
            "Missing 21 words. Will replace them with mean vector\n",
            "Missing 18 words. Will replace them with mean vector\n",
            "Missing 15 words. Will replace them with mean vector\n",
            "Missing 12 words. Will replace them with mean vector\n",
            "Missing 9 words. Will replace them with mean vector\n",
            "Missing 6 words. Will replace them with mean vector\n",
            "Missing 3 words. Will replace them with mean vector\n"
          ],
          "name": "stderr"
        },
        {
          "output_type": "stream",
          "text": [
            "                       accuracy  correct  count\n",
            "Attribute              0.000000      0.0     20\n",
            "present-participle     0.450000      9.0     20\n",
            "plural-verbs           0.850000     17.0     20\n",
            "Causes                 0.000000      0.0     20\n",
            "InstanceOf             0.000000      0.0     20\n",
            "man-woman              0.200000      4.0     20\n",
            "PartOf                 0.200000      4.0     20\n",
            "nationality-adjective  1.000000     20.0     20\n",
            "superlative            0.450000      9.0     20\n",
            "MadeOf                 0.000000      0.0     20\n",
            "RelatedTo              0.000000      0.0     20\n",
            "MemberOf               0.000000      0.0     20\n",
            "plural-nouns           0.800000     16.0     20\n",
            "IsA                    0.000000      0.0     20\n",
            "HasContext             0.000000      0.0     20\n",
            "currency               0.150000      3.0     20\n",
            "city-in-state          0.000000      0.0     20\n",
            "Entails                0.000000      0.0     20\n",
            "Antonym                0.050000      1.0     20\n",
            "past-tense             0.550000     11.0     20\n",
            "comparative            0.500000     10.0     20\n",
            "adjective-to-adverb    0.350000      7.0     20\n",
            "all-capital-cities     0.900000     18.0     20\n",
            "SimilarTo              0.000000      0.0     20\n",
            "DerivedFrom            0.000000      0.0     20\n",
            "wikipedia              0.019231      5.0    260\n",
            "all                    0.258000    129.0    500\n",
            "wordnet                0.516667    124.0    240\n"
          ],
          "name": "stdout"
        }
      ]
    },
    {
      "cell_type": "code",
      "metadata": {
        "id": "oLYbUcJ9O3NR",
        "colab_type": "code",
        "outputId": "d633eb4d-affa-4b3f-fded-da756ac06396",
        "colab": {
          "base_uri": "https://localhost:8080/",
          "height": 671
        }
      },
      "source": [
        "results = evaluateOnAll(w)\n",
        "print(results)"
      ],
      "execution_count": 0,
      "outputs": [
        {
          "output_type": "stream",
          "text": [
            "Missing 1 words. Will replace them with mean vector\n",
            "/content/drive/My Drive/Term5/NLP/Dataset/web/evaluate.py:336: FutureWarning: arrays to stack must be passed as a \"sequence\" type such as list or tuple. Support for non-sequence iterables such as generators is deprecated as of NumPy 1.16 and will raise an error in the future.\n",
            "  A = np.vstack(w.get(word, mean_vector) for word in X[:, 0])\n",
            "/content/drive/My Drive/Term5/NLP/Dataset/web/evaluate.py:337: FutureWarning: arrays to stack must be passed as a \"sequence\" type such as list or tuple. Support for non-sequence iterables such as generators is deprecated as of NumPy 1.16 and will raise an error in the future.\n",
            "  B = np.vstack(w.get(word, mean_vector) for word in X[:, 1])\n",
            "Missing 24 words. Will replace them with mean vector\n"
          ],
          "name": "stderr"
        },
        {
          "output_type": "stream",
          "text": [
            "Spearman correlation of scores on MTurk 0.6554105461371158\n",
            "Spearman correlation of scores on MEN 0.7513883954195822\n"
          ],
          "name": "stdout"
        },
        {
          "output_type": "stream",
          "text": [
            "Missing 288 words. Will replace them with mean vector\n"
          ],
          "name": "stderr"
        },
        {
          "output_type": "stream",
          "text": [
            "Spearman correlation of scores on WS353 0.6215650991017861\n",
            "Spearman correlation of scores on RubensteinAndGoodenough 0.7470577343775628\n"
          ],
          "name": "stdout"
        },
        {
          "output_type": "stream",
          "text": [
            "Missing 1 words. Will replace them with mean vector\n",
            "Missing 12087 words. Will replace them with mean vector\n"
          ],
          "name": "stderr"
        },
        {
          "output_type": "stream",
          "text": [
            "Spearman correlation of scores on Rare Words 0.45622975812568217\n",
            "Spearman correlation of scores on SIMLEX999 0.38522343485158134\n",
            "Spearman correlation of scores on TR9856 0.14723330929251127\n",
            "Calculating analogy benchmarks\n"
          ],
          "name": "stdout"
        },
        {
          "output_type": "stream",
          "text": [
            "/content/drive/My Drive/Term5/NLP/Dataset/web/analogy.py:105: FutureWarning: arrays to stack must be passed as a \"sequence\" type such as list or tuple. Support for non-sequence iterables such as generators is deprecated as of NumPy 1.16 and will raise an error in the future.\n",
            "  A, B, C = np.vstack(w.get(word, mean_vector) for word in X_b[:, 0]), \\\n",
            "/content/drive/My Drive/Term5/NLP/Dataset/web/analogy.py:106: FutureWarning: arrays to stack must be passed as a \"sequence\" type such as list or tuple. Support for non-sequence iterables such as generators is deprecated as of NumPy 1.16 and will raise an error in the future.\n",
            "  np.vstack(w.get(word, mean_vector) for word in X_b[:, 1]), \\\n",
            "/content/drive/My Drive/Term5/NLP/Dataset/web/analogy.py:107: FutureWarning: arrays to stack must be passed as a \"sequence\" type such as list or tuple. Support for non-sequence iterables such as generators is deprecated as of NumPy 1.16 and will raise an error in the future.\n",
            "  np.vstack(w.get(word, mean_vector) for word in X_b[:, 2])\n"
          ],
          "name": "stderr"
        },
        {
          "output_type": "stream",
          "text": [
            "Analogy prediction accuracy on Google 0.728305362259517\n"
          ],
          "name": "stdout"
        },
        {
          "output_type": "stream",
          "text": [
            "Missing 131 words. Will replace them with mean vector\n"
          ],
          "name": "stderr"
        },
        {
          "output_type": "stream",
          "text": [
            "Analogy prediction accuracy on MSR 0.57375\n"
          ],
          "name": "stdout"
        },
        {
          "output_type": "stream",
          "text": [
            "/usr/local/lib/python3.6/dist-packages/ipykernel_launcher.py:9: FutureWarning: arrays to stack must be passed as a \"sequence\" type such as list or tuple. Support for non-sequence iterables such as generators is deprecated as of NumPy 1.16 and will raise an error in the future.\n",
            "  if __name__ == '__main__':\n",
            "/usr/local/lib/python3.6/dist-packages/ipykernel_launcher.py:10: FutureWarning: arrays to stack must be passed as a \"sequence\" type such as list or tuple. Support for non-sequence iterables such as generators is deprecated as of NumPy 1.16 and will raise an error in the future.\n",
            "  # Remove the CWD from sys.path while we load stuff.\n",
            "/usr/local/lib/python3.6/dist-packages/ipykernel_launcher.py:12: FutureWarning: arrays to stack must be passed as a \"sequence\" type such as list or tuple. Support for non-sequence iterables such as generators is deprecated as of NumPy 1.16 and will raise an error in the future.\n",
            "  if sys.path[0] == '':\n"
          ],
          "name": "stderr"
        },
        {
          "output_type": "stream",
          "text": [
            "Analogy prediction accuracy on SemEval2012 0.19818503311696414\n",
            "      MTurk       MEN     WS353  ...    Google      MSR  SemEval2012_2\n",
            "0  0.655411  0.751388  0.621565  ...  0.728305  0.57375       0.198185\n",
            "\n",
            "[1 rows x 10 columns]\n"
          ],
          "name": "stdout"
        }
      ]
    },
    {
      "cell_type": "markdown",
      "metadata": {
        "id": "jXPLjOXzO33j",
        "colab_type": "text"
      },
      "source": [
        "##### WE:10"
      ]
    },
    {
      "cell_type": "code",
      "metadata": {
        "id": "zJSH4XhYO6qx",
        "colab_type": "code",
        "outputId": "f0217e87-13a0-40a2-c77e-bf0c4466c8e3",
        "colab": {
          "base_uri": "https://localhost:8080/",
          "height": 1000
        }
      },
      "source": [
        "w = w_concept_net\n",
        "results_wordrep = calAnswersOnWordRep(data_wordrep, w, max_pairs=5)\n",
        "print(results_wordrep)"
      ],
      "execution_count": 0,
      "outputs": [
        {
          "output_type": "stream",
          "text": [
            "Missing 57 words. Will replace them with mean vector\n"
          ],
          "name": "stderr"
        },
        {
          "output_type": "stream",
          "text": [
            "Processing Attribute with 5 pairs, 20 questions\n"
          ],
          "name": "stdout"
        },
        {
          "output_type": "stream",
          "text": [
            "/content/drive/My Drive/Term5/NLP/Dataset/web/analogy.py:101: RuntimeWarning: invalid value encountered in double_scalars\n",
            "  if id_batch % np.floor(len(X) / (10. * self.batch_size)) == 0:\n",
            "/content/drive/My Drive/Term5/NLP/Dataset/web/analogy.py:105: FutureWarning: arrays to stack must be passed as a \"sequence\" type such as list or tuple. Support for non-sequence iterables such as generators is deprecated as of NumPy 1.16 and will raise an error in the future.\n",
            "  A, B, C = np.vstack(w.get(word, mean_vector) for word in X_b[:, 0]), \\\n",
            "/content/drive/My Drive/Term5/NLP/Dataset/web/analogy.py:106: FutureWarning: arrays to stack must be passed as a \"sequence\" type such as list or tuple. Support for non-sequence iterables such as generators is deprecated as of NumPy 1.16 and will raise an error in the future.\n",
            "  np.vstack(w.get(word, mean_vector) for word in X_b[:, 1]), \\\n",
            "/content/drive/My Drive/Term5/NLP/Dataset/web/analogy.py:107: FutureWarning: arrays to stack must be passed as a \"sequence\" type such as list or tuple. Support for non-sequence iterables such as generators is deprecated as of NumPy 1.16 and will raise an error in the future.\n",
            "  np.vstack(w.get(word, mean_vector) for word in X_b[:, 2])\n",
            "Missing 54 words. Will replace them with mean vector\n",
            "Missing 51 words. Will replace them with mean vector\n",
            "Missing 48 words. Will replace them with mean vector\n",
            "Missing 45 words. Will replace them with mean vector\n",
            "Missing 42 words. Will replace them with mean vector\n",
            "Missing 39 words. Will replace them with mean vector\n",
            "Missing 36 words. Will replace them with mean vector\n",
            "Missing 33 words. Will replace them with mean vector\n",
            "Missing 30 words. Will replace them with mean vector\n",
            "Missing 27 words. Will replace them with mean vector\n",
            "Missing 24 words. Will replace them with mean vector\n",
            "Missing 21 words. Will replace them with mean vector\n",
            "Missing 18 words. Will replace them with mean vector\n",
            "Missing 15 words. Will replace them with mean vector\n",
            "Missing 12 words. Will replace them with mean vector\n",
            "Missing 9 words. Will replace them with mean vector\n",
            "Missing 6 words. Will replace them with mean vector\n",
            "Missing 3 words. Will replace them with mean vector\n",
            "Missing 57 words. Will replace them with mean vector\n"
          ],
          "name": "stderr"
        },
        {
          "output_type": "stream",
          "text": [
            "Processing present-participle with 5 pairs, 20 questions\n"
          ],
          "name": "stdout"
        },
        {
          "output_type": "stream",
          "text": [
            "Missing 54 words. Will replace them with mean vector\n",
            "Missing 51 words. Will replace them with mean vector\n",
            "Missing 48 words. Will replace them with mean vector\n",
            "Missing 45 words. Will replace them with mean vector\n",
            "Missing 42 words. Will replace them with mean vector\n",
            "Missing 39 words. Will replace them with mean vector\n",
            "Missing 36 words. Will replace them with mean vector\n",
            "Missing 33 words. Will replace them with mean vector\n",
            "Missing 30 words. Will replace them with mean vector\n",
            "Missing 27 words. Will replace them with mean vector\n",
            "Missing 24 words. Will replace them with mean vector\n",
            "Missing 21 words. Will replace them with mean vector\n",
            "Missing 18 words. Will replace them with mean vector\n",
            "Missing 15 words. Will replace them with mean vector\n",
            "Missing 12 words. Will replace them with mean vector\n",
            "Missing 9 words. Will replace them with mean vector\n",
            "Missing 6 words. Will replace them with mean vector\n",
            "Missing 3 words. Will replace them with mean vector\n"
          ],
          "name": "stderr"
        },
        {
          "output_type": "stream",
          "text": [
            "Processing plural-verbs with 5 pairs, 20 questions\n"
          ],
          "name": "stdout"
        },
        {
          "output_type": "stream",
          "text": [
            "Missing 57 words. Will replace them with mean vector\n",
            "Missing 54 words. Will replace them with mean vector\n",
            "Missing 51 words. Will replace them with mean vector\n",
            "Missing 48 words. Will replace them with mean vector\n",
            "Missing 45 words. Will replace them with mean vector\n",
            "Missing 42 words. Will replace them with mean vector\n",
            "Missing 39 words. Will replace them with mean vector\n",
            "Missing 36 words. Will replace them with mean vector\n",
            "Missing 33 words. Will replace them with mean vector\n",
            "Missing 30 words. Will replace them with mean vector\n",
            "Missing 27 words. Will replace them with mean vector\n",
            "Missing 24 words. Will replace them with mean vector\n",
            "Missing 21 words. Will replace them with mean vector\n",
            "Missing 18 words. Will replace them with mean vector\n",
            "Missing 15 words. Will replace them with mean vector\n",
            "Missing 12 words. Will replace them with mean vector\n",
            "Missing 9 words. Will replace them with mean vector\n",
            "Missing 6 words. Will replace them with mean vector\n",
            "Missing 3 words. Will replace them with mean vector\n"
          ],
          "name": "stderr"
        },
        {
          "output_type": "stream",
          "text": [
            "Processing Causes with 5 pairs, 20 questions\n"
          ],
          "name": "stdout"
        },
        {
          "output_type": "stream",
          "text": [
            "Missing 57 words. Will replace them with mean vector\n",
            "Missing 54 words. Will replace them with mean vector\n",
            "Missing 51 words. Will replace them with mean vector\n",
            "Missing 48 words. Will replace them with mean vector\n",
            "Missing 45 words. Will replace them with mean vector\n",
            "Missing 42 words. Will replace them with mean vector\n",
            "Missing 39 words. Will replace them with mean vector\n",
            "Missing 36 words. Will replace them with mean vector\n",
            "Missing 33 words. Will replace them with mean vector\n",
            "Missing 30 words. Will replace them with mean vector\n",
            "Missing 27 words. Will replace them with mean vector\n",
            "Missing 24 words. Will replace them with mean vector\n",
            "Missing 21 words. Will replace them with mean vector\n",
            "Missing 18 words. Will replace them with mean vector\n",
            "Missing 15 words. Will replace them with mean vector\n",
            "Missing 12 words. Will replace them with mean vector\n",
            "Missing 9 words. Will replace them with mean vector\n",
            "Missing 6 words. Will replace them with mean vector\n",
            "Missing 3 words. Will replace them with mean vector\n",
            "Missing 57 words. Will replace them with mean vector\n"
          ],
          "name": "stderr"
        },
        {
          "output_type": "stream",
          "text": [
            "Processing InstanceOf with 5 pairs, 20 questions\n"
          ],
          "name": "stdout"
        },
        {
          "output_type": "stream",
          "text": [
            "Missing 54 words. Will replace them with mean vector\n",
            "Missing 51 words. Will replace them with mean vector\n",
            "Missing 48 words. Will replace them with mean vector\n",
            "Missing 45 words. Will replace them with mean vector\n",
            "Missing 42 words. Will replace them with mean vector\n",
            "Missing 39 words. Will replace them with mean vector\n",
            "Missing 36 words. Will replace them with mean vector\n",
            "Missing 33 words. Will replace them with mean vector\n",
            "Missing 30 words. Will replace them with mean vector\n",
            "Missing 27 words. Will replace them with mean vector\n",
            "Missing 24 words. Will replace them with mean vector\n",
            "Missing 21 words. Will replace them with mean vector\n",
            "Missing 18 words. Will replace them with mean vector\n",
            "Missing 15 words. Will replace them with mean vector\n",
            "Missing 12 words. Will replace them with mean vector\n",
            "Missing 9 words. Will replace them with mean vector\n",
            "Missing 6 words. Will replace them with mean vector\n",
            "Missing 3 words. Will replace them with mean vector\n",
            "Missing 57 words. Will replace them with mean vector\n"
          ],
          "name": "stderr"
        },
        {
          "output_type": "stream",
          "text": [
            "Processing man-woman with 5 pairs, 20 questions\n"
          ],
          "name": "stdout"
        },
        {
          "output_type": "stream",
          "text": [
            "Missing 54 words. Will replace them with mean vector\n",
            "Missing 51 words. Will replace them with mean vector\n",
            "Missing 48 words. Will replace them with mean vector\n",
            "Missing 45 words. Will replace them with mean vector\n",
            "Missing 42 words. Will replace them with mean vector\n",
            "Missing 39 words. Will replace them with mean vector\n",
            "Missing 36 words. Will replace them with mean vector\n",
            "Missing 33 words. Will replace them with mean vector\n",
            "Missing 30 words. Will replace them with mean vector\n",
            "Missing 27 words. Will replace them with mean vector\n",
            "Missing 24 words. Will replace them with mean vector\n",
            "Missing 21 words. Will replace them with mean vector\n",
            "Missing 18 words. Will replace them with mean vector\n",
            "Missing 15 words. Will replace them with mean vector\n",
            "Missing 12 words. Will replace them with mean vector\n",
            "Missing 9 words. Will replace them with mean vector\n",
            "Missing 6 words. Will replace them with mean vector\n",
            "Missing 3 words. Will replace them with mean vector\n"
          ],
          "name": "stderr"
        },
        {
          "output_type": "stream",
          "text": [
            "Processing PartOf with 5 pairs, 20 questions\n"
          ],
          "name": "stdout"
        },
        {
          "output_type": "stream",
          "text": [
            "Missing 57 words. Will replace them with mean vector\n",
            "Missing 54 words. Will replace them with mean vector\n",
            "Missing 51 words. Will replace them with mean vector\n",
            "Missing 48 words. Will replace them with mean vector\n",
            "Missing 45 words. Will replace them with mean vector\n",
            "Missing 42 words. Will replace them with mean vector\n",
            "Missing 39 words. Will replace them with mean vector\n",
            "Missing 36 words. Will replace them with mean vector\n",
            "Missing 33 words. Will replace them with mean vector\n",
            "Missing 30 words. Will replace them with mean vector\n",
            "Missing 27 words. Will replace them with mean vector\n",
            "Missing 24 words. Will replace them with mean vector\n",
            "Missing 21 words. Will replace them with mean vector\n",
            "Missing 18 words. Will replace them with mean vector\n",
            "Missing 15 words. Will replace them with mean vector\n",
            "Missing 12 words. Will replace them with mean vector\n",
            "Missing 9 words. Will replace them with mean vector\n",
            "Missing 6 words. Will replace them with mean vector\n",
            "Missing 3 words. Will replace them with mean vector\n"
          ],
          "name": "stderr"
        },
        {
          "output_type": "stream",
          "text": [
            "Processing nationality-adjective with 5 pairs, 20 questions\n"
          ],
          "name": "stdout"
        },
        {
          "output_type": "stream",
          "text": [
            "Missing 57 words. Will replace them with mean vector\n",
            "Missing 54 words. Will replace them with mean vector\n",
            "Missing 51 words. Will replace them with mean vector\n",
            "Missing 48 words. Will replace them with mean vector\n",
            "Missing 45 words. Will replace them with mean vector\n",
            "Missing 42 words. Will replace them with mean vector\n",
            "Missing 39 words. Will replace them with mean vector\n",
            "Missing 36 words. Will replace them with mean vector\n",
            "Missing 33 words. Will replace them with mean vector\n",
            "Missing 30 words. Will replace them with mean vector\n",
            "Missing 27 words. Will replace them with mean vector\n",
            "Missing 24 words. Will replace them with mean vector\n",
            "Missing 21 words. Will replace them with mean vector\n",
            "Missing 18 words. Will replace them with mean vector\n",
            "Missing 15 words. Will replace them with mean vector\n",
            "Missing 12 words. Will replace them with mean vector\n",
            "Missing 9 words. Will replace them with mean vector\n",
            "Missing 6 words. Will replace them with mean vector\n",
            "Missing 3 words. Will replace them with mean vector\n"
          ],
          "name": "stderr"
        },
        {
          "output_type": "stream",
          "text": [
            "Processing superlative with 5 pairs, 20 questions\n"
          ],
          "name": "stdout"
        },
        {
          "output_type": "stream",
          "text": [
            "Missing 57 words. Will replace them with mean vector\n",
            "Missing 54 words. Will replace them with mean vector\n",
            "Missing 51 words. Will replace them with mean vector\n",
            "Missing 48 words. Will replace them with mean vector\n",
            "Missing 45 words. Will replace them with mean vector\n",
            "Missing 42 words. Will replace them with mean vector\n",
            "Missing 39 words. Will replace them with mean vector\n",
            "Missing 36 words. Will replace them with mean vector\n",
            "Missing 33 words. Will replace them with mean vector\n",
            "Missing 30 words. Will replace them with mean vector\n",
            "Missing 27 words. Will replace them with mean vector\n",
            "Missing 24 words. Will replace them with mean vector\n",
            "Missing 21 words. Will replace them with mean vector\n",
            "Missing 18 words. Will replace them with mean vector\n",
            "Missing 15 words. Will replace them with mean vector\n",
            "Missing 12 words. Will replace them with mean vector\n",
            "Missing 9 words. Will replace them with mean vector\n",
            "Missing 6 words. Will replace them with mean vector\n",
            "Missing 3 words. Will replace them with mean vector\n"
          ],
          "name": "stderr"
        },
        {
          "output_type": "stream",
          "text": [
            "Processing MadeOf with 5 pairs, 20 questions\n"
          ],
          "name": "stdout"
        },
        {
          "output_type": "stream",
          "text": [
            "Missing 57 words. Will replace them with mean vector\n",
            "Missing 54 words. Will replace them with mean vector\n",
            "Missing 51 words. Will replace them with mean vector\n",
            "Missing 48 words. Will replace them with mean vector\n",
            "Missing 45 words. Will replace them with mean vector\n",
            "Missing 42 words. Will replace them with mean vector\n",
            "Missing 39 words. Will replace them with mean vector\n",
            "Missing 36 words. Will replace them with mean vector\n",
            "Missing 33 words. Will replace them with mean vector\n",
            "Missing 30 words. Will replace them with mean vector\n",
            "Missing 27 words. Will replace them with mean vector\n",
            "Missing 24 words. Will replace them with mean vector\n",
            "Missing 21 words. Will replace them with mean vector\n",
            "Missing 18 words. Will replace them with mean vector\n",
            "Missing 15 words. Will replace them with mean vector\n",
            "Missing 12 words. Will replace them with mean vector\n",
            "Missing 9 words. Will replace them with mean vector\n",
            "Missing 6 words. Will replace them with mean vector\n",
            "Missing 3 words. Will replace them with mean vector\n"
          ],
          "name": "stderr"
        },
        {
          "output_type": "stream",
          "text": [
            "Processing RelatedTo with 5 pairs, 20 questions\n"
          ],
          "name": "stdout"
        },
        {
          "output_type": "stream",
          "text": [
            "Missing 57 words. Will replace them with mean vector\n",
            "Missing 54 words. Will replace them with mean vector\n",
            "Missing 51 words. Will replace them with mean vector\n",
            "Missing 48 words. Will replace them with mean vector\n",
            "Missing 45 words. Will replace them with mean vector\n",
            "Missing 42 words. Will replace them with mean vector\n",
            "Missing 39 words. Will replace them with mean vector\n",
            "Missing 36 words. Will replace them with mean vector\n",
            "Missing 33 words. Will replace them with mean vector\n",
            "Missing 30 words. Will replace them with mean vector\n",
            "Missing 27 words. Will replace them with mean vector\n",
            "Missing 24 words. Will replace them with mean vector\n",
            "Missing 21 words. Will replace them with mean vector\n",
            "Missing 18 words. Will replace them with mean vector\n",
            "Missing 15 words. Will replace them with mean vector\n",
            "Missing 12 words. Will replace them with mean vector\n",
            "Missing 9 words. Will replace them with mean vector\n",
            "Missing 6 words. Will replace them with mean vector\n",
            "Missing 3 words. Will replace them with mean vector\n",
            "Missing 57 words. Will replace them with mean vector\n"
          ],
          "name": "stderr"
        },
        {
          "output_type": "stream",
          "text": [
            "Processing MemberOf with 5 pairs, 20 questions\n"
          ],
          "name": "stdout"
        },
        {
          "output_type": "stream",
          "text": [
            "Missing 54 words. Will replace them with mean vector\n",
            "Missing 51 words. Will replace them with mean vector\n",
            "Missing 48 words. Will replace them with mean vector\n",
            "Missing 45 words. Will replace them with mean vector\n",
            "Missing 42 words. Will replace them with mean vector\n",
            "Missing 39 words. Will replace them with mean vector\n",
            "Missing 36 words. Will replace them with mean vector\n",
            "Missing 33 words. Will replace them with mean vector\n",
            "Missing 30 words. Will replace them with mean vector\n",
            "Missing 27 words. Will replace them with mean vector\n",
            "Missing 24 words. Will replace them with mean vector\n",
            "Missing 21 words. Will replace them with mean vector\n",
            "Missing 18 words. Will replace them with mean vector\n",
            "Missing 15 words. Will replace them with mean vector\n",
            "Missing 12 words. Will replace them with mean vector\n",
            "Missing 9 words. Will replace them with mean vector\n",
            "Missing 6 words. Will replace them with mean vector\n",
            "Missing 3 words. Will replace them with mean vector\n"
          ],
          "name": "stderr"
        },
        {
          "output_type": "stream",
          "text": [
            "Processing plural-nouns with 5 pairs, 20 questions\n"
          ],
          "name": "stdout"
        },
        {
          "output_type": "stream",
          "text": [
            "Missing 57 words. Will replace them with mean vector\n",
            "Missing 54 words. Will replace them with mean vector\n",
            "Missing 51 words. Will replace them with mean vector\n",
            "Missing 48 words. Will replace them with mean vector\n",
            "Missing 45 words. Will replace them with mean vector\n",
            "Missing 42 words. Will replace them with mean vector\n",
            "Missing 39 words. Will replace them with mean vector\n",
            "Missing 36 words. Will replace them with mean vector\n",
            "Missing 33 words. Will replace them with mean vector\n",
            "Missing 30 words. Will replace them with mean vector\n",
            "Missing 27 words. Will replace them with mean vector\n",
            "Missing 24 words. Will replace them with mean vector\n",
            "Missing 21 words. Will replace them with mean vector\n",
            "Missing 18 words. Will replace them with mean vector\n",
            "Missing 15 words. Will replace them with mean vector\n",
            "Missing 12 words. Will replace them with mean vector\n",
            "Missing 9 words. Will replace them with mean vector\n",
            "Missing 6 words. Will replace them with mean vector\n",
            "Missing 3 words. Will replace them with mean vector\n"
          ],
          "name": "stderr"
        },
        {
          "output_type": "stream",
          "text": [
            "Processing IsA with 5 pairs, 20 questions\n"
          ],
          "name": "stdout"
        },
        {
          "output_type": "stream",
          "text": [
            "Missing 57 words. Will replace them with mean vector\n",
            "Missing 54 words. Will replace them with mean vector\n",
            "Missing 51 words. Will replace them with mean vector\n",
            "Missing 48 words. Will replace them with mean vector\n",
            "Missing 45 words. Will replace them with mean vector\n",
            "Missing 42 words. Will replace them with mean vector\n",
            "Missing 39 words. Will replace them with mean vector\n",
            "Missing 36 words. Will replace them with mean vector\n",
            "Missing 33 words. Will replace them with mean vector\n",
            "Missing 30 words. Will replace them with mean vector\n",
            "Missing 27 words. Will replace them with mean vector\n",
            "Missing 24 words. Will replace them with mean vector\n",
            "Missing 21 words. Will replace them with mean vector\n",
            "Missing 18 words. Will replace them with mean vector\n",
            "Missing 15 words. Will replace them with mean vector\n",
            "Missing 12 words. Will replace them with mean vector\n",
            "Missing 9 words. Will replace them with mean vector\n",
            "Missing 6 words. Will replace them with mean vector\n",
            "Missing 3 words. Will replace them with mean vector\n"
          ],
          "name": "stderr"
        },
        {
          "output_type": "stream",
          "text": [
            "Processing HasContext with 5 pairs, 20 questions\n"
          ],
          "name": "stdout"
        },
        {
          "output_type": "stream",
          "text": [
            "Missing 57 words. Will replace them with mean vector\n",
            "Missing 54 words. Will replace them with mean vector\n",
            "Missing 51 words. Will replace them with mean vector\n",
            "Missing 48 words. Will replace them with mean vector\n",
            "Missing 45 words. Will replace them with mean vector\n",
            "Missing 42 words. Will replace them with mean vector\n",
            "Missing 39 words. Will replace them with mean vector\n",
            "Missing 36 words. Will replace them with mean vector\n",
            "Missing 33 words. Will replace them with mean vector\n",
            "Missing 30 words. Will replace them with mean vector\n",
            "Missing 27 words. Will replace them with mean vector\n",
            "Missing 24 words. Will replace them with mean vector\n",
            "Missing 21 words. Will replace them with mean vector\n",
            "Missing 18 words. Will replace them with mean vector\n",
            "Missing 15 words. Will replace them with mean vector\n",
            "Missing 12 words. Will replace them with mean vector\n",
            "Missing 9 words. Will replace them with mean vector\n",
            "Missing 6 words. Will replace them with mean vector\n",
            "Missing 3 words. Will replace them with mean vector\n"
          ],
          "name": "stderr"
        },
        {
          "output_type": "stream",
          "text": [
            "Processing currency with 5 pairs, 20 questions\n"
          ],
          "name": "stdout"
        },
        {
          "output_type": "stream",
          "text": [
            "Missing 57 words. Will replace them with mean vector\n",
            "Missing 54 words. Will replace them with mean vector\n",
            "Missing 51 words. Will replace them with mean vector\n",
            "Missing 48 words. Will replace them with mean vector\n",
            "Missing 45 words. Will replace them with mean vector\n",
            "Missing 42 words. Will replace them with mean vector\n",
            "Missing 39 words. Will replace them with mean vector\n",
            "Missing 36 words. Will replace them with mean vector\n",
            "Missing 33 words. Will replace them with mean vector\n",
            "Missing 30 words. Will replace them with mean vector\n",
            "Missing 27 words. Will replace them with mean vector\n",
            "Missing 24 words. Will replace them with mean vector\n",
            "Missing 21 words. Will replace them with mean vector\n",
            "Missing 18 words. Will replace them with mean vector\n",
            "Missing 15 words. Will replace them with mean vector\n",
            "Missing 12 words. Will replace them with mean vector\n",
            "Missing 9 words. Will replace them with mean vector\n",
            "Missing 6 words. Will replace them with mean vector\n",
            "Missing 3 words. Will replace them with mean vector\n"
          ],
          "name": "stderr"
        },
        {
          "output_type": "stream",
          "text": [
            "Processing city-in-state with 5 pairs, 20 questions\n"
          ],
          "name": "stdout"
        },
        {
          "output_type": "stream",
          "text": [
            "Missing 57 words. Will replace them with mean vector\n",
            "Missing 54 words. Will replace them with mean vector\n",
            "Missing 51 words. Will replace them with mean vector\n",
            "Missing 48 words. Will replace them with mean vector\n",
            "Missing 45 words. Will replace them with mean vector\n",
            "Missing 42 words. Will replace them with mean vector\n",
            "Missing 39 words. Will replace them with mean vector\n",
            "Missing 36 words. Will replace them with mean vector\n",
            "Missing 33 words. Will replace them with mean vector\n",
            "Missing 30 words. Will replace them with mean vector\n",
            "Missing 27 words. Will replace them with mean vector\n",
            "Missing 24 words. Will replace them with mean vector\n",
            "Missing 21 words. Will replace them with mean vector\n",
            "Missing 18 words. Will replace them with mean vector\n",
            "Missing 15 words. Will replace them with mean vector\n",
            "Missing 12 words. Will replace them with mean vector\n",
            "Missing 9 words. Will replace them with mean vector\n",
            "Missing 6 words. Will replace them with mean vector\n",
            "Missing 3 words. Will replace them with mean vector\n"
          ],
          "name": "stderr"
        },
        {
          "output_type": "stream",
          "text": [
            "Processing Entails with 5 pairs, 20 questions\n"
          ],
          "name": "stdout"
        },
        {
          "output_type": "stream",
          "text": [
            "Missing 57 words. Will replace them with mean vector\n",
            "Missing 54 words. Will replace them with mean vector\n",
            "Missing 51 words. Will replace them with mean vector\n",
            "Missing 48 words. Will replace them with mean vector\n",
            "Missing 45 words. Will replace them with mean vector\n",
            "Missing 42 words. Will replace them with mean vector\n",
            "Missing 39 words. Will replace them with mean vector\n",
            "Missing 36 words. Will replace them with mean vector\n",
            "Missing 33 words. Will replace them with mean vector\n",
            "Missing 30 words. Will replace them with mean vector\n",
            "Missing 27 words. Will replace them with mean vector\n",
            "Missing 24 words. Will replace them with mean vector\n",
            "Missing 21 words. Will replace them with mean vector\n",
            "Missing 18 words. Will replace them with mean vector\n",
            "Missing 15 words. Will replace them with mean vector\n",
            "Missing 12 words. Will replace them with mean vector\n",
            "Missing 9 words. Will replace them with mean vector\n",
            "Missing 6 words. Will replace them with mean vector\n",
            "Missing 3 words. Will replace them with mean vector\n"
          ],
          "name": "stderr"
        },
        {
          "output_type": "stream",
          "text": [
            "Processing Antonym with 5 pairs, 20 questions\n"
          ],
          "name": "stdout"
        },
        {
          "output_type": "stream",
          "text": [
            "Missing 57 words. Will replace them with mean vector\n",
            "Missing 54 words. Will replace them with mean vector\n",
            "Missing 51 words. Will replace them with mean vector\n",
            "Missing 48 words. Will replace them with mean vector\n",
            "Missing 45 words. Will replace them with mean vector\n",
            "Missing 42 words. Will replace them with mean vector\n",
            "Missing 39 words. Will replace them with mean vector\n",
            "Missing 36 words. Will replace them with mean vector\n",
            "Missing 33 words. Will replace them with mean vector\n",
            "Missing 30 words. Will replace them with mean vector\n",
            "Missing 27 words. Will replace them with mean vector\n",
            "Missing 24 words. Will replace them with mean vector\n",
            "Missing 21 words. Will replace them with mean vector\n",
            "Missing 18 words. Will replace them with mean vector\n",
            "Missing 15 words. Will replace them with mean vector\n",
            "Missing 12 words. Will replace them with mean vector\n",
            "Missing 9 words. Will replace them with mean vector\n",
            "Missing 6 words. Will replace them with mean vector\n",
            "Missing 3 words. Will replace them with mean vector\n"
          ],
          "name": "stderr"
        },
        {
          "output_type": "stream",
          "text": [
            "Processing past-tense with 5 pairs, 20 questions\n"
          ],
          "name": "stdout"
        },
        {
          "output_type": "stream",
          "text": [
            "Missing 57 words. Will replace them with mean vector\n",
            "Missing 54 words. Will replace them with mean vector\n",
            "Missing 51 words. Will replace them with mean vector\n",
            "Missing 48 words. Will replace them with mean vector\n",
            "Missing 45 words. Will replace them with mean vector\n",
            "Missing 42 words. Will replace them with mean vector\n",
            "Missing 39 words. Will replace them with mean vector\n",
            "Missing 36 words. Will replace them with mean vector\n",
            "Missing 33 words. Will replace them with mean vector\n",
            "Missing 30 words. Will replace them with mean vector\n",
            "Missing 27 words. Will replace them with mean vector\n",
            "Missing 24 words. Will replace them with mean vector\n",
            "Missing 21 words. Will replace them with mean vector\n",
            "Missing 18 words. Will replace them with mean vector\n",
            "Missing 15 words. Will replace them with mean vector\n",
            "Missing 12 words. Will replace them with mean vector\n",
            "Missing 9 words. Will replace them with mean vector\n",
            "Missing 6 words. Will replace them with mean vector\n",
            "Missing 3 words. Will replace them with mean vector\n",
            "Missing 57 words. Will replace them with mean vector\n"
          ],
          "name": "stderr"
        },
        {
          "output_type": "stream",
          "text": [
            "Processing comparative with 5 pairs, 20 questions\n"
          ],
          "name": "stdout"
        },
        {
          "output_type": "stream",
          "text": [
            "Missing 54 words. Will replace them with mean vector\n",
            "Missing 51 words. Will replace them with mean vector\n",
            "Missing 48 words. Will replace them with mean vector\n",
            "Missing 45 words. Will replace them with mean vector\n",
            "Missing 42 words. Will replace them with mean vector\n",
            "Missing 39 words. Will replace them with mean vector\n",
            "Missing 36 words. Will replace them with mean vector\n",
            "Missing 33 words. Will replace them with mean vector\n",
            "Missing 30 words. Will replace them with mean vector\n",
            "Missing 27 words. Will replace them with mean vector\n",
            "Missing 24 words. Will replace them with mean vector\n",
            "Missing 21 words. Will replace them with mean vector\n",
            "Missing 18 words. Will replace them with mean vector\n",
            "Missing 15 words. Will replace them with mean vector\n",
            "Missing 12 words. Will replace them with mean vector\n",
            "Missing 9 words. Will replace them with mean vector\n",
            "Missing 6 words. Will replace them with mean vector\n",
            "Missing 3 words. Will replace them with mean vector\n"
          ],
          "name": "stderr"
        },
        {
          "output_type": "stream",
          "text": [
            "Processing adjective-to-adverb with 5 pairs, 20 questions\n"
          ],
          "name": "stdout"
        },
        {
          "output_type": "stream",
          "text": [
            "Missing 57 words. Will replace them with mean vector\n",
            "Missing 54 words. Will replace them with mean vector\n",
            "Missing 51 words. Will replace them with mean vector\n",
            "Missing 48 words. Will replace them with mean vector\n",
            "Missing 45 words. Will replace them with mean vector\n",
            "Missing 42 words. Will replace them with mean vector\n",
            "Missing 39 words. Will replace them with mean vector\n",
            "Missing 36 words. Will replace them with mean vector\n",
            "Missing 33 words. Will replace them with mean vector\n",
            "Missing 30 words. Will replace them with mean vector\n",
            "Missing 27 words. Will replace them with mean vector\n",
            "Missing 24 words. Will replace them with mean vector\n",
            "Missing 21 words. Will replace them with mean vector\n",
            "Missing 18 words. Will replace them with mean vector\n",
            "Missing 15 words. Will replace them with mean vector\n",
            "Missing 12 words. Will replace them with mean vector\n",
            "Missing 9 words. Will replace them with mean vector\n",
            "Missing 6 words. Will replace them with mean vector\n",
            "Missing 3 words. Will replace them with mean vector\n"
          ],
          "name": "stderr"
        },
        {
          "output_type": "stream",
          "text": [
            "Processing all-capital-cities with 5 pairs, 20 questions\n"
          ],
          "name": "stdout"
        },
        {
          "output_type": "stream",
          "text": [
            "Missing 57 words. Will replace them with mean vector\n",
            "Missing 54 words. Will replace them with mean vector\n",
            "Missing 51 words. Will replace them with mean vector\n",
            "Missing 48 words. Will replace them with mean vector\n",
            "Missing 45 words. Will replace them with mean vector\n",
            "Missing 42 words. Will replace them with mean vector\n",
            "Missing 39 words. Will replace them with mean vector\n",
            "Missing 36 words. Will replace them with mean vector\n",
            "Missing 33 words. Will replace them with mean vector\n",
            "Missing 30 words. Will replace them with mean vector\n",
            "Missing 27 words. Will replace them with mean vector\n",
            "Missing 24 words. Will replace them with mean vector\n",
            "Missing 21 words. Will replace them with mean vector\n",
            "Missing 18 words. Will replace them with mean vector\n",
            "Missing 15 words. Will replace them with mean vector\n",
            "Missing 12 words. Will replace them with mean vector\n",
            "Missing 9 words. Will replace them with mean vector\n",
            "Missing 6 words. Will replace them with mean vector\n",
            "Missing 3 words. Will replace them with mean vector\n",
            "Missing 57 words. Will replace them with mean vector\n"
          ],
          "name": "stderr"
        },
        {
          "output_type": "stream",
          "text": [
            "Processing SimilarTo with 5 pairs, 20 questions\n"
          ],
          "name": "stdout"
        },
        {
          "output_type": "stream",
          "text": [
            "Missing 54 words. Will replace them with mean vector\n",
            "Missing 51 words. Will replace them with mean vector\n",
            "Missing 48 words. Will replace them with mean vector\n",
            "Missing 45 words. Will replace them with mean vector\n",
            "Missing 42 words. Will replace them with mean vector\n",
            "Missing 39 words. Will replace them with mean vector\n",
            "Missing 36 words. Will replace them with mean vector\n",
            "Missing 33 words. Will replace them with mean vector\n",
            "Missing 30 words. Will replace them with mean vector\n",
            "Missing 27 words. Will replace them with mean vector\n",
            "Missing 24 words. Will replace them with mean vector\n",
            "Missing 21 words. Will replace them with mean vector\n",
            "Missing 18 words. Will replace them with mean vector\n",
            "Missing 15 words. Will replace them with mean vector\n",
            "Missing 12 words. Will replace them with mean vector\n",
            "Missing 9 words. Will replace them with mean vector\n",
            "Missing 6 words. Will replace them with mean vector\n",
            "Missing 3 words. Will replace them with mean vector\n"
          ],
          "name": "stderr"
        },
        {
          "output_type": "stream",
          "text": [
            "Processing DerivedFrom with 5 pairs, 20 questions\n"
          ],
          "name": "stdout"
        },
        {
          "output_type": "stream",
          "text": [
            "Missing 57 words. Will replace them with mean vector\n",
            "Missing 54 words. Will replace them with mean vector\n",
            "Missing 51 words. Will replace them with mean vector\n",
            "Missing 48 words. Will replace them with mean vector\n",
            "Missing 45 words. Will replace them with mean vector\n",
            "Missing 42 words. Will replace them with mean vector\n",
            "Missing 39 words. Will replace them with mean vector\n",
            "Missing 36 words. Will replace them with mean vector\n",
            "Missing 33 words. Will replace them with mean vector\n",
            "Missing 30 words. Will replace them with mean vector\n",
            "Missing 27 words. Will replace them with mean vector\n",
            "Missing 24 words. Will replace them with mean vector\n",
            "Missing 21 words. Will replace them with mean vector\n",
            "Missing 18 words. Will replace them with mean vector\n",
            "Missing 15 words. Will replace them with mean vector\n",
            "Missing 12 words. Will replace them with mean vector\n",
            "Missing 9 words. Will replace them with mean vector\n",
            "Missing 6 words. Will replace them with mean vector\n",
            "Missing 3 words. Will replace them with mean vector\n"
          ],
          "name": "stderr"
        },
        {
          "output_type": "stream",
          "text": [
            "                       accuracy  correct  count\n",
            "Attribute                  0.00      0.0     20\n",
            "present-participle         0.30      6.0     20\n",
            "plural-verbs               0.15      3.0     20\n",
            "Causes                     0.00      0.0     20\n",
            "InstanceOf                 0.00      0.0     20\n",
            "man-woman                  0.05      1.0     20\n",
            "PartOf                     0.00      0.0     20\n",
            "nationality-adjective      0.60     12.0     20\n",
            "superlative                0.40      8.0     20\n",
            "MadeOf                     0.00      0.0     20\n",
            "RelatedTo                  0.00      0.0     20\n",
            "MemberOf                   0.00      0.0     20\n",
            "plural-nouns               0.45      9.0     20\n",
            "IsA                        0.00      0.0     20\n",
            "HasContext                 0.00      0.0     20\n",
            "currency                   0.05      1.0     20\n",
            "city-in-state              0.00      0.0     20\n",
            "Entails                    0.00      0.0     20\n",
            "Antonym                    0.00      0.0     20\n",
            "past-tense                 0.30      6.0     20\n",
            "comparative                0.10      2.0     20\n",
            "adjective-to-adverb        0.35      7.0     20\n",
            "all-capital-cities         0.25      5.0     20\n",
            "SimilarTo                  0.00      0.0     20\n",
            "DerivedFrom                0.00      0.0     20\n",
            "wikipedia                  0.00      0.0    260\n",
            "all                        0.12     60.0    500\n",
            "wordnet                    0.25     60.0    240\n"
          ],
          "name": "stdout"
        }
      ]
    },
    {
      "cell_type": "code",
      "metadata": {
        "id": "RdFXE7ZhO66k",
        "colab_type": "code",
        "outputId": "43dc5a95-0707-472e-d556-7ecda3358768",
        "colab": {
          "base_uri": "https://localhost:8080/",
          "height": 637
        }
      },
      "source": [
        "results = evaluateOnAll(w)\n",
        "print(results)"
      ],
      "execution_count": 0,
      "outputs": [
        {
          "output_type": "stream",
          "text": [
            "/content/drive/My Drive/Term5/NLP/Dataset/web/evaluate.py:336: FutureWarning: arrays to stack must be passed as a \"sequence\" type such as list or tuple. Support for non-sequence iterables such as generators is deprecated as of NumPy 1.16 and will raise an error in the future.\n",
            "  A = np.vstack(w.get(word, mean_vector) for word in X[:, 0])\n",
            "/content/drive/My Drive/Term5/NLP/Dataset/web/evaluate.py:337: FutureWarning: arrays to stack must be passed as a \"sequence\" type such as list or tuple. Support for non-sequence iterables such as generators is deprecated as of NumPy 1.16 and will raise an error in the future.\n",
            "  B = np.vstack(w.get(word, mean_vector) for word in X[:, 1])\n",
            "Missing 24 words. Will replace them with mean vector\n"
          ],
          "name": "stderr"
        },
        {
          "output_type": "stream",
          "text": [
            "Spearman correlation of scores on MTurk 0.7197183228296197\n",
            "Spearman correlation of scores on MEN 0.859637745749473\n"
          ],
          "name": "stdout"
        },
        {
          "output_type": "stream",
          "text": [
            "Missing 210 words. Will replace them with mean vector\n"
          ],
          "name": "stderr"
        },
        {
          "output_type": "stream",
          "text": [
            "Spearman correlation of scores on WS353 0.754611288190992\n",
            "Spearman correlation of scores on RubensteinAndGoodenough 0.9098796909954566\n"
          ],
          "name": "stdout"
        },
        {
          "output_type": "stream",
          "text": [
            "Missing 12159 words. Will replace them with mean vector\n"
          ],
          "name": "stderr"
        },
        {
          "output_type": "stream",
          "text": [
            "Spearman correlation of scores on Rare Words 0.5454422117278859\n",
            "Spearman correlation of scores on SIMLEX999 0.6505248465442232\n",
            "Spearman correlation of scores on TR9856 0.13278805080523653\n",
            "Calculating analogy benchmarks\n"
          ],
          "name": "stdout"
        },
        {
          "output_type": "stream",
          "text": [
            "/content/drive/My Drive/Term5/NLP/Dataset/web/analogy.py:105: FutureWarning: arrays to stack must be passed as a \"sequence\" type such as list or tuple. Support for non-sequence iterables such as generators is deprecated as of NumPy 1.16 and will raise an error in the future.\n",
            "  A, B, C = np.vstack(w.get(word, mean_vector) for word in X_b[:, 0]), \\\n",
            "/content/drive/My Drive/Term5/NLP/Dataset/web/analogy.py:106: FutureWarning: arrays to stack must be passed as a \"sequence\" type such as list or tuple. Support for non-sequence iterables such as generators is deprecated as of NumPy 1.16 and will raise an error in the future.\n",
            "  np.vstack(w.get(word, mean_vector) for word in X_b[:, 1]), \\\n",
            "/content/drive/My Drive/Term5/NLP/Dataset/web/analogy.py:107: FutureWarning: arrays to stack must be passed as a \"sequence\" type such as list or tuple. Support for non-sequence iterables such as generators is deprecated as of NumPy 1.16 and will raise an error in the future.\n",
            "  np.vstack(w.get(word, mean_vector) for word in X_b[:, 2])\n",
            "Missing 287 words. Will replace them with mean vector\n"
          ],
          "name": "stderr"
        },
        {
          "output_type": "stream",
          "text": [
            "Analogy prediction accuracy on Google 0.3812423250102333\n",
            "Analogy prediction accuracy on MSR 0.539375\n"
          ],
          "name": "stdout"
        },
        {
          "output_type": "stream",
          "text": [
            "/usr/local/lib/python3.6/dist-packages/ipykernel_launcher.py:9: FutureWarning: arrays to stack must be passed as a \"sequence\" type such as list or tuple. Support for non-sequence iterables such as generators is deprecated as of NumPy 1.16 and will raise an error in the future.\n",
            "  if __name__ == '__main__':\n",
            "/usr/local/lib/python3.6/dist-packages/ipykernel_launcher.py:10: FutureWarning: arrays to stack must be passed as a \"sequence\" type such as list or tuple. Support for non-sequence iterables such as generators is deprecated as of NumPy 1.16 and will raise an error in the future.\n",
            "  # Remove the CWD from sys.path while we load stuff.\n",
            "/usr/local/lib/python3.6/dist-packages/ipykernel_launcher.py:12: FutureWarning: arrays to stack must be passed as a \"sequence\" type such as list or tuple. Support for non-sequence iterables such as generators is deprecated as of NumPy 1.16 and will raise an error in the future.\n",
            "  if sys.path[0] == '':\n"
          ],
          "name": "stderr"
        },
        {
          "output_type": "stream",
          "text": [
            "Analogy prediction accuracy on SemEval2012 0.2381018136258732\n",
            "      MTurk       MEN     WS353  ...    Google       MSR  SemEval2012_2\n",
            "0  0.719718  0.859638  0.754611  ...  0.381242  0.539375       0.238102\n",
            "\n",
            "[1 rows x 10 columns]\n"
          ],
          "name": "stdout"
        }
      ]
    },
    {
      "cell_type": "markdown",
      "metadata": {
        "id": "29WyujsNO-9T",
        "colab_type": "text"
      },
      "source": [
        "##### WE:11"
      ]
    },
    {
      "cell_type": "code",
      "metadata": {
        "id": "ygWfZylEPF3e",
        "colab_type": "code",
        "outputId": "be05cc95-f2b4-4df3-cd82-52272b523d99",
        "colab": {
          "base_uri": "https://localhost:8080/",
          "height": 1000
        }
      },
      "source": [
        "w = w_hdc\n",
        "results_wordrep = calAnswersOnWordRep(data_wordrep, w, max_pairs=5)\n",
        "print(results_wordrep)"
      ],
      "execution_count": 0,
      "outputs": [
        {
          "output_type": "stream",
          "text": [
            "Missing 57 words. Will replace them with mean vector\n"
          ],
          "name": "stderr"
        },
        {
          "output_type": "stream",
          "text": [
            "Processing Attribute with 5 pairs, 20 questions\n"
          ],
          "name": "stdout"
        },
        {
          "output_type": "stream",
          "text": [
            "/content/drive/My Drive/Term5/NLP/Dataset/web/analogy.py:101: RuntimeWarning: invalid value encountered in double_scalars\n",
            "  if id_batch % np.floor(len(X) / (10. * self.batch_size)) == 0:\n",
            "/content/drive/My Drive/Term5/NLP/Dataset/web/analogy.py:105: FutureWarning: arrays to stack must be passed as a \"sequence\" type such as list or tuple. Support for non-sequence iterables such as generators is deprecated as of NumPy 1.16 and will raise an error in the future.\n",
            "  A, B, C = np.vstack(w.get(word, mean_vector) for word in X_b[:, 0]), \\\n",
            "/content/drive/My Drive/Term5/NLP/Dataset/web/analogy.py:106: FutureWarning: arrays to stack must be passed as a \"sequence\" type such as list or tuple. Support for non-sequence iterables such as generators is deprecated as of NumPy 1.16 and will raise an error in the future.\n",
            "  np.vstack(w.get(word, mean_vector) for word in X_b[:, 1]), \\\n",
            "/content/drive/My Drive/Term5/NLP/Dataset/web/analogy.py:107: FutureWarning: arrays to stack must be passed as a \"sequence\" type such as list or tuple. Support for non-sequence iterables such as generators is deprecated as of NumPy 1.16 and will raise an error in the future.\n",
            "  np.vstack(w.get(word, mean_vector) for word in X_b[:, 2])\n",
            "Missing 54 words. Will replace them with mean vector\n",
            "Missing 51 words. Will replace them with mean vector\n",
            "Missing 48 words. Will replace them with mean vector\n",
            "Missing 45 words. Will replace them with mean vector\n",
            "Missing 42 words. Will replace them with mean vector\n",
            "Missing 39 words. Will replace them with mean vector\n",
            "Missing 36 words. Will replace them with mean vector\n",
            "Missing 33 words. Will replace them with mean vector\n",
            "Missing 30 words. Will replace them with mean vector\n",
            "Missing 27 words. Will replace them with mean vector\n",
            "Missing 24 words. Will replace them with mean vector\n",
            "Missing 21 words. Will replace them with mean vector\n",
            "Missing 18 words. Will replace them with mean vector\n",
            "Missing 15 words. Will replace them with mean vector\n",
            "Missing 12 words. Will replace them with mean vector\n",
            "Missing 9 words. Will replace them with mean vector\n",
            "Missing 6 words. Will replace them with mean vector\n",
            "Missing 3 words. Will replace them with mean vector\n"
          ],
          "name": "stderr"
        },
        {
          "output_type": "stream",
          "text": [
            "Processing present-participle with 5 pairs, 20 questions\n"
          ],
          "name": "stdout"
        },
        {
          "output_type": "stream",
          "text": [
            "Missing 57 words. Will replace them with mean vector\n",
            "Missing 54 words. Will replace them with mean vector\n",
            "Missing 51 words. Will replace them with mean vector\n",
            "Missing 48 words. Will replace them with mean vector\n",
            "Missing 45 words. Will replace them with mean vector\n",
            "Missing 42 words. Will replace them with mean vector\n",
            "Missing 39 words. Will replace them with mean vector\n",
            "Missing 36 words. Will replace them with mean vector\n",
            "Missing 33 words. Will replace them with mean vector\n",
            "Missing 30 words. Will replace them with mean vector\n",
            "Missing 27 words. Will replace them with mean vector\n",
            "Missing 24 words. Will replace them with mean vector\n",
            "Missing 21 words. Will replace them with mean vector\n",
            "Missing 18 words. Will replace them with mean vector\n",
            "Missing 15 words. Will replace them with mean vector\n",
            "Missing 12 words. Will replace them with mean vector\n",
            "Missing 9 words. Will replace them with mean vector\n",
            "Missing 6 words. Will replace them with mean vector\n",
            "Missing 3 words. Will replace them with mean vector\n",
            "Missing 57 words. Will replace them with mean vector\n"
          ],
          "name": "stderr"
        },
        {
          "output_type": "stream",
          "text": [
            "Processing plural-verbs with 5 pairs, 20 questions\n"
          ],
          "name": "stdout"
        },
        {
          "output_type": "stream",
          "text": [
            "Missing 54 words. Will replace them with mean vector\n",
            "Missing 51 words. Will replace them with mean vector\n",
            "Missing 48 words. Will replace them with mean vector\n",
            "Missing 45 words. Will replace them with mean vector\n",
            "Missing 42 words. Will replace them with mean vector\n",
            "Missing 39 words. Will replace them with mean vector\n",
            "Missing 36 words. Will replace them with mean vector\n",
            "Missing 33 words. Will replace them with mean vector\n",
            "Missing 30 words. Will replace them with mean vector\n",
            "Missing 27 words. Will replace them with mean vector\n",
            "Missing 24 words. Will replace them with mean vector\n",
            "Missing 21 words. Will replace them with mean vector\n",
            "Missing 18 words. Will replace them with mean vector\n",
            "Missing 15 words. Will replace them with mean vector\n",
            "Missing 12 words. Will replace them with mean vector\n",
            "Missing 9 words. Will replace them with mean vector\n",
            "Missing 6 words. Will replace them with mean vector\n",
            "Missing 3 words. Will replace them with mean vector\n"
          ],
          "name": "stderr"
        },
        {
          "output_type": "stream",
          "text": [
            "Processing Causes with 5 pairs, 20 questions\n"
          ],
          "name": "stdout"
        },
        {
          "output_type": "stream",
          "text": [
            "Missing 57 words. Will replace them with mean vector\n",
            "Missing 54 words. Will replace them with mean vector\n",
            "Missing 51 words. Will replace them with mean vector\n",
            "Missing 48 words. Will replace them with mean vector\n",
            "Missing 45 words. Will replace them with mean vector\n",
            "Missing 42 words. Will replace them with mean vector\n",
            "Missing 39 words. Will replace them with mean vector\n",
            "Missing 36 words. Will replace them with mean vector\n",
            "Missing 33 words. Will replace them with mean vector\n",
            "Missing 30 words. Will replace them with mean vector\n",
            "Missing 27 words. Will replace them with mean vector\n",
            "Missing 24 words. Will replace them with mean vector\n",
            "Missing 21 words. Will replace them with mean vector\n",
            "Missing 18 words. Will replace them with mean vector\n",
            "Missing 15 words. Will replace them with mean vector\n",
            "Missing 12 words. Will replace them with mean vector\n",
            "Missing 9 words. Will replace them with mean vector\n",
            "Missing 6 words. Will replace them with mean vector\n",
            "Missing 3 words. Will replace them with mean vector\n"
          ],
          "name": "stderr"
        },
        {
          "output_type": "stream",
          "text": [
            "Processing InstanceOf with 5 pairs, 20 questions\n"
          ],
          "name": "stdout"
        },
        {
          "output_type": "stream",
          "text": [
            "Missing 57 words. Will replace them with mean vector\n",
            "Missing 54 words. Will replace them with mean vector\n",
            "Missing 51 words. Will replace them with mean vector\n",
            "Missing 48 words. Will replace them with mean vector\n",
            "Missing 45 words. Will replace them with mean vector\n",
            "Missing 42 words. Will replace them with mean vector\n",
            "Missing 39 words. Will replace them with mean vector\n",
            "Missing 36 words. Will replace them with mean vector\n",
            "Missing 33 words. Will replace them with mean vector\n",
            "Missing 30 words. Will replace them with mean vector\n",
            "Missing 27 words. Will replace them with mean vector\n",
            "Missing 24 words. Will replace them with mean vector\n",
            "Missing 21 words. Will replace them with mean vector\n",
            "Missing 18 words. Will replace them with mean vector\n",
            "Missing 15 words. Will replace them with mean vector\n",
            "Missing 12 words. Will replace them with mean vector\n",
            "Missing 9 words. Will replace them with mean vector\n",
            "Missing 6 words. Will replace them with mean vector\n",
            "Missing 3 words. Will replace them with mean vector\n"
          ],
          "name": "stderr"
        },
        {
          "output_type": "stream",
          "text": [
            "Processing man-woman with 5 pairs, 20 questions\n"
          ],
          "name": "stdout"
        },
        {
          "output_type": "stream",
          "text": [
            "Missing 57 words. Will replace them with mean vector\n",
            "Missing 54 words. Will replace them with mean vector\n",
            "Missing 51 words. Will replace them with mean vector\n",
            "Missing 48 words. Will replace them with mean vector\n",
            "Missing 45 words. Will replace them with mean vector\n",
            "Missing 42 words. Will replace them with mean vector\n",
            "Missing 39 words. Will replace them with mean vector\n",
            "Missing 36 words. Will replace them with mean vector\n",
            "Missing 33 words. Will replace them with mean vector\n",
            "Missing 30 words. Will replace them with mean vector\n",
            "Missing 27 words. Will replace them with mean vector\n",
            "Missing 24 words. Will replace them with mean vector\n",
            "Missing 21 words. Will replace them with mean vector\n",
            "Missing 18 words. Will replace them with mean vector\n",
            "Missing 15 words. Will replace them with mean vector\n",
            "Missing 12 words. Will replace them with mean vector\n",
            "Missing 9 words. Will replace them with mean vector\n",
            "Missing 6 words. Will replace them with mean vector\n",
            "Missing 3 words. Will replace them with mean vector\n"
          ],
          "name": "stderr"
        },
        {
          "output_type": "stream",
          "text": [
            "Processing PartOf with 5 pairs, 20 questions\n"
          ],
          "name": "stdout"
        },
        {
          "output_type": "stream",
          "text": [
            "Missing 57 words. Will replace them with mean vector\n",
            "Missing 54 words. Will replace them with mean vector\n",
            "Missing 51 words. Will replace them with mean vector\n",
            "Missing 48 words. Will replace them with mean vector\n",
            "Missing 45 words. Will replace them with mean vector\n",
            "Missing 42 words. Will replace them with mean vector\n",
            "Missing 39 words. Will replace them with mean vector\n",
            "Missing 36 words. Will replace them with mean vector\n",
            "Missing 33 words. Will replace them with mean vector\n",
            "Missing 30 words. Will replace them with mean vector\n",
            "Missing 27 words. Will replace them with mean vector\n",
            "Missing 24 words. Will replace them with mean vector\n",
            "Missing 21 words. Will replace them with mean vector\n",
            "Missing 18 words. Will replace them with mean vector\n",
            "Missing 15 words. Will replace them with mean vector\n",
            "Missing 12 words. Will replace them with mean vector\n",
            "Missing 9 words. Will replace them with mean vector\n",
            "Missing 6 words. Will replace them with mean vector\n",
            "Missing 3 words. Will replace them with mean vector\n"
          ],
          "name": "stderr"
        },
        {
          "output_type": "stream",
          "text": [
            "Processing nationality-adjective with 5 pairs, 20 questions\n"
          ],
          "name": "stdout"
        },
        {
          "output_type": "stream",
          "text": [
            "Missing 57 words. Will replace them with mean vector\n",
            "Missing 54 words. Will replace them with mean vector\n",
            "Missing 51 words. Will replace them with mean vector\n",
            "Missing 48 words. Will replace them with mean vector\n",
            "Missing 45 words. Will replace them with mean vector\n",
            "Missing 42 words. Will replace them with mean vector\n",
            "Missing 39 words. Will replace them with mean vector\n",
            "Missing 36 words. Will replace them with mean vector\n",
            "Missing 33 words. Will replace them with mean vector\n",
            "Missing 30 words. Will replace them with mean vector\n",
            "Missing 27 words. Will replace them with mean vector\n",
            "Missing 24 words. Will replace them with mean vector\n",
            "Missing 21 words. Will replace them with mean vector\n",
            "Missing 18 words. Will replace them with mean vector\n",
            "Missing 15 words. Will replace them with mean vector\n",
            "Missing 12 words. Will replace them with mean vector\n",
            "Missing 9 words. Will replace them with mean vector\n",
            "Missing 6 words. Will replace them with mean vector\n",
            "Missing 3 words. Will replace them with mean vector\n"
          ],
          "name": "stderr"
        },
        {
          "output_type": "stream",
          "text": [
            "Processing superlative with 5 pairs, 20 questions\n"
          ],
          "name": "stdout"
        },
        {
          "output_type": "stream",
          "text": [
            "Missing 57 words. Will replace them with mean vector\n",
            "Missing 54 words. Will replace them with mean vector\n",
            "Missing 51 words. Will replace them with mean vector\n",
            "Missing 48 words. Will replace them with mean vector\n",
            "Missing 45 words. Will replace them with mean vector\n",
            "Missing 42 words. Will replace them with mean vector\n",
            "Missing 39 words. Will replace them with mean vector\n",
            "Missing 36 words. Will replace them with mean vector\n",
            "Missing 33 words. Will replace them with mean vector\n",
            "Missing 30 words. Will replace them with mean vector\n",
            "Missing 27 words. Will replace them with mean vector\n",
            "Missing 24 words. Will replace them with mean vector\n",
            "Missing 21 words. Will replace them with mean vector\n",
            "Missing 18 words. Will replace them with mean vector\n",
            "Missing 15 words. Will replace them with mean vector\n",
            "Missing 12 words. Will replace them with mean vector\n",
            "Missing 9 words. Will replace them with mean vector\n",
            "Missing 6 words. Will replace them with mean vector\n",
            "Missing 3 words. Will replace them with mean vector\n"
          ],
          "name": "stderr"
        },
        {
          "output_type": "stream",
          "text": [
            "Processing MadeOf with 5 pairs, 20 questions\n"
          ],
          "name": "stdout"
        },
        {
          "output_type": "stream",
          "text": [
            "Missing 57 words. Will replace them with mean vector\n",
            "Missing 54 words. Will replace them with mean vector\n",
            "Missing 51 words. Will replace them with mean vector\n",
            "Missing 48 words. Will replace them with mean vector\n",
            "Missing 45 words. Will replace them with mean vector\n",
            "Missing 42 words. Will replace them with mean vector\n",
            "Missing 39 words. Will replace them with mean vector\n",
            "Missing 36 words. Will replace them with mean vector\n",
            "Missing 33 words. Will replace them with mean vector\n",
            "Missing 30 words. Will replace them with mean vector\n",
            "Missing 27 words. Will replace them with mean vector\n",
            "Missing 24 words. Will replace them with mean vector\n",
            "Missing 21 words. Will replace them with mean vector\n",
            "Missing 18 words. Will replace them with mean vector\n",
            "Missing 15 words. Will replace them with mean vector\n",
            "Missing 12 words. Will replace them with mean vector\n",
            "Missing 9 words. Will replace them with mean vector\n",
            "Missing 6 words. Will replace them with mean vector\n",
            "Missing 3 words. Will replace them with mean vector\n"
          ],
          "name": "stderr"
        },
        {
          "output_type": "stream",
          "text": [
            "Processing RelatedTo with 5 pairs, 20 questions\n"
          ],
          "name": "stdout"
        },
        {
          "output_type": "stream",
          "text": [
            "Missing 57 words. Will replace them with mean vector\n",
            "Missing 54 words. Will replace them with mean vector\n",
            "Missing 51 words. Will replace them with mean vector\n",
            "Missing 48 words. Will replace them with mean vector\n",
            "Missing 45 words. Will replace them with mean vector\n",
            "Missing 42 words. Will replace them with mean vector\n",
            "Missing 39 words. Will replace them with mean vector\n",
            "Missing 36 words. Will replace them with mean vector\n",
            "Missing 33 words. Will replace them with mean vector\n",
            "Missing 30 words. Will replace them with mean vector\n",
            "Missing 27 words. Will replace them with mean vector\n",
            "Missing 24 words. Will replace them with mean vector\n",
            "Missing 21 words. Will replace them with mean vector\n",
            "Missing 18 words. Will replace them with mean vector\n",
            "Missing 15 words. Will replace them with mean vector\n",
            "Missing 12 words. Will replace them with mean vector\n",
            "Missing 9 words. Will replace them with mean vector\n",
            "Missing 6 words. Will replace them with mean vector\n",
            "Missing 3 words. Will replace them with mean vector\n"
          ],
          "name": "stderr"
        },
        {
          "output_type": "stream",
          "text": [
            "Processing MemberOf with 5 pairs, 20 questions\n"
          ],
          "name": "stdout"
        },
        {
          "output_type": "stream",
          "text": [
            "Missing 57 words. Will replace them with mean vector\n",
            "Missing 54 words. Will replace them with mean vector\n",
            "Missing 51 words. Will replace them with mean vector\n",
            "Missing 48 words. Will replace them with mean vector\n",
            "Missing 45 words. Will replace them with mean vector\n",
            "Missing 42 words. Will replace them with mean vector\n",
            "Missing 39 words. Will replace them with mean vector\n",
            "Missing 36 words. Will replace them with mean vector\n",
            "Missing 33 words. Will replace them with mean vector\n",
            "Missing 30 words. Will replace them with mean vector\n",
            "Missing 27 words. Will replace them with mean vector\n",
            "Missing 24 words. Will replace them with mean vector\n",
            "Missing 21 words. Will replace them with mean vector\n",
            "Missing 18 words. Will replace them with mean vector\n",
            "Missing 15 words. Will replace them with mean vector\n",
            "Missing 12 words. Will replace them with mean vector\n",
            "Missing 9 words. Will replace them with mean vector\n",
            "Missing 6 words. Will replace them with mean vector\n",
            "Missing 3 words. Will replace them with mean vector\n"
          ],
          "name": "stderr"
        },
        {
          "output_type": "stream",
          "text": [
            "Processing plural-nouns with 5 pairs, 20 questions\n"
          ],
          "name": "stdout"
        },
        {
          "output_type": "stream",
          "text": [
            "Missing 57 words. Will replace them with mean vector\n",
            "Missing 54 words. Will replace them with mean vector\n",
            "Missing 51 words. Will replace them with mean vector\n",
            "Missing 48 words. Will replace them with mean vector\n",
            "Missing 45 words. Will replace them with mean vector\n",
            "Missing 42 words. Will replace them with mean vector\n",
            "Missing 39 words. Will replace them with mean vector\n",
            "Missing 36 words. Will replace them with mean vector\n",
            "Missing 33 words. Will replace them with mean vector\n",
            "Missing 30 words. Will replace them with mean vector\n",
            "Missing 27 words. Will replace them with mean vector\n",
            "Missing 24 words. Will replace them with mean vector\n",
            "Missing 21 words. Will replace them with mean vector\n",
            "Missing 18 words. Will replace them with mean vector\n",
            "Missing 15 words. Will replace them with mean vector\n",
            "Missing 12 words. Will replace them with mean vector\n",
            "Missing 9 words. Will replace them with mean vector\n",
            "Missing 6 words. Will replace them with mean vector\n",
            "Missing 3 words. Will replace them with mean vector\n"
          ],
          "name": "stderr"
        },
        {
          "output_type": "stream",
          "text": [
            "Processing IsA with 5 pairs, 20 questions\n"
          ],
          "name": "stdout"
        },
        {
          "output_type": "stream",
          "text": [
            "Missing 57 words. Will replace them with mean vector\n",
            "Missing 54 words. Will replace them with mean vector\n",
            "Missing 51 words. Will replace them with mean vector\n",
            "Missing 48 words. Will replace them with mean vector\n",
            "Missing 45 words. Will replace them with mean vector\n",
            "Missing 42 words. Will replace them with mean vector\n",
            "Missing 39 words. Will replace them with mean vector\n",
            "Missing 36 words. Will replace them with mean vector\n",
            "Missing 33 words. Will replace them with mean vector\n",
            "Missing 30 words. Will replace them with mean vector\n",
            "Missing 27 words. Will replace them with mean vector\n",
            "Missing 24 words. Will replace them with mean vector\n",
            "Missing 21 words. Will replace them with mean vector\n",
            "Missing 18 words. Will replace them with mean vector\n",
            "Missing 15 words. Will replace them with mean vector\n",
            "Missing 12 words. Will replace them with mean vector\n",
            "Missing 9 words. Will replace them with mean vector\n",
            "Missing 6 words. Will replace them with mean vector\n",
            "Missing 3 words. Will replace them with mean vector\n"
          ],
          "name": "stderr"
        },
        {
          "output_type": "stream",
          "text": [
            "Processing HasContext with 5 pairs, 20 questions\n"
          ],
          "name": "stdout"
        },
        {
          "output_type": "stream",
          "text": [
            "Missing 57 words. Will replace them with mean vector\n",
            "Missing 54 words. Will replace them with mean vector\n",
            "Missing 51 words. Will replace them with mean vector\n",
            "Missing 48 words. Will replace them with mean vector\n",
            "Missing 45 words. Will replace them with mean vector\n",
            "Missing 42 words. Will replace them with mean vector\n",
            "Missing 39 words. Will replace them with mean vector\n",
            "Missing 36 words. Will replace them with mean vector\n",
            "Missing 33 words. Will replace them with mean vector\n",
            "Missing 30 words. Will replace them with mean vector\n",
            "Missing 27 words. Will replace them with mean vector\n",
            "Missing 24 words. Will replace them with mean vector\n",
            "Missing 21 words. Will replace them with mean vector\n",
            "Missing 18 words. Will replace them with mean vector\n",
            "Missing 15 words. Will replace them with mean vector\n",
            "Missing 12 words. Will replace them with mean vector\n",
            "Missing 9 words. Will replace them with mean vector\n",
            "Missing 6 words. Will replace them with mean vector\n",
            "Missing 3 words. Will replace them with mean vector\n",
            "Missing 57 words. Will replace them with mean vector\n"
          ],
          "name": "stderr"
        },
        {
          "output_type": "stream",
          "text": [
            "Processing currency with 5 pairs, 20 questions\n"
          ],
          "name": "stdout"
        },
        {
          "output_type": "stream",
          "text": [
            "Missing 54 words. Will replace them with mean vector\n",
            "Missing 51 words. Will replace them with mean vector\n",
            "Missing 48 words. Will replace them with mean vector\n",
            "Missing 45 words. Will replace them with mean vector\n",
            "Missing 42 words. Will replace them with mean vector\n",
            "Missing 39 words. Will replace them with mean vector\n",
            "Missing 36 words. Will replace them with mean vector\n",
            "Missing 33 words. Will replace them with mean vector\n",
            "Missing 30 words. Will replace them with mean vector\n",
            "Missing 27 words. Will replace them with mean vector\n",
            "Missing 24 words. Will replace them with mean vector\n",
            "Missing 21 words. Will replace them with mean vector\n",
            "Missing 18 words. Will replace them with mean vector\n",
            "Missing 15 words. Will replace them with mean vector\n",
            "Missing 12 words. Will replace them with mean vector\n",
            "Missing 9 words. Will replace them with mean vector\n",
            "Missing 6 words. Will replace them with mean vector\n",
            "Missing 3 words. Will replace them with mean vector\n",
            "Missing 57 words. Will replace them with mean vector\n"
          ],
          "name": "stderr"
        },
        {
          "output_type": "stream",
          "text": [
            "Processing city-in-state with 5 pairs, 20 questions\n"
          ],
          "name": "stdout"
        },
        {
          "output_type": "stream",
          "text": [
            "Missing 54 words. Will replace them with mean vector\n",
            "Missing 51 words. Will replace them with mean vector\n",
            "Missing 48 words. Will replace them with mean vector\n",
            "Missing 45 words. Will replace them with mean vector\n",
            "Missing 42 words. Will replace them with mean vector\n",
            "Missing 39 words. Will replace them with mean vector\n",
            "Missing 36 words. Will replace them with mean vector\n",
            "Missing 33 words. Will replace them with mean vector\n",
            "Missing 30 words. Will replace them with mean vector\n",
            "Missing 27 words. Will replace them with mean vector\n",
            "Missing 24 words. Will replace them with mean vector\n",
            "Missing 21 words. Will replace them with mean vector\n",
            "Missing 18 words. Will replace them with mean vector\n",
            "Missing 15 words. Will replace them with mean vector\n",
            "Missing 12 words. Will replace them with mean vector\n",
            "Missing 9 words. Will replace them with mean vector\n",
            "Missing 6 words. Will replace them with mean vector\n",
            "Missing 3 words. Will replace them with mean vector\n"
          ],
          "name": "stderr"
        },
        {
          "output_type": "stream",
          "text": [
            "Processing Entails with 5 pairs, 20 questions\n"
          ],
          "name": "stdout"
        },
        {
          "output_type": "stream",
          "text": [
            "Missing 57 words. Will replace them with mean vector\n",
            "Missing 54 words. Will replace them with mean vector\n",
            "Missing 51 words. Will replace them with mean vector\n",
            "Missing 48 words. Will replace them with mean vector\n",
            "Missing 45 words. Will replace them with mean vector\n",
            "Missing 42 words. Will replace them with mean vector\n",
            "Missing 39 words. Will replace them with mean vector\n",
            "Missing 36 words. Will replace them with mean vector\n",
            "Missing 33 words. Will replace them with mean vector\n",
            "Missing 30 words. Will replace them with mean vector\n",
            "Missing 27 words. Will replace them with mean vector\n",
            "Missing 24 words. Will replace them with mean vector\n",
            "Missing 21 words. Will replace them with mean vector\n",
            "Missing 18 words. Will replace them with mean vector\n",
            "Missing 15 words. Will replace them with mean vector\n",
            "Missing 12 words. Will replace them with mean vector\n",
            "Missing 9 words. Will replace them with mean vector\n",
            "Missing 6 words. Will replace them with mean vector\n",
            "Missing 3 words. Will replace them with mean vector\n"
          ],
          "name": "stderr"
        },
        {
          "output_type": "stream",
          "text": [
            "Processing Antonym with 5 pairs, 20 questions\n"
          ],
          "name": "stdout"
        },
        {
          "output_type": "stream",
          "text": [
            "Missing 57 words. Will replace them with mean vector\n",
            "Missing 54 words. Will replace them with mean vector\n",
            "Missing 51 words. Will replace them with mean vector\n",
            "Missing 48 words. Will replace them with mean vector\n",
            "Missing 46 words. Will replace them with mean vector\n",
            "Missing 44 words. Will replace them with mean vector\n",
            "Missing 42 words. Will replace them with mean vector\n",
            "Missing 40 words. Will replace them with mean vector\n",
            "Missing 37 words. Will replace them with mean vector\n",
            "Missing 34 words. Will replace them with mean vector\n",
            "Missing 31 words. Will replace them with mean vector\n",
            "Missing 28 words. Will replace them with mean vector\n",
            "Missing 25 words. Will replace them with mean vector\n",
            "Missing 22 words. Will replace them with mean vector\n",
            "Missing 19 words. Will replace them with mean vector\n",
            "Missing 16 words. Will replace them with mean vector\n",
            "Missing 13 words. Will replace them with mean vector\n",
            "Missing 10 words. Will replace them with mean vector\n",
            "Missing 7 words. Will replace them with mean vector\n",
            "Missing 4 words. Will replace them with mean vector\n"
          ],
          "name": "stderr"
        },
        {
          "output_type": "stream",
          "text": [
            "Processing past-tense with 5 pairs, 20 questions\n"
          ],
          "name": "stdout"
        },
        {
          "output_type": "stream",
          "text": [
            "Missing 57 words. Will replace them with mean vector\n",
            "Missing 54 words. Will replace them with mean vector\n",
            "Missing 51 words. Will replace them with mean vector\n",
            "Missing 48 words. Will replace them with mean vector\n",
            "Missing 45 words. Will replace them with mean vector\n",
            "Missing 42 words. Will replace them with mean vector\n",
            "Missing 39 words. Will replace them with mean vector\n",
            "Missing 36 words. Will replace them with mean vector\n",
            "Missing 33 words. Will replace them with mean vector\n",
            "Missing 30 words. Will replace them with mean vector\n",
            "Missing 27 words. Will replace them with mean vector\n",
            "Missing 24 words. Will replace them with mean vector\n",
            "Missing 21 words. Will replace them with mean vector\n",
            "Missing 18 words. Will replace them with mean vector\n",
            "Missing 15 words. Will replace them with mean vector\n",
            "Missing 12 words. Will replace them with mean vector\n",
            "Missing 9 words. Will replace them with mean vector\n",
            "Missing 6 words. Will replace them with mean vector\n",
            "Missing 3 words. Will replace them with mean vector\n"
          ],
          "name": "stderr"
        },
        {
          "output_type": "stream",
          "text": [
            "Processing comparative with 5 pairs, 20 questions\n"
          ],
          "name": "stdout"
        },
        {
          "output_type": "stream",
          "text": [
            "Missing 57 words. Will replace them with mean vector\n",
            "Missing 54 words. Will replace them with mean vector\n",
            "Missing 51 words. Will replace them with mean vector\n",
            "Missing 48 words. Will replace them with mean vector\n",
            "Missing 45 words. Will replace them with mean vector\n",
            "Missing 42 words. Will replace them with mean vector\n",
            "Missing 39 words. Will replace them with mean vector\n",
            "Missing 36 words. Will replace them with mean vector\n",
            "Missing 33 words. Will replace them with mean vector\n",
            "Missing 30 words. Will replace them with mean vector\n",
            "Missing 27 words. Will replace them with mean vector\n",
            "Missing 24 words. Will replace them with mean vector\n",
            "Missing 21 words. Will replace them with mean vector\n",
            "Missing 18 words. Will replace them with mean vector\n",
            "Missing 15 words. Will replace them with mean vector\n",
            "Missing 12 words. Will replace them with mean vector\n",
            "Missing 9 words. Will replace them with mean vector\n",
            "Missing 6 words. Will replace them with mean vector\n",
            "Missing 3 words. Will replace them with mean vector\n",
            "Missing 57 words. Will replace them with mean vector\n"
          ],
          "name": "stderr"
        },
        {
          "output_type": "stream",
          "text": [
            "Processing adjective-to-adverb with 5 pairs, 20 questions\n"
          ],
          "name": "stdout"
        },
        {
          "output_type": "stream",
          "text": [
            "Missing 54 words. Will replace them with mean vector\n",
            "Missing 51 words. Will replace them with mean vector\n",
            "Missing 48 words. Will replace them with mean vector\n",
            "Missing 45 words. Will replace them with mean vector\n",
            "Missing 42 words. Will replace them with mean vector\n",
            "Missing 39 words. Will replace them with mean vector\n",
            "Missing 36 words. Will replace them with mean vector\n",
            "Missing 33 words. Will replace them with mean vector\n",
            "Missing 30 words. Will replace them with mean vector\n",
            "Missing 27 words. Will replace them with mean vector\n",
            "Missing 24 words. Will replace them with mean vector\n",
            "Missing 21 words. Will replace them with mean vector\n",
            "Missing 18 words. Will replace them with mean vector\n",
            "Missing 15 words. Will replace them with mean vector\n",
            "Missing 12 words. Will replace them with mean vector\n",
            "Missing 9 words. Will replace them with mean vector\n",
            "Missing 6 words. Will replace them with mean vector\n",
            "Missing 3 words. Will replace them with mean vector\n"
          ],
          "name": "stderr"
        },
        {
          "output_type": "stream",
          "text": [
            "Processing all-capital-cities with 5 pairs, 20 questions\n"
          ],
          "name": "stdout"
        },
        {
          "output_type": "stream",
          "text": [
            "Missing 57 words. Will replace them with mean vector\n",
            "Missing 54 words. Will replace them with mean vector\n",
            "Missing 51 words. Will replace them with mean vector\n",
            "Missing 48 words. Will replace them with mean vector\n",
            "Missing 45 words. Will replace them with mean vector\n",
            "Missing 42 words. Will replace them with mean vector\n",
            "Missing 39 words. Will replace them with mean vector\n",
            "Missing 36 words. Will replace them with mean vector\n",
            "Missing 33 words. Will replace them with mean vector\n",
            "Missing 30 words. Will replace them with mean vector\n",
            "Missing 27 words. Will replace them with mean vector\n",
            "Missing 24 words. Will replace them with mean vector\n",
            "Missing 21 words. Will replace them with mean vector\n",
            "Missing 18 words. Will replace them with mean vector\n",
            "Missing 15 words. Will replace them with mean vector\n",
            "Missing 12 words. Will replace them with mean vector\n",
            "Missing 9 words. Will replace them with mean vector\n",
            "Missing 6 words. Will replace them with mean vector\n",
            "Missing 3 words. Will replace them with mean vector\n"
          ],
          "name": "stderr"
        },
        {
          "output_type": "stream",
          "text": [
            "Processing SimilarTo with 5 pairs, 20 questions\n"
          ],
          "name": "stdout"
        },
        {
          "output_type": "stream",
          "text": [
            "Missing 57 words. Will replace them with mean vector\n",
            "Missing 54 words. Will replace them with mean vector\n",
            "Missing 51 words. Will replace them with mean vector\n",
            "Missing 48 words. Will replace them with mean vector\n",
            "Missing 45 words. Will replace them with mean vector\n",
            "Missing 42 words. Will replace them with mean vector\n",
            "Missing 39 words. Will replace them with mean vector\n",
            "Missing 36 words. Will replace them with mean vector\n",
            "Missing 33 words. Will replace them with mean vector\n",
            "Missing 30 words. Will replace them with mean vector\n",
            "Missing 27 words. Will replace them with mean vector\n",
            "Missing 24 words. Will replace them with mean vector\n",
            "Missing 21 words. Will replace them with mean vector\n",
            "Missing 18 words. Will replace them with mean vector\n",
            "Missing 15 words. Will replace them with mean vector\n",
            "Missing 12 words. Will replace them with mean vector\n",
            "Missing 9 words. Will replace them with mean vector\n",
            "Missing 6 words. Will replace them with mean vector\n",
            "Missing 3 words. Will replace them with mean vector\n"
          ],
          "name": "stderr"
        },
        {
          "output_type": "stream",
          "text": [
            "Processing DerivedFrom with 5 pairs, 20 questions\n"
          ],
          "name": "stdout"
        },
        {
          "output_type": "stream",
          "text": [
            "Missing 57 words. Will replace them with mean vector\n",
            "Missing 54 words. Will replace them with mean vector\n",
            "Missing 51 words. Will replace them with mean vector\n",
            "Missing 48 words. Will replace them with mean vector\n",
            "Missing 45 words. Will replace them with mean vector\n",
            "Missing 42 words. Will replace them with mean vector\n",
            "Missing 39 words. Will replace them with mean vector\n",
            "Missing 36 words. Will replace them with mean vector\n",
            "Missing 33 words. Will replace them with mean vector\n",
            "Missing 30 words. Will replace them with mean vector\n",
            "Missing 27 words. Will replace them with mean vector\n",
            "Missing 24 words. Will replace them with mean vector\n",
            "Missing 21 words. Will replace them with mean vector\n",
            "Missing 18 words. Will replace them with mean vector\n",
            "Missing 15 words. Will replace them with mean vector\n",
            "Missing 12 words. Will replace them with mean vector\n",
            "Missing 9 words. Will replace them with mean vector\n",
            "Missing 6 words. Will replace them with mean vector\n",
            "Missing 3 words. Will replace them with mean vector\n"
          ],
          "name": "stderr"
        },
        {
          "output_type": "stream",
          "text": [
            "                       accuracy  correct  count\n",
            "Attribute              0.000000      0.0     20\n",
            "present-participle     0.300000      6.0     20\n",
            "plural-verbs           0.850000     17.0     20\n",
            "Causes                 0.000000      0.0     20\n",
            "InstanceOf             0.000000      0.0     20\n",
            "man-woman              0.450000      9.0     20\n",
            "PartOf                 0.200000      4.0     20\n",
            "nationality-adjective  0.850000     17.0     20\n",
            "superlative            0.250000      5.0     20\n",
            "MadeOf                 0.000000      0.0     20\n",
            "RelatedTo              0.000000      0.0     20\n",
            "MemberOf               0.050000      1.0     20\n",
            "plural-nouns           1.000000     20.0     20\n",
            "IsA                    0.000000      0.0     20\n",
            "HasContext             0.000000      0.0     20\n",
            "currency               0.200000      4.0     20\n",
            "city-in-state          0.000000      0.0     20\n",
            "Entails                0.000000      0.0     20\n",
            "Antonym                0.050000      1.0     20\n",
            "past-tense             0.550000     11.0     20\n",
            "comparative            0.550000     11.0     20\n",
            "adjective-to-adverb    0.350000      7.0     20\n",
            "all-capital-cities     0.700000     14.0     20\n",
            "SimilarTo              0.000000      0.0     20\n",
            "DerivedFrom            0.000000      0.0     20\n",
            "wikipedia              0.023077      6.0    260\n",
            "all                    0.254000    127.0    500\n",
            "wordnet                0.504167    121.0    240\n"
          ],
          "name": "stdout"
        }
      ]
    },
    {
      "cell_type": "code",
      "metadata": {
        "id": "lJgJOR0zPGGz",
        "colab_type": "code",
        "outputId": "45ffae87-73d0-4776-bc52-a6d062d9d97d",
        "colab": {
          "base_uri": "https://localhost:8080/",
          "height": 654
        }
      },
      "source": [
        "results = evaluateOnAll(w)\n",
        "print(results)"
      ],
      "execution_count": 0,
      "outputs": [
        {
          "output_type": "stream",
          "text": [
            "Missing 1 words. Will replace them with mean vector\n",
            "/content/drive/My Drive/Term5/NLP/Dataset/web/evaluate.py:336: FutureWarning: arrays to stack must be passed as a \"sequence\" type such as list or tuple. Support for non-sequence iterables such as generators is deprecated as of NumPy 1.16 and will raise an error in the future.\n",
            "  A = np.vstack(w.get(word, mean_vector) for word in X[:, 0])\n",
            "/content/drive/My Drive/Term5/NLP/Dataset/web/evaluate.py:337: FutureWarning: arrays to stack must be passed as a \"sequence\" type such as list or tuple. Support for non-sequence iterables such as generators is deprecated as of NumPy 1.16 and will raise an error in the future.\n",
            "  B = np.vstack(w.get(word, mean_vector) for word in X[:, 1])\n",
            "Missing 24 words. Will replace them with mean vector\n"
          ],
          "name": "stderr"
        },
        {
          "output_type": "stream",
          "text": [
            "Spearman correlation of scores on MTurk 0.6576701299876498\n",
            "Spearman correlation of scores on MEN 0.7603351608999048\n"
          ],
          "name": "stdout"
        },
        {
          "output_type": "stream",
          "text": [
            "Missing 180 words. Will replace them with mean vector\n"
          ],
          "name": "stderr"
        },
        {
          "output_type": "stream",
          "text": [
            "Spearman correlation of scores on WS353 0.7168732040109569\n",
            "Spearman correlation of scores on RubensteinAndGoodenough 0.8058047705371465\n"
          ],
          "name": "stdout"
        },
        {
          "output_type": "stream",
          "text": [
            "Missing 12091 words. Will replace them with mean vector\n"
          ],
          "name": "stderr"
        },
        {
          "output_type": "stream",
          "text": [
            "Spearman correlation of scores on Rare Words 0.463446734611335\n",
            "Spearman correlation of scores on SIMLEX999 0.4068323713010924\n",
            "Spearman correlation of scores on TR9856 0.20709241131932626\n",
            "Calculating analogy benchmarks\n"
          ],
          "name": "stdout"
        },
        {
          "output_type": "stream",
          "text": [
            "/content/drive/My Drive/Term5/NLP/Dataset/web/analogy.py:105: FutureWarning: arrays to stack must be passed as a \"sequence\" type such as list or tuple. Support for non-sequence iterables such as generators is deprecated as of NumPy 1.16 and will raise an error in the future.\n",
            "  A, B, C = np.vstack(w.get(word, mean_vector) for word in X_b[:, 0]), \\\n",
            "/content/drive/My Drive/Term5/NLP/Dataset/web/analogy.py:106: FutureWarning: arrays to stack must be passed as a \"sequence\" type such as list or tuple. Support for non-sequence iterables such as generators is deprecated as of NumPy 1.16 and will raise an error in the future.\n",
            "  np.vstack(w.get(word, mean_vector) for word in X_b[:, 1]), \\\n",
            "/content/drive/My Drive/Term5/NLP/Dataset/web/analogy.py:107: FutureWarning: arrays to stack must be passed as a \"sequence\" type such as list or tuple. Support for non-sequence iterables such as generators is deprecated as of NumPy 1.16 and will raise an error in the future.\n",
            "  np.vstack(w.get(word, mean_vector) for word in X_b[:, 2])\n",
            "Missing 241 words. Will replace them with mean vector\n"
          ],
          "name": "stderr"
        },
        {
          "output_type": "stream",
          "text": [
            "Analogy prediction accuracy on Google 0.7312730249693\n",
            "Analogy prediction accuracy on MSR 0.564375\n",
            "Analogy prediction accuracy on SemEval2012 0.1845113454044886\n",
            "     MTurk       MEN     WS353  ...    Google       MSR  SemEval2012_2\n",
            "0  0.65767  0.760335  0.716873  ...  0.731273  0.564375       0.184511\n",
            "\n",
            "[1 rows x 10 columns]\n"
          ],
          "name": "stdout"
        },
        {
          "output_type": "stream",
          "text": [
            "/usr/local/lib/python3.6/dist-packages/ipykernel_launcher.py:9: FutureWarning: arrays to stack must be passed as a \"sequence\" type such as list or tuple. Support for non-sequence iterables such as generators is deprecated as of NumPy 1.16 and will raise an error in the future.\n",
            "  if __name__ == '__main__':\n",
            "/usr/local/lib/python3.6/dist-packages/ipykernel_launcher.py:10: FutureWarning: arrays to stack must be passed as a \"sequence\" type such as list or tuple. Support for non-sequence iterables such as generators is deprecated as of NumPy 1.16 and will raise an error in the future.\n",
            "  # Remove the CWD from sys.path while we load stuff.\n",
            "/usr/local/lib/python3.6/dist-packages/ipykernel_launcher.py:12: FutureWarning: arrays to stack must be passed as a \"sequence\" type such as list or tuple. Support for non-sequence iterables such as generators is deprecated as of NumPy 1.16 and will raise an error in the future.\n",
            "  if sys.path[0] == '':\n"
          ],
          "name": "stderr"
        }
      ]
    },
    {
      "cell_type": "markdown",
      "metadata": {
        "id": "cS_WIj1FZC4m",
        "colab_type": "text"
      },
      "source": [
        "##### WE:12"
      ]
    },
    {
      "cell_type": "code",
      "metadata": {
        "id": "5nXg9HL8ZEy3",
        "colab_type": "code",
        "outputId": "98dd5cb4-4c5c-40b4-8b0a-07fb3448320d",
        "colab": {
          "base_uri": "https://localhost:8080/",
          "height": 1000
        }
      },
      "source": [
        "w = w_fasttext\n",
        "results_wordrep = calAnswersOnWordRep(data_wordrep, w, max_pairs=5)\n",
        "print(results_wordrep)"
      ],
      "execution_count": 0,
      "outputs": [
        {
          "output_type": "stream",
          "text": [
            "Processing Attribute with 5 pairs, 20 questions\n"
          ],
          "name": "stdout"
        },
        {
          "output_type": "stream",
          "text": [
            "Missing 57 words. Will replace them with mean vector\n",
            "/content/drive/My Drive/Term5/NLP/Dataset/web/analogy.py:101: RuntimeWarning: invalid value encountered in double_scalars\n",
            "  if id_batch % np.floor(len(X) / (10. * self.batch_size)) == 0:\n",
            "/content/drive/My Drive/Term5/NLP/Dataset/web/analogy.py:105: FutureWarning: arrays to stack must be passed as a \"sequence\" type such as list or tuple. Support for non-sequence iterables such as generators is deprecated as of NumPy 1.16 and will raise an error in the future.\n",
            "  A, B, C = np.vstack(w.get(word, mean_vector) for word in X_b[:, 0]), \\\n",
            "/content/drive/My Drive/Term5/NLP/Dataset/web/analogy.py:106: FutureWarning: arrays to stack must be passed as a \"sequence\" type such as list or tuple. Support for non-sequence iterables such as generators is deprecated as of NumPy 1.16 and will raise an error in the future.\n",
            "  np.vstack(w.get(word, mean_vector) for word in X_b[:, 1]), \\\n",
            "/content/drive/My Drive/Term5/NLP/Dataset/web/analogy.py:107: FutureWarning: arrays to stack must be passed as a \"sequence\" type such as list or tuple. Support for non-sequence iterables such as generators is deprecated as of NumPy 1.16 and will raise an error in the future.\n",
            "  np.vstack(w.get(word, mean_vector) for word in X_b[:, 2])\n",
            "Missing 54 words. Will replace them with mean vector\n",
            "Missing 51 words. Will replace them with mean vector\n",
            "Missing 48 words. Will replace them with mean vector\n",
            "Missing 45 words. Will replace them with mean vector\n",
            "Missing 42 words. Will replace them with mean vector\n",
            "Missing 39 words. Will replace them with mean vector\n",
            "Missing 36 words. Will replace them with mean vector\n",
            "Missing 33 words. Will replace them with mean vector\n",
            "Missing 30 words. Will replace them with mean vector\n",
            "Missing 27 words. Will replace them with mean vector\n",
            "Missing 24 words. Will replace them with mean vector\n",
            "Missing 21 words. Will replace them with mean vector\n",
            "Missing 18 words. Will replace them with mean vector\n",
            "Missing 15 words. Will replace them with mean vector\n",
            "Missing 12 words. Will replace them with mean vector\n",
            "Missing 9 words. Will replace them with mean vector\n",
            "Missing 6 words. Will replace them with mean vector\n",
            "Missing 3 words. Will replace them with mean vector\n"
          ],
          "name": "stderr"
        },
        {
          "output_type": "stream",
          "text": [
            "Processing present-participle with 5 pairs, 20 questions\n"
          ],
          "name": "stdout"
        },
        {
          "output_type": "stream",
          "text": [
            "Missing 57 words. Will replace them with mean vector\n",
            "Missing 54 words. Will replace them with mean vector\n",
            "Missing 51 words. Will replace them with mean vector\n",
            "Missing 48 words. Will replace them with mean vector\n",
            "Missing 45 words. Will replace them with mean vector\n",
            "Missing 42 words. Will replace them with mean vector\n",
            "Missing 39 words. Will replace them with mean vector\n",
            "Missing 36 words. Will replace them with mean vector\n",
            "Missing 33 words. Will replace them with mean vector\n",
            "Missing 30 words. Will replace them with mean vector\n",
            "Missing 27 words. Will replace them with mean vector\n",
            "Missing 24 words. Will replace them with mean vector\n",
            "Missing 21 words. Will replace them with mean vector\n",
            "Missing 18 words. Will replace them with mean vector\n",
            "Missing 15 words. Will replace them with mean vector\n",
            "Missing 12 words. Will replace them with mean vector\n",
            "Missing 9 words. Will replace them with mean vector\n",
            "Missing 6 words. Will replace them with mean vector\n",
            "Missing 3 words. Will replace them with mean vector\n"
          ],
          "name": "stderr"
        },
        {
          "output_type": "stream",
          "text": [
            "Processing plural-verbs with 5 pairs, 20 questions\n"
          ],
          "name": "stdout"
        },
        {
          "output_type": "stream",
          "text": [
            "Missing 57 words. Will replace them with mean vector\n",
            "Missing 54 words. Will replace them with mean vector\n",
            "Missing 51 words. Will replace them with mean vector\n",
            "Missing 48 words. Will replace them with mean vector\n",
            "Missing 45 words. Will replace them with mean vector\n",
            "Missing 42 words. Will replace them with mean vector\n",
            "Missing 39 words. Will replace them with mean vector\n",
            "Missing 36 words. Will replace them with mean vector\n",
            "Missing 33 words. Will replace them with mean vector\n",
            "Missing 30 words. Will replace them with mean vector\n",
            "Missing 27 words. Will replace them with mean vector\n",
            "Missing 24 words. Will replace them with mean vector\n",
            "Missing 21 words. Will replace them with mean vector\n",
            "Missing 18 words. Will replace them with mean vector\n",
            "Missing 15 words. Will replace them with mean vector\n",
            "Missing 12 words. Will replace them with mean vector\n",
            "Missing 9 words. Will replace them with mean vector\n",
            "Missing 6 words. Will replace them with mean vector\n",
            "Missing 3 words. Will replace them with mean vector\n"
          ],
          "name": "stderr"
        },
        {
          "output_type": "stream",
          "text": [
            "Processing Causes with 5 pairs, 20 questions\n"
          ],
          "name": "stdout"
        },
        {
          "output_type": "stream",
          "text": [
            "Missing 57 words. Will replace them with mean vector\n",
            "Missing 54 words. Will replace them with mean vector\n",
            "Missing 51 words. Will replace them with mean vector\n",
            "Missing 48 words. Will replace them with mean vector\n",
            "Missing 45 words. Will replace them with mean vector\n",
            "Missing 42 words. Will replace them with mean vector\n",
            "Missing 39 words. Will replace them with mean vector\n",
            "Missing 36 words. Will replace them with mean vector\n",
            "Missing 33 words. Will replace them with mean vector\n",
            "Missing 30 words. Will replace them with mean vector\n",
            "Missing 27 words. Will replace them with mean vector\n",
            "Missing 24 words. Will replace them with mean vector\n",
            "Missing 21 words. Will replace them with mean vector\n",
            "Missing 18 words. Will replace them with mean vector\n",
            "Missing 15 words. Will replace them with mean vector\n",
            "Missing 12 words. Will replace them with mean vector\n",
            "Missing 9 words. Will replace them with mean vector\n",
            "Missing 6 words. Will replace them with mean vector\n",
            "Missing 3 words. Will replace them with mean vector\n"
          ],
          "name": "stderr"
        },
        {
          "output_type": "stream",
          "text": [
            "Processing InstanceOf with 5 pairs, 20 questions\n"
          ],
          "name": "stdout"
        },
        {
          "output_type": "stream",
          "text": [
            "Missing 59 words. Will replace them with mean vector\n",
            "Missing 57 words. Will replace them with mean vector\n",
            "Missing 55 words. Will replace them with mean vector\n",
            "Missing 53 words. Will replace them with mean vector\n",
            "Missing 52 words. Will replace them with mean vector\n",
            "Missing 50 words. Will replace them with mean vector\n",
            "Missing 48 words. Will replace them with mean vector\n",
            "Missing 46 words. Will replace them with mean vector\n",
            "Missing 44 words. Will replace them with mean vector\n",
            "Missing 42 words. Will replace them with mean vector\n",
            "Missing 39 words. Will replace them with mean vector\n",
            "Missing 36 words. Will replace them with mean vector\n",
            "Missing 34 words. Will replace them with mean vector\n",
            "Missing 32 words. Will replace them with mean vector\n",
            "Missing 29 words. Will replace them with mean vector\n",
            "Missing 26 words. Will replace them with mean vector\n",
            "Missing 24 words. Will replace them with mean vector\n",
            "Missing 22 words. Will replace them with mean vector\n",
            "Missing 19 words. Will replace them with mean vector\n",
            "Missing 16 words. Will replace them with mean vector\n"
          ],
          "name": "stderr"
        },
        {
          "output_type": "stream",
          "text": [
            "Processing man-woman with 5 pairs, 20 questions\n"
          ],
          "name": "stdout"
        },
        {
          "output_type": "stream",
          "text": [
            "Missing 57 words. Will replace them with mean vector\n",
            "Missing 54 words. Will replace them with mean vector\n",
            "Missing 51 words. Will replace them with mean vector\n",
            "Missing 48 words. Will replace them with mean vector\n",
            "Missing 45 words. Will replace them with mean vector\n",
            "Missing 42 words. Will replace them with mean vector\n",
            "Missing 39 words. Will replace them with mean vector\n",
            "Missing 36 words. Will replace them with mean vector\n",
            "Missing 33 words. Will replace them with mean vector\n",
            "Missing 30 words. Will replace them with mean vector\n",
            "Missing 27 words. Will replace them with mean vector\n",
            "Missing 24 words. Will replace them with mean vector\n",
            "Missing 21 words. Will replace them with mean vector\n",
            "Missing 18 words. Will replace them with mean vector\n",
            "Missing 15 words. Will replace them with mean vector\n",
            "Missing 12 words. Will replace them with mean vector\n",
            "Missing 9 words. Will replace them with mean vector\n",
            "Missing 6 words. Will replace them with mean vector\n",
            "Missing 3 words. Will replace them with mean vector\n"
          ],
          "name": "stderr"
        },
        {
          "output_type": "stream",
          "text": [
            "Processing PartOf with 5 pairs, 20 questions\n"
          ],
          "name": "stdout"
        },
        {
          "output_type": "stream",
          "text": [
            "Missing 57 words. Will replace them with mean vector\n",
            "Missing 54 words. Will replace them with mean vector\n",
            "Missing 51 words. Will replace them with mean vector\n",
            "Missing 48 words. Will replace them with mean vector\n",
            "Missing 45 words. Will replace them with mean vector\n",
            "Missing 42 words. Will replace them with mean vector\n",
            "Missing 39 words. Will replace them with mean vector\n",
            "Missing 36 words. Will replace them with mean vector\n",
            "Missing 33 words. Will replace them with mean vector\n",
            "Missing 30 words. Will replace them with mean vector\n",
            "Missing 27 words. Will replace them with mean vector\n",
            "Missing 24 words. Will replace them with mean vector\n",
            "Missing 21 words. Will replace them with mean vector\n",
            "Missing 18 words. Will replace them with mean vector\n",
            "Missing 15 words. Will replace them with mean vector\n",
            "Missing 12 words. Will replace them with mean vector\n",
            "Missing 9 words. Will replace them with mean vector\n",
            "Missing 6 words. Will replace them with mean vector\n",
            "Missing 3 words. Will replace them with mean vector\n"
          ],
          "name": "stderr"
        },
        {
          "output_type": "stream",
          "text": [
            "Processing nationality-adjective with 5 pairs, 20 questions\n"
          ],
          "name": "stdout"
        },
        {
          "output_type": "stream",
          "text": [
            "Missing 57 words. Will replace them with mean vector\n",
            "Missing 54 words. Will replace them with mean vector\n",
            "Missing 51 words. Will replace them with mean vector\n",
            "Missing 48 words. Will replace them with mean vector\n",
            "Missing 45 words. Will replace them with mean vector\n",
            "Missing 42 words. Will replace them with mean vector\n",
            "Missing 39 words. Will replace them with mean vector\n",
            "Missing 36 words. Will replace them with mean vector\n",
            "Missing 33 words. Will replace them with mean vector\n",
            "Missing 30 words. Will replace them with mean vector\n",
            "Missing 27 words. Will replace them with mean vector\n",
            "Missing 24 words. Will replace them with mean vector\n",
            "Missing 21 words. Will replace them with mean vector\n",
            "Missing 18 words. Will replace them with mean vector\n",
            "Missing 15 words. Will replace them with mean vector\n",
            "Missing 12 words. Will replace them with mean vector\n",
            "Missing 10 words. Will replace them with mean vector\n",
            "Missing 8 words. Will replace them with mean vector\n",
            "Missing 6 words. Will replace them with mean vector\n",
            "Missing 4 words. Will replace them with mean vector\n"
          ],
          "name": "stderr"
        },
        {
          "output_type": "stream",
          "text": [
            "Processing superlative with 5 pairs, 20 questions\n"
          ],
          "name": "stdout"
        },
        {
          "output_type": "stream",
          "text": [
            "Missing 57 words. Will replace them with mean vector\n",
            "Missing 54 words. Will replace them with mean vector\n",
            "Missing 51 words. Will replace them with mean vector\n",
            "Missing 48 words. Will replace them with mean vector\n",
            "Missing 45 words. Will replace them with mean vector\n",
            "Missing 42 words. Will replace them with mean vector\n",
            "Missing 39 words. Will replace them with mean vector\n",
            "Missing 36 words. Will replace them with mean vector\n",
            "Missing 33 words. Will replace them with mean vector\n",
            "Missing 30 words. Will replace them with mean vector\n",
            "Missing 27 words. Will replace them with mean vector\n",
            "Missing 24 words. Will replace them with mean vector\n",
            "Missing 21 words. Will replace them with mean vector\n",
            "Missing 18 words. Will replace them with mean vector\n",
            "Missing 15 words. Will replace them with mean vector\n",
            "Missing 12 words. Will replace them with mean vector\n",
            "Missing 9 words. Will replace them with mean vector\n",
            "Missing 6 words. Will replace them with mean vector\n",
            "Missing 3 words. Will replace them with mean vector\n"
          ],
          "name": "stderr"
        },
        {
          "output_type": "stream",
          "text": [
            "Processing MadeOf with 5 pairs, 20 questions\n"
          ],
          "name": "stdout"
        },
        {
          "output_type": "stream",
          "text": [
            "Missing 57 words. Will replace them with mean vector\n",
            "Missing 54 words. Will replace them with mean vector\n",
            "Missing 51 words. Will replace them with mean vector\n",
            "Missing 48 words. Will replace them with mean vector\n",
            "Missing 45 words. Will replace them with mean vector\n",
            "Missing 42 words. Will replace them with mean vector\n",
            "Missing 39 words. Will replace them with mean vector\n",
            "Missing 36 words. Will replace them with mean vector\n",
            "Missing 33 words. Will replace them with mean vector\n",
            "Missing 30 words. Will replace them with mean vector\n",
            "Missing 27 words. Will replace them with mean vector\n",
            "Missing 24 words. Will replace them with mean vector\n",
            "Missing 21 words. Will replace them with mean vector\n",
            "Missing 18 words. Will replace them with mean vector\n",
            "Missing 15 words. Will replace them with mean vector\n",
            "Missing 12 words. Will replace them with mean vector\n",
            "Missing 9 words. Will replace them with mean vector\n",
            "Missing 6 words. Will replace them with mean vector\n",
            "Missing 3 words. Will replace them with mean vector\n"
          ],
          "name": "stderr"
        },
        {
          "output_type": "stream",
          "text": [
            "Processing RelatedTo with 5 pairs, 20 questions\n"
          ],
          "name": "stdout"
        },
        {
          "output_type": "stream",
          "text": [
            "Missing 57 words. Will replace them with mean vector\n",
            "Missing 54 words. Will replace them with mean vector\n",
            "Missing 51 words. Will replace them with mean vector\n",
            "Missing 48 words. Will replace them with mean vector\n",
            "Missing 45 words. Will replace them with mean vector\n",
            "Missing 42 words. Will replace them with mean vector\n",
            "Missing 39 words. Will replace them with mean vector\n",
            "Missing 36 words. Will replace them with mean vector\n",
            "Missing 33 words. Will replace them with mean vector\n",
            "Missing 30 words. Will replace them with mean vector\n",
            "Missing 27 words. Will replace them with mean vector\n",
            "Missing 24 words. Will replace them with mean vector\n",
            "Missing 21 words. Will replace them with mean vector\n",
            "Missing 18 words. Will replace them with mean vector\n",
            "Missing 15 words. Will replace them with mean vector\n",
            "Missing 12 words. Will replace them with mean vector\n",
            "Missing 9 words. Will replace them with mean vector\n",
            "Missing 6 words. Will replace them with mean vector\n",
            "Missing 3 words. Will replace them with mean vector\n"
          ],
          "name": "stderr"
        },
        {
          "output_type": "stream",
          "text": [
            "Processing MemberOf with 5 pairs, 20 questions\n"
          ],
          "name": "stdout"
        },
        {
          "output_type": "stream",
          "text": [
            "Missing 57 words. Will replace them with mean vector\n",
            "Missing 54 words. Will replace them with mean vector\n",
            "Missing 51 words. Will replace them with mean vector\n",
            "Missing 48 words. Will replace them with mean vector\n",
            "Missing 46 words. Will replace them with mean vector\n",
            "Missing 44 words. Will replace them with mean vector\n",
            "Missing 42 words. Will replace them with mean vector\n",
            "Missing 40 words. Will replace them with mean vector\n",
            "Missing 38 words. Will replace them with mean vector\n",
            "Missing 36 words. Will replace them with mean vector\n",
            "Missing 34 words. Will replace them with mean vector\n",
            "Missing 32 words. Will replace them with mean vector\n",
            "Missing 29 words. Will replace them with mean vector\n",
            "Missing 26 words. Will replace them with mean vector\n",
            "Missing 23 words. Will replace them with mean vector\n",
            "Missing 20 words. Will replace them with mean vector\n",
            "Missing 18 words. Will replace them with mean vector\n",
            "Missing 16 words. Will replace them with mean vector\n",
            "Missing 14 words. Will replace them with mean vector\n",
            "Missing 12 words. Will replace them with mean vector\n"
          ],
          "name": "stderr"
        },
        {
          "output_type": "stream",
          "text": [
            "Processing plural-nouns with 5 pairs, 20 questions\n"
          ],
          "name": "stdout"
        },
        {
          "output_type": "stream",
          "text": [
            "Missing 57 words. Will replace them with mean vector\n",
            "Missing 54 words. Will replace them with mean vector\n",
            "Missing 51 words. Will replace them with mean vector\n",
            "Missing 48 words. Will replace them with mean vector\n",
            "Missing 45 words. Will replace them with mean vector\n",
            "Missing 42 words. Will replace them with mean vector\n",
            "Missing 39 words. Will replace them with mean vector\n",
            "Missing 36 words. Will replace them with mean vector\n",
            "Missing 33 words. Will replace them with mean vector\n",
            "Missing 30 words. Will replace them with mean vector\n",
            "Missing 27 words. Will replace them with mean vector\n",
            "Missing 24 words. Will replace them with mean vector\n",
            "Missing 21 words. Will replace them with mean vector\n",
            "Missing 18 words. Will replace them with mean vector\n",
            "Missing 15 words. Will replace them with mean vector\n",
            "Missing 12 words. Will replace them with mean vector\n",
            "Missing 9 words. Will replace them with mean vector\n",
            "Missing 6 words. Will replace them with mean vector\n",
            "Missing 3 words. Will replace them with mean vector\n"
          ],
          "name": "stderr"
        },
        {
          "output_type": "stream",
          "text": [
            "Processing IsA with 5 pairs, 20 questions\n"
          ],
          "name": "stdout"
        },
        {
          "output_type": "stream",
          "text": [
            "Missing 57 words. Will replace them with mean vector\n",
            "Missing 54 words. Will replace them with mean vector\n",
            "Missing 51 words. Will replace them with mean vector\n",
            "Missing 48 words. Will replace them with mean vector\n",
            "Missing 45 words. Will replace them with mean vector\n",
            "Missing 42 words. Will replace them with mean vector\n",
            "Missing 39 words. Will replace them with mean vector\n",
            "Missing 36 words. Will replace them with mean vector\n",
            "Missing 33 words. Will replace them with mean vector\n",
            "Missing 30 words. Will replace them with mean vector\n",
            "Missing 27 words. Will replace them with mean vector\n",
            "Missing 24 words. Will replace them with mean vector\n",
            "Missing 21 words. Will replace them with mean vector\n",
            "Missing 18 words. Will replace them with mean vector\n",
            "Missing 15 words. Will replace them with mean vector\n",
            "Missing 12 words. Will replace them with mean vector\n",
            "Missing 9 words. Will replace them with mean vector\n",
            "Missing 6 words. Will replace them with mean vector\n",
            "Missing 3 words. Will replace them with mean vector\n"
          ],
          "name": "stderr"
        },
        {
          "output_type": "stream",
          "text": [
            "Processing HasContext with 5 pairs, 20 questions\n"
          ],
          "name": "stdout"
        },
        {
          "output_type": "stream",
          "text": [
            "Missing 57 words. Will replace them with mean vector\n",
            "Missing 54 words. Will replace them with mean vector\n",
            "Missing 51 words. Will replace them with mean vector\n",
            "Missing 48 words. Will replace them with mean vector\n",
            "Missing 45 words. Will replace them with mean vector\n",
            "Missing 42 words. Will replace them with mean vector\n",
            "Missing 39 words. Will replace them with mean vector\n",
            "Missing 36 words. Will replace them with mean vector\n",
            "Missing 33 words. Will replace them with mean vector\n",
            "Missing 30 words. Will replace them with mean vector\n",
            "Missing 27 words. Will replace them with mean vector\n",
            "Missing 24 words. Will replace them with mean vector\n",
            "Missing 21 words. Will replace them with mean vector\n",
            "Missing 18 words. Will replace them with mean vector\n",
            "Missing 15 words. Will replace them with mean vector\n",
            "Missing 12 words. Will replace them with mean vector\n",
            "Missing 9 words. Will replace them with mean vector\n",
            "Missing 6 words. Will replace them with mean vector\n",
            "Missing 3 words. Will replace them with mean vector\n"
          ],
          "name": "stderr"
        },
        {
          "output_type": "stream",
          "text": [
            "Processing currency with 5 pairs, 20 questions\n"
          ],
          "name": "stdout"
        },
        {
          "output_type": "stream",
          "text": [
            "Missing 57 words. Will replace them with mean vector\n",
            "Missing 54 words. Will replace them with mean vector\n",
            "Missing 51 words. Will replace them with mean vector\n",
            "Missing 48 words. Will replace them with mean vector\n",
            "Missing 45 words. Will replace them with mean vector\n",
            "Missing 42 words. Will replace them with mean vector\n",
            "Missing 39 words. Will replace them with mean vector\n",
            "Missing 36 words. Will replace them with mean vector\n",
            "Missing 33 words. Will replace them with mean vector\n",
            "Missing 30 words. Will replace them with mean vector\n",
            "Missing 27 words. Will replace them with mean vector\n",
            "Missing 24 words. Will replace them with mean vector\n",
            "Missing 21 words. Will replace them with mean vector\n",
            "Missing 18 words. Will replace them with mean vector\n",
            "Missing 15 words. Will replace them with mean vector\n",
            "Missing 12 words. Will replace them with mean vector\n",
            "Missing 9 words. Will replace them with mean vector\n",
            "Missing 6 words. Will replace them with mean vector\n",
            "Missing 3 words. Will replace them with mean vector\n"
          ],
          "name": "stderr"
        },
        {
          "output_type": "stream",
          "text": [
            "Processing city-in-state with 5 pairs, 20 questions\n"
          ],
          "name": "stdout"
        },
        {
          "output_type": "stream",
          "text": [
            "Missing 58 words. Will replace them with mean vector\n",
            "Missing 56 words. Will replace them with mean vector\n",
            "Missing 55 words. Will replace them with mean vector\n",
            "Missing 54 words. Will replace them with mean vector\n",
            "Missing 52 words. Will replace them with mean vector\n",
            "Missing 49 words. Will replace them with mean vector\n",
            "Missing 47 words. Will replace them with mean vector\n",
            "Missing 45 words. Will replace them with mean vector\n",
            "Missing 43 words. Will replace them with mean vector\n",
            "Missing 40 words. Will replace them with mean vector\n",
            "Missing 38 words. Will replace them with mean vector\n",
            "Missing 36 words. Will replace them with mean vector\n",
            "Missing 35 words. Will replace them with mean vector\n",
            "Missing 33 words. Will replace them with mean vector\n",
            "Missing 31 words. Will replace them with mean vector\n",
            "Missing 30 words. Will replace them with mean vector\n",
            "Missing 29 words. Will replace them with mean vector\n",
            "Missing 27 words. Will replace them with mean vector\n",
            "Missing 25 words. Will replace them with mean vector\n",
            "Missing 24 words. Will replace them with mean vector\n"
          ],
          "name": "stderr"
        },
        {
          "output_type": "stream",
          "text": [
            "Processing Entails with 5 pairs, 20 questions\n"
          ],
          "name": "stdout"
        },
        {
          "output_type": "stream",
          "text": [
            "Missing 57 words. Will replace them with mean vector\n",
            "Missing 54 words. Will replace them with mean vector\n",
            "Missing 51 words. Will replace them with mean vector\n",
            "Missing 48 words. Will replace them with mean vector\n",
            "Missing 45 words. Will replace them with mean vector\n",
            "Missing 42 words. Will replace them with mean vector\n",
            "Missing 39 words. Will replace them with mean vector\n",
            "Missing 36 words. Will replace them with mean vector\n",
            "Missing 33 words. Will replace them with mean vector\n",
            "Missing 30 words. Will replace them with mean vector\n",
            "Missing 27 words. Will replace them with mean vector\n",
            "Missing 24 words. Will replace them with mean vector\n",
            "Missing 21 words. Will replace them with mean vector\n",
            "Missing 18 words. Will replace them with mean vector\n",
            "Missing 15 words. Will replace them with mean vector\n",
            "Missing 12 words. Will replace them with mean vector\n",
            "Missing 9 words. Will replace them with mean vector\n",
            "Missing 6 words. Will replace them with mean vector\n",
            "Missing 3 words. Will replace them with mean vector\n"
          ],
          "name": "stderr"
        },
        {
          "output_type": "stream",
          "text": [
            "Processing Antonym with 5 pairs, 20 questions\n"
          ],
          "name": "stdout"
        },
        {
          "output_type": "stream",
          "text": [
            "Missing 57 words. Will replace them with mean vector\n",
            "Missing 54 words. Will replace them with mean vector\n",
            "Missing 51 words. Will replace them with mean vector\n",
            "Missing 48 words. Will replace them with mean vector\n",
            "Missing 45 words. Will replace them with mean vector\n",
            "Missing 42 words. Will replace them with mean vector\n",
            "Missing 39 words. Will replace them with mean vector\n",
            "Missing 36 words. Will replace them with mean vector\n",
            "Missing 33 words. Will replace them with mean vector\n",
            "Missing 30 words. Will replace them with mean vector\n",
            "Missing 27 words. Will replace them with mean vector\n",
            "Missing 24 words. Will replace them with mean vector\n",
            "Missing 21 words. Will replace them with mean vector\n",
            "Missing 18 words. Will replace them with mean vector\n",
            "Missing 15 words. Will replace them with mean vector\n",
            "Missing 12 words. Will replace them with mean vector\n",
            "Missing 9 words. Will replace them with mean vector\n",
            "Missing 6 words. Will replace them with mean vector\n",
            "Missing 3 words. Will replace them with mean vector\n"
          ],
          "name": "stderr"
        },
        {
          "output_type": "stream",
          "text": [
            "Processing past-tense with 5 pairs, 20 questions\n"
          ],
          "name": "stdout"
        },
        {
          "output_type": "stream",
          "text": [
            "Missing 57 words. Will replace them with mean vector\n",
            "Missing 54 words. Will replace them with mean vector\n",
            "Missing 51 words. Will replace them with mean vector\n",
            "Missing 48 words. Will replace them with mean vector\n",
            "Missing 45 words. Will replace them with mean vector\n",
            "Missing 42 words. Will replace them with mean vector\n",
            "Missing 39 words. Will replace them with mean vector\n",
            "Missing 36 words. Will replace them with mean vector\n",
            "Missing 33 words. Will replace them with mean vector\n",
            "Missing 30 words. Will replace them with mean vector\n",
            "Missing 27 words. Will replace them with mean vector\n",
            "Missing 24 words. Will replace them with mean vector\n",
            "Missing 21 words. Will replace them with mean vector\n",
            "Missing 18 words. Will replace them with mean vector\n",
            "Missing 15 words. Will replace them with mean vector\n",
            "Missing 12 words. Will replace them with mean vector\n",
            "Missing 9 words. Will replace them with mean vector\n",
            "Missing 6 words. Will replace them with mean vector\n",
            "Missing 3 words. Will replace them with mean vector\n"
          ],
          "name": "stderr"
        },
        {
          "output_type": "stream",
          "text": [
            "Processing comparative with 5 pairs, 20 questions\n"
          ],
          "name": "stdout"
        },
        {
          "output_type": "stream",
          "text": [
            "Missing 57 words. Will replace them with mean vector\n",
            "Missing 54 words. Will replace them with mean vector\n",
            "Missing 51 words. Will replace them with mean vector\n",
            "Missing 48 words. Will replace them with mean vector\n",
            "Missing 45 words. Will replace them with mean vector\n",
            "Missing 42 words. Will replace them with mean vector\n",
            "Missing 39 words. Will replace them with mean vector\n",
            "Missing 36 words. Will replace them with mean vector\n",
            "Missing 33 words. Will replace them with mean vector\n",
            "Missing 30 words. Will replace them with mean vector\n",
            "Missing 27 words. Will replace them with mean vector\n",
            "Missing 24 words. Will replace them with mean vector\n",
            "Missing 21 words. Will replace them with mean vector\n",
            "Missing 18 words. Will replace them with mean vector\n",
            "Missing 15 words. Will replace them with mean vector\n",
            "Missing 12 words. Will replace them with mean vector\n",
            "Missing 9 words. Will replace them with mean vector\n",
            "Missing 6 words. Will replace them with mean vector\n",
            "Missing 3 words. Will replace them with mean vector\n"
          ],
          "name": "stderr"
        },
        {
          "output_type": "stream",
          "text": [
            "Processing adjective-to-adverb with 5 pairs, 20 questions\n"
          ],
          "name": "stdout"
        },
        {
          "output_type": "stream",
          "text": [
            "Missing 57 words. Will replace them with mean vector\n",
            "Missing 54 words. Will replace them with mean vector\n",
            "Missing 51 words. Will replace them with mean vector\n",
            "Missing 48 words. Will replace them with mean vector\n",
            "Missing 45 words. Will replace them with mean vector\n",
            "Missing 42 words. Will replace them with mean vector\n",
            "Missing 39 words. Will replace them with mean vector\n",
            "Missing 36 words. Will replace them with mean vector\n",
            "Missing 33 words. Will replace them with mean vector\n",
            "Missing 30 words. Will replace them with mean vector\n",
            "Missing 27 words. Will replace them with mean vector\n",
            "Missing 24 words. Will replace them with mean vector\n",
            "Missing 21 words. Will replace them with mean vector\n",
            "Missing 18 words. Will replace them with mean vector\n",
            "Missing 15 words. Will replace them with mean vector\n",
            "Missing 12 words. Will replace them with mean vector\n",
            "Missing 9 words. Will replace them with mean vector\n",
            "Missing 6 words. Will replace them with mean vector\n",
            "Missing 3 words. Will replace them with mean vector\n"
          ],
          "name": "stderr"
        },
        {
          "output_type": "stream",
          "text": [
            "Processing all-capital-cities with 5 pairs, 20 questions\n"
          ],
          "name": "stdout"
        },
        {
          "output_type": "stream",
          "text": [
            "Missing 57 words. Will replace them with mean vector\n",
            "Missing 54 words. Will replace them with mean vector\n",
            "Missing 51 words. Will replace them with mean vector\n",
            "Missing 48 words. Will replace them with mean vector\n",
            "Missing 45 words. Will replace them with mean vector\n",
            "Missing 42 words. Will replace them with mean vector\n",
            "Missing 39 words. Will replace them with mean vector\n",
            "Missing 36 words. Will replace them with mean vector\n",
            "Missing 33 words. Will replace them with mean vector\n",
            "Missing 30 words. Will replace them with mean vector\n",
            "Missing 27 words. Will replace them with mean vector\n",
            "Missing 24 words. Will replace them with mean vector\n",
            "Missing 21 words. Will replace them with mean vector\n",
            "Missing 18 words. Will replace them with mean vector\n",
            "Missing 15 words. Will replace them with mean vector\n",
            "Missing 12 words. Will replace them with mean vector\n",
            "Missing 9 words. Will replace them with mean vector\n",
            "Missing 6 words. Will replace them with mean vector\n",
            "Missing 3 words. Will replace them with mean vector\n"
          ],
          "name": "stderr"
        },
        {
          "output_type": "stream",
          "text": [
            "Processing SimilarTo with 5 pairs, 20 questions\n"
          ],
          "name": "stdout"
        },
        {
          "output_type": "stream",
          "text": [
            "Missing 57 words. Will replace them with mean vector\n",
            "Missing 54 words. Will replace them with mean vector\n",
            "Missing 51 words. Will replace them with mean vector\n",
            "Missing 48 words. Will replace them with mean vector\n",
            "Missing 45 words. Will replace them with mean vector\n",
            "Missing 42 words. Will replace them with mean vector\n",
            "Missing 39 words. Will replace them with mean vector\n",
            "Missing 36 words. Will replace them with mean vector\n",
            "Missing 33 words. Will replace them with mean vector\n",
            "Missing 30 words. Will replace them with mean vector\n",
            "Missing 27 words. Will replace them with mean vector\n",
            "Missing 24 words. Will replace them with mean vector\n",
            "Missing 21 words. Will replace them with mean vector\n",
            "Missing 18 words. Will replace them with mean vector\n",
            "Missing 15 words. Will replace them with mean vector\n",
            "Missing 12 words. Will replace them with mean vector\n",
            "Missing 9 words. Will replace them with mean vector\n",
            "Missing 6 words. Will replace them with mean vector\n",
            "Missing 3 words. Will replace them with mean vector\n"
          ],
          "name": "stderr"
        },
        {
          "output_type": "stream",
          "text": [
            "Processing DerivedFrom with 5 pairs, 20 questions\n"
          ],
          "name": "stdout"
        },
        {
          "output_type": "stream",
          "text": [
            "Missing 57 words. Will replace them with mean vector\n",
            "Missing 54 words. Will replace them with mean vector\n",
            "Missing 51 words. Will replace them with mean vector\n",
            "Missing 48 words. Will replace them with mean vector\n",
            "Missing 45 words. Will replace them with mean vector\n",
            "Missing 42 words. Will replace them with mean vector\n",
            "Missing 39 words. Will replace them with mean vector\n",
            "Missing 36 words. Will replace them with mean vector\n",
            "Missing 33 words. Will replace them with mean vector\n",
            "Missing 30 words. Will replace them with mean vector\n",
            "Missing 27 words. Will replace them with mean vector\n",
            "Missing 24 words. Will replace them with mean vector\n",
            "Missing 21 words. Will replace them with mean vector\n",
            "Missing 18 words. Will replace them with mean vector\n",
            "Missing 15 words. Will replace them with mean vector\n",
            "Missing 12 words. Will replace them with mean vector\n",
            "Missing 9 words. Will replace them with mean vector\n",
            "Missing 6 words. Will replace them with mean vector\n",
            "Missing 3 words. Will replace them with mean vector\n"
          ],
          "name": "stderr"
        },
        {
          "output_type": "stream",
          "text": [
            "                       accuracy  correct  count\n",
            "Attribute              0.200000      4.0     20\n",
            "present-participle     0.600000     12.0     20\n",
            "plural-verbs           0.750000     15.0     20\n",
            "Causes                 0.000000      0.0     20\n",
            "InstanceOf             0.000000      0.0     20\n",
            "man-woman              0.450000      9.0     20\n",
            "PartOf                 0.150000      3.0     20\n",
            "nationality-adjective  0.300000      6.0     20\n",
            "superlative            0.850000     17.0     20\n",
            "MadeOf                 0.000000      0.0     20\n",
            "RelatedTo              0.000000      0.0     20\n",
            "MemberOf               0.000000      0.0     20\n",
            "plural-nouns           0.800000     16.0     20\n",
            "IsA                    0.000000      0.0     20\n",
            "HasContext             0.000000      0.0     20\n",
            "currency               0.250000      5.0     20\n",
            "city-in-state          0.000000      0.0     20\n",
            "Entails                0.000000      0.0     20\n",
            "Antonym                0.050000      1.0     20\n",
            "past-tense             1.000000     20.0     20\n",
            "comparative            0.550000     11.0     20\n",
            "adjective-to-adverb    0.450000      9.0     20\n",
            "all-capital-cities     0.200000      4.0     20\n",
            "SimilarTo              0.000000      0.0     20\n",
            "DerivedFrom            0.000000      0.0     20\n",
            "wikipedia              0.030769      8.0    260\n",
            "all                    0.264000    132.0    500\n",
            "wordnet                0.516667    124.0    240\n"
          ],
          "name": "stdout"
        }
      ]
    },
    {
      "cell_type": "code",
      "metadata": {
        "id": "cN6URUS8ZFBZ",
        "colab_type": "code",
        "outputId": "bb176930-f4e8-40eb-ddd9-6572a5e6c685",
        "colab": {
          "base_uri": "https://localhost:8080/",
          "height": 637
        }
      },
      "source": [
        "results = evaluateOnAll(w)\n",
        "print(results)"
      ],
      "execution_count": 0,
      "outputs": [
        {
          "output_type": "stream",
          "text": [
            "Missing 2 words. Will replace them with mean vector\n",
            "/content/drive/My Drive/Term5/NLP/Dataset/web/evaluate.py:336: FutureWarning: arrays to stack must be passed as a \"sequence\" type such as list or tuple. Support for non-sequence iterables such as generators is deprecated as of NumPy 1.16 and will raise an error in the future.\n",
            "  A = np.vstack(w.get(word, mean_vector) for word in X[:, 0])\n",
            "/content/drive/My Drive/Term5/NLP/Dataset/web/evaluate.py:337: FutureWarning: arrays to stack must be passed as a \"sequence\" type such as list or tuple. Support for non-sequence iterables such as generators is deprecated as of NumPy 1.16 and will raise an error in the future.\n",
            "  B = np.vstack(w.get(word, mean_vector) for word in X[:, 1])\n"
          ],
          "name": "stderr"
        },
        {
          "output_type": "stream",
          "text": [
            "Spearman correlation of scores on MTurk 0.7025490899343176\n",
            "Spearman correlation of scores on MEN 0.790632357439942\n",
            "Spearman correlation of scores on WS353 0.7332763287687719\n"
          ],
          "name": "stdout"
        },
        {
          "output_type": "stream",
          "text": [
            "Missing 68 words. Will replace them with mean vector\n"
          ],
          "name": "stderr"
        },
        {
          "output_type": "stream",
          "text": [
            "Spearman correlation of scores on RubensteinAndGoodenough 0.8462589237854313\n",
            "Spearman correlation of scores on Rare Words 0.5134075019761078\n"
          ],
          "name": "stdout"
        },
        {
          "output_type": "stream",
          "text": [
            "Missing 12191 words. Will replace them with mean vector\n"
          ],
          "name": "stderr"
        },
        {
          "output_type": "stream",
          "text": [
            "Spearman correlation of scores on SIMLEX999 0.44996491894642465\n",
            "Spearman correlation of scores on TR9856 0.15788309420479923\n",
            "Calculating analogy benchmarks\n"
          ],
          "name": "stdout"
        },
        {
          "output_type": "stream",
          "text": [
            "Missing 4667 words. Will replace them with mean vector\n",
            "/content/drive/My Drive/Term5/NLP/Dataset/web/analogy.py:105: FutureWarning: arrays to stack must be passed as a \"sequence\" type such as list or tuple. Support for non-sequence iterables such as generators is deprecated as of NumPy 1.16 and will raise an error in the future.\n",
            "  A, B, C = np.vstack(w.get(word, mean_vector) for word in X_b[:, 0]), \\\n",
            "/content/drive/My Drive/Term5/NLP/Dataset/web/analogy.py:106: FutureWarning: arrays to stack must be passed as a \"sequence\" type such as list or tuple. Support for non-sequence iterables such as generators is deprecated as of NumPy 1.16 and will raise an error in the future.\n",
            "  np.vstack(w.get(word, mean_vector) for word in X_b[:, 1]), \\\n",
            "/content/drive/My Drive/Term5/NLP/Dataset/web/analogy.py:107: FutureWarning: arrays to stack must be passed as a \"sequence\" type such as list or tuple. Support for non-sequence iterables such as generators is deprecated as of NumPy 1.16 and will raise an error in the future.\n",
            "  np.vstack(w.get(word, mean_vector) for word in X_b[:, 2])\n"
          ],
          "name": "stderr"
        },
        {
          "output_type": "stream",
          "text": [
            "Analogy prediction accuracy on Google 0.59250920998772\n",
            "Analogy prediction accuracy on MSR 0.813\n",
            "Analogy prediction accuracy on SemEval2012 0.2199777933090632\n",
            "      MTurk       MEN     WS353  ...    Google    MSR  SemEval2012_2\n",
            "0  0.702549  0.790632  0.733276  ...  0.592509  0.813       0.219978\n",
            "\n",
            "[1 rows x 10 columns]\n"
          ],
          "name": "stdout"
        },
        {
          "output_type": "stream",
          "text": [
            "/usr/local/lib/python3.6/dist-packages/ipykernel_launcher.py:9: FutureWarning: arrays to stack must be passed as a \"sequence\" type such as list or tuple. Support for non-sequence iterables such as generators is deprecated as of NumPy 1.16 and will raise an error in the future.\n",
            "  if __name__ == '__main__':\n",
            "/usr/local/lib/python3.6/dist-packages/ipykernel_launcher.py:10: FutureWarning: arrays to stack must be passed as a \"sequence\" type such as list or tuple. Support for non-sequence iterables such as generators is deprecated as of NumPy 1.16 and will raise an error in the future.\n",
            "  # Remove the CWD from sys.path while we load stuff.\n",
            "/usr/local/lib/python3.6/dist-packages/ipykernel_launcher.py:12: FutureWarning: arrays to stack must be passed as a \"sequence\" type such as list or tuple. Support for non-sequence iterables such as generators is deprecated as of NumPy 1.16 and will raise an error in the future.\n",
            "  if sys.path[0] == '':\n"
          ],
          "name": "stderr"
        }
      ]
    }
  ]
}
